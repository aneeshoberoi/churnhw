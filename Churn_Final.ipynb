{
  "nbformat": 4,
  "nbformat_minor": 0,
  "metadata": {
    "colab": {
      "name": "Churn_Final.ipynb",
      "provenance": [],
      "collapsed_sections": [],
      "authorship_tag": "ABX9TyN8DLmpe1vYQP7dWupJhr7l",
      "include_colab_link": true
    },
    "kernelspec": {
      "name": "python3",
      "display_name": "Python 3"
    }
  },
  "cells": [
    {
      "cell_type": "markdown",
      "metadata": {
        "id": "view-in-github",
        "colab_type": "text"
      },
      "source": [
        "<a href=\"https://colab.research.google.com/github/aneeshoberoi/churnhw/blob/main/Churn_Final.ipynb\" target=\"_parent\"><img src=\"https://colab.research.google.com/assets/colab-badge.svg\" alt=\"Open In Colab\"/></a>"
      ]
    },
    {
      "cell_type": "code",
      "metadata": {
        "id": "fAemffSOhqZu"
      },
      "source": [
        "import pandas as pd\n",
        "import numpy as np\n",
        "from collections import OrderedDict\n",
        "from scipy.stats import chi2_contingency\n",
        "from scipy.stats import chi2\n",
        "import statsmodels.api as stapi\n",
        "import statsmodels.regression.linear_model as sm\n",
        "from IPython.display import HTML\n",
        "import matplotlib.pyplot as plt\n",
        "import seaborn as sns\n",
        "\n",
        "#pd.set_option('display.float_format', lambda x: '%.0f' % x)\n",
        "pd.options.display.float_format = \"{:,.2f}\".format\n",
        "pd.set_option(\"display.precision\",2)"
      ],
      "execution_count": 678,
      "outputs": []
    },
    {
      "cell_type": "code",
      "metadata": {
        "id": "ZMwOrs5Th067"
      },
      "source": [
        "source='https://raw.githubusercontent.com/aneeshoberoi/churnhw/main/churn_homework%20-%20homework_orders.csv?token=AP7KM2V7ATORWSUELYW4GHK7TGCMY'\n",
        "raw=pd.read_csv(source, sep=\",\")"
      ],
      "execution_count": 342,
      "outputs": []
    },
    {
      "cell_type": "code",
      "metadata": {
        "id": "hNQzJuICh-jI"
      },
      "source": [
        "#raw=df.head(100)\n",
        "#raw.set_index('order_id')"
      ],
      "execution_count": 343,
      "outputs": []
    },
    {
      "cell_type": "code",
      "metadata": {
        "id": "t2KE-bLU7jYX"
      },
      "source": [
        "# assigning to working copy for indicator variables"
      ],
      "execution_count": 344,
      "outputs": []
    },
    {
      "cell_type": "markdown",
      "metadata": {
        "id": "tj8tz5U_7hOW"
      },
      "source": [
        "# **Basic Statistics**"
      ]
    },
    {
      "cell_type": "code",
      "metadata": {
        "id": "KUH5A7-o7gb6",
        "outputId": "e027d167-b1fe-454b-f5d4-ccdcec4c84d5",
        "colab": {
          "base_uri": "https://localhost:8080/",
          "height": 35
        }
      },
      "source": [
        "raw.customer.nunique()"
      ],
      "execution_count": 345,
      "outputs": [
        {
          "output_type": "execute_result",
          "data": {
            "text/plain": [
              "10316"
            ]
          },
          "metadata": {
            "tags": []
          },
          "execution_count": 345
        }
      ]
    },
    {
      "cell_type": "code",
      "metadata": {
        "id": "x1klgOTK8jnu",
        "outputId": "6759d80a-0c1f-4a14-8ff7-b61b89894b85",
        "colab": {
          "base_uri": "https://localhost:8080/",
          "height": 35
        }
      },
      "source": [
        "raw.restaurant_total.sum()"
      ],
      "execution_count": 346,
      "outputs": [
        {
          "output_type": "execute_result",
          "data": {
            "text/plain": [
              "1372249.61"
            ]
          },
          "metadata": {
            "tags": []
          },
          "execution_count": 346
        }
      ]
    },
    {
      "cell_type": "code",
      "metadata": {
        "id": "yiqURoiF8pSv",
        "outputId": "fa9c372d-9eaa-4085-9001-b7e90df2a1cc",
        "colab": {
          "base_uri": "https://localhost:8080/",
          "height": 35
        }
      },
      "source": [
        "raw.order_id.nunique()"
      ],
      "execution_count": 347,
      "outputs": [
        {
          "output_type": "execute_result",
          "data": {
            "text/plain": [
              "42198"
            ]
          },
          "metadata": {
            "tags": []
          },
          "execution_count": 347
        }
      ]
    },
    {
      "cell_type": "code",
      "metadata": {
        "id": "_XFXqF-jAl6q",
        "outputId": "ba53c060-3a13-4b16-d00b-7f978765cd98",
        "colab": {
          "base_uri": "https://localhost:8080/",
          "height": 35
        }
      },
      "source": [
        "raw.customer.isna().sum()"
      ],
      "execution_count": 348,
      "outputs": [
        {
          "output_type": "execute_result",
          "data": {
            "text/plain": [
              "5"
            ]
          },
          "metadata": {
            "tags": []
          },
          "execution_count": 348
        }
      ]
    },
    {
      "cell_type": "markdown",
      "metadata": {
        "id": "m4ryxWsNiFYB"
      },
      "source": [
        "# ***Data Cleaning***"
      ]
    },
    {
      "cell_type": "code",
      "metadata": {
        "id": "Y0pmc4Ob82vv"
      },
      "source": [
        "# assigning to working copy for indicator variables\n",
        "test=raw"
      ],
      "execution_count": 349,
      "outputs": []
    },
    {
      "cell_type": "code",
      "metadata": {
        "id": "NL7yafaDiEGE"
      },
      "source": [
        "# Remove zero dollar txns\n",
        "test=test[test['restaurant_total']>0]"
      ],
      "execution_count": 350,
      "outputs": []
    },
    {
      "cell_type": "code",
      "metadata": {
        "id": "QvDNpmtKA2jQ"
      },
      "source": [
        "# Remove rows with customer number = na\n",
        "test=test.dropna(subset=['customer'])"
      ],
      "execution_count": 351,
      "outputs": []
    },
    {
      "cell_type": "code",
      "metadata": {
        "id": "3y6SJBNodhEJ",
        "outputId": "2fd9babc-b6d3-468d-e7c4-fc87282d4cf5",
        "colab": {
          "base_uri": "https://localhost:8080/",
          "height": 35
        }
      },
      "source": [
        "test.customer.nunique()"
      ],
      "execution_count": 352,
      "outputs": [
        {
          "output_type": "execute_result",
          "data": {
            "text/plain": [
              "10316"
            ]
          },
          "metadata": {
            "tags": []
          },
          "execution_count": 352
        }
      ]
    },
    {
      "cell_type": "code",
      "metadata": {
        "id": "yjZGqG33dm0Y",
        "outputId": "e009a273-d8b1-4b57-ff09-80e59409a6f2",
        "colab": {
          "base_uri": "https://localhost:8080/",
          "height": 35
        }
      },
      "source": [
        "test.order_id.nunique()"
      ],
      "execution_count": 353,
      "outputs": [
        {
          "output_type": "execute_result",
          "data": {
            "text/plain": [
              "41906"
            ]
          },
          "metadata": {
            "tags": []
          },
          "execution_count": 353
        }
      ]
    },
    {
      "cell_type": "code",
      "metadata": {
        "id": "kO_WXi3IdpbW",
        "outputId": "5b6789c8-324a-425a-df6a-db4b30cf8fbb",
        "colab": {
          "base_uri": "https://localhost:8080/",
          "height": 35
        }
      },
      "source": [
        "test.restaurant_total.sum()"
      ],
      "execution_count": 354,
      "outputs": [
        {
          "output_type": "execute_result",
          "data": {
            "text/plain": [
              "1372113.6300000001"
            ]
          },
          "metadata": {
            "tags": []
          },
          "execution_count": 354
        }
      ]
    },
    {
      "cell_type": "code",
      "metadata": {
        "id": "hzTowRdfiPzN"
      },
      "source": [
        "# Variable Conversion\n",
        "test['date_purchased']=pd.to_datetime(test['date_purchased'])\n",
        "test['dateonly_purchased']=test['date_purchased'].dt.date\n",
        "test['houronly_purchased']=test['date_purchased'].dt.hour\n",
        "test['datehour_purchased']=test['dateonly_purchased'].astype(str) + \"-\" + test['houronly_purchased'].astype(str)\n",
        "\n",
        "test['restaurant_total']=test['restaurant_total'].astype(float)"
      ],
      "execution_count": 355,
      "outputs": []
    },
    {
      "cell_type": "code",
      "metadata": {
        "id": "yrravVgeiTNP"
      },
      "source": [
        "# Removing Duplicate Txns - i.e. those made within the same hour at the same shop by a given customer. Keeping last txn only.\n",
        "test=test.drop_duplicates(subset=['customer', 'shops_id', 'datehour_purchased'], keep='last')\n"
      ],
      "execution_count": 356,
      "outputs": []
    },
    {
      "cell_type": "code",
      "metadata": {
        "id": "Tks2UD91dvPu",
        "outputId": "6ff8194f-b597-4854-c6f9-04cabaf1f1d3",
        "colab": {
          "base_uri": "https://localhost:8080/",
          "height": 35
        }
      },
      "source": [
        "test.customer.nunique()"
      ],
      "execution_count": 357,
      "outputs": [
        {
          "output_type": "execute_result",
          "data": {
            "text/plain": [
              "10316"
            ]
          },
          "metadata": {
            "tags": []
          },
          "execution_count": 357
        }
      ]
    },
    {
      "cell_type": "code",
      "metadata": {
        "id": "HXLvU0e1dvP5",
        "outputId": "a47e0e04-92e6-44ca-cb6c-b509458fe4f0",
        "colab": {
          "base_uri": "https://localhost:8080/",
          "height": 35
        }
      },
      "source": [
        "test.order_id.nunique()"
      ],
      "execution_count": 358,
      "outputs": [
        {
          "output_type": "execute_result",
          "data": {
            "text/plain": [
              "39880"
            ]
          },
          "metadata": {
            "tags": []
          },
          "execution_count": 358
        }
      ]
    },
    {
      "cell_type": "code",
      "metadata": {
        "id": "TLpmoO_ndvQA",
        "outputId": "0ebfa99a-3e2c-4291-d199-7fa01e79164d",
        "colab": {
          "base_uri": "https://localhost:8080/",
          "height": 35
        }
      },
      "source": [
        "test.restaurant_total.sum()"
      ],
      "execution_count": 359,
      "outputs": [
        {
          "output_type": "execute_result",
          "data": {
            "text/plain": [
              "1301395.08"
            ]
          },
          "metadata": {
            "tags": []
          },
          "execution_count": 359
        }
      ]
    },
    {
      "cell_type": "markdown",
      "metadata": {
        "id": "uy8xsCRciWOY"
      },
      "source": [
        "# ***Data Prep - Indicators***"
      ]
    },
    {
      "cell_type": "code",
      "metadata": {
        "id": "BuJ7YqJqihuQ"
      },
      "source": [
        " #Enumerating Purchases\n",
        " test.sort_values(by=['customer','date_purchased'])\n",
        "\n",
        "test = test.assign(order_enum=test.groupby('customer')['datehour_purchased'].cumcount()+1)\n",
        "test['total_order']=test.groupby('customer')['order_id'].transform('count')\n",
        "test['total_sales']=test.groupby('customer')['restaurant_total'].transform('sum')"
      ],
      "execution_count": 360,
      "outputs": []
    },
    {
      "cell_type": "code",
      "metadata": {
        "id": "MKxzGjgIinDI"
      },
      "source": [
        "test['bin_orders']=np.where(test['total_order']<7,test['order_enum'],7)"
      ],
      "execution_count": 361,
      "outputs": []
    },
    {
      "cell_type": "code",
      "metadata": {
        "id": "5cdHcKtuipp7"
      },
      "source": [
        "# Calculating Journey Data\n",
        "\n",
        "test['time_between_purch']=test.groupby(['customer'])['date_purchased'].diff()\n",
        "test['spend_growth']=test.groupby(['customer'])['restaurant_total'].diff()\n",
        "test['date_last_purch']=test.groupby(['customer'])['date_purchased'].transform('max')\n"
      ],
      "execution_count": 362,
      "outputs": []
    },
    {
      "cell_type": "code",
      "metadata": {
        "id": "GPPy3gphWABh",
        "outputId": "3a6ead4b-9e24-4288-b4bb-a5cea8e059ac",
        "colab": {
          "base_uri": "https://localhost:8080/",
          "height": 309
        }
      },
      "source": [
        "test.head()"
      ],
      "execution_count": 363,
      "outputs": [
        {
          "output_type": "execute_result",
          "data": {
            "text/html": [
              "<div>\n",
              "<style scoped>\n",
              "    .dataframe tbody tr th:only-of-type {\n",
              "        vertical-align: middle;\n",
              "    }\n",
              "\n",
              "    .dataframe tbody tr th {\n",
              "        vertical-align: top;\n",
              "    }\n",
              "\n",
              "    .dataframe thead th {\n",
              "        text-align: right;\n",
              "    }\n",
              "</style>\n",
              "<table border=\"1\" class=\"dataframe\">\n",
              "  <thead>\n",
              "    <tr style=\"text-align: right;\">\n",
              "      <th></th>\n",
              "      <th>order_id</th>\n",
              "      <th>source</th>\n",
              "      <th>date_purchased</th>\n",
              "      <th>shipping_type</th>\n",
              "      <th>payment_method</th>\n",
              "      <th>promo_value</th>\n",
              "      <th>restaurant_total</th>\n",
              "      <th>customer</th>\n",
              "      <th>shops_id</th>\n",
              "      <th>state</th>\n",
              "      <th>postal_code</th>\n",
              "      <th>dateonly_purchased</th>\n",
              "      <th>houronly_purchased</th>\n",
              "      <th>datehour_purchased</th>\n",
              "      <th>order_enum</th>\n",
              "      <th>total_order</th>\n",
              "      <th>total_sales</th>\n",
              "      <th>bin_orders</th>\n",
              "      <th>time_between_purch</th>\n",
              "      <th>spend_growth</th>\n",
              "      <th>date_last_purch</th>\n",
              "    </tr>\n",
              "  </thead>\n",
              "  <tbody>\n",
              "    <tr>\n",
              "      <th>0</th>\n",
              "      <td>47433960</td>\n",
              "      <td>iosapp</td>\n",
              "      <td>2019-03-13 08:02:07+00:00</td>\n",
              "      <td>Delivery</td>\n",
              "      <td>credit</td>\n",
              "      <td>0</td>\n",
              "      <td>15.50</td>\n",
              "      <td>13,315,067,198.00</td>\n",
              "      <td>24597</td>\n",
              "      <td>MD</td>\n",
              "      <td>21162</td>\n",
              "      <td>2019-03-13</td>\n",
              "      <td>8.00</td>\n",
              "      <td>2019-03-13-8.0</td>\n",
              "      <td>1</td>\n",
              "      <td>2</td>\n",
              "      <td>32.21</td>\n",
              "      <td>1</td>\n",
              "      <td>NaT</td>\n",
              "      <td>nan</td>\n",
              "      <td>2019-06-22 07:38:20+00:00</td>\n",
              "    </tr>\n",
              "    <tr>\n",
              "      <th>1</th>\n",
              "      <td>47434359</td>\n",
              "      <td>iosapp</td>\n",
              "      <td>2019-03-13 08:11:38+00:00</td>\n",
              "      <td>Delivery</td>\n",
              "      <td>credit</td>\n",
              "      <td>0</td>\n",
              "      <td>24.83</td>\n",
              "      <td>15,557,129,447.00</td>\n",
              "      <td>64392</td>\n",
              "      <td>NY</td>\n",
              "      <td>12944</td>\n",
              "      <td>2019-03-13</td>\n",
              "      <td>8.00</td>\n",
              "      <td>2019-03-13-8.0</td>\n",
              "      <td>1</td>\n",
              "      <td>5</td>\n",
              "      <td>152.83</td>\n",
              "      <td>1</td>\n",
              "      <td>NaT</td>\n",
              "      <td>nan</td>\n",
              "      <td>2020-03-29 12:58:54+00:00</td>\n",
              "    </tr>\n",
              "    <tr>\n",
              "      <th>2</th>\n",
              "      <td>47437194</td>\n",
              "      <td>partner_website</td>\n",
              "      <td>2019-03-13 09:07:31+00:00</td>\n",
              "      <td>Delivery</td>\n",
              "      <td>cash</td>\n",
              "      <td>0</td>\n",
              "      <td>43.24</td>\n",
              "      <td>25,689,365,012.00</td>\n",
              "      <td>33699</td>\n",
              "      <td>NJ</td>\n",
              "      <td>8007</td>\n",
              "      <td>2019-03-13</td>\n",
              "      <td>9.00</td>\n",
              "      <td>2019-03-13-9.0</td>\n",
              "      <td>1</td>\n",
              "      <td>48</td>\n",
              "      <td>1,835.14</td>\n",
              "      <td>7</td>\n",
              "      <td>NaT</td>\n",
              "      <td>nan</td>\n",
              "      <td>2020-03-12 08:30:11+00:00</td>\n",
              "    </tr>\n",
              "    <tr>\n",
              "      <th>3</th>\n",
              "      <td>47442942</td>\n",
              "      <td>partner_website</td>\n",
              "      <td>2019-03-13 11:01:04+00:00</td>\n",
              "      <td>Delivery</td>\n",
              "      <td>credit</td>\n",
              "      <td>0</td>\n",
              "      <td>27.95</td>\n",
              "      <td>25,421,112,251.00</td>\n",
              "      <td>19002</td>\n",
              "      <td>WI</td>\n",
              "      <td>53235</td>\n",
              "      <td>2019-03-13</td>\n",
              "      <td>11.00</td>\n",
              "      <td>2019-03-13-11.0</td>\n",
              "      <td>1</td>\n",
              "      <td>11</td>\n",
              "      <td>249.88</td>\n",
              "      <td>7</td>\n",
              "      <td>NaT</td>\n",
              "      <td>nan</td>\n",
              "      <td>2019-11-20 12:12:20+00:00</td>\n",
              "    </tr>\n",
              "    <tr>\n",
              "      <th>4</th>\n",
              "      <td>47443107</td>\n",
              "      <td>partner_website</td>\n",
              "      <td>2019-03-13 11:04:56+00:00</td>\n",
              "      <td>Delivery</td>\n",
              "      <td>credit</td>\n",
              "      <td>0</td>\n",
              "      <td>23.15</td>\n",
              "      <td>18,529,185,191.00</td>\n",
              "      <td>34911</td>\n",
              "      <td>MA</td>\n",
              "      <td>2122</td>\n",
              "      <td>2019-03-13</td>\n",
              "      <td>11.00</td>\n",
              "      <td>2019-03-13-11.0</td>\n",
              "      <td>1</td>\n",
              "      <td>1</td>\n",
              "      <td>23.15</td>\n",
              "      <td>1</td>\n",
              "      <td>NaT</td>\n",
              "      <td>nan</td>\n",
              "      <td>2019-03-13 11:04:56+00:00</td>\n",
              "    </tr>\n",
              "  </tbody>\n",
              "</table>\n",
              "</div>"
            ],
            "text/plain": [
              "   order_id           source  ... spend_growth           date_last_purch\n",
              "0  47433960           iosapp  ...          nan 2019-06-22 07:38:20+00:00\n",
              "1  47434359           iosapp  ...          nan 2020-03-29 12:58:54+00:00\n",
              "2  47437194  partner_website  ...          nan 2020-03-12 08:30:11+00:00\n",
              "3  47442942  partner_website  ...          nan 2019-11-20 12:12:20+00:00\n",
              "4  47443107  partner_website  ...          nan 2019-03-13 11:04:56+00:00\n",
              "\n",
              "[5 rows x 21 columns]"
            ]
          },
          "metadata": {
            "tags": []
          },
          "execution_count": 363
        }
      ]
    },
    {
      "cell_type": "markdown",
      "metadata": {
        "id": "ikVuShFVj_D-"
      },
      "source": [
        "# Preparing Zip-Cust Level Variables\n",
        "\n",
        "\n"
      ]
    },
    {
      "cell_type": "code",
      "metadata": {
        "id": "AoSjGna59bd5"
      },
      "source": [
        "#Assigning raw dataset to working copy for this section\n",
        "shopszip=test[['postal_code', 'shops_id','customer','total_order']].set_index('postal_code')\n",
        "shopszip=shopszip.drop_duplicates(subset=['customer', 'shops_id'], keep='last')"
      ],
      "execution_count": 364,
      "outputs": []
    },
    {
      "cell_type": "code",
      "metadata": {
        "id": "tq7HeqsB-5sw"
      },
      "source": [
        "# calculating shops and customers per postal code\n",
        "shopszip['shops_per_zip']=shopszip.groupby('postal_code').shops_id.nunique()\n",
        "shopszip['cust_per_zip']=shopszip.groupby('postal_code').customer.nunique()\n",
        "shopszip['shops_per_cust_per_zip']=shopszip['shops_per_zip']/shopszip['cust_per_zip']"
      ],
      "execution_count": 365,
      "outputs": []
    },
    {
      "cell_type": "code",
      "metadata": {
        "id": "tHC_9PvnH476"
      },
      "source": [
        "# Of customers placing orders in a given zip, what # and  % have placed more than 2 orders in total?\n",
        "temp=shopszip[shopszip['total_order']>1]\n",
        "shopszip['zip_cust_2_more']=temp.groupby('postal_code')['customer'].count()\n",
        "shopszip['zip_pct_cust_2_more']=shopszip['zip_cust_2_more']*100/shopszip['cust_per_zip']"
      ],
      "execution_count": 366,
      "outputs": []
    },
    {
      "cell_type": "markdown",
      "metadata": {
        "id": "cRCJ5D8-JFr5"
      },
      "source": [
        "# ***Preparing Shop-Cust Level Variables***"
      ]
    },
    {
      "cell_type": "code",
      "metadata": {
        "id": "bkuRZlSeElYO"
      },
      "source": [
        "#Total customers served by each shop"
      ],
      "execution_count": 367,
      "outputs": []
    },
    {
      "cell_type": "code",
      "metadata": {
        "id": "A17_m8reGnT5"
      },
      "source": [
        "shopscust=shopszip.set_index('shops_id')\n",
        "shopscust=shopscust.drop(columns=['shops_per_zip','cust_per_zip','zip_cust_2_more', 'zip_pct_cust_2_more','shops_per_cust_per_zip'] )\n",
        "\n",
        "# How many customers have placed at least one order at a given shop?\n",
        "\n",
        "shopscust['cust_per_shop']=shopscust.groupby('shops_id').customer.nunique()"
      ],
      "execution_count": 368,
      "outputs": []
    },
    {
      "cell_type": "code",
      "metadata": {
        "id": "Hwlvj3EaAQsk"
      },
      "source": [
        "# Of customers placing orders at a given shop, what # and % have placed > 2 total orders/\n",
        "t=shopscust[shopscust['total_order']>1]\n",
        "shopscust['shop_cust_2_more']=t.groupby('shops_id')['customer'].count()\n",
        "shopscust['shop_pct_cust_2_more']=shopscust['shop_cust_2_more']*100/shopscust['cust_per_shop']"
      ],
      "execution_count": 369,
      "outputs": []
    },
    {
      "cell_type": "code",
      "metadata": {
        "id": "pLse1tc5Z1PP"
      },
      "source": [
        "k=shopscust.reset_index()"
      ],
      "execution_count": 370,
      "outputs": []
    },
    {
      "cell_type": "code",
      "metadata": {
        "id": "C36AgCk8MNBT",
        "outputId": "f2afc2c8-38ed-42a9-f530-679bd9e8fd81",
        "colab": {
          "base_uri": "https://localhost:8080/",
          "height": 294
        }
      },
      "source": [
        "k[k['shops_id']==168]"
      ],
      "execution_count": 371,
      "outputs": [
        {
          "output_type": "execute_result",
          "data": {
            "text/html": [
              "<div>\n",
              "<style scoped>\n",
              "    .dataframe tbody tr th:only-of-type {\n",
              "        vertical-align: middle;\n",
              "    }\n",
              "\n",
              "    .dataframe tbody tr th {\n",
              "        vertical-align: top;\n",
              "    }\n",
              "\n",
              "    .dataframe thead th {\n",
              "        text-align: right;\n",
              "    }\n",
              "</style>\n",
              "<table border=\"1\" class=\"dataframe\">\n",
              "  <thead>\n",
              "    <tr style=\"text-align: right;\">\n",
              "      <th></th>\n",
              "      <th>shops_id</th>\n",
              "      <th>customer</th>\n",
              "      <th>total_order</th>\n",
              "      <th>cust_per_shop</th>\n",
              "      <th>shop_cust_2_more</th>\n",
              "      <th>shop_pct_cust_2_more</th>\n",
              "    </tr>\n",
              "  </thead>\n",
              "  <tbody>\n",
              "    <tr>\n",
              "      <th>3144</th>\n",
              "      <td>168</td>\n",
              "      <td>19,401,297,806.00</td>\n",
              "      <td>10</td>\n",
              "      <td>8</td>\n",
              "      <td>7.00</td>\n",
              "      <td>87.50</td>\n",
              "    </tr>\n",
              "    <tr>\n",
              "      <th>4639</th>\n",
              "      <td>168</td>\n",
              "      <td>6,050,193,965.00</td>\n",
              "      <td>10</td>\n",
              "      <td>8</td>\n",
              "      <td>7.00</td>\n",
              "      <td>87.50</td>\n",
              "    </tr>\n",
              "    <tr>\n",
              "      <th>4898</th>\n",
              "      <td>168</td>\n",
              "      <td>23,577,510,143.00</td>\n",
              "      <td>2</td>\n",
              "      <td>8</td>\n",
              "      <td>7.00</td>\n",
              "      <td>87.50</td>\n",
              "    </tr>\n",
              "    <tr>\n",
              "      <th>6227</th>\n",
              "      <td>168</td>\n",
              "      <td>6,053,701,253.00</td>\n",
              "      <td>2</td>\n",
              "      <td>8</td>\n",
              "      <td>7.00</td>\n",
              "      <td>87.50</td>\n",
              "    </tr>\n",
              "    <tr>\n",
              "      <th>6647</th>\n",
              "      <td>168</td>\n",
              "      <td>8,033,244,233.00</td>\n",
              "      <td>11</td>\n",
              "      <td>8</td>\n",
              "      <td>7.00</td>\n",
              "      <td>87.50</td>\n",
              "    </tr>\n",
              "    <tr>\n",
              "      <th>9400</th>\n",
              "      <td>168</td>\n",
              "      <td>27,519,565,682.00</td>\n",
              "      <td>7</td>\n",
              "      <td>8</td>\n",
              "      <td>7.00</td>\n",
              "      <td>87.50</td>\n",
              "    </tr>\n",
              "    <tr>\n",
              "      <th>9528</th>\n",
              "      <td>168</td>\n",
              "      <td>6,051,718,178.00</td>\n",
              "      <td>1</td>\n",
              "      <td>8</td>\n",
              "      <td>7.00</td>\n",
              "      <td>87.50</td>\n",
              "    </tr>\n",
              "    <tr>\n",
              "      <th>9594</th>\n",
              "      <td>168</td>\n",
              "      <td>23,270,669,225.00</td>\n",
              "      <td>6</td>\n",
              "      <td>8</td>\n",
              "      <td>7.00</td>\n",
              "      <td>87.50</td>\n",
              "    </tr>\n",
              "  </tbody>\n",
              "</table>\n",
              "</div>"
            ],
            "text/plain": [
              "      shops_id          customer  ...  shop_cust_2_more  shop_pct_cust_2_more\n",
              "3144       168 19,401,297,806.00  ...              7.00                 87.50\n",
              "4639       168  6,050,193,965.00  ...              7.00                 87.50\n",
              "4898       168 23,577,510,143.00  ...              7.00                 87.50\n",
              "6227       168  6,053,701,253.00  ...              7.00                 87.50\n",
              "6647       168  8,033,244,233.00  ...              7.00                 87.50\n",
              "9400       168 27,519,565,682.00  ...              7.00                 87.50\n",
              "9528       168  6,051,718,178.00  ...              7.00                 87.50\n",
              "9594       168 23,270,669,225.00  ...              7.00                 87.50\n",
              "\n",
              "[8 rows x 6 columns]"
            ]
          },
          "metadata": {
            "tags": []
          },
          "execution_count": 371
        }
      ]
    },
    {
      "cell_type": "markdown",
      "metadata": {
        "id": "OhvQb7nyhUtq"
      },
      "source": [
        "# ***Preparing Shop-Sales Level Variables***"
      ]
    },
    {
      "cell_type": "code",
      "metadata": {
        "id": "j0mDPOQCZyJR"
      },
      "source": [
        "shopsales=test[['shops_id','customer','order_id','restaurant_total']] "
      ],
      "execution_count": 372,
      "outputs": []
    },
    {
      "cell_type": "code",
      "metadata": {
        "id": "XmuDz2B0ad_8"
      },
      "source": [
        "shopsales['total_shop_sales']=shopsales.groupby('shops_id').restaurant_total.transform('sum')\n",
        "shopsales['total_shop_orders']=shopsales.groupby('shops_id').order_id.transform('count')\n",
        "shopsales['total_shop_cust_base']=shopsales.groupby('shops_id').customer.transform('nunique')"
      ],
      "execution_count": null,
      "outputs": []
    },
    {
      "cell_type": "code",
      "metadata": {
        "id": "LEPFMEPoapfX"
      },
      "source": [
        "shopsales=shopsales.drop_duplicates(subset=['shops_id'], keep='last').drop(columns=['customer','order_id','restaurant_total'])"
      ],
      "execution_count": 374,
      "outputs": []
    },
    {
      "cell_type": "code",
      "metadata": {
        "id": "wDNrdFJRbbWR"
      },
      "source": [
        "shopsales['sales_qunitiles']=pd.qcut(shopsales['total_shop_sales'],5,labels=False)\n",
        "shopsales['order_qunitiles']=pd.qcut(shopsales['total_shop_orders'].rank(method='first'),5,labels=False)\n",
        "\n",
        "#pd.qcut(df['a'].rank(method='first'), 3, labels=False)"
      ],
      "execution_count": 375,
      "outputs": []
    },
    {
      "cell_type": "markdown",
      "metadata": {
        "id": "EYXE3jdHQ73S"
      },
      "source": [
        "# ***Combining to create final analytical dataset***"
      ]
    },
    {
      "cell_type": "code",
      "metadata": {
        "id": "ggdWasSMSrz5"
      },
      "source": [
        "shopscust_final=shopscust.reset_index()\n",
        "shopscust_final=shopscust_final.drop_duplicates(subset=['shops_id'], keep='last').drop(columns=['customer','total_order']).set_index('shops_id')\n"
      ],
      "execution_count": 376,
      "outputs": []
    },
    {
      "cell_type": "code",
      "metadata": {
        "id": "K73kj8gSYghJ"
      },
      "source": [
        "shopscust_final.info()"
      ],
      "execution_count": null,
      "outputs": []
    },
    {
      "cell_type": "code",
      "metadata": {
        "id": "Riavvz_TYD-l"
      },
      "source": [
        "# Merging shopscust with original dataset\n",
        "\n",
        "test2=test.merge(shopscust_final,left_on='shops_id',right_on='shops_id') \n"
      ],
      "execution_count": 378,
      "outputs": []
    },
    {
      "cell_type": "code",
      "metadata": {
        "id": "R01hK-_iSajp"
      },
      "source": [
        "# Merging shopszip with original dataset\n",
        "shopszip_final=shopszip.reset_index()\n",
        "shopszip_final=shopszip_final.drop_duplicates(subset=['postal_code'], keep='last').drop(columns=['customer','total_order']).set_index('shops_id')\n",
        "shopszip_final.info()\n",
        "#shopscustzip_final=shopscustzip.drop(columns=['customer','total_order'])"
      ],
      "execution_count": null,
      "outputs": []
    },
    {
      "cell_type": "code",
      "metadata": {
        "id": "zlzLX4mgZL_E"
      },
      "source": [
        "shopszip_final.set_index('postal_code')\n",
        "test3=test2.merge(shopszip_final,left_on='postal_code',right_on='postal_code') "
      ],
      "execution_count": 381,
      "outputs": []
    },
    {
      "cell_type": "code",
      "metadata": {
        "id": "ji8s8Vu1ctF7"
      },
      "source": [
        "# Merging shopsales with original dataset\n",
        "test4=test3.merge(shopsales,left_on='shops_id',right_on='shops_id')"
      ],
      "execution_count": 382,
      "outputs": []
    },
    {
      "cell_type": "code",
      "metadata": {
        "id": "WX4TOU1jXAog"
      },
      "source": [
        "test4[test4['customer']==6196987925]"
      ],
      "execution_count": null,
      "outputs": []
    },
    {
      "cell_type": "code",
      "metadata": {
        "id": "DwJHC_LnXj8Y"
      },
      "source": [
        "## add more data operation statements here if needed"
      ],
      "execution_count": 384,
      "outputs": []
    },
    {
      "cell_type": "markdown",
      "metadata": {
        "id": "9aDyIE0vyQJI"
      },
      "source": [
        "# ***Customer Level Dataset Creation***"
      ]
    },
    {
      "cell_type": "code",
      "metadata": {
        "id": "tXz7kNFi-x-k",
        "outputId": "7806bb51-5e4a-4831-f375-4b71f089143f",
        "colab": {
          "base_uri": "https://localhost:8080/",
          "height": 35
        }
      },
      "source": [
        "test4.customer.nunique()"
      ],
      "execution_count": 386,
      "outputs": [
        {
          "output_type": "execute_result",
          "data": {
            "text/plain": [
              "10316"
            ]
          },
          "metadata": {
            "tags": []
          },
          "execution_count": 386
        }
      ]
    },
    {
      "cell_type": "code",
      "metadata": {
        "id": "5dGoNkiZyifV"
      },
      "source": [
        "# First Purchase Characteristics\n",
        "\n",
        "fp=test4[test4['order_enum']==1]"
      ],
      "execution_count": 387,
      "outputs": []
    },
    {
      "cell_type": "code",
      "metadata": {
        "id": "x6RffImDEWF5"
      },
      "source": [
        "fp.info()"
      ],
      "execution_count": null,
      "outputs": []
    },
    {
      "cell_type": "code",
      "metadata": {
        "id": "Hss1azAxI-bZ"
      },
      "source": [
        "fp_final=fp[['customer','date_purchased','date_last_purch','source','promo_value','shops_id','postal_code','total_order','total_sales','sales_qunitiles','order_qunitiles','zip_pct_cust_2_more','shop_pct_cust_2_more','shops_per_zip', 'shops_per_cust_per_zip']].rename(columns={'date_purchased':'fp_date','date_last_purch': 'lp_date','source':'fp_source','promo_value':'fp_promo_val','shops_id':'fp_shops_id','postal_code':'fp_postal_code','sales_quintiles':'fp_shop_sales_quintile','order_quintiles':'fp_shop_order_qunitile','zip_pct_cust_2_more':'fp_zip_cust_loyalty_score','shop_pct_cust_2_more':'fp_shop_cust_loyalty_score'})\n",
        "\n",
        "fp_final['customer_sales_centiles']=pd.qcut(fp_final['total_sales'].rank(method='first'),100,labels=False)\n",
        "fp_final['customer_order_centiles']=pd.qcut(fp_final['total_order'].rank(method='first'),100,labels=False)"
      ],
      "execution_count": 389,
      "outputs": []
    },
    {
      "cell_type": "code",
      "metadata": {
        "id": "B5843BmWyq7B"
      },
      "source": [
        "fp_final['end_date']=test['date_purchased'].max()\n",
        "fp_final['time_since_fp']=((fp_final['end_date']-fp_final['fp_date']).dt.days.astype('int16'))\n",
        "fp_final['time_since_lp']=((fp_final['end_date']-fp_final['lp_date']).dt.days.astype('int16'))\n",
        "fp_final['total_order_benchmark']=(fp_final['time_since_fp']*0.5/30).round(0) #6 pizza per year = 0.5 pizza per 30 days\n",
        "fp_final['total_surplus_orders']=fp_final['total_order']-fp_final['total_order_benchmark']\n",
        "\n",
        "# make customer total sales and total order centiles, total order benchmark, surplus, shops per zip H/M/L\n",
        "\n"
      ],
      "execution_count": 391,
      "outputs": []
    },
    {
      "cell_type": "code",
      "metadata": {
        "id": "AKzzvEco4Shr"
      },
      "source": [
        "#Subsequent Purchase -- Value up to 6th purchase\n",
        "\n",
        "subs_purchase = test4[(test4['order_enum'] <7)]"
      ],
      "execution_count": 393,
      "outputs": []
    },
    {
      "cell_type": "code",
      "metadata": {
        "id": "G6wASuxM9tGW",
        "outputId": "ba739a2e-fdcb-44fa-dc1b-840a99d07c5a",
        "colab": {
          "base_uri": "https://localhost:8080/",
          "height": 415
        }
      },
      "source": [
        "subs_purchase_value_final=subs_purchase.pivot(index='customer',columns='order_enum', values='restaurant_total').reset_index().add_prefix('total_spend_')\n",
        "subs_purchase_value_final.rename(columns={'total_spend_customer':'customer'}).fillna(0)\n",
        "\n",
        "#subs_purchase_final.drop(columns=['order_enum'])"
      ],
      "execution_count": 394,
      "outputs": [
        {
          "output_type": "execute_result",
          "data": {
            "text/html": [
              "<div>\n",
              "<style scoped>\n",
              "    .dataframe tbody tr th:only-of-type {\n",
              "        vertical-align: middle;\n",
              "    }\n",
              "\n",
              "    .dataframe tbody tr th {\n",
              "        vertical-align: top;\n",
              "    }\n",
              "\n",
              "    .dataframe thead th {\n",
              "        text-align: right;\n",
              "    }\n",
              "</style>\n",
              "<table border=\"1\" class=\"dataframe\">\n",
              "  <thead>\n",
              "    <tr style=\"text-align: right;\">\n",
              "      <th>order_enum</th>\n",
              "      <th>customer</th>\n",
              "      <th>total_spend_1</th>\n",
              "      <th>total_spend_2</th>\n",
              "      <th>total_spend_3</th>\n",
              "      <th>total_spend_4</th>\n",
              "      <th>total_spend_5</th>\n",
              "      <th>total_spend_6</th>\n",
              "    </tr>\n",
              "  </thead>\n",
              "  <tbody>\n",
              "    <tr>\n",
              "      <th>0</th>\n",
              "      <td>1,920,771,353.00</td>\n",
              "      <td>46.42</td>\n",
              "      <td>0.00</td>\n",
              "      <td>0.00</td>\n",
              "      <td>0.00</td>\n",
              "      <td>0.00</td>\n",
              "      <td>0.00</td>\n",
              "    </tr>\n",
              "    <tr>\n",
              "      <th>1</th>\n",
              "      <td>4,042,653,893.00</td>\n",
              "      <td>30.51</td>\n",
              "      <td>18.36</td>\n",
              "      <td>25.34</td>\n",
              "      <td>15.51</td>\n",
              "      <td>0.00</td>\n",
              "      <td>0.00</td>\n",
              "    </tr>\n",
              "    <tr>\n",
              "      <th>2</th>\n",
              "      <td>4,555,796,885.00</td>\n",
              "      <td>29.78</td>\n",
              "      <td>0.00</td>\n",
              "      <td>0.00</td>\n",
              "      <td>0.00</td>\n",
              "      <td>0.00</td>\n",
              "      <td>0.00</td>\n",
              "    </tr>\n",
              "    <tr>\n",
              "      <th>3</th>\n",
              "      <td>6,033,333,473.00</td>\n",
              "      <td>12.24</td>\n",
              "      <td>0.00</td>\n",
              "      <td>0.00</td>\n",
              "      <td>0.00</td>\n",
              "      <td>0.00</td>\n",
              "      <td>0.00</td>\n",
              "    </tr>\n",
              "    <tr>\n",
              "      <th>4</th>\n",
              "      <td>6,036,185,756.00</td>\n",
              "      <td>44.75</td>\n",
              "      <td>0.00</td>\n",
              "      <td>0.00</td>\n",
              "      <td>0.00</td>\n",
              "      <td>0.00</td>\n",
              "      <td>0.00</td>\n",
              "    </tr>\n",
              "    <tr>\n",
              "      <th>...</th>\n",
              "      <td>...</td>\n",
              "      <td>...</td>\n",
              "      <td>...</td>\n",
              "      <td>...</td>\n",
              "      <td>...</td>\n",
              "      <td>...</td>\n",
              "      <td>...</td>\n",
              "    </tr>\n",
              "    <tr>\n",
              "      <th>10311</th>\n",
              "      <td>51,227,013,587.00</td>\n",
              "      <td>35.70</td>\n",
              "      <td>35.79</td>\n",
              "      <td>42.25</td>\n",
              "      <td>54.54</td>\n",
              "      <td>0.00</td>\n",
              "      <td>0.00</td>\n",
              "    </tr>\n",
              "    <tr>\n",
              "      <th>10312</th>\n",
              "      <td>57,523,677,443.00</td>\n",
              "      <td>12.39</td>\n",
              "      <td>22.29</td>\n",
              "      <td>23.28</td>\n",
              "      <td>20.64</td>\n",
              "      <td>0.00</td>\n",
              "      <td>0.00</td>\n",
              "    </tr>\n",
              "    <tr>\n",
              "      <th>10313</th>\n",
              "      <td>120,495,000,000.00</td>\n",
              "      <td>5.82</td>\n",
              "      <td>0.00</td>\n",
              "      <td>0.00</td>\n",
              "      <td>0.00</td>\n",
              "      <td>0.00</td>\n",
              "      <td>0.00</td>\n",
              "    </tr>\n",
              "    <tr>\n",
              "      <th>10314</th>\n",
              "      <td>217,278,000,000.00</td>\n",
              "      <td>16.84</td>\n",
              "      <td>0.00</td>\n",
              "      <td>0.00</td>\n",
              "      <td>0.00</td>\n",
              "      <td>0.00</td>\n",
              "      <td>0.00</td>\n",
              "    </tr>\n",
              "    <tr>\n",
              "      <th>10315</th>\n",
              "      <td>21,118,800,000,000.00</td>\n",
              "      <td>27.17</td>\n",
              "      <td>0.00</td>\n",
              "      <td>0.00</td>\n",
              "      <td>0.00</td>\n",
              "      <td>0.00</td>\n",
              "      <td>0.00</td>\n",
              "    </tr>\n",
              "  </tbody>\n",
              "</table>\n",
              "<p>10316 rows × 7 columns</p>\n",
              "</div>"
            ],
            "text/plain": [
              "order_enum              customer  total_spend_1  ...  total_spend_5  total_spend_6\n",
              "0               1,920,771,353.00          46.42  ...           0.00           0.00\n",
              "1               4,042,653,893.00          30.51  ...           0.00           0.00\n",
              "2               4,555,796,885.00          29.78  ...           0.00           0.00\n",
              "3               6,033,333,473.00          12.24  ...           0.00           0.00\n",
              "4               6,036,185,756.00          44.75  ...           0.00           0.00\n",
              "...                          ...            ...  ...            ...            ...\n",
              "10311          51,227,013,587.00          35.70  ...           0.00           0.00\n",
              "10312          57,523,677,443.00          12.39  ...           0.00           0.00\n",
              "10313         120,495,000,000.00           5.82  ...           0.00           0.00\n",
              "10314         217,278,000,000.00          16.84  ...           0.00           0.00\n",
              "10315      21,118,800,000,000.00          27.17  ...           0.00           0.00\n",
              "\n",
              "[10316 rows x 7 columns]"
            ]
          },
          "metadata": {
            "tags": []
          },
          "execution_count": 394
        }
      ]
    },
    {
      "cell_type": "code",
      "metadata": {
        "id": "FskCX6qXKo7D"
      },
      "source": [
        "subs_purchase_value_final['spend_growth_2']=(subs_purchase_value_final['total_spend_2']-subs_purchase_value_final['total_spend_1'])*100/subs_purchase_value_final['total_spend_1']\n",
        "subs_purchase_value_final['spend_growth_3']=(subs_purchase_value_final['total_spend_3']-subs_purchase_value_final['total_spend_2'])*100/subs_purchase_value_final['total_spend_2']\n",
        "subs_purchase_value_final['spend_growth_4']=(subs_purchase_value_final['total_spend_4']-subs_purchase_value_final['total_spend_3'])*100/subs_purchase_value_final['total_spend_3']\n",
        "subs_purchase_value_final['spend_growth_5']=(subs_purchase_value_final['total_spend_5']-subs_purchase_value_final['total_spend_4'])*100/subs_purchase_value_final['total_spend_4']\n",
        "subs_purchase_value_final['spend_growth_6']=(subs_purchase_value_final['total_spend_6']-subs_purchase_value_final['total_spend_5'])*100/subs_purchase_value_final['total_spend_5']"
      ],
      "execution_count": 395,
      "outputs": []
    },
    {
      "cell_type": "code",
      "metadata": {
        "id": "t3zs8hltDMwg",
        "outputId": "a02722ad-1c08-4489-88c2-ff18f4808db0",
        "colab": {
          "base_uri": "https://localhost:8080/",
          "height": 415
        }
      },
      "source": [
        "#Subsequent Purchase -- Time up to 6th purchase\n",
        "subs_purchase_time_final=subs_purchase.pivot(index='customer',columns='order_enum', values='time_between_purch').reset_index().add_prefix('time_to_')\n",
        "\n",
        "# Converting time between purchases to days\n",
        "subs_purchase_time_final['time_to_2']=subs_purchase_time_final['time_to_2'].dt.days\n",
        "subs_purchase_time_final['time_to_3']=subs_purchase_time_final['time_to_3'].dt.days\n",
        "subs_purchase_time_final['time_to_4']=subs_purchase_time_final['time_to_4'].dt.days\n",
        "subs_purchase_time_final['time_to_5']=subs_purchase_time_final['time_to_5'].dt.days\n",
        "subs_purchase_time_final['time_to_6']=subs_purchase_time_final['time_to_6'].dt.days\n",
        "\n",
        "subs_purchase_time_final.rename(columns={'time_to_customer':'customer'}).drop(columns=['time_to_1'])"
      ],
      "execution_count": 396,
      "outputs": [
        {
          "output_type": "execute_result",
          "data": {
            "text/html": [
              "<div>\n",
              "<style scoped>\n",
              "    .dataframe tbody tr th:only-of-type {\n",
              "        vertical-align: middle;\n",
              "    }\n",
              "\n",
              "    .dataframe tbody tr th {\n",
              "        vertical-align: top;\n",
              "    }\n",
              "\n",
              "    .dataframe thead th {\n",
              "        text-align: right;\n",
              "    }\n",
              "</style>\n",
              "<table border=\"1\" class=\"dataframe\">\n",
              "  <thead>\n",
              "    <tr style=\"text-align: right;\">\n",
              "      <th>order_enum</th>\n",
              "      <th>customer</th>\n",
              "      <th>time_to_2</th>\n",
              "      <th>time_to_3</th>\n",
              "      <th>time_to_4</th>\n",
              "      <th>time_to_5</th>\n",
              "      <th>time_to_6</th>\n",
              "    </tr>\n",
              "  </thead>\n",
              "  <tbody>\n",
              "    <tr>\n",
              "      <th>0</th>\n",
              "      <td>1,920,771,353.00</td>\n",
              "      <td>nan</td>\n",
              "      <td>nan</td>\n",
              "      <td>nan</td>\n",
              "      <td>nan</td>\n",
              "      <td>nan</td>\n",
              "    </tr>\n",
              "    <tr>\n",
              "      <th>1</th>\n",
              "      <td>4,042,653,893.00</td>\n",
              "      <td>36.00</td>\n",
              "      <td>11.00</td>\n",
              "      <td>2.00</td>\n",
              "      <td>nan</td>\n",
              "      <td>nan</td>\n",
              "    </tr>\n",
              "    <tr>\n",
              "      <th>2</th>\n",
              "      <td>4,555,796,885.00</td>\n",
              "      <td>nan</td>\n",
              "      <td>nan</td>\n",
              "      <td>nan</td>\n",
              "      <td>nan</td>\n",
              "      <td>nan</td>\n",
              "    </tr>\n",
              "    <tr>\n",
              "      <th>3</th>\n",
              "      <td>6,033,333,473.00</td>\n",
              "      <td>nan</td>\n",
              "      <td>nan</td>\n",
              "      <td>nan</td>\n",
              "      <td>nan</td>\n",
              "      <td>nan</td>\n",
              "    </tr>\n",
              "    <tr>\n",
              "      <th>4</th>\n",
              "      <td>6,036,185,756.00</td>\n",
              "      <td>nan</td>\n",
              "      <td>nan</td>\n",
              "      <td>nan</td>\n",
              "      <td>nan</td>\n",
              "      <td>nan</td>\n",
              "    </tr>\n",
              "    <tr>\n",
              "      <th>...</th>\n",
              "      <td>...</td>\n",
              "      <td>...</td>\n",
              "      <td>...</td>\n",
              "      <td>...</td>\n",
              "      <td>...</td>\n",
              "      <td>...</td>\n",
              "    </tr>\n",
              "    <tr>\n",
              "      <th>10311</th>\n",
              "      <td>51,227,013,587.00</td>\n",
              "      <td>18.00</td>\n",
              "      <td>24.00</td>\n",
              "      <td>203.00</td>\n",
              "      <td>nan</td>\n",
              "      <td>nan</td>\n",
              "    </tr>\n",
              "    <tr>\n",
              "      <th>10312</th>\n",
              "      <td>57,523,677,443.00</td>\n",
              "      <td>30.00</td>\n",
              "      <td>195.00</td>\n",
              "      <td>17.00</td>\n",
              "      <td>nan</td>\n",
              "      <td>nan</td>\n",
              "    </tr>\n",
              "    <tr>\n",
              "      <th>10313</th>\n",
              "      <td>120,495,000,000.00</td>\n",
              "      <td>nan</td>\n",
              "      <td>nan</td>\n",
              "      <td>nan</td>\n",
              "      <td>nan</td>\n",
              "      <td>nan</td>\n",
              "    </tr>\n",
              "    <tr>\n",
              "      <th>10314</th>\n",
              "      <td>217,278,000,000.00</td>\n",
              "      <td>nan</td>\n",
              "      <td>nan</td>\n",
              "      <td>nan</td>\n",
              "      <td>nan</td>\n",
              "      <td>nan</td>\n",
              "    </tr>\n",
              "    <tr>\n",
              "      <th>10315</th>\n",
              "      <td>21,118,800,000,000.00</td>\n",
              "      <td>nan</td>\n",
              "      <td>nan</td>\n",
              "      <td>nan</td>\n",
              "      <td>nan</td>\n",
              "      <td>nan</td>\n",
              "    </tr>\n",
              "  </tbody>\n",
              "</table>\n",
              "<p>10316 rows × 6 columns</p>\n",
              "</div>"
            ],
            "text/plain": [
              "order_enum              customer  time_to_2  ...  time_to_5  time_to_6\n",
              "0               1,920,771,353.00        nan  ...        nan        nan\n",
              "1               4,042,653,893.00      36.00  ...        nan        nan\n",
              "2               4,555,796,885.00        nan  ...        nan        nan\n",
              "3               6,033,333,473.00        nan  ...        nan        nan\n",
              "4               6,036,185,756.00        nan  ...        nan        nan\n",
              "...                          ...        ...  ...        ...        ...\n",
              "10311          51,227,013,587.00      18.00  ...        nan        nan\n",
              "10312          57,523,677,443.00      30.00  ...        nan        nan\n",
              "10313         120,495,000,000.00        nan  ...        nan        nan\n",
              "10314         217,278,000,000.00        nan  ...        nan        nan\n",
              "10315      21,118,800,000,000.00        nan  ...        nan        nan\n",
              "\n",
              "[10316 rows x 6 columns]"
            ]
          },
          "metadata": {
            "tags": []
          },
          "execution_count": 396
        }
      ]
    },
    {
      "cell_type": "code",
      "metadata": {
        "id": "mdTiVT4uMVyL"
      },
      "source": [
        "cust_final_dataset=fp_final.merge(subs_purchase_value_final,left_on='customer',right_on='total_spend_customer') "
      ],
      "execution_count": 435,
      "outputs": []
    },
    {
      "cell_type": "code",
      "metadata": {
        "id": "n3ahDdNHNR3M"
      },
      "source": [
        "cust_final_dataset=cust_final_dataset.merge(subs_purchase_time_final,left_on='customer',right_on='time_to_customer') "
      ],
      "execution_count": 436,
      "outputs": []
    },
    {
      "cell_type": "markdown",
      "metadata": {
        "id": "sezOppHdjTcz"
      },
      "source": [
        "# ***Exporting Dataset for usage in Tableau***"
      ]
    },
    {
      "cell_type": "code",
      "metadata": {
        "id": "6XxbddkJacKo"
      },
      "source": [
        "#test4.to_csv('fin_an_dataset.csv',index=False)\n",
        "cust_final_dataset.to_csv('cust_final_dataset.csv',index=False)"
      ],
      "execution_count": 400,
      "outputs": []
    },
    {
      "cell_type": "markdown",
      "metadata": {
        "id": "92ZKLJQ1kLV_"
      },
      "source": [
        "# ***Define Cohorts Based on First Order***"
      ]
    },
    {
      "cell_type": "code",
      "metadata": {
        "id": "Gyek9MfVrw3J",
        "outputId": "8642c4cb-29ec-43df-e97e-4a03471a2824",
        "colab": {
          "base_uri": "https://localhost:8080/",
          "height": 173
        }
      },
      "source": [
        "cust_final_dataset.fp_source.value_counts()"
      ],
      "execution_count": 410,
      "outputs": [
        {
          "output_type": "execute_result",
          "data": {
            "text/plain": [
              "partner_website    5991\n",
              "iosapp             2861\n",
              "slicelife          1150\n",
              "partner_button      148\n",
              "androidapp          132\n",
              "web                  31\n",
              "call-center           2\n",
              "google                1\n",
              "Name: fp_source, dtype: int64"
            ]
          },
          "metadata": {
            "tags": []
          },
          "execution_count": 410
        }
      ]
    },
    {
      "cell_type": "code",
      "metadata": {
        "id": "QqTF70JTkWZ_"
      },
      "source": [
        "# Grouping Source of Entry\n",
        "def source(df):\n",
        "  if df['fp_source'] in ('iosapp', 'androidapp'):\n",
        "    return 'Owned-App'\n",
        "  elif df['fp_source'] in ('slicelife'):\n",
        "    return 'Owned-Web'\n",
        "  elif df['fp_source'] in ('partner_website','partner_button'):\n",
        "    return 'Partner-Web'\n",
        "  else:\n",
        "    return 'Other'"
      ],
      "execution_count": 428,
      "outputs": []
    },
    {
      "cell_type": "code",
      "metadata": {
        "id": "WELkgoVRs7Sw"
      },
      "source": [
        "# Grouping Use of Promo in First Purchase\n",
        "def promo(df):\n",
        "  if df['fp_promo_val'] > 0:\n",
        "    return 'FP: Promo Used'\n",
        "  else:\n",
        "    return 'FP: Promo Not Used'"
      ],
      "execution_count": 429,
      "outputs": []
    },
    {
      "cell_type": "code",
      "metadata": {
        "id": "hcHol4I7tP9G"
      },
      "source": [
        "# Grouping Shops per Zip\n",
        "def shops_per_zip(df):\n",
        "  if df['shops_per_zip']==1:\n",
        "    return \"FP Zip: # Shops = 1\"\n",
        "  elif df['shops_per_zip'] in (2,3):\n",
        "    return \"FP Zip: # Shops = 2-3\"\n",
        "  else:\n",
        "    return \"FP Zip: # Shops = 4+\""
      ],
      "execution_count": 430,
      "outputs": []
    },
    {
      "cell_type": "code",
      "metadata": {
        "id": "lWNWptegvUPs",
        "outputId": "f15dda0f-de49-4f46-97bb-4dcb14036771",
        "colab": {
          "base_uri": "https://localhost:8080/",
          "height": 208
        }
      },
      "source": [
        "cust_final_dataset.fp_shop_cust_loyalty_score.quantile([.05,.1,.2,.25,.5, 0.51,.66,.75,.9,1])"
      ],
      "execution_count": 423,
      "outputs": [
        {
          "output_type": "execute_result",
          "data": {
            "text/plain": [
              "0.05    33.33\n",
              "0.10    50.00\n",
              "0.20    57.14\n",
              "0.25    66.67\n",
              "0.50    83.33\n",
              "0.51    83.33\n",
              "0.66   100.00\n",
              "0.75   100.00\n",
              "0.90   100.00\n",
              "1.00   100.00\n",
              "Name: fp_shop_cust_loyalty_score, dtype: float64"
            ]
          },
          "metadata": {
            "tags": []
          },
          "execution_count": 423
        }
      ]
    },
    {
      "cell_type": "code",
      "metadata": {
        "id": "KogtGntmus-5"
      },
      "source": [
        "# Grouping Shop Cust Loyalty Score\n",
        "def shop_loyalty(df):\n",
        "  if df['fp_shop_cust_loyalty_score']<=50:\n",
        "    return \"FP Shop Loyalty: Low\"\n",
        "  elif df['fp_shop_cust_loyalty_score']<=80:\n",
        "    return \"FP Shop Loyalty: Medium\"\n",
        "  else:\n",
        "    return \"FP Shop Loyalty: High\""
      ],
      "execution_count": 431,
      "outputs": []
    },
    {
      "cell_type": "code",
      "metadata": {
        "id": "AKYTj5mYwW6w",
        "outputId": "f64b1699-4729-4507-8dbe-af73c83eda96",
        "colab": {
          "base_uri": "https://localhost:8080/",
          "height": 191
        }
      },
      "source": [
        "cust_final_dataset.fp_zip_cust_loyalty_score.quantile([.05,.1,.2,.25,.5,.66,.75,.9,1])"
      ],
      "execution_count": 422,
      "outputs": [
        {
          "output_type": "execute_result",
          "data": {
            "text/plain": [
              "0.05    42.86\n",
              "0.10    50.00\n",
              "0.20    60.00\n",
              "0.25    66.67\n",
              "0.50    85.71\n",
              "0.66   100.00\n",
              "0.75   100.00\n",
              "0.90   116.67\n",
              "1.00   250.00\n",
              "Name: fp_zip_cust_loyalty_score, dtype: float64"
            ]
          },
          "metadata": {
            "tags": []
          },
          "execution_count": 422
        }
      ]
    },
    {
      "cell_type": "code",
      "metadata": {
        "id": "GRA0w1P7wl1F"
      },
      "source": [
        "# Grouping Shop Cust Loyalty Score\n",
        "def zip_loyalty(df):\n",
        "  if df['fp_zip_cust_loyalty_score']<=50:\n",
        "    return \"FP Zip Loyalty: Low\"\n",
        "  elif df['fp_zip_cust_loyalty_score']<=80:\n",
        "    return \"FP Zip Loyalty: Medium\"\n",
        "  else:\n",
        "    return \"FP Zip Loyalty: High\""
      ],
      "execution_count": 432,
      "outputs": []
    },
    {
      "cell_type": "code",
      "metadata": {
        "id": "zcy1xxASxfpk",
        "outputId": "6adfced4-3a3d-464d-ca1d-ca5602545d6c",
        "colab": {
          "base_uri": "https://localhost:8080/",
          "height": 121
        }
      },
      "source": [
        "cust_final_dataset.head()"
      ],
      "execution_count": 434,
      "outputs": [
        {
          "output_type": "execute_result",
          "data": {
            "text/plain": [
              "0      Owned-App\n",
              "1      Owned-App\n",
              "2      Owned-App\n",
              "3    Partner-Web\n",
              "4    Partner-Web\n",
              "dtype: object"
            ]
          },
          "metadata": {
            "tags": []
          },
          "execution_count": 434
        }
      ]
    },
    {
      "cell_type": "code",
      "metadata": {
        "id": "IIRIpeztMUIE"
      },
      "source": [
        "#Applying Segments to Cust Level Dataset\n",
        "cust_final_dataset['cohort_fp_source']=cust_final_dataset.apply(source,axis=1)\n",
        "cust_final_dataset['cohort_fp_promo_use']=cust_final_dataset.apply(promo,axis=1)\n",
        "cust_final_dataset['cohort_shops_per_zip']=cust_final_dataset.apply(shops_per_zip,axis=1)\n",
        "cust_final_dataset['cohort_shop_loyalty']=cust_final_dataset.apply(shop_loyalty,axis=1)\n",
        "cust_final_dataset['cohort_zip_loyalty']=cust_final_dataset.apply(zip_loyalty,axis=1)\n"
      ],
      "execution_count": 438,
      "outputs": []
    },
    {
      "cell_type": "code",
      "metadata": {
        "id": "921GcZP5j8jB"
      },
      "source": [
        "# Cohort Plotting\n",
        "\n",
        "cust_subset=cust_final_dataset[['customer','time_since_fp','time_since_lp']]\n",
        "cust_subset['months_since_fp']=round((cust_subset['time_since_fp']/30),0).astype(int)\n",
        "cust_subset['months_since_lp']=round((cust_subset['time_since_lp']/30),0).astype(int)\n",
        "cust_subset.head()"
      ],
      "execution_count": null,
      "outputs": []
    },
    {
      "cell_type": "code",
      "metadata": {
        "id": "Bh56V1X8ke9q"
      },
      "source": [
        "grouping=cust_subset.groupby(['months_since_fp','months_since_lp'])\n",
        "cust_cohort_data=grouping['customer'].nunique()\n",
        "cust_cohort_data.reset_index()"
      ],
      "execution_count": null,
      "outputs": []
    },
    {
      "cell_type": "code",
      "metadata": {
        "id": "BgAabqXYn7oM",
        "outputId": "6cb0e859-1796-48f9-d8d3-a220db8a45ab",
        "colab": {
          "base_uri": "https://localhost:8080/",
          "height": 509
        }
      },
      "source": [
        "cohort_counts=cust_cohort_data.unstack('months_since_lp')\n",
        "cohort_counts2=cohort_counts.cumsum(axis=1)\n",
        "cohort_counts2['total_col']=cohort_counts2.max(axis=1)\n",
        "cohort_counts2.sort_values(by='months_since_fp',ascending=False)"
      ],
      "execution_count": 712,
      "outputs": [
        {
          "output_type": "execute_result",
          "data": {
            "text/html": [
              "<div>\n",
              "<style scoped>\n",
              "    .dataframe tbody tr th:only-of-type {\n",
              "        vertical-align: middle;\n",
              "    }\n",
              "\n",
              "    .dataframe tbody tr th {\n",
              "        vertical-align: top;\n",
              "    }\n",
              "\n",
              "    .dataframe thead th {\n",
              "        text-align: right;\n",
              "    }\n",
              "</style>\n",
              "<table border=\"1\" class=\"dataframe\">\n",
              "  <thead>\n",
              "    <tr style=\"text-align: right;\">\n",
              "      <th>months_since_lp</th>\n",
              "      <th>0</th>\n",
              "      <th>1</th>\n",
              "      <th>2</th>\n",
              "      <th>3</th>\n",
              "      <th>4</th>\n",
              "      <th>5</th>\n",
              "      <th>6</th>\n",
              "      <th>7</th>\n",
              "      <th>8</th>\n",
              "      <th>9</th>\n",
              "      <th>10</th>\n",
              "      <th>11</th>\n",
              "      <th>12</th>\n",
              "      <th>13</th>\n",
              "      <th>14</th>\n",
              "      <th>total_col</th>\n",
              "    </tr>\n",
              "    <tr>\n",
              "      <th>months_since_fp</th>\n",
              "      <th></th>\n",
              "      <th></th>\n",
              "      <th></th>\n",
              "      <th></th>\n",
              "      <th></th>\n",
              "      <th></th>\n",
              "      <th></th>\n",
              "      <th></th>\n",
              "      <th></th>\n",
              "      <th></th>\n",
              "      <th></th>\n",
              "      <th></th>\n",
              "      <th></th>\n",
              "      <th></th>\n",
              "      <th></th>\n",
              "      <th></th>\n",
              "    </tr>\n",
              "  </thead>\n",
              "  <tbody>\n",
              "    <tr>\n",
              "      <th>14</th>\n",
              "      <td>92.00</td>\n",
              "      <td>157.00</td>\n",
              "      <td>219.00</td>\n",
              "      <td>250.00</td>\n",
              "      <td>281.00</td>\n",
              "      <td>305.00</td>\n",
              "      <td>326.00</td>\n",
              "      <td>344.00</td>\n",
              "      <td>370.00</td>\n",
              "      <td>385.00</td>\n",
              "      <td>411.00</td>\n",
              "      <td>440.00</td>\n",
              "      <td>468.00</td>\n",
              "      <td>502.00</td>\n",
              "      <td>723.00</td>\n",
              "      <td>723.00</td>\n",
              "    </tr>\n",
              "    <tr>\n",
              "      <th>13</th>\n",
              "      <td>60.00</td>\n",
              "      <td>111.00</td>\n",
              "      <td>162.00</td>\n",
              "      <td>201.00</td>\n",
              "      <td>227.00</td>\n",
              "      <td>256.00</td>\n",
              "      <td>277.00</td>\n",
              "      <td>300.00</td>\n",
              "      <td>331.00</td>\n",
              "      <td>357.00</td>\n",
              "      <td>378.00</td>\n",
              "      <td>409.00</td>\n",
              "      <td>458.00</td>\n",
              "      <td>664.00</td>\n",
              "      <td>nan</td>\n",
              "      <td>664.00</td>\n",
              "    </tr>\n",
              "    <tr>\n",
              "      <th>12</th>\n",
              "      <td>65.00</td>\n",
              "      <td>130.00</td>\n",
              "      <td>184.00</td>\n",
              "      <td>216.00</td>\n",
              "      <td>243.00</td>\n",
              "      <td>272.00</td>\n",
              "      <td>298.00</td>\n",
              "      <td>330.00</td>\n",
              "      <td>356.00</td>\n",
              "      <td>383.00</td>\n",
              "      <td>419.00</td>\n",
              "      <td>460.00</td>\n",
              "      <td>742.00</td>\n",
              "      <td>nan</td>\n",
              "      <td>nan</td>\n",
              "      <td>742.00</td>\n",
              "    </tr>\n",
              "    <tr>\n",
              "      <th>11</th>\n",
              "      <td>49.00</td>\n",
              "      <td>108.00</td>\n",
              "      <td>148.00</td>\n",
              "      <td>188.00</td>\n",
              "      <td>213.00</td>\n",
              "      <td>251.00</td>\n",
              "      <td>278.00</td>\n",
              "      <td>303.00</td>\n",
              "      <td>331.00</td>\n",
              "      <td>362.00</td>\n",
              "      <td>411.00</td>\n",
              "      <td>647.00</td>\n",
              "      <td>nan</td>\n",
              "      <td>nan</td>\n",
              "      <td>nan</td>\n",
              "      <td>647.00</td>\n",
              "    </tr>\n",
              "    <tr>\n",
              "      <th>10</th>\n",
              "      <td>75.00</td>\n",
              "      <td>160.00</td>\n",
              "      <td>217.00</td>\n",
              "      <td>258.00</td>\n",
              "      <td>302.00</td>\n",
              "      <td>353.00</td>\n",
              "      <td>389.00</td>\n",
              "      <td>427.00</td>\n",
              "      <td>472.00</td>\n",
              "      <td>552.00</td>\n",
              "      <td>835.00</td>\n",
              "      <td>nan</td>\n",
              "      <td>nan</td>\n",
              "      <td>nan</td>\n",
              "      <td>nan</td>\n",
              "      <td>835.00</td>\n",
              "    </tr>\n",
              "    <tr>\n",
              "      <th>9</th>\n",
              "      <td>69.00</td>\n",
              "      <td>122.00</td>\n",
              "      <td>176.00</td>\n",
              "      <td>226.00</td>\n",
              "      <td>277.00</td>\n",
              "      <td>315.00</td>\n",
              "      <td>355.00</td>\n",
              "      <td>389.00</td>\n",
              "      <td>444.00</td>\n",
              "      <td>740.00</td>\n",
              "      <td>nan</td>\n",
              "      <td>nan</td>\n",
              "      <td>nan</td>\n",
              "      <td>nan</td>\n",
              "      <td>nan</td>\n",
              "      <td>740.00</td>\n",
              "    </tr>\n",
              "    <tr>\n",
              "      <th>8</th>\n",
              "      <td>57.00</td>\n",
              "      <td>131.00</td>\n",
              "      <td>194.00</td>\n",
              "      <td>244.00</td>\n",
              "      <td>296.00</td>\n",
              "      <td>336.00</td>\n",
              "      <td>386.00</td>\n",
              "      <td>441.00</td>\n",
              "      <td>666.00</td>\n",
              "      <td>nan</td>\n",
              "      <td>nan</td>\n",
              "      <td>nan</td>\n",
              "      <td>nan</td>\n",
              "      <td>nan</td>\n",
              "      <td>nan</td>\n",
              "      <td>666.00</td>\n",
              "    </tr>\n",
              "    <tr>\n",
              "      <th>7</th>\n",
              "      <td>61.00</td>\n",
              "      <td>130.00</td>\n",
              "      <td>196.00</td>\n",
              "      <td>251.00</td>\n",
              "      <td>295.00</td>\n",
              "      <td>348.00</td>\n",
              "      <td>416.00</td>\n",
              "      <td>664.00</td>\n",
              "      <td>nan</td>\n",
              "      <td>nan</td>\n",
              "      <td>nan</td>\n",
              "      <td>nan</td>\n",
              "      <td>nan</td>\n",
              "      <td>nan</td>\n",
              "      <td>nan</td>\n",
              "      <td>664.00</td>\n",
              "    </tr>\n",
              "    <tr>\n",
              "      <th>6</th>\n",
              "      <td>97.00</td>\n",
              "      <td>192.00</td>\n",
              "      <td>277.00</td>\n",
              "      <td>363.00</td>\n",
              "      <td>440.00</td>\n",
              "      <td>527.00</td>\n",
              "      <td>894.00</td>\n",
              "      <td>nan</td>\n",
              "      <td>nan</td>\n",
              "      <td>nan</td>\n",
              "      <td>nan</td>\n",
              "      <td>nan</td>\n",
              "      <td>nan</td>\n",
              "      <td>nan</td>\n",
              "      <td>nan</td>\n",
              "      <td>894.00</td>\n",
              "    </tr>\n",
              "    <tr>\n",
              "      <th>5</th>\n",
              "      <td>112.00</td>\n",
              "      <td>227.00</td>\n",
              "      <td>332.00</td>\n",
              "      <td>458.00</td>\n",
              "      <td>553.00</td>\n",
              "      <td>776.00</td>\n",
              "      <td>nan</td>\n",
              "      <td>nan</td>\n",
              "      <td>nan</td>\n",
              "      <td>nan</td>\n",
              "      <td>nan</td>\n",
              "      <td>nan</td>\n",
              "      <td>nan</td>\n",
              "      <td>nan</td>\n",
              "      <td>nan</td>\n",
              "      <td>776.00</td>\n",
              "    </tr>\n",
              "    <tr>\n",
              "      <th>4</th>\n",
              "      <td>138.00</td>\n",
              "      <td>304.00</td>\n",
              "      <td>452.00</td>\n",
              "      <td>607.00</td>\n",
              "      <td>840.00</td>\n",
              "      <td>nan</td>\n",
              "      <td>nan</td>\n",
              "      <td>nan</td>\n",
              "      <td>nan</td>\n",
              "      <td>nan</td>\n",
              "      <td>nan</td>\n",
              "      <td>nan</td>\n",
              "      <td>nan</td>\n",
              "      <td>nan</td>\n",
              "      <td>nan</td>\n",
              "      <td>840.00</td>\n",
              "    </tr>\n",
              "    <tr>\n",
              "      <th>3</th>\n",
              "      <td>214.00</td>\n",
              "      <td>394.00</td>\n",
              "      <td>629.00</td>\n",
              "      <td>943.00</td>\n",
              "      <td>nan</td>\n",
              "      <td>nan</td>\n",
              "      <td>nan</td>\n",
              "      <td>nan</td>\n",
              "      <td>nan</td>\n",
              "      <td>nan</td>\n",
              "      <td>nan</td>\n",
              "      <td>nan</td>\n",
              "      <td>nan</td>\n",
              "      <td>nan</td>\n",
              "      <td>nan</td>\n",
              "      <td>943.00</td>\n",
              "    </tr>\n",
              "    <tr>\n",
              "      <th>2</th>\n",
              "      <td>277.00</td>\n",
              "      <td>634.00</td>\n",
              "      <td>996.00</td>\n",
              "      <td>nan</td>\n",
              "      <td>nan</td>\n",
              "      <td>nan</td>\n",
              "      <td>nan</td>\n",
              "      <td>nan</td>\n",
              "      <td>nan</td>\n",
              "      <td>nan</td>\n",
              "      <td>nan</td>\n",
              "      <td>nan</td>\n",
              "      <td>nan</td>\n",
              "      <td>nan</td>\n",
              "      <td>nan</td>\n",
              "      <td>996.00</td>\n",
              "    </tr>\n",
              "    <tr>\n",
              "      <th>1</th>\n",
              "      <td>70.00</td>\n",
              "      <td>186.00</td>\n",
              "      <td>nan</td>\n",
              "      <td>nan</td>\n",
              "      <td>nan</td>\n",
              "      <td>nan</td>\n",
              "      <td>nan</td>\n",
              "      <td>nan</td>\n",
              "      <td>nan</td>\n",
              "      <td>nan</td>\n",
              "      <td>nan</td>\n",
              "      <td>nan</td>\n",
              "      <td>nan</td>\n",
              "      <td>nan</td>\n",
              "      <td>nan</td>\n",
              "      <td>186.00</td>\n",
              "    </tr>\n",
              "  </tbody>\n",
              "</table>\n",
              "</div>"
            ],
            "text/plain": [
              "months_since_lp      0      1      2      3  ...     12     13     14  total_col\n",
              "months_since_fp                              ...                                \n",
              "14               92.00 157.00 219.00 250.00  ... 468.00 502.00 723.00     723.00\n",
              "13               60.00 111.00 162.00 201.00  ... 458.00 664.00    nan     664.00\n",
              "12               65.00 130.00 184.00 216.00  ... 742.00    nan    nan     742.00\n",
              "11               49.00 108.00 148.00 188.00  ...    nan    nan    nan     647.00\n",
              "10               75.00 160.00 217.00 258.00  ...    nan    nan    nan     835.00\n",
              "9                69.00 122.00 176.00 226.00  ...    nan    nan    nan     740.00\n",
              "8                57.00 131.00 194.00 244.00  ...    nan    nan    nan     666.00\n",
              "7                61.00 130.00 196.00 251.00  ...    nan    nan    nan     664.00\n",
              "6                97.00 192.00 277.00 363.00  ...    nan    nan    nan     894.00\n",
              "5               112.00 227.00 332.00 458.00  ...    nan    nan    nan     776.00\n",
              "4               138.00 304.00 452.00 607.00  ...    nan    nan    nan     840.00\n",
              "3               214.00 394.00 629.00 943.00  ...    nan    nan    nan     943.00\n",
              "2               277.00 634.00 996.00    nan  ...    nan    nan    nan     996.00\n",
              "1                70.00 186.00    nan    nan  ...    nan    nan    nan     186.00\n",
              "\n",
              "[14 rows x 16 columns]"
            ]
          },
          "metadata": {
            "tags": []
          },
          "execution_count": 712
        }
      ]
    },
    {
      "cell_type": "code",
      "metadata": {
        "id": "AW90lZJ2rN75"
      },
      "source": [
        "cohort_sizes = cohort_counts2.iloc[:,15]\n",
        "retention = cohort_counts2.div(cohort_sizes, axis=0)\n",
        "retention_round = retention.round(3) * 100\n",
        "retention_final=retention_round.drop(columns=['total'])"
      ],
      "execution_count": 705,
      "outputs": []
    },
    {
      "cell_type": "code",
      "metadata": {
        "id": "ZjFIoPmh0iSj",
        "outputId": "9316ca4a-0d30-4f9f-eb1f-b2c96ce4d5df",
        "colab": {
          "base_uri": "https://localhost:8080/",
          "height": 514
        }
      },
      "source": [
        "plt.figure(figsize=(15,8))\n",
        "plt.title('Retention by Monthly Cohorts')\n",
        "sns.heatmap(retention_final, annot=True, cmap=\"Greens\",fmt='g')\n",
        "plt.show()"
      ],
      "execution_count": 710,
      "outputs": [
        {
          "output_type": "display_data",
          "data": {
            "image/png": "[encoded data removed]",
            "text/plain": [
              "<Figure size 1080x576 with 2 Axes>"
            ]
          },
          "metadata": {
            "tags": [],
            "needs_background": "light"
          }
        }
      ]
    },
    {
      "cell_type": "markdown",
      "metadata": {
        "id": "lsD8gUWrx9ns"
      },
      "source": [
        "# ***Hypothesis Testing***"
      ]
    },
    {
      "cell_type": "code",
      "metadata": {
        "id": "oXSMRlGQzfCf"
      },
      "source": [
        "# Defining Function to test continuous variable hypotheses\n",
        "def simple_regression_summary(yvar):\n",
        "  \n",
        "  list_of_cohort_factors=[\"total_order\",'total_sales','time_to_2','time_since_lp','total_surplus_orders']\n",
        "\n",
        "  output=[]\n",
        "  i=0\n",
        "\n",
        "  for cohort_factor in list_of_cohort_factors:\n",
        "      formula = cohort_factor + '~' + yvar\n",
        "      results=sm.OLS.from_formula(formula, data = cust_final_dataset).fit()\n",
        "    #output.append(results_summary_to_dataframe(results,list_of_cohort_factors[i]))\n",
        "\n",
        "    #take the result of an statsmodel results table and transforms it into a dataframe\n",
        "    \n",
        "      cvar=list_of_cohort_factors[i]\n",
        "      pvals = results.pvalues\n",
        "      coeff = results.params\n",
        "      conf_lower = results.conf_int()[0]\n",
        "      conf_higher = results.conf_int()[1]\n",
        "\n",
        "      results_df = pd.DataFrame({\"independent\":cvar,\n",
        "                               \"pvals\":pvals,\n",
        "                               \"coeff\":coeff,\n",
        "                               \"conf_lower\":conf_lower,\n",
        "                               \"conf_higher\":conf_higher\n",
        "                                })\n",
        "\n",
        "    #Reordering...\n",
        "      results_df = results_df[['independent',\"coeff\",\"pvals\",\"conf_lower\",\"conf_higher\"]]\n",
        "      print(results_df)\n",
        "      i=i+1\n",
        "\n",
        "  return\n"
      ],
      "execution_count": 591,
      "outputs": []
    },
    {
      "cell_type": "code",
      "metadata": {
        "id": "QKBb4llASsdV"
      },
      "source": [
        "# Defining Function to test categorical variable hypotheses\n",
        "def anova_results_summary(yvar):\n",
        "  \n",
        "  list_of_cohort_factors=[\"total_order\",'total_sales','time_to_2','time_since_lp','total_surplus_orders']\n",
        "\n",
        "  output=[]\n",
        "  i=0\n",
        "\n",
        "  for cohort_factor in list_of_cohort_factors:\n",
        "      formula = cohort_factor + '~' + yvar\n",
        "      results=sm.OLS.from_formula(formula, data = cust_final_dataset).fit()\n",
        "      table=stapi.stats.anova_lm(results)\n",
        "      print(cohort_factor, table.iloc[0:1], \"\\n\")\n",
        "      \n",
        "      i=i+1\n",
        "\n",
        "  return "
      ],
      "execution_count": 571,
      "outputs": []
    },
    {
      "cell_type": "markdown",
      "metadata": {
        "id": "_sqBAyycWV3O"
      },
      "source": [
        "# 1. Entry Source"
      ]
    },
    {
      "cell_type": "code",
      "metadata": {
        "id": "vLAHhFVvWfUu",
        "outputId": "79dc4174-d567-4e78-d63e-fad7d9a0d392",
        "colab": {
          "base_uri": "https://localhost:8080/",
          "height": 277
        }
      },
      "source": [
        "# Categorical\n",
        "(anova_results_summary('cohort_fp_source'))\n"
      ],
      "execution_count": 583,
      "outputs": [
        {
          "output_type": "stream",
          "text": [
            "total_order                    df   sum_sq  mean_sq     F  PR(>F)\n",
            "cohort_fp_source 3.00 9,322.55 3,107.52 90.60    0.00 \n",
            "\n",
            "total_sales                    df       sum_sq      mean_sq     F  PR(>F)\n",
            "cohort_fp_source 3.00 7,302,655.95 2,434,218.65 61.75    0.00 \n",
            "\n",
            "time_to_2                    df    sum_sq   mean_sq    F  PR(>F)\n",
            "cohort_fp_source 3.00 55,424.82 18,474.94 4.16    0.01 \n",
            "\n",
            "time_since_lp                    df     sum_sq    mean_sq     F  PR(>F)\n",
            "cohort_fp_source 3.00 595,903.62 198,634.54 14.20    0.00 \n",
            "\n",
            "total_surplus_orders                    df   sum_sq  mean_sq     F  PR(>F)\n",
            "cohort_fp_source 3.00 4,672.30 1,557.43 45.61    0.00 \n",
            "\n"
          ],
          "name": "stdout"
        }
      ]
    },
    {
      "cell_type": "markdown",
      "metadata": {
        "id": "qq85SktrWDXx"
      },
      "source": [
        "# 2. Promo Value"
      ]
    },
    {
      "cell_type": "code",
      "metadata": {
        "id": "9sBsnLv1TJKR",
        "outputId": "51e807de-88b2-4886-b8d1-c0e3cbf3488e",
        "colab": {
          "base_uri": "https://localhost:8080/",
          "height": 277
        }
      },
      "source": [
        "# Categorical\n",
        "anova_results_summary('cohort_fp_promo_use')"
      ],
      "execution_count": 573,
      "outputs": [
        {
          "output_type": "stream",
          "text": [
            "total_order                       df  sum_sq  mean_sq    F  PR(>F)\n",
            "cohort_fp_promo_use 1.00  208.41   208.41 5.92    0.01 \n",
            "\n",
            "total_sales                       df  sum_sq  mean_sq    F  PR(>F)\n",
            "cohort_fp_promo_use 1.00   58.25    58.25 0.00    0.97 \n",
            "\n",
            "time_to_2                       df  sum_sq  mean_sq    F  PR(>F)\n",
            "cohort_fp_promo_use 1.00    4.22     4.22 0.00    0.98 \n",
            "\n",
            "time_since_lp                       df    sum_sq   mean_sq    F  PR(>F)\n",
            "cohort_fp_promo_use 1.00 42,507.06 42,507.06 3.03    0.08 \n",
            "\n",
            "total_surplus_orders                       df  sum_sq  mean_sq    F  PR(>F)\n",
            "cohort_fp_promo_use 1.00    1.76     1.76 0.05    0.82 \n",
            "\n"
          ],
          "name": "stdout"
        }
      ]
    },
    {
      "cell_type": "code",
      "metadata": {
        "id": "9nfQ9k7PV-wK",
        "outputId": "450e519f-d85d-4385-fff9-68f83e8253d4",
        "colab": {
          "base_uri": "https://localhost:8080/",
          "height": 277
        }
      },
      "source": [
        "# Continuous\n",
        "simple_regression_summary('fp_promo_val')"
      ],
      "execution_count": 592,
      "outputs": [
        {
          "output_type": "stream",
          "text": [
            "              independent  coeff  pvals  conf_lower  conf_higher\n",
            "Intercept     total_order   3.83   0.00        3.71         3.95\n",
            "fp_promo_val  total_order   0.12   0.06       -0.01         0.24\n",
            "              independent  coeff  pvals  conf_lower  conf_higher\n",
            "Intercept     total_sales 126.06   0.00      122.03       130.09\n",
            "fp_promo_val  total_sales   0.33   0.88       -3.88         4.55\n",
            "             independent  coeff  pvals  conf_lower  conf_higher\n",
            "Intercept      time_to_2  56.21   0.00       54.58        57.84\n",
            "fp_promo_val   time_to_2   0.64   0.44       -0.98         2.26\n",
            "                independent  coeff  pvals  conf_lower  conf_higher\n",
            "Intercept     time_since_lp 135.84   0.00      133.45       138.22\n",
            "fp_promo_val  time_since_lp   1.46   0.25       -1.04         3.95\n",
            "                       independent  coeff  pvals  conf_lower  conf_higher\n",
            "Intercept     total_surplus_orders   0.11   0.06       -0.01         0.23\n",
            "fp_promo_val  total_surplus_orders  -0.01   0.88       -0.13         0.11\n"
          ],
          "name": "stdout"
        }
      ]
    },
    {
      "cell_type": "markdown",
      "metadata": {
        "id": "17JKYiK3fwVk"
      },
      "source": [
        "# 3. Shops Per Zip"
      ]
    },
    {
      "cell_type": "code",
      "metadata": {
        "id": "d3RZe4Cnf3XJ",
        "outputId": "2d575c89-3923-4ef0-84ec-22bca4c439de",
        "colab": {
          "base_uri": "https://localhost:8080/",
          "height": 277
        }
      },
      "source": [
        "anova_results_summary('cohort_shops_per_zip')"
      ],
      "execution_count": 584,
      "outputs": [
        {
          "output_type": "stream",
          "text": [
            "total_order                        df   sum_sq  mean_sq     F  PR(>F)\n",
            "cohort_shops_per_zip 2.00 2,892.54 1,446.27 41.42    0.00 \n",
            "\n",
            "total_sales                        df       sum_sq      mean_sq     F  PR(>F)\n",
            "cohort_shops_per_zip 2.00 2,239,908.94 1,119,954.47 28.06    0.00 \n",
            "\n",
            "time_to_2                        df    sum_sq  mean_sq    F  PR(>F)\n",
            "cohort_shops_per_zip 2.00 14,539.73 7,269.87 1.64    0.19 \n",
            "\n",
            "time_since_lp                        df    sum_sq   mean_sq    F  PR(>F)\n",
            "cohort_shops_per_zip 2.00 21,901.32 10,950.66 0.78    0.46 \n",
            "\n",
            "total_surplus_orders                        df   sum_sq  mean_sq     F  PR(>F)\n",
            "cohort_shops_per_zip 2.00 1,742.37   871.19 25.31    0.00 \n",
            "\n"
          ],
          "name": "stdout"
        }
      ]
    },
    {
      "cell_type": "code",
      "metadata": {
        "id": "ruXcX2yVgU-I",
        "outputId": "a4778094-d142-4290-ad18-7ac93dba0cfc",
        "colab": {
          "base_uri": "https://localhost:8080/",
          "height": 277
        }
      },
      "source": [
        "simple_regression_summary('shops_per_zip')"
      ],
      "execution_count": 593,
      "outputs": [
        {
          "output_type": "stream",
          "text": [
            "               independent  coeff  pvals  conf_lower  conf_higher\n",
            "Intercept      total_order   3.25   0.00        3.07         3.42\n",
            "shops_per_zip  total_order   0.23   0.00        0.18         0.28\n",
            "               independent  coeff  pvals  conf_lower  conf_higher\n",
            "Intercept      total_sales 109.16   0.00      103.20       115.12\n",
            "shops_per_zip  total_sales   6.22   0.00        4.56         7.89\n",
            "              independent  coeff  pvals  conf_lower  conf_higher\n",
            "Intercept       time_to_2  56.49   0.00       54.08        58.90\n",
            "shops_per_zip   time_to_2  -0.03   0.93       -0.69         0.62\n",
            "                 independent  coeff  pvals  conf_lower  conf_higher\n",
            "Intercept      time_since_lp 138.71   0.00      135.17       142.24\n",
            "shops_per_zip  time_since_lp  -0.91   0.07       -1.89         0.08\n",
            "                        independent  coeff  pvals  conf_lower  conf_higher\n",
            "Intercept      total_surplus_orders  -0.40   0.00       -0.57        -0.22\n",
            "shops_per_zip  total_surplus_orders   0.19   0.00        0.14         0.24\n"
          ],
          "name": "stdout"
        }
      ]
    },
    {
      "cell_type": "markdown",
      "metadata": {
        "id": "X7R4G1DxhnjM"
      },
      "source": [
        "# 4. Shop Loyalty"
      ]
    },
    {
      "cell_type": "code",
      "metadata": {
        "id": "AjhdBLX4hu3D",
        "outputId": "87129bae-4d5f-40f1-db0b-93188c54a3ef",
        "colab": {
          "base_uri": "https://localhost:8080/",
          "height": 277
        }
      },
      "source": [
        "anova_results_summary('cohort_shop_loyalty')"
      ],
      "execution_count": 594,
      "outputs": [
        {
          "output_type": "stream",
          "text": [
            "total_order                       df   sum_sq  mean_sq     F  PR(>F)\n",
            "cohort_shop_loyalty 2.00 6,783.31 3,391.66 98.19    0.00 \n",
            "\n",
            "total_sales                       df       sum_sq      mean_sq     F  PR(>F)\n",
            "cohort_shop_loyalty 2.00 6,675,587.97 3,337,793.99 84.55    0.00 \n",
            "\n",
            "time_to_2                       df    sum_sq   mean_sq    F  PR(>F)\n",
            "cohort_shop_loyalty 2.00 23,118.64 11,559.32 2.60    0.07 \n",
            "\n",
            "time_since_lp                       df       sum_sq      mean_sq      F  PR(>F)\n",
            "cohort_shop_loyalty 2.00 5,764,467.98 2,882,233.99 213.68    0.00 \n",
            "\n",
            "total_surplus_orders                       df   sum_sq  mean_sq      F  PR(>F)\n",
            "cohort_shop_loyalty 2.00 7,513.85 3,756.93 110.94    0.00 \n",
            "\n"
          ],
          "name": "stdout"
        }
      ]
    },
    {
      "cell_type": "code",
      "metadata": {
        "id": "E7Bpz0nthyGE",
        "outputId": "55f62c00-7620-4251-d82a-341efc35c1ad",
        "colab": {
          "base_uri": "https://localhost:8080/",
          "height": 347
        }
      },
      "source": [
        "simple_regression_summary('fp_shop_cust_loyalty_score')"
      ],
      "execution_count": 595,
      "outputs": [
        {
          "output_type": "stream",
          "text": [
            "                            independent  coeff  pvals  conf_lower  conf_higher\n",
            "Intercept                   total_order  -0.19   0.41       -0.66         0.27\n",
            "fp_shop_cust_loyalty_score  total_order   0.06   0.00        0.05         0.06\n",
            "                            independent  coeff  pvals  conf_lower  conf_higher\n",
            "Intercept                   total_sales  -1.56   0.85      -17.21        14.10\n",
            "fp_shop_cust_loyalty_score  total_sales   1.74   0.00        1.55         1.93\n",
            "                           independent  coeff  pvals  conf_lower  conf_higher\n",
            "Intercept                    time_to_2  64.25   0.00       56.72        71.77\n",
            "fp_shop_cust_loyalty_score   time_to_2  -0.09   0.04       -0.18        -0.01\n",
            "                              independent  coeff  ...  conf_lower  conf_higher\n",
            "Intercept                   time_since_lp 256.54  ...      248.23       264.86\n",
            "fp_shop_cust_loyalty_score  time_since_lp  -1.65  ...       -1.76        -1.55\n",
            "\n",
            "[2 rows x 5 columns]\n",
            "                                     independent  ...  conf_higher\n",
            "Intercept                   total_surplus_orders  ...        -3.69\n",
            "fp_shop_cust_loyalty_score  total_surplus_orders  ...         0.06\n",
            "\n",
            "[2 rows x 5 columns]\n"
          ],
          "name": "stdout"
        }
      ]
    },
    {
      "cell_type": "markdown",
      "metadata": {
        "id": "Ud902y7EiODw"
      },
      "source": [
        "# 5. Zip Loyalty"
      ]
    },
    {
      "cell_type": "code",
      "metadata": {
        "id": "YeFzU2lqicAU",
        "outputId": "908b2099-3db6-4cdf-c94e-2f482786b3d5",
        "colab": {
          "base_uri": "https://localhost:8080/",
          "height": 277
        }
      },
      "source": [
        "anova_results_summary('fp_zip_cust_loyalty_score')"
      ],
      "execution_count": 597,
      "outputs": [
        {
          "output_type": "stream",
          "text": [
            "total_order                             df    sum_sq   mean_sq      F  PR(>F)\n",
            "fp_zip_cust_loyalty_score 1.00 15,161.50 15,161.50 432.99    0.00 \n",
            "\n",
            "total_sales                             df        sum_sq       mean_sq      F  PR(>F)\n",
            "fp_zip_cust_loyalty_score 1.00 15,409,544.81 15,409,544.81 384.06    0.00 \n",
            "\n",
            "time_to_2                             df    sum_sq   mean_sq    F  PR(>F)\n",
            "fp_zip_cust_loyalty_score 1.00 41,427.10 41,427.10 9.33    0.00 \n",
            "\n",
            "time_since_lp                             df       sum_sq      mean_sq      F  PR(>F)\n",
            "fp_zip_cust_loyalty_score 1.00 7,361,751.49 7,361,751.49 569.20    0.00 \n",
            "\n",
            "total_surplus_orders                             df    sum_sq   mean_sq      F  PR(>F)\n",
            "fp_zip_cust_loyalty_score 1.00 14,983.88 14,983.88 438.13    0.00 \n",
            "\n"
          ],
          "name": "stdout"
        }
      ]
    },
    {
      "cell_type": "code",
      "metadata": {
        "id": "5tu-Q01HipRU",
        "outputId": "47731af9-927c-4bcf-85b0-77c46d609447",
        "colab": {
          "base_uri": "https://localhost:8080/",
          "height": 312
        }
      },
      "source": [
        "simple_regression_summary('fp_zip_cust_loyalty_score')"
      ],
      "execution_count": 598,
      "outputs": [
        {
          "output_type": "stream",
          "text": [
            "                           independent  coeff  pvals  conf_lower  conf_higher\n",
            "Intercept                  total_order   0.18   0.34       -0.20         0.56\n",
            "fp_zip_cust_loyalty_score  total_order   0.04   0.00        0.04         0.05\n",
            "                           independent  coeff  pvals  conf_lower  conf_higher\n",
            "Intercept                  total_sales   8.85   0.18       -3.99        21.69\n",
            "fp_zip_cust_loyalty_score  total_sales   1.43   0.00        1.29         1.57\n",
            "                          independent  coeff  pvals  conf_lower  conf_higher\n",
            "Intercept                   time_to_2  65.08   0.00       59.30        70.86\n",
            "fp_zip_cust_loyalty_score   time_to_2  -0.09   0.00       -0.15        -0.03\n",
            "                             independent  coeff  pvals  conf_lower  conf_higher\n",
            "Intercept                  time_since_lp 215.84   0.00      208.55       223.13\n",
            "fp_zip_cust_loyalty_score  time_since_lp  -0.99   0.00       -1.07        -0.91\n",
            "                                    independent  coeff  ...  conf_lower  conf_higher\n",
            "Intercept                  total_surplus_orders  -3.55  ...       -3.92        -3.17\n",
            "fp_zip_cust_loyalty_score  total_surplus_orders   0.04  ...        0.04         0.05\n",
            "\n",
            "[2 rows x 5 columns]\n"
          ],
          "name": "stdout"
        }
      ]
    }
  ]
}