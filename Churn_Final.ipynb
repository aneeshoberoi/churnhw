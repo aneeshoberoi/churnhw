{
  "nbformat": 4,
  "nbformat_minor": 0,
  "metadata": {
    "colab": {
      "name": "Churn_Final.ipynb",
      "provenance": [],
      "collapsed_sections": [],
      "authorship_tag": "ABX9TyOkz/TM9ZThpZ2845lvGdxm",
      "include_colab_link": true
    },
    "kernelspec": {
      "name": "python3",
      "display_name": "Python 3"
    }
  },
  "cells": [
    {
      "cell_type": "markdown",
      "metadata": {
        "id": "view-in-github",
        "colab_type": "text"
      },
      "source": [
        "<a href=\"https://colab.research.google.com/github/aneeshoberoi/churnhw/blob/main/Churn_Final.ipynb\" target=\"_parent\"><img src=\"https://colab.research.google.com/assets/colab-badge.svg\" alt=\"Open In Colab\"/></a>"
      ]
    },
    {
      "cell_type": "code",
      "metadata": {
        "id": "fAemffSOhqZu",
        "outputId": "1a2b34bb-71e2-41bb-c40b-297babeee6ba",
        "colab": {
          "base_uri": "https://localhost:8080/"
        }
      },
      "source": [
        "import pandas as pd\n",
        "import numpy as np\n",
        "from collections import OrderedDict\n",
        "from scipy.stats import chi2_contingency\n",
        "from scipy.stats import chi2\n",
        "import statsmodels.api as stapi\n",
        "import statsmodels.regression.linear_model as sm\n",
        "from IPython.display import HTML\n",
        "import matplotlib.pyplot as plt\n",
        "import seaborn as sns\n",
        "from sklearn.preprocessing import StandardScaler\n",
        "import pandas as pd\n",
        "\n",
        "\n",
        "pd.set_option('display.max_rows', 500)\n",
        "pd.set_option('display.max_columns', 500)\n",
        "pd.set_option('display.width', 1000)\n",
        "\n",
        "#pd.set_option('display.float_format', lambda x: '%.0f' % x)\n",
        "pd.options.display.float_format = \"{:,.2f}\".format\n",
        "pd.set_option(\"display.precision\",2)"
      ],
      "execution_count": 1,
      "outputs": [
        {
          "output_type": "stream",
          "text": [
            "/usr/local/lib/python3.6/dist-packages/statsmodels/tools/_testing.py:19: FutureWarning: pandas.util.testing is deprecated. Use the functions in the public API at pandas.testing instead.\n",
            "  import pandas.util.testing as tm\n"
          ],
          "name": "stderr"
        }
      ]
    },
    {
      "cell_type": "code",
      "metadata": {
        "id": "ZMwOrs5Th067"
      },
      "source": [
        "source='https://raw.githubusercontent.com/aneeshoberoi/churnhw/main/churn_homework%20-%20homework_orders.csv?token=AP7KM2WWRAAEJ3UOTQRIXXK7TSHIO'\n",
        "raw=pd.read_csv(source, sep=\",\")"
      ],
      "execution_count": 2,
      "outputs": []
    },
    {
      "cell_type": "code",
      "metadata": {
        "id": "hNQzJuICh-jI"
      },
      "source": [
        "#raw=df.head(100)\n",
        "#raw.set_index('order_id')"
      ],
      "execution_count": 3,
      "outputs": []
    },
    {
      "cell_type": "code",
      "metadata": {
        "id": "t2KE-bLU7jYX"
      },
      "source": [
        "# assigning to working copy for indicator variables"
      ],
      "execution_count": 4,
      "outputs": []
    },
    {
      "cell_type": "markdown",
      "metadata": {
        "id": "tj8tz5U_7hOW"
      },
      "source": [
        "# **Basic Statistics**"
      ]
    },
    {
      "cell_type": "code",
      "metadata": {
        "id": "KUH5A7-o7gb6",
        "outputId": "e973e194-8156-4bd1-e0db-a5ce79e18d11",
        "colab": {
          "base_uri": "https://localhost:8080/"
        }
      },
      "source": [
        "raw.customer.nunique()"
      ],
      "execution_count": 5,
      "outputs": [
        {
          "output_type": "execute_result",
          "data": {
            "text/plain": [
              "10316"
            ]
          },
          "metadata": {
            "tags": []
          },
          "execution_count": 5
        }
      ]
    },
    {
      "cell_type": "code",
      "metadata": {
        "id": "x1klgOTK8jnu",
        "outputId": "1f3d285f-e6c9-46bd-e507-4b822c501a89",
        "colab": {
          "base_uri": "https://localhost:8080/"
        }
      },
      "source": [
        "raw.restaurant_total.sum()"
      ],
      "execution_count": 6,
      "outputs": [
        {
          "output_type": "execute_result",
          "data": {
            "text/plain": [
              "1372249.61"
            ]
          },
          "metadata": {
            "tags": []
          },
          "execution_count": 6
        }
      ]
    },
    {
      "cell_type": "code",
      "metadata": {
        "id": "yiqURoiF8pSv",
        "outputId": "1f022125-8b7f-4a5f-bb56-36b14f79c5fa",
        "colab": {
          "base_uri": "https://localhost:8080/"
        }
      },
      "source": [
        "raw.order_id.nunique()"
      ],
      "execution_count": 7,
      "outputs": [
        {
          "output_type": "execute_result",
          "data": {
            "text/plain": [
              "42198"
            ]
          },
          "metadata": {
            "tags": []
          },
          "execution_count": 7
        }
      ]
    },
    {
      "cell_type": "code",
      "metadata": {
        "id": "_XFXqF-jAl6q",
        "outputId": "8581d865-c086-4b37-d326-956e29b7c860",
        "colab": {
          "base_uri": "https://localhost:8080/"
        }
      },
      "source": [
        "raw.customer.isna().sum()"
      ],
      "execution_count": 8,
      "outputs": [
        {
          "output_type": "execute_result",
          "data": {
            "text/plain": [
              "5"
            ]
          },
          "metadata": {
            "tags": []
          },
          "execution_count": 8
        }
      ]
    },
    {
      "cell_type": "markdown",
      "metadata": {
        "id": "m4ryxWsNiFYB"
      },
      "source": [
        "# ***Data Cleaning***"
      ]
    },
    {
      "cell_type": "code",
      "metadata": {
        "id": "Y0pmc4Ob82vv"
      },
      "source": [
        "# assigning to working copy for indicator variables\n",
        "test=raw"
      ],
      "execution_count": 9,
      "outputs": []
    },
    {
      "cell_type": "code",
      "metadata": {
        "id": "NL7yafaDiEGE"
      },
      "source": [
        "# Remove zero dollar txns\n",
        "test=test[test['restaurant_total']>0]"
      ],
      "execution_count": 10,
      "outputs": []
    },
    {
      "cell_type": "code",
      "metadata": {
        "id": "QvDNpmtKA2jQ"
      },
      "source": [
        "# Remove rows with customer number = na\n",
        "test=test.dropna(subset=['customer'])"
      ],
      "execution_count": 11,
      "outputs": []
    },
    {
      "cell_type": "code",
      "metadata": {
        "id": "3y6SJBNodhEJ",
        "outputId": "749b288e-093a-4df0-a527-20e87bc73b36",
        "colab": {
          "base_uri": "https://localhost:8080/"
        }
      },
      "source": [
        "test.customer.nunique()"
      ],
      "execution_count": 12,
      "outputs": [
        {
          "output_type": "execute_result",
          "data": {
            "text/plain": [
              "10316"
            ]
          },
          "metadata": {
            "tags": []
          },
          "execution_count": 12
        }
      ]
    },
    {
      "cell_type": "code",
      "metadata": {
        "id": "yjZGqG33dm0Y",
        "outputId": "1bc3c1d5-d81c-4457-d23f-94a9ddc6d0e8",
        "colab": {
          "base_uri": "https://localhost:8080/"
        }
      },
      "source": [
        "test.order_id.nunique()"
      ],
      "execution_count": 13,
      "outputs": [
        {
          "output_type": "execute_result",
          "data": {
            "text/plain": [
              "41906"
            ]
          },
          "metadata": {
            "tags": []
          },
          "execution_count": 13
        }
      ]
    },
    {
      "cell_type": "code",
      "metadata": {
        "id": "kO_WXi3IdpbW",
        "outputId": "9233b783-212a-46f8-a900-a756061e1954",
        "colab": {
          "base_uri": "https://localhost:8080/"
        }
      },
      "source": [
        "test.restaurant_total.sum()"
      ],
      "execution_count": 14,
      "outputs": [
        {
          "output_type": "execute_result",
          "data": {
            "text/plain": [
              "1372113.6300000001"
            ]
          },
          "metadata": {
            "tags": []
          },
          "execution_count": 14
        }
      ]
    },
    {
      "cell_type": "code",
      "metadata": {
        "id": "hzTowRdfiPzN"
      },
      "source": [
        "# Variable Conversion\n",
        "test['date_purchased']=pd.to_datetime(test['date_purchased'])\n",
        "test['dateonly_purchased']=test['date_purchased'].dt.date\n",
        "test['houronly_purchased']=test['date_purchased'].dt.hour\n",
        "test['datehour_purchased']=test['dateonly_purchased'].astype(str) + \"-\" + test['houronly_purchased'].astype(str)\n",
        "\n",
        "test['restaurant_total']=test['restaurant_total'].astype(float)"
      ],
      "execution_count": 15,
      "outputs": []
    },
    {
      "cell_type": "code",
      "metadata": {
        "id": "yrravVgeiTNP"
      },
      "source": [
        "# Removing Duplicate Txns - i.e. those made within the same hour at the same shop by a given customer. Keeping last txn only.\n",
        "test=test.drop_duplicates(subset=['customer', 'shops_id', 'datehour_purchased'], keep='last')\n"
      ],
      "execution_count": 16,
      "outputs": []
    },
    {
      "cell_type": "code",
      "metadata": {
        "id": "Tks2UD91dvPu",
        "outputId": "32003ca1-cec2-41bb-c8a1-746f05877d15",
        "colab": {
          "base_uri": "https://localhost:8080/"
        }
      },
      "source": [
        "test.customer.nunique()"
      ],
      "execution_count": 17,
      "outputs": [
        {
          "output_type": "execute_result",
          "data": {
            "text/plain": [
              "10316"
            ]
          },
          "metadata": {
            "tags": []
          },
          "execution_count": 17
        }
      ]
    },
    {
      "cell_type": "code",
      "metadata": {
        "id": "HXLvU0e1dvP5",
        "outputId": "0d0d6072-98e8-4e10-91b4-82d6df1aa378",
        "colab": {
          "base_uri": "https://localhost:8080/"
        }
      },
      "source": [
        "test.order_id.nunique()"
      ],
      "execution_count": 18,
      "outputs": [
        {
          "output_type": "execute_result",
          "data": {
            "text/plain": [
              "39880"
            ]
          },
          "metadata": {
            "tags": []
          },
          "execution_count": 18
        }
      ]
    },
    {
      "cell_type": "code",
      "metadata": {
        "id": "TLpmoO_ndvQA",
        "outputId": "4ada1895-a305-4d13-d08c-53e748f189d9",
        "colab": {
          "base_uri": "https://localhost:8080/"
        }
      },
      "source": [
        "test.restaurant_total.sum()"
      ],
      "execution_count": 19,
      "outputs": [
        {
          "output_type": "execute_result",
          "data": {
            "text/plain": [
              "1301395.08"
            ]
          },
          "metadata": {
            "tags": []
          },
          "execution_count": 19
        }
      ]
    },
    {
      "cell_type": "markdown",
      "metadata": {
        "id": "uy8xsCRciWOY"
      },
      "source": [
        "# ***Data Prep - Indicators***"
      ]
    },
    {
      "cell_type": "code",
      "metadata": {
        "id": "BuJ7YqJqihuQ"
      },
      "source": [
        " #Enumerating Purchases\n",
        " test.sort_values(by=['customer','date_purchased'])\n",
        "\n",
        "test = test.assign(order_enum=test.groupby('customer')['datehour_purchased'].cumcount()+1)\n",
        "test['total_order']=test.groupby('customer')['order_id'].transform('count')\n",
        "test['total_sales']=test.groupby('customer')['restaurant_total'].transform('sum')"
      ],
      "execution_count": 20,
      "outputs": []
    },
    {
      "cell_type": "code",
      "metadata": {
        "id": "MKxzGjgIinDI"
      },
      "source": [
        "test['bin_orders']=np.where(test['total_order']<7,test['order_enum'],7)"
      ],
      "execution_count": 21,
      "outputs": []
    },
    {
      "cell_type": "code",
      "metadata": {
        "id": "5cdHcKtuipp7"
      },
      "source": [
        "# Calculating Journey Data\n",
        "\n",
        "test['time_between_purch']=test.groupby(['customer'])['date_purchased'].diff()\n",
        "test['spend_growth']=test.groupby(['customer'])['restaurant_total'].diff()\n",
        "test['date_last_purch']=test.groupby(['customer'])['date_purchased'].transform('max')\n"
      ],
      "execution_count": 22,
      "outputs": []
    },
    {
      "cell_type": "markdown",
      "metadata": {
        "id": "ikVuShFVj_D-"
      },
      "source": [
        "# Preparing Zip-Cust Level Variables\n",
        "\n",
        "\n"
      ]
    },
    {
      "cell_type": "code",
      "metadata": {
        "id": "AoSjGna59bd5"
      },
      "source": [
        "#Assigning raw dataset to working copy for this section\n",
        "shopszip=test[['postal_code', 'shops_id','customer','total_order']].set_index('postal_code')\n",
        "shopszip=shopszip.drop_duplicates(subset=['customer', 'shops_id'], keep='last')"
      ],
      "execution_count": 23,
      "outputs": []
    },
    {
      "cell_type": "code",
      "metadata": {
        "id": "tq7HeqsB-5sw"
      },
      "source": [
        "# calculating shops and customers per postal code\n",
        "shopszip['shops_per_zip']=shopszip.groupby('postal_code').shops_id.nunique()\n",
        "shopszip['cust_per_zip']=shopszip.groupby('postal_code').customer.nunique()\n",
        "shopszip['shops_per_cust_per_zip']=shopszip['shops_per_zip']/shopszip['cust_per_zip']"
      ],
      "execution_count": 24,
      "outputs": []
    },
    {
      "cell_type": "code",
      "metadata": {
        "id": "tHC_9PvnH476"
      },
      "source": [
        "# Of customers placing orders in a given zip, what # and  % have placed more than 2 orders in total?\n",
        "temp=shopszip[shopszip['total_order']>1]\n",
        "shopszip['zip_cust_2_more']=temp.groupby('postal_code')['customer'].count()\n",
        "shopszip['zip_pct_cust_2_more']=shopszip['zip_cust_2_more']*100/shopszip['cust_per_zip']"
      ],
      "execution_count": 25,
      "outputs": []
    },
    {
      "cell_type": "markdown",
      "metadata": {
        "id": "cRCJ5D8-JFr5"
      },
      "source": [
        "# ***Preparing Shop-Cust Level Variables***"
      ]
    },
    {
      "cell_type": "code",
      "metadata": {
        "id": "bkuRZlSeElYO"
      },
      "source": [
        "#Total customers served by each shop"
      ],
      "execution_count": 26,
      "outputs": []
    },
    {
      "cell_type": "code",
      "metadata": {
        "id": "A17_m8reGnT5"
      },
      "source": [
        "shopscust=shopszip.set_index('shops_id')\n",
        "shopscust=shopscust.drop(columns=['shops_per_zip','cust_per_zip','zip_cust_2_more', 'zip_pct_cust_2_more','shops_per_cust_per_zip'] )\n",
        "\n",
        "# How many customers have placed at least one order at a given shop?\n",
        "\n",
        "shopscust['cust_per_shop']=shopscust.groupby('shops_id').customer.nunique()"
      ],
      "execution_count": 27,
      "outputs": []
    },
    {
      "cell_type": "code",
      "metadata": {
        "id": "Hwlvj3EaAQsk"
      },
      "source": [
        "# Of customers placing orders at a given shop, what # and % have placed > 2 total orders/\n",
        "t=shopscust[shopscust['total_order']>1]\n",
        "shopscust['shop_cust_2_more']=t.groupby('shops_id')['customer'].count()\n",
        "shopscust['shop_pct_cust_2_more']=shopscust['shop_cust_2_more']*100/shopscust['cust_per_shop']"
      ],
      "execution_count": 28,
      "outputs": []
    },
    {
      "cell_type": "markdown",
      "metadata": {
        "id": "OhvQb7nyhUtq"
      },
      "source": [
        "# ***Preparing Shop-Sales Level Variables***"
      ]
    },
    {
      "cell_type": "code",
      "metadata": {
        "id": "j0mDPOQCZyJR"
      },
      "source": [
        "shopsales=test[['shops_id','customer','order_id','restaurant_total']] "
      ],
      "execution_count": 29,
      "outputs": []
    },
    {
      "cell_type": "code",
      "metadata": {
        "id": "XmuDz2B0ad_8",
        "outputId": "12063cd5-af1c-4bcd-d707-4b4f33222a9c",
        "colab": {
          "base_uri": "https://localhost:8080/"
        }
      },
      "source": [
        "shopsales['total_shop_sales']=shopsales.groupby('shops_id').restaurant_total.transform('sum')\n",
        "shopsales['total_shop_orders']=shopsales.groupby('shops_id').order_id.transform('count')\n",
        "shopsales['total_shop_cust_base']=shopsales.groupby('shops_id').customer.transform('nunique')"
      ],
      "execution_count": 30,
      "outputs": [
        {
          "output_type": "stream",
          "text": [
            "/usr/local/lib/python3.6/dist-packages/ipykernel_launcher.py:1: SettingWithCopyWarning: \n",
            "A value is trying to be set on a copy of a slice from a DataFrame.\n",
            "Try using .loc[row_indexer,col_indexer] = value instead\n",
            "\n",
            "See the caveats in the documentation: https://pandas.pydata.org/pandas-docs/stable/user_guide/indexing.html#returning-a-view-versus-a-copy\n",
            "  \"\"\"Entry point for launching an IPython kernel.\n",
            "/usr/local/lib/python3.6/dist-packages/ipykernel_launcher.py:2: SettingWithCopyWarning: \n",
            "A value is trying to be set on a copy of a slice from a DataFrame.\n",
            "Try using .loc[row_indexer,col_indexer] = value instead\n",
            "\n",
            "See the caveats in the documentation: https://pandas.pydata.org/pandas-docs/stable/user_guide/indexing.html#returning-a-view-versus-a-copy\n",
            "  \n",
            "/usr/local/lib/python3.6/dist-packages/ipykernel_launcher.py:3: SettingWithCopyWarning: \n",
            "A value is trying to be set on a copy of a slice from a DataFrame.\n",
            "Try using .loc[row_indexer,col_indexer] = value instead\n",
            "\n",
            "See the caveats in the documentation: https://pandas.pydata.org/pandas-docs/stable/user_guide/indexing.html#returning-a-view-versus-a-copy\n",
            "  This is separate from the ipykernel package so we can avoid doing imports until\n"
          ],
          "name": "stderr"
        }
      ]
    },
    {
      "cell_type": "code",
      "metadata": {
        "id": "LEPFMEPoapfX"
      },
      "source": [
        "shopsales=shopsales.drop_duplicates(subset=['shops_id'], keep='last').drop(columns=['customer','order_id','restaurant_total'])"
      ],
      "execution_count": 31,
      "outputs": []
    },
    {
      "cell_type": "code",
      "metadata": {
        "id": "wDNrdFJRbbWR"
      },
      "source": [
        "shopsales['sales_qunitiles']=pd.qcut(shopsales['total_shop_sales'],5,labels=False)\n",
        "shopsales['order_qunitiles']=pd.qcut(shopsales['total_shop_orders'].rank(method='first'),5,labels=False)\n",
        "\n",
        "#pd.qcut(df['a'].rank(method='first'), 3, labels=False)"
      ],
      "execution_count": 32,
      "outputs": []
    },
    {
      "cell_type": "markdown",
      "metadata": {
        "id": "EYXE3jdHQ73S"
      },
      "source": [
        "# ***Combining to create final analytical dataset***"
      ]
    },
    {
      "cell_type": "code",
      "metadata": {
        "id": "ggdWasSMSrz5"
      },
      "source": [
        "shopscust_final=shopscust.reset_index()\n",
        "shopscust_final=shopscust_final.drop_duplicates(subset=['shops_id'], keep='last').drop(columns=['customer','total_order']).set_index('shops_id')\n"
      ],
      "execution_count": 33,
      "outputs": []
    },
    {
      "cell_type": "code",
      "metadata": {
        "id": "K73kj8gSYghJ",
        "outputId": "c78ac222-bc1a-477c-ad37-5aba1b22e705",
        "colab": {
          "base_uri": "https://localhost:8080/"
        }
      },
      "source": [
        "shopscust_final.info()"
      ],
      "execution_count": 34,
      "outputs": [
        {
          "output_type": "stream",
          "text": [
            "<class 'pandas.core.frame.DataFrame'>\n",
            "Int64Index: 6058 entries, 24807 to 18948\n",
            "Data columns (total 3 columns):\n",
            " #   Column                Non-Null Count  Dtype  \n",
            "---  ------                --------------  -----  \n",
            " 0   cust_per_shop         6058 non-null   int64  \n",
            " 1   shop_cust_2_more      5213 non-null   float64\n",
            " 2   shop_pct_cust_2_more  5213 non-null   float64\n",
            "dtypes: float64(2), int64(1)\n",
            "memory usage: 189.3 KB\n"
          ],
          "name": "stdout"
        }
      ]
    },
    {
      "cell_type": "code",
      "metadata": {
        "id": "Riavvz_TYD-l"
      },
      "source": [
        "# Merging shopscust with original dataset\n",
        "\n",
        "test2=test.merge(shopscust_final,left_on='shops_id',right_on='shops_id') \n"
      ],
      "execution_count": 35,
      "outputs": []
    },
    {
      "cell_type": "code",
      "metadata": {
        "id": "R01hK-_iSajp",
        "outputId": "4270f45a-0670-439e-fcbc-95ed197400f0",
        "colab": {
          "base_uri": "https://localhost:8080/"
        }
      },
      "source": [
        "# Merging shopszip with original dataset\n",
        "shopszip_final=shopszip.reset_index()\n",
        "shopszip_final=shopszip_final.drop_duplicates(subset=['postal_code'], keep='last').drop(columns=['customer','total_order']).set_index('shops_id')\n",
        "shopszip_final.info()\n",
        "#shopscustzip_final=shopscustzip.drop(columns=['customer','total_order'])"
      ],
      "execution_count": 36,
      "outputs": [
        {
          "output_type": "stream",
          "text": [
            "<class 'pandas.core.frame.DataFrame'>\n",
            "Int64Index: 3397 entries, 35952 to 18948\n",
            "Data columns (total 6 columns):\n",
            " #   Column                  Non-Null Count  Dtype  \n",
            "---  ------                  --------------  -----  \n",
            " 0   postal_code             3397 non-null   int64  \n",
            " 1   shops_per_zip           3397 non-null   int64  \n",
            " 2   cust_per_zip            3397 non-null   int64  \n",
            " 3   shops_per_cust_per_zip  3397 non-null   float64\n",
            " 4   zip_cust_2_more         3005 non-null   float64\n",
            " 5   zip_pct_cust_2_more     3005 non-null   float64\n",
            "dtypes: float64(3), int64(3)\n",
            "memory usage: 185.8 KB\n"
          ],
          "name": "stdout"
        }
      ]
    },
    {
      "cell_type": "code",
      "metadata": {
        "id": "zlzLX4mgZL_E"
      },
      "source": [
        "shopszip_final.set_index('postal_code')\n",
        "test3=test2.merge(shopszip_final,left_on='postal_code',right_on='postal_code') "
      ],
      "execution_count": 37,
      "outputs": []
    },
    {
      "cell_type": "code",
      "metadata": {
        "id": "ji8s8Vu1ctF7"
      },
      "source": [
        "# Merging shopsales with original dataset\n",
        "test4=test3.merge(shopsales,left_on='shops_id',right_on='shops_id')"
      ],
      "execution_count": 38,
      "outputs": []
    },
    {
      "cell_type": "code",
      "metadata": {
        "id": "DwJHC_LnXj8Y"
      },
      "source": [
        "## add more data operation statements here if needed"
      ],
      "execution_count": 39,
      "outputs": []
    },
    {
      "cell_type": "markdown",
      "metadata": {
        "id": "9aDyIE0vyQJI"
      },
      "source": [
        "# ***Customer Level Dataset Creation***"
      ]
    },
    {
      "cell_type": "code",
      "metadata": {
        "id": "tXz7kNFi-x-k",
        "outputId": "7e6322fc-6a24-4645-996f-2ed2e7adf061",
        "colab": {
          "base_uri": "https://localhost:8080/"
        }
      },
      "source": [
        "test4.customer.nunique()"
      ],
      "execution_count": 40,
      "outputs": [
        {
          "output_type": "execute_result",
          "data": {
            "text/plain": [
              "10316"
            ]
          },
          "metadata": {
            "tags": []
          },
          "execution_count": 40
        }
      ]
    },
    {
      "cell_type": "code",
      "metadata": {
        "id": "5dGoNkiZyifV"
      },
      "source": [
        "# First Purchase Characteristics\n",
        "\n",
        "fp=test4[test4['order_enum']==1]"
      ],
      "execution_count": 41,
      "outputs": []
    },
    {
      "cell_type": "code",
      "metadata": {
        "id": "Hss1azAxI-bZ"
      },
      "source": [
        "fp_final=fp[['customer','date_purchased','date_last_purch','source','promo_value','shops_id','postal_code','total_order','total_sales','sales_qunitiles','order_qunitiles','zip_pct_cust_2_more','shop_pct_cust_2_more','shops_per_zip', 'shops_per_cust_per_zip']].rename(columns={'date_purchased':'fp_date','date_last_purch': 'lp_date','source':'fp_source','promo_value':'fp_promo_val','shops_id':'fp_shops_id','postal_code':'fp_postal_code','sales_quintiles':'fp_shop_sales_quintile','order_quintiles':'fp_shop_order_qunitile','zip_pct_cust_2_more':'fp_zip_cust_loyalty_score','shop_pct_cust_2_more':'fp_shop_cust_loyalty_score'})\n",
        "\n",
        "fp_final['customer_sales_centiles']=pd.qcut(fp_final['total_sales'].rank(method='first'),100,labels=False)\n",
        "fp_final['customer_order_centiles']=pd.qcut(fp_final['total_order'].rank(method='first'),100,labels=False)"
      ],
      "execution_count": 42,
      "outputs": []
    },
    {
      "cell_type": "code",
      "metadata": {
        "id": "B5843BmWyq7B"
      },
      "source": [
        "fp_final['end_date']=test['date_purchased'].max()\n",
        "fp_final['time_since_fp']=((fp_final['end_date']-fp_final['fp_date']).dt.days.astype('int16'))\n",
        "fp_final['time_since_lp']=((fp_final['end_date']-fp_final['lp_date']).dt.days.astype('int16'))\n",
        "fp_final['total_order_benchmark']=(fp_final['time_since_fp']*0.5/30).round(0) #6 pizza per year = 0.5 pizza per 30 days\n",
        "fp_final['total_surplus_orders']=fp_final['total_order']-fp_final['total_order_benchmark']\n",
        "\n",
        "# make customer total sales and total order centiles, total order benchmark, surplus, shops per zip H/M/L\n",
        "\n"
      ],
      "execution_count": 43,
      "outputs": []
    },
    {
      "cell_type": "code",
      "metadata": {
        "id": "AKzzvEco4Shr"
      },
      "source": [
        "#Subsequent Purchase -- Value up to 6th purchase\n",
        "\n",
        "subs_purchase = test4[(test4['order_enum'] <7)]"
      ],
      "execution_count": 44,
      "outputs": []
    },
    {
      "cell_type": "code",
      "metadata": {
        "id": "G6wASuxM9tGW",
        "outputId": "e699da0b-a4df-4e80-9f62-7df57e966783",
        "colab": {
          "base_uri": "https://localhost:8080/",
          "height": 410
        }
      },
      "source": [
        "subs_purchase_value_final=subs_purchase.pivot(index='customer',columns='order_enum', values='restaurant_total').reset_index().add_prefix('total_spend_')\n",
        "subs_purchase_value_final.rename(columns={'total_spend_customer':'customer'}).fillna(0)\n",
        "\n",
        "#subs_purchase_final.drop(columns=['order_enum'])"
      ],
      "execution_count": 45,
      "outputs": [
        {
          "output_type": "execute_result",
          "data": {
            "text/html": [
              "<div>\n",
              "<style scoped>\n",
              "    .dataframe tbody tr th:only-of-type {\n",
              "        vertical-align: middle;\n",
              "    }\n",
              "\n",
              "    .dataframe tbody tr th {\n",
              "        vertical-align: top;\n",
              "    }\n",
              "\n",
              "    .dataframe thead th {\n",
              "        text-align: right;\n",
              "    }\n",
              "</style>\n",
              "<table border=\"1\" class=\"dataframe\">\n",
              "  <thead>\n",
              "    <tr style=\"text-align: right;\">\n",
              "      <th>order_enum</th>\n",
              "      <th>customer</th>\n",
              "      <th>total_spend_1</th>\n",
              "      <th>total_spend_2</th>\n",
              "      <th>total_spend_3</th>\n",
              "      <th>total_spend_4</th>\n",
              "      <th>total_spend_5</th>\n",
              "      <th>total_spend_6</th>\n",
              "    </tr>\n",
              "  </thead>\n",
              "  <tbody>\n",
              "    <tr>\n",
              "      <th>0</th>\n",
              "      <td>1,920,771,353.00</td>\n",
              "      <td>46.42</td>\n",
              "      <td>0.00</td>\n",
              "      <td>0.00</td>\n",
              "      <td>0.00</td>\n",
              "      <td>0.00</td>\n",
              "      <td>0.00</td>\n",
              "    </tr>\n",
              "    <tr>\n",
              "      <th>1</th>\n",
              "      <td>4,042,653,893.00</td>\n",
              "      <td>30.51</td>\n",
              "      <td>18.36</td>\n",
              "      <td>25.34</td>\n",
              "      <td>15.51</td>\n",
              "      <td>0.00</td>\n",
              "      <td>0.00</td>\n",
              "    </tr>\n",
              "    <tr>\n",
              "      <th>2</th>\n",
              "      <td>4,555,796,885.00</td>\n",
              "      <td>29.78</td>\n",
              "      <td>0.00</td>\n",
              "      <td>0.00</td>\n",
              "      <td>0.00</td>\n",
              "      <td>0.00</td>\n",
              "      <td>0.00</td>\n",
              "    </tr>\n",
              "    <tr>\n",
              "      <th>3</th>\n",
              "      <td>6,033,333,473.00</td>\n",
              "      <td>12.24</td>\n",
              "      <td>0.00</td>\n",
              "      <td>0.00</td>\n",
              "      <td>0.00</td>\n",
              "      <td>0.00</td>\n",
              "      <td>0.00</td>\n",
              "    </tr>\n",
              "    <tr>\n",
              "      <th>4</th>\n",
              "      <td>6,036,185,756.00</td>\n",
              "      <td>44.75</td>\n",
              "      <td>0.00</td>\n",
              "      <td>0.00</td>\n",
              "      <td>0.00</td>\n",
              "      <td>0.00</td>\n",
              "      <td>0.00</td>\n",
              "    </tr>\n",
              "    <tr>\n",
              "      <th>...</th>\n",
              "      <td>...</td>\n",
              "      <td>...</td>\n",
              "      <td>...</td>\n",
              "      <td>...</td>\n",
              "      <td>...</td>\n",
              "      <td>...</td>\n",
              "      <td>...</td>\n",
              "    </tr>\n",
              "    <tr>\n",
              "      <th>10311</th>\n",
              "      <td>51,227,013,587.00</td>\n",
              "      <td>35.70</td>\n",
              "      <td>35.79</td>\n",
              "      <td>42.25</td>\n",
              "      <td>54.54</td>\n",
              "      <td>0.00</td>\n",
              "      <td>0.00</td>\n",
              "    </tr>\n",
              "    <tr>\n",
              "      <th>10312</th>\n",
              "      <td>57,523,677,443.00</td>\n",
              "      <td>12.39</td>\n",
              "      <td>22.29</td>\n",
              "      <td>23.28</td>\n",
              "      <td>20.64</td>\n",
              "      <td>0.00</td>\n",
              "      <td>0.00</td>\n",
              "    </tr>\n",
              "    <tr>\n",
              "      <th>10313</th>\n",
              "      <td>120,495,000,000.00</td>\n",
              "      <td>5.82</td>\n",
              "      <td>0.00</td>\n",
              "      <td>0.00</td>\n",
              "      <td>0.00</td>\n",
              "      <td>0.00</td>\n",
              "      <td>0.00</td>\n",
              "    </tr>\n",
              "    <tr>\n",
              "      <th>10314</th>\n",
              "      <td>217,278,000,000.00</td>\n",
              "      <td>16.84</td>\n",
              "      <td>0.00</td>\n",
              "      <td>0.00</td>\n",
              "      <td>0.00</td>\n",
              "      <td>0.00</td>\n",
              "      <td>0.00</td>\n",
              "    </tr>\n",
              "    <tr>\n",
              "      <th>10315</th>\n",
              "      <td>21,118,800,000,000.00</td>\n",
              "      <td>27.17</td>\n",
              "      <td>0.00</td>\n",
              "      <td>0.00</td>\n",
              "      <td>0.00</td>\n",
              "      <td>0.00</td>\n",
              "      <td>0.00</td>\n",
              "    </tr>\n",
              "  </tbody>\n",
              "</table>\n",
              "<p>10316 rows × 7 columns</p>\n",
              "</div>"
            ],
            "text/plain": [
              "order_enum              customer  total_spend_1  total_spend_2  total_spend_3  total_spend_4  total_spend_5  total_spend_6\n",
              "0               1,920,771,353.00          46.42           0.00           0.00           0.00           0.00           0.00\n",
              "1               4,042,653,893.00          30.51          18.36          25.34          15.51           0.00           0.00\n",
              "2               4,555,796,885.00          29.78           0.00           0.00           0.00           0.00           0.00\n",
              "3               6,033,333,473.00          12.24           0.00           0.00           0.00           0.00           0.00\n",
              "4               6,036,185,756.00          44.75           0.00           0.00           0.00           0.00           0.00\n",
              "...                          ...            ...            ...            ...            ...            ...            ...\n",
              "10311          51,227,013,587.00          35.70          35.79          42.25          54.54           0.00           0.00\n",
              "10312          57,523,677,443.00          12.39          22.29          23.28          20.64           0.00           0.00\n",
              "10313         120,495,000,000.00           5.82           0.00           0.00           0.00           0.00           0.00\n",
              "10314         217,278,000,000.00          16.84           0.00           0.00           0.00           0.00           0.00\n",
              "10315      21,118,800,000,000.00          27.17           0.00           0.00           0.00           0.00           0.00\n",
              "\n",
              "[10316 rows x 7 columns]"
            ]
          },
          "metadata": {
            "tags": []
          },
          "execution_count": 45
        }
      ]
    },
    {
      "cell_type": "code",
      "metadata": {
        "id": "FskCX6qXKo7D"
      },
      "source": [
        "subs_purchase_value_final['spend_growth_2']=(subs_purchase_value_final['total_spend_2']-subs_purchase_value_final['total_spend_1'])*100/subs_purchase_value_final['total_spend_1']\n",
        "subs_purchase_value_final['spend_growth_3']=(subs_purchase_value_final['total_spend_3']-subs_purchase_value_final['total_spend_2'])*100/subs_purchase_value_final['total_spend_2']\n",
        "subs_purchase_value_final['spend_growth_4']=(subs_purchase_value_final['total_spend_4']-subs_purchase_value_final['total_spend_3'])*100/subs_purchase_value_final['total_spend_3']\n",
        "subs_purchase_value_final['spend_growth_5']=(subs_purchase_value_final['total_spend_5']-subs_purchase_value_final['total_spend_4'])*100/subs_purchase_value_final['total_spend_4']\n",
        "subs_purchase_value_final['spend_growth_6']=(subs_purchase_value_final['total_spend_6']-subs_purchase_value_final['total_spend_5'])*100/subs_purchase_value_final['total_spend_5']"
      ],
      "execution_count": 46,
      "outputs": []
    },
    {
      "cell_type": "code",
      "metadata": {
        "id": "t3zs8hltDMwg",
        "outputId": "616e4075-42ac-4203-858a-816229928b65",
        "colab": {
          "base_uri": "https://localhost:8080/",
          "height": 410
        }
      },
      "source": [
        "#Subsequent Purchase -- Time up to 6th purchase\n",
        "subs_purchase_time_final=subs_purchase.pivot(index='customer',columns='order_enum', values='time_between_purch').reset_index().add_prefix('time_to_')\n",
        "\n",
        "# Converting time between purchases to days\n",
        "subs_purchase_time_final['time_to_2']=subs_purchase_time_final['time_to_2'].dt.days\n",
        "subs_purchase_time_final['time_to_3']=subs_purchase_time_final['time_to_3'].dt.days\n",
        "subs_purchase_time_final['time_to_4']=subs_purchase_time_final['time_to_4'].dt.days\n",
        "subs_purchase_time_final['time_to_5']=subs_purchase_time_final['time_to_5'].dt.days\n",
        "subs_purchase_time_final['time_to_6']=subs_purchase_time_final['time_to_6'].dt.days\n",
        "\n",
        "subs_purchase_time_final.rename(columns={'time_to_customer':'customer'}).drop(columns=['time_to_1'])"
      ],
      "execution_count": 47,
      "outputs": [
        {
          "output_type": "execute_result",
          "data": {
            "text/html": [
              "<div>\n",
              "<style scoped>\n",
              "    .dataframe tbody tr th:only-of-type {\n",
              "        vertical-align: middle;\n",
              "    }\n",
              "\n",
              "    .dataframe tbody tr th {\n",
              "        vertical-align: top;\n",
              "    }\n",
              "\n",
              "    .dataframe thead th {\n",
              "        text-align: right;\n",
              "    }\n",
              "</style>\n",
              "<table border=\"1\" class=\"dataframe\">\n",
              "  <thead>\n",
              "    <tr style=\"text-align: right;\">\n",
              "      <th>order_enum</th>\n",
              "      <th>customer</th>\n",
              "      <th>time_to_2</th>\n",
              "      <th>time_to_3</th>\n",
              "      <th>time_to_4</th>\n",
              "      <th>time_to_5</th>\n",
              "      <th>time_to_6</th>\n",
              "    </tr>\n",
              "  </thead>\n",
              "  <tbody>\n",
              "    <tr>\n",
              "      <th>0</th>\n",
              "      <td>1,920,771,353.00</td>\n",
              "      <td>nan</td>\n",
              "      <td>nan</td>\n",
              "      <td>nan</td>\n",
              "      <td>nan</td>\n",
              "      <td>nan</td>\n",
              "    </tr>\n",
              "    <tr>\n",
              "      <th>1</th>\n",
              "      <td>4,042,653,893.00</td>\n",
              "      <td>36.00</td>\n",
              "      <td>11.00</td>\n",
              "      <td>2.00</td>\n",
              "      <td>nan</td>\n",
              "      <td>nan</td>\n",
              "    </tr>\n",
              "    <tr>\n",
              "      <th>2</th>\n",
              "      <td>4,555,796,885.00</td>\n",
              "      <td>nan</td>\n",
              "      <td>nan</td>\n",
              "      <td>nan</td>\n",
              "      <td>nan</td>\n",
              "      <td>nan</td>\n",
              "    </tr>\n",
              "    <tr>\n",
              "      <th>3</th>\n",
              "      <td>6,033,333,473.00</td>\n",
              "      <td>nan</td>\n",
              "      <td>nan</td>\n",
              "      <td>nan</td>\n",
              "      <td>nan</td>\n",
              "      <td>nan</td>\n",
              "    </tr>\n",
              "    <tr>\n",
              "      <th>4</th>\n",
              "      <td>6,036,185,756.00</td>\n",
              "      <td>nan</td>\n",
              "      <td>nan</td>\n",
              "      <td>nan</td>\n",
              "      <td>nan</td>\n",
              "      <td>nan</td>\n",
              "    </tr>\n",
              "    <tr>\n",
              "      <th>...</th>\n",
              "      <td>...</td>\n",
              "      <td>...</td>\n",
              "      <td>...</td>\n",
              "      <td>...</td>\n",
              "      <td>...</td>\n",
              "      <td>...</td>\n",
              "    </tr>\n",
              "    <tr>\n",
              "      <th>10311</th>\n",
              "      <td>51,227,013,587.00</td>\n",
              "      <td>18.00</td>\n",
              "      <td>24.00</td>\n",
              "      <td>203.00</td>\n",
              "      <td>nan</td>\n",
              "      <td>nan</td>\n",
              "    </tr>\n",
              "    <tr>\n",
              "      <th>10312</th>\n",
              "      <td>57,523,677,443.00</td>\n",
              "      <td>30.00</td>\n",
              "      <td>195.00</td>\n",
              "      <td>17.00</td>\n",
              "      <td>nan</td>\n",
              "      <td>nan</td>\n",
              "    </tr>\n",
              "    <tr>\n",
              "      <th>10313</th>\n",
              "      <td>120,495,000,000.00</td>\n",
              "      <td>nan</td>\n",
              "      <td>nan</td>\n",
              "      <td>nan</td>\n",
              "      <td>nan</td>\n",
              "      <td>nan</td>\n",
              "    </tr>\n",
              "    <tr>\n",
              "      <th>10314</th>\n",
              "      <td>217,278,000,000.00</td>\n",
              "      <td>nan</td>\n",
              "      <td>nan</td>\n",
              "      <td>nan</td>\n",
              "      <td>nan</td>\n",
              "      <td>nan</td>\n",
              "    </tr>\n",
              "    <tr>\n",
              "      <th>10315</th>\n",
              "      <td>21,118,800,000,000.00</td>\n",
              "      <td>nan</td>\n",
              "      <td>nan</td>\n",
              "      <td>nan</td>\n",
              "      <td>nan</td>\n",
              "      <td>nan</td>\n",
              "    </tr>\n",
              "  </tbody>\n",
              "</table>\n",
              "<p>10316 rows × 6 columns</p>\n",
              "</div>"
            ],
            "text/plain": [
              "order_enum              customer  time_to_2  time_to_3  time_to_4  time_to_5  time_to_6\n",
              "0               1,920,771,353.00        nan        nan        nan        nan        nan\n",
              "1               4,042,653,893.00      36.00      11.00       2.00        nan        nan\n",
              "2               4,555,796,885.00        nan        nan        nan        nan        nan\n",
              "3               6,033,333,473.00        nan        nan        nan        nan        nan\n",
              "4               6,036,185,756.00        nan        nan        nan        nan        nan\n",
              "...                          ...        ...        ...        ...        ...        ...\n",
              "10311          51,227,013,587.00      18.00      24.00     203.00        nan        nan\n",
              "10312          57,523,677,443.00      30.00     195.00      17.00        nan        nan\n",
              "10313         120,495,000,000.00        nan        nan        nan        nan        nan\n",
              "10314         217,278,000,000.00        nan        nan        nan        nan        nan\n",
              "10315      21,118,800,000,000.00        nan        nan        nan        nan        nan\n",
              "\n",
              "[10316 rows x 6 columns]"
            ]
          },
          "metadata": {
            "tags": []
          },
          "execution_count": 47
        }
      ]
    },
    {
      "cell_type": "code",
      "metadata": {
        "id": "mdTiVT4uMVyL"
      },
      "source": [
        "cust_final_dataset=fp_final.merge(subs_purchase_value_final,left_on='customer',right_on='total_spend_customer') "
      ],
      "execution_count": 48,
      "outputs": []
    },
    {
      "cell_type": "code",
      "metadata": {
        "id": "n3ahDdNHNR3M"
      },
      "source": [
        "cust_final_dataset=cust_final_dataset.merge(subs_purchase_time_final,left_on='customer',right_on='time_to_customer') "
      ],
      "execution_count": 49,
      "outputs": []
    },
    {
      "cell_type": "markdown",
      "metadata": {
        "id": "sezOppHdjTcz"
      },
      "source": [
        "# ***Exporting Dataset for usage in Tableau***"
      ]
    },
    {
      "cell_type": "code",
      "metadata": {
        "id": "6XxbddkJacKo"
      },
      "source": [
        "#test4.to_csv('fin_an_dataset.csv',index=False)\n",
        "#cust_final_dataset.to_csv(\"cust_final_dataset.csv\", sep=\"\\t\", index=False)\n",
        "#cust_final_dataset.to_excel('cust_final_dataset.xlsx', sheet_name='raw')"
      ],
      "execution_count": 50,
      "outputs": []
    },
    {
      "cell_type": "code",
      "metadata": {
        "id": "08mjk__L_65o",
        "outputId": "43f291f8-23e2-41c3-e266-101662ccb154",
        "colab": {
          "base_uri": "https://localhost:8080/",
          "height": 304
        }
      },
      "source": [
        "cust_final_dataset.head()"
      ],
      "execution_count": 51,
      "outputs": [
        {
          "output_type": "execute_result",
          "data": {
            "text/html": [
              "<div>\n",
              "<style scoped>\n",
              "    .dataframe tbody tr th:only-of-type {\n",
              "        vertical-align: middle;\n",
              "    }\n",
              "\n",
              "    .dataframe tbody tr th {\n",
              "        vertical-align: top;\n",
              "    }\n",
              "\n",
              "    .dataframe thead th {\n",
              "        text-align: right;\n",
              "    }\n",
              "</style>\n",
              "<table border=\"1\" class=\"dataframe\">\n",
              "  <thead>\n",
              "    <tr style=\"text-align: right;\">\n",
              "      <th></th>\n",
              "      <th>customer</th>\n",
              "      <th>fp_date</th>\n",
              "      <th>lp_date</th>\n",
              "      <th>fp_source</th>\n",
              "      <th>fp_promo_val</th>\n",
              "      <th>fp_shops_id</th>\n",
              "      <th>fp_postal_code</th>\n",
              "      <th>total_order</th>\n",
              "      <th>total_sales</th>\n",
              "      <th>sales_qunitiles</th>\n",
              "      <th>order_qunitiles</th>\n",
              "      <th>fp_zip_cust_loyalty_score</th>\n",
              "      <th>fp_shop_cust_loyalty_score</th>\n",
              "      <th>shops_per_zip</th>\n",
              "      <th>shops_per_cust_per_zip</th>\n",
              "      <th>customer_sales_centiles</th>\n",
              "      <th>customer_order_centiles</th>\n",
              "      <th>end_date</th>\n",
              "      <th>time_since_fp</th>\n",
              "      <th>time_since_lp</th>\n",
              "      <th>total_order_benchmark</th>\n",
              "      <th>total_surplus_orders</th>\n",
              "      <th>total_spend_customer</th>\n",
              "      <th>total_spend_1</th>\n",
              "      <th>total_spend_2</th>\n",
              "      <th>total_spend_3</th>\n",
              "      <th>total_spend_4</th>\n",
              "      <th>total_spend_5</th>\n",
              "      <th>total_spend_6</th>\n",
              "      <th>spend_growth_2</th>\n",
              "      <th>spend_growth_3</th>\n",
              "      <th>spend_growth_4</th>\n",
              "      <th>spend_growth_5</th>\n",
              "      <th>spend_growth_6</th>\n",
              "      <th>time_to_customer</th>\n",
              "      <th>time_to_1</th>\n",
              "      <th>time_to_2</th>\n",
              "      <th>time_to_3</th>\n",
              "      <th>time_to_4</th>\n",
              "      <th>time_to_5</th>\n",
              "      <th>time_to_6</th>\n",
              "    </tr>\n",
              "  </thead>\n",
              "  <tbody>\n",
              "    <tr>\n",
              "      <th>0</th>\n",
              "      <td>13,315,067,198.00</td>\n",
              "      <td>2019-03-13 08:02:07+00:00</td>\n",
              "      <td>2019-06-22 07:38:20+00:00</td>\n",
              "      <td>iosapp</td>\n",
              "      <td>0</td>\n",
              "      <td>24597</td>\n",
              "      <td>21162</td>\n",
              "      <td>2</td>\n",
              "      <td>32.21</td>\n",
              "      <td>1</td>\n",
              "      <td>2</td>\n",
              "      <td>100.00</td>\n",
              "      <td>100.00</td>\n",
              "      <td>1</td>\n",
              "      <td>0.50</td>\n",
              "      <td>21</td>\n",
              "      <td>31</td>\n",
              "      <td>2020-05-11 19:13:14+00:00</td>\n",
              "      <td>425</td>\n",
              "      <td>324</td>\n",
              "      <td>7.00</td>\n",
              "      <td>-5.00</td>\n",
              "      <td>13,315,067,198.00</td>\n",
              "      <td>15.50</td>\n",
              "      <td>16.71</td>\n",
              "      <td>nan</td>\n",
              "      <td>nan</td>\n",
              "      <td>nan</td>\n",
              "      <td>nan</td>\n",
              "      <td>7.81</td>\n",
              "      <td>nan</td>\n",
              "      <td>nan</td>\n",
              "      <td>nan</td>\n",
              "      <td>nan</td>\n",
              "      <td>13,315,067,198.00</td>\n",
              "      <td>NaT</td>\n",
              "      <td>100.00</td>\n",
              "      <td>nan</td>\n",
              "      <td>nan</td>\n",
              "      <td>nan</td>\n",
              "      <td>nan</td>\n",
              "    </tr>\n",
              "    <tr>\n",
              "      <th>1</th>\n",
              "      <td>12,316,161,278.00</td>\n",
              "      <td>2019-08-15 08:58:47+00:00</td>\n",
              "      <td>2019-09-24 10:01:02+00:00</td>\n",
              "      <td>iosapp</td>\n",
              "      <td>4</td>\n",
              "      <td>24597</td>\n",
              "      <td>21162</td>\n",
              "      <td>2</td>\n",
              "      <td>38.20</td>\n",
              "      <td>1</td>\n",
              "      <td>2</td>\n",
              "      <td>100.00</td>\n",
              "      <td>100.00</td>\n",
              "      <td>1</td>\n",
              "      <td>0.50</td>\n",
              "      <td>27</td>\n",
              "      <td>31</td>\n",
              "      <td>2020-05-11 19:13:14+00:00</td>\n",
              "      <td>270</td>\n",
              "      <td>230</td>\n",
              "      <td>4.00</td>\n",
              "      <td>-2.00</td>\n",
              "      <td>12,316,161,278.00</td>\n",
              "      <td>13.95</td>\n",
              "      <td>24.25</td>\n",
              "      <td>nan</td>\n",
              "      <td>nan</td>\n",
              "      <td>nan</td>\n",
              "      <td>nan</td>\n",
              "      <td>73.84</td>\n",
              "      <td>nan</td>\n",
              "      <td>nan</td>\n",
              "      <td>nan</td>\n",
              "      <td>nan</td>\n",
              "      <td>12,316,161,278.00</td>\n",
              "      <td>NaT</td>\n",
              "      <td>40.00</td>\n",
              "      <td>nan</td>\n",
              "      <td>nan</td>\n",
              "      <td>nan</td>\n",
              "      <td>nan</td>\n",
              "    </tr>\n",
              "    <tr>\n",
              "      <th>2</th>\n",
              "      <td>15,557,129,447.00</td>\n",
              "      <td>2019-03-13 08:11:38+00:00</td>\n",
              "      <td>2020-03-29 12:58:54+00:00</td>\n",
              "      <td>iosapp</td>\n",
              "      <td>0</td>\n",
              "      <td>64392</td>\n",
              "      <td>12944</td>\n",
              "      <td>5</td>\n",
              "      <td>152.83</td>\n",
              "      <td>3</td>\n",
              "      <td>4</td>\n",
              "      <td>120.00</td>\n",
              "      <td>100.00</td>\n",
              "      <td>2</td>\n",
              "      <td>0.40</td>\n",
              "      <td>78</td>\n",
              "      <td>78</td>\n",
              "      <td>2020-05-11 19:13:14+00:00</td>\n",
              "      <td>425</td>\n",
              "      <td>43</td>\n",
              "      <td>7.00</td>\n",
              "      <td>-2.00</td>\n",
              "      <td>15,557,129,447.00</td>\n",
              "      <td>24.83</td>\n",
              "      <td>48.27</td>\n",
              "      <td>40.86</td>\n",
              "      <td>12.26</td>\n",
              "      <td>26.61</td>\n",
              "      <td>nan</td>\n",
              "      <td>94.40</td>\n",
              "      <td>-15.35</td>\n",
              "      <td>-70.00</td>\n",
              "      <td>117.05</td>\n",
              "      <td>nan</td>\n",
              "      <td>15,557,129,447.00</td>\n",
              "      <td>NaT</td>\n",
              "      <td>48.00</td>\n",
              "      <td>182.00</td>\n",
              "      <td>141.00</td>\n",
              "      <td>10.00</td>\n",
              "      <td>nan</td>\n",
              "    </tr>\n",
              "    <tr>\n",
              "      <th>3</th>\n",
              "      <td>15,557,162,096.00</td>\n",
              "      <td>2019-04-13 15:24:04+00:00</td>\n",
              "      <td>2020-05-11 15:12:51+00:00</td>\n",
              "      <td>partner_website</td>\n",
              "      <td>0</td>\n",
              "      <td>64392</td>\n",
              "      <td>12944</td>\n",
              "      <td>44</td>\n",
              "      <td>1,316.66</td>\n",
              "      <td>3</td>\n",
              "      <td>4</td>\n",
              "      <td>120.00</td>\n",
              "      <td>100.00</td>\n",
              "      <td>2</td>\n",
              "      <td>0.40</td>\n",
              "      <td>99</td>\n",
              "      <td>99</td>\n",
              "      <td>2020-05-11 19:13:14+00:00</td>\n",
              "      <td>394</td>\n",
              "      <td>0</td>\n",
              "      <td>7.00</td>\n",
              "      <td>37.00</td>\n",
              "      <td>15,557,162,096.00</td>\n",
              "      <td>39.67</td>\n",
              "      <td>21.91</td>\n",
              "      <td>43.98</td>\n",
              "      <td>19.78</td>\n",
              "      <td>21.00</td>\n",
              "      <td>15.53</td>\n",
              "      <td>-44.77</td>\n",
              "      <td>100.73</td>\n",
              "      <td>-55.03</td>\n",
              "      <td>6.17</td>\n",
              "      <td>-26.05</td>\n",
              "      <td>15,557,162,096.00</td>\n",
              "      <td>NaT</td>\n",
              "      <td>40.00</td>\n",
              "      <td>12.00</td>\n",
              "      <td>35.00</td>\n",
              "      <td>6.00</td>\n",
              "      <td>5.00</td>\n",
              "    </tr>\n",
              "    <tr>\n",
              "      <th>4</th>\n",
              "      <td>21,494,990,414.00</td>\n",
              "      <td>2020-03-23 16:19:50+00:00</td>\n",
              "      <td>2020-03-29 14:44:52+00:00</td>\n",
              "      <td>partner_website</td>\n",
              "      <td>0</td>\n",
              "      <td>140271</td>\n",
              "      <td>12944</td>\n",
              "      <td>2</td>\n",
              "      <td>55.88</td>\n",
              "      <td>4</td>\n",
              "      <td>4</td>\n",
              "      <td>120.00</td>\n",
              "      <td>100.00</td>\n",
              "      <td>2</td>\n",
              "      <td>0.40</td>\n",
              "      <td>41</td>\n",
              "      <td>31</td>\n",
              "      <td>2020-05-11 19:13:14+00:00</td>\n",
              "      <td>49</td>\n",
              "      <td>43</td>\n",
              "      <td>1.00</td>\n",
              "      <td>1.00</td>\n",
              "      <td>21,494,990,414.00</td>\n",
              "      <td>26.86</td>\n",
              "      <td>29.02</td>\n",
              "      <td>nan</td>\n",
              "      <td>nan</td>\n",
              "      <td>nan</td>\n",
              "      <td>nan</td>\n",
              "      <td>8.04</td>\n",
              "      <td>nan</td>\n",
              "      <td>nan</td>\n",
              "      <td>nan</td>\n",
              "      <td>nan</td>\n",
              "      <td>21,494,990,414.00</td>\n",
              "      <td>NaT</td>\n",
              "      <td>5.00</td>\n",
              "      <td>nan</td>\n",
              "      <td>nan</td>\n",
              "      <td>nan</td>\n",
              "      <td>nan</td>\n",
              "    </tr>\n",
              "  </tbody>\n",
              "</table>\n",
              "</div>"
            ],
            "text/plain": [
              "           customer                   fp_date                   lp_date        fp_source  fp_promo_val  fp_shops_id  fp_postal_code  total_order  total_sales  sales_qunitiles  order_qunitiles  fp_zip_cust_loyalty_score  fp_shop_cust_loyalty_score  shops_per_zip  shops_per_cust_per_zip  customer_sales_centiles  customer_order_centiles                  end_date  time_since_fp  time_since_lp  total_order_benchmark  total_surplus_orders  total_spend_customer  total_spend_1  total_spend_2  total_spend_3  total_spend_4  total_spend_5  total_spend_6  spend_growth_2  spend_growth_3  spend_growth_4  spend_growth_5  spend_growth_6  time_to_customer time_to_1  time_to_2  time_to_3  time_to_4  time_to_5  time_to_6\n",
              "0 13,315,067,198.00 2019-03-13 08:02:07+00:00 2019-06-22 07:38:20+00:00           iosapp             0        24597           21162            2        32.21                1                2                     100.00                      100.00              1                    0.50                       21                       31 2020-05-11 19:13:14+00:00            425            324                   7.00                 -5.00     13,315,067,198.00          15.50          16.71            nan            nan            nan            nan            7.81             nan             nan             nan             nan 13,315,067,198.00       NaT     100.00        nan        nan        nan        nan\n",
              "1 12,316,161,278.00 2019-08-15 08:58:47+00:00 2019-09-24 10:01:02+00:00           iosapp             4        24597           21162            2        38.20                1                2                     100.00                      100.00              1                    0.50                       27                       31 2020-05-11 19:13:14+00:00            270            230                   4.00                 -2.00     12,316,161,278.00          13.95          24.25            nan            nan            nan            nan           73.84             nan             nan             nan             nan 12,316,161,278.00       NaT      40.00        nan        nan        nan        nan\n",
              "2 15,557,129,447.00 2019-03-13 08:11:38+00:00 2020-03-29 12:58:54+00:00           iosapp             0        64392           12944            5       152.83                3                4                     120.00                      100.00              2                    0.40                       78                       78 2020-05-11 19:13:14+00:00            425             43                   7.00                 -2.00     15,557,129,447.00          24.83          48.27          40.86          12.26          26.61            nan           94.40          -15.35          -70.00          117.05             nan 15,557,129,447.00       NaT      48.00     182.00     141.00      10.00        nan\n",
              "3 15,557,162,096.00 2019-04-13 15:24:04+00:00 2020-05-11 15:12:51+00:00  partner_website             0        64392           12944           44     1,316.66                3                4                     120.00                      100.00              2                    0.40                       99                       99 2020-05-11 19:13:14+00:00            394              0                   7.00                 37.00     15,557,162,096.00          39.67          21.91          43.98          19.78          21.00          15.53          -44.77          100.73          -55.03            6.17          -26.05 15,557,162,096.00       NaT      40.00      12.00      35.00       6.00       5.00\n",
              "4 21,494,990,414.00 2020-03-23 16:19:50+00:00 2020-03-29 14:44:52+00:00  partner_website             0       140271           12944            2        55.88                4                4                     120.00                      100.00              2                    0.40                       41                       31 2020-05-11 19:13:14+00:00             49             43                   1.00                  1.00     21,494,990,414.00          26.86          29.02            nan            nan            nan            nan            8.04             nan             nan             nan             nan 21,494,990,414.00       NaT       5.00        nan        nan        nan        nan"
            ]
          },
          "metadata": {
            "tags": []
          },
          "execution_count": 51
        }
      ]
    },
    {
      "cell_type": "markdown",
      "metadata": {
        "id": "92ZKLJQ1kLV_"
      },
      "source": [
        "# ***Define Cohorts Based on First Order***"
      ]
    },
    {
      "cell_type": "code",
      "metadata": {
        "id": "Gyek9MfVrw3J",
        "outputId": "c6951e2f-c145-4036-97cd-c5491697789b",
        "colab": {
          "base_uri": "https://localhost:8080/"
        }
      },
      "source": [
        "cust_final_dataset.fp_source.value_counts()"
      ],
      "execution_count": 52,
      "outputs": [
        {
          "output_type": "execute_result",
          "data": {
            "text/plain": [
              "partner_website    5991\n",
              "iosapp             2861\n",
              "slicelife          1150\n",
              "partner_button      148\n",
              "androidapp          132\n",
              "web                  31\n",
              "call-center           2\n",
              "google                1\n",
              "Name: fp_source, dtype: int64"
            ]
          },
          "metadata": {
            "tags": []
          },
          "execution_count": 52
        }
      ]
    },
    {
      "cell_type": "code",
      "metadata": {
        "id": "QqTF70JTkWZ_"
      },
      "source": [
        "# Grouping Source of Entry\n",
        "def source(df):\n",
        "  if df['fp_source'] in ('iosapp', 'androidapp'):\n",
        "    return 'Owned-App'\n",
        "  elif df['fp_source'] in ('slicelife'):\n",
        "    return 'Owned-Web'\n",
        "  elif df['fp_source'] in ('partner_website','partner_button'):\n",
        "    return 'Partner-Web'\n",
        "  else:\n",
        "    return 'Other'"
      ],
      "execution_count": 53,
      "outputs": []
    },
    {
      "cell_type": "code",
      "metadata": {
        "id": "WELkgoVRs7Sw"
      },
      "source": [
        "# Grouping Use of Promo in First Purchase\n",
        "def promo(df):\n",
        "  if df['fp_promo_val'] > 0:\n",
        "    return 'FP: Promo Used'\n",
        "  else:\n",
        "    return 'FP: Promo Not Used'"
      ],
      "execution_count": 54,
      "outputs": []
    },
    {
      "cell_type": "code",
      "metadata": {
        "id": "hcHol4I7tP9G"
      },
      "source": [
        "# Grouping Shops per Zip\n",
        "def shops_per_zip(df):\n",
        "  if df['shops_per_zip']==1:\n",
        "    return \"FP Zip: # Shops = 1\"\n",
        "  elif df['shops_per_zip'] in (2,3):\n",
        "    return \"FP Zip: # Shops = 2-3\"\n",
        "  else:\n",
        "    return \"FP Zip: # Shops = 4+\""
      ],
      "execution_count": 55,
      "outputs": []
    },
    {
      "cell_type": "code",
      "metadata": {
        "id": "lWNWptegvUPs",
        "outputId": "e2d97a17-f8e2-4358-bf82-dba6846c748c",
        "colab": {
          "base_uri": "https://localhost:8080/"
        }
      },
      "source": [
        "cust_final_dataset.fp_shop_cust_loyalty_score.quantile([.05,.1,.2,.25,.5, 0.51,.66,.75,.9,1])"
      ],
      "execution_count": 56,
      "outputs": [
        {
          "output_type": "execute_result",
          "data": {
            "text/plain": [
              "0.05    33.33\n",
              "0.10    50.00\n",
              "0.20    57.14\n",
              "0.25    66.67\n",
              "0.50    83.33\n",
              "0.51    83.33\n",
              "0.66   100.00\n",
              "0.75   100.00\n",
              "0.90   100.00\n",
              "1.00   100.00\n",
              "Name: fp_shop_cust_loyalty_score, dtype: float64"
            ]
          },
          "metadata": {
            "tags": []
          },
          "execution_count": 56
        }
      ]
    },
    {
      "cell_type": "code",
      "metadata": {
        "id": "KogtGntmus-5"
      },
      "source": [
        "# Grouping Shop Cust Loyalty Score\n",
        "def shop_loyalty(df):\n",
        "  if df['fp_shop_cust_loyalty_score']<=50:\n",
        "    return \"FP Shop Loyalty: Low\"\n",
        "  elif df['fp_shop_cust_loyalty_score']<=80:\n",
        "    return \"FP Shop Loyalty: Medium\"\n",
        "  else:\n",
        "    return \"FP Shop Loyalty: High\""
      ],
      "execution_count": 57,
      "outputs": []
    },
    {
      "cell_type": "code",
      "metadata": {
        "id": "AKYTj5mYwW6w",
        "outputId": "918c8389-7d02-4b4a-edc6-75f42a50cffc",
        "colab": {
          "base_uri": "https://localhost:8080/"
        }
      },
      "source": [
        "cust_final_dataset.fp_zip_cust_loyalty_score.quantile([.05,.1,.2,.25,.5,.66,.75,.9,1])"
      ],
      "execution_count": 58,
      "outputs": [
        {
          "output_type": "execute_result",
          "data": {
            "text/plain": [
              "0.05    42.86\n",
              "0.10    50.00\n",
              "0.20    60.00\n",
              "0.25    66.67\n",
              "0.50    85.71\n",
              "0.66   100.00\n",
              "0.75   100.00\n",
              "0.90   116.67\n",
              "1.00   250.00\n",
              "Name: fp_zip_cust_loyalty_score, dtype: float64"
            ]
          },
          "metadata": {
            "tags": []
          },
          "execution_count": 58
        }
      ]
    },
    {
      "cell_type": "code",
      "metadata": {
        "id": "GRA0w1P7wl1F"
      },
      "source": [
        "# Grouping Shop Cust Loyalty Score\n",
        "def zip_loyalty(df):\n",
        "  if df['fp_zip_cust_loyalty_score']<=50:\n",
        "    return \"FP Zip Loyalty: Low\"\n",
        "  elif df['fp_zip_cust_loyalty_score']<=80:\n",
        "    return \"FP Zip Loyalty: Medium\"\n",
        "  else:\n",
        "    return \"FP Zip Loyalty: High\""
      ],
      "execution_count": 59,
      "outputs": []
    },
    {
      "cell_type": "code",
      "metadata": {
        "id": "zcy1xxASxfpk",
        "outputId": "9a2fbd30-9398-4961-bd80-b20de74d15bc",
        "colab": {
          "base_uri": "https://localhost:8080/",
          "height": 304
        }
      },
      "source": [
        "cust_final_dataset.head()"
      ],
      "execution_count": 60,
      "outputs": [
        {
          "output_type": "execute_result",
          "data": {
            "text/html": [
              "<div>\n",
              "<style scoped>\n",
              "    .dataframe tbody tr th:only-of-type {\n",
              "        vertical-align: middle;\n",
              "    }\n",
              "\n",
              "    .dataframe tbody tr th {\n",
              "        vertical-align: top;\n",
              "    }\n",
              "\n",
              "    .dataframe thead th {\n",
              "        text-align: right;\n",
              "    }\n",
              "</style>\n",
              "<table border=\"1\" class=\"dataframe\">\n",
              "  <thead>\n",
              "    <tr style=\"text-align: right;\">\n",
              "      <th></th>\n",
              "      <th>customer</th>\n",
              "      <th>fp_date</th>\n",
              "      <th>lp_date</th>\n",
              "      <th>fp_source</th>\n",
              "      <th>fp_promo_val</th>\n",
              "      <th>fp_shops_id</th>\n",
              "      <th>fp_postal_code</th>\n",
              "      <th>total_order</th>\n",
              "      <th>total_sales</th>\n",
              "      <th>sales_qunitiles</th>\n",
              "      <th>order_qunitiles</th>\n",
              "      <th>fp_zip_cust_loyalty_score</th>\n",
              "      <th>fp_shop_cust_loyalty_score</th>\n",
              "      <th>shops_per_zip</th>\n",
              "      <th>shops_per_cust_per_zip</th>\n",
              "      <th>customer_sales_centiles</th>\n",
              "      <th>customer_order_centiles</th>\n",
              "      <th>end_date</th>\n",
              "      <th>time_since_fp</th>\n",
              "      <th>time_since_lp</th>\n",
              "      <th>total_order_benchmark</th>\n",
              "      <th>total_surplus_orders</th>\n",
              "      <th>total_spend_customer</th>\n",
              "      <th>total_spend_1</th>\n",
              "      <th>total_spend_2</th>\n",
              "      <th>total_spend_3</th>\n",
              "      <th>total_spend_4</th>\n",
              "      <th>total_spend_5</th>\n",
              "      <th>total_spend_6</th>\n",
              "      <th>spend_growth_2</th>\n",
              "      <th>spend_growth_3</th>\n",
              "      <th>spend_growth_4</th>\n",
              "      <th>spend_growth_5</th>\n",
              "      <th>spend_growth_6</th>\n",
              "      <th>time_to_customer</th>\n",
              "      <th>time_to_1</th>\n",
              "      <th>time_to_2</th>\n",
              "      <th>time_to_3</th>\n",
              "      <th>time_to_4</th>\n",
              "      <th>time_to_5</th>\n",
              "      <th>time_to_6</th>\n",
              "    </tr>\n",
              "  </thead>\n",
              "  <tbody>\n",
              "    <tr>\n",
              "      <th>0</th>\n",
              "      <td>13,315,067,198.00</td>\n",
              "      <td>2019-03-13 08:02:07+00:00</td>\n",
              "      <td>2019-06-22 07:38:20+00:00</td>\n",
              "      <td>iosapp</td>\n",
              "      <td>0</td>\n",
              "      <td>24597</td>\n",
              "      <td>21162</td>\n",
              "      <td>2</td>\n",
              "      <td>32.21</td>\n",
              "      <td>1</td>\n",
              "      <td>2</td>\n",
              "      <td>100.00</td>\n",
              "      <td>100.00</td>\n",
              "      <td>1</td>\n",
              "      <td>0.50</td>\n",
              "      <td>21</td>\n",
              "      <td>31</td>\n",
              "      <td>2020-05-11 19:13:14+00:00</td>\n",
              "      <td>425</td>\n",
              "      <td>324</td>\n",
              "      <td>7.00</td>\n",
              "      <td>-5.00</td>\n",
              "      <td>13,315,067,198.00</td>\n",
              "      <td>15.50</td>\n",
              "      <td>16.71</td>\n",
              "      <td>nan</td>\n",
              "      <td>nan</td>\n",
              "      <td>nan</td>\n",
              "      <td>nan</td>\n",
              "      <td>7.81</td>\n",
              "      <td>nan</td>\n",
              "      <td>nan</td>\n",
              "      <td>nan</td>\n",
              "      <td>nan</td>\n",
              "      <td>13,315,067,198.00</td>\n",
              "      <td>NaT</td>\n",
              "      <td>100.00</td>\n",
              "      <td>nan</td>\n",
              "      <td>nan</td>\n",
              "      <td>nan</td>\n",
              "      <td>nan</td>\n",
              "    </tr>\n",
              "    <tr>\n",
              "      <th>1</th>\n",
              "      <td>12,316,161,278.00</td>\n",
              "      <td>2019-08-15 08:58:47+00:00</td>\n",
              "      <td>2019-09-24 10:01:02+00:00</td>\n",
              "      <td>iosapp</td>\n",
              "      <td>4</td>\n",
              "      <td>24597</td>\n",
              "      <td>21162</td>\n",
              "      <td>2</td>\n",
              "      <td>38.20</td>\n",
              "      <td>1</td>\n",
              "      <td>2</td>\n",
              "      <td>100.00</td>\n",
              "      <td>100.00</td>\n",
              "      <td>1</td>\n",
              "      <td>0.50</td>\n",
              "      <td>27</td>\n",
              "      <td>31</td>\n",
              "      <td>2020-05-11 19:13:14+00:00</td>\n",
              "      <td>270</td>\n",
              "      <td>230</td>\n",
              "      <td>4.00</td>\n",
              "      <td>-2.00</td>\n",
              "      <td>12,316,161,278.00</td>\n",
              "      <td>13.95</td>\n",
              "      <td>24.25</td>\n",
              "      <td>nan</td>\n",
              "      <td>nan</td>\n",
              "      <td>nan</td>\n",
              "      <td>nan</td>\n",
              "      <td>73.84</td>\n",
              "      <td>nan</td>\n",
              "      <td>nan</td>\n",
              "      <td>nan</td>\n",
              "      <td>nan</td>\n",
              "      <td>12,316,161,278.00</td>\n",
              "      <td>NaT</td>\n",
              "      <td>40.00</td>\n",
              "      <td>nan</td>\n",
              "      <td>nan</td>\n",
              "      <td>nan</td>\n",
              "      <td>nan</td>\n",
              "    </tr>\n",
              "    <tr>\n",
              "      <th>2</th>\n",
              "      <td>15,557,129,447.00</td>\n",
              "      <td>2019-03-13 08:11:38+00:00</td>\n",
              "      <td>2020-03-29 12:58:54+00:00</td>\n",
              "      <td>iosapp</td>\n",
              "      <td>0</td>\n",
              "      <td>64392</td>\n",
              "      <td>12944</td>\n",
              "      <td>5</td>\n",
              "      <td>152.83</td>\n",
              "      <td>3</td>\n",
              "      <td>4</td>\n",
              "      <td>120.00</td>\n",
              "      <td>100.00</td>\n",
              "      <td>2</td>\n",
              "      <td>0.40</td>\n",
              "      <td>78</td>\n",
              "      <td>78</td>\n",
              "      <td>2020-05-11 19:13:14+00:00</td>\n",
              "      <td>425</td>\n",
              "      <td>43</td>\n",
              "      <td>7.00</td>\n",
              "      <td>-2.00</td>\n",
              "      <td>15,557,129,447.00</td>\n",
              "      <td>24.83</td>\n",
              "      <td>48.27</td>\n",
              "      <td>40.86</td>\n",
              "      <td>12.26</td>\n",
              "      <td>26.61</td>\n",
              "      <td>nan</td>\n",
              "      <td>94.40</td>\n",
              "      <td>-15.35</td>\n",
              "      <td>-70.00</td>\n",
              "      <td>117.05</td>\n",
              "      <td>nan</td>\n",
              "      <td>15,557,129,447.00</td>\n",
              "      <td>NaT</td>\n",
              "      <td>48.00</td>\n",
              "      <td>182.00</td>\n",
              "      <td>141.00</td>\n",
              "      <td>10.00</td>\n",
              "      <td>nan</td>\n",
              "    </tr>\n",
              "    <tr>\n",
              "      <th>3</th>\n",
              "      <td>15,557,162,096.00</td>\n",
              "      <td>2019-04-13 15:24:04+00:00</td>\n",
              "      <td>2020-05-11 15:12:51+00:00</td>\n",
              "      <td>partner_website</td>\n",
              "      <td>0</td>\n",
              "      <td>64392</td>\n",
              "      <td>12944</td>\n",
              "      <td>44</td>\n",
              "      <td>1,316.66</td>\n",
              "      <td>3</td>\n",
              "      <td>4</td>\n",
              "      <td>120.00</td>\n",
              "      <td>100.00</td>\n",
              "      <td>2</td>\n",
              "      <td>0.40</td>\n",
              "      <td>99</td>\n",
              "      <td>99</td>\n",
              "      <td>2020-05-11 19:13:14+00:00</td>\n",
              "      <td>394</td>\n",
              "      <td>0</td>\n",
              "      <td>7.00</td>\n",
              "      <td>37.00</td>\n",
              "      <td>15,557,162,096.00</td>\n",
              "      <td>39.67</td>\n",
              "      <td>21.91</td>\n",
              "      <td>43.98</td>\n",
              "      <td>19.78</td>\n",
              "      <td>21.00</td>\n",
              "      <td>15.53</td>\n",
              "      <td>-44.77</td>\n",
              "      <td>100.73</td>\n",
              "      <td>-55.03</td>\n",
              "      <td>6.17</td>\n",
              "      <td>-26.05</td>\n",
              "      <td>15,557,162,096.00</td>\n",
              "      <td>NaT</td>\n",
              "      <td>40.00</td>\n",
              "      <td>12.00</td>\n",
              "      <td>35.00</td>\n",
              "      <td>6.00</td>\n",
              "      <td>5.00</td>\n",
              "    </tr>\n",
              "    <tr>\n",
              "      <th>4</th>\n",
              "      <td>21,494,990,414.00</td>\n",
              "      <td>2020-03-23 16:19:50+00:00</td>\n",
              "      <td>2020-03-29 14:44:52+00:00</td>\n",
              "      <td>partner_website</td>\n",
              "      <td>0</td>\n",
              "      <td>140271</td>\n",
              "      <td>12944</td>\n",
              "      <td>2</td>\n",
              "      <td>55.88</td>\n",
              "      <td>4</td>\n",
              "      <td>4</td>\n",
              "      <td>120.00</td>\n",
              "      <td>100.00</td>\n",
              "      <td>2</td>\n",
              "      <td>0.40</td>\n",
              "      <td>41</td>\n",
              "      <td>31</td>\n",
              "      <td>2020-05-11 19:13:14+00:00</td>\n",
              "      <td>49</td>\n",
              "      <td>43</td>\n",
              "      <td>1.00</td>\n",
              "      <td>1.00</td>\n",
              "      <td>21,494,990,414.00</td>\n",
              "      <td>26.86</td>\n",
              "      <td>29.02</td>\n",
              "      <td>nan</td>\n",
              "      <td>nan</td>\n",
              "      <td>nan</td>\n",
              "      <td>nan</td>\n",
              "      <td>8.04</td>\n",
              "      <td>nan</td>\n",
              "      <td>nan</td>\n",
              "      <td>nan</td>\n",
              "      <td>nan</td>\n",
              "      <td>21,494,990,414.00</td>\n",
              "      <td>NaT</td>\n",
              "      <td>5.00</td>\n",
              "      <td>nan</td>\n",
              "      <td>nan</td>\n",
              "      <td>nan</td>\n",
              "      <td>nan</td>\n",
              "    </tr>\n",
              "  </tbody>\n",
              "</table>\n",
              "</div>"
            ],
            "text/plain": [
              "           customer                   fp_date                   lp_date        fp_source  fp_promo_val  fp_shops_id  fp_postal_code  total_order  total_sales  sales_qunitiles  order_qunitiles  fp_zip_cust_loyalty_score  fp_shop_cust_loyalty_score  shops_per_zip  shops_per_cust_per_zip  customer_sales_centiles  customer_order_centiles                  end_date  time_since_fp  time_since_lp  total_order_benchmark  total_surplus_orders  total_spend_customer  total_spend_1  total_spend_2  total_spend_3  total_spend_4  total_spend_5  total_spend_6  spend_growth_2  spend_growth_3  spend_growth_4  spend_growth_5  spend_growth_6  time_to_customer time_to_1  time_to_2  time_to_3  time_to_4  time_to_5  time_to_6\n",
              "0 13,315,067,198.00 2019-03-13 08:02:07+00:00 2019-06-22 07:38:20+00:00           iosapp             0        24597           21162            2        32.21                1                2                     100.00                      100.00              1                    0.50                       21                       31 2020-05-11 19:13:14+00:00            425            324                   7.00                 -5.00     13,315,067,198.00          15.50          16.71            nan            nan            nan            nan            7.81             nan             nan             nan             nan 13,315,067,198.00       NaT     100.00        nan        nan        nan        nan\n",
              "1 12,316,161,278.00 2019-08-15 08:58:47+00:00 2019-09-24 10:01:02+00:00           iosapp             4        24597           21162            2        38.20                1                2                     100.00                      100.00              1                    0.50                       27                       31 2020-05-11 19:13:14+00:00            270            230                   4.00                 -2.00     12,316,161,278.00          13.95          24.25            nan            nan            nan            nan           73.84             nan             nan             nan             nan 12,316,161,278.00       NaT      40.00        nan        nan        nan        nan\n",
              "2 15,557,129,447.00 2019-03-13 08:11:38+00:00 2020-03-29 12:58:54+00:00           iosapp             0        64392           12944            5       152.83                3                4                     120.00                      100.00              2                    0.40                       78                       78 2020-05-11 19:13:14+00:00            425             43                   7.00                 -2.00     15,557,129,447.00          24.83          48.27          40.86          12.26          26.61            nan           94.40          -15.35          -70.00          117.05             nan 15,557,129,447.00       NaT      48.00     182.00     141.00      10.00        nan\n",
              "3 15,557,162,096.00 2019-04-13 15:24:04+00:00 2020-05-11 15:12:51+00:00  partner_website             0        64392           12944           44     1,316.66                3                4                     120.00                      100.00              2                    0.40                       99                       99 2020-05-11 19:13:14+00:00            394              0                   7.00                 37.00     15,557,162,096.00          39.67          21.91          43.98          19.78          21.00          15.53          -44.77          100.73          -55.03            6.17          -26.05 15,557,162,096.00       NaT      40.00      12.00      35.00       6.00       5.00\n",
              "4 21,494,990,414.00 2020-03-23 16:19:50+00:00 2020-03-29 14:44:52+00:00  partner_website             0       140271           12944            2        55.88                4                4                     120.00                      100.00              2                    0.40                       41                       31 2020-05-11 19:13:14+00:00             49             43                   1.00                  1.00     21,494,990,414.00          26.86          29.02            nan            nan            nan            nan            8.04             nan             nan             nan             nan 21,494,990,414.00       NaT       5.00        nan        nan        nan        nan"
            ]
          },
          "metadata": {
            "tags": []
          },
          "execution_count": 60
        }
      ]
    },
    {
      "cell_type": "code",
      "metadata": {
        "id": "IIRIpeztMUIE"
      },
      "source": [
        "#Applying Segments to Cust Level Dataset\n",
        "cust_final_dataset['cohort_fp_source']=cust_final_dataset.apply(source,axis=1)\n",
        "cust_final_dataset['cohort_fp_promo_use']=cust_final_dataset.apply(promo,axis=1)\n",
        "cust_final_dataset['cohort_shops_per_zip']=cust_final_dataset.apply(shops_per_zip,axis=1)\n",
        "cust_final_dataset['cohort_shop_loyalty']=cust_final_dataset.apply(shop_loyalty,axis=1)\n",
        "cust_final_dataset['cohort_zip_loyalty']=cust_final_dataset.apply(zip_loyalty,axis=1)\n"
      ],
      "execution_count": 61,
      "outputs": []
    },
    {
      "cell_type": "code",
      "metadata": {
        "id": "921GcZP5j8jB",
        "outputId": "806ef7fd-e4df-4e95-fd88-25856ae781fe",
        "colab": {
          "base_uri": "https://localhost:8080/",
          "height": 430
        }
      },
      "source": [
        "# Cohort Plotting\n",
        "\n",
        "cust_subset=cust_final_dataset[['customer','time_since_fp','time_since_lp']]\n",
        "cust_subset['months_since_fp']=round((cust_subset['time_since_fp']/30),0).astype(int)\n",
        "cust_subset['months_since_lp']=round((cust_subset['time_since_lp']/30),0).astype(int)\n",
        "cust_subset.head()"
      ],
      "execution_count": 62,
      "outputs": [
        {
          "output_type": "stream",
          "text": [
            "/usr/local/lib/python3.6/dist-packages/ipykernel_launcher.py:4: SettingWithCopyWarning: \n",
            "A value is trying to be set on a copy of a slice from a DataFrame.\n",
            "Try using .loc[row_indexer,col_indexer] = value instead\n",
            "\n",
            "See the caveats in the documentation: https://pandas.pydata.org/pandas-docs/stable/user_guide/indexing.html#returning-a-view-versus-a-copy\n",
            "  after removing the cwd from sys.path.\n",
            "/usr/local/lib/python3.6/dist-packages/ipykernel_launcher.py:5: SettingWithCopyWarning: \n",
            "A value is trying to be set on a copy of a slice from a DataFrame.\n",
            "Try using .loc[row_indexer,col_indexer] = value instead\n",
            "\n",
            "See the caveats in the documentation: https://pandas.pydata.org/pandas-docs/stable/user_guide/indexing.html#returning-a-view-versus-a-copy\n",
            "  \"\"\"\n"
          ],
          "name": "stderr"
        },
        {
          "output_type": "execute_result",
          "data": {
            "text/html": [
              "<div>\n",
              "<style scoped>\n",
              "    .dataframe tbody tr th:only-of-type {\n",
              "        vertical-align: middle;\n",
              "    }\n",
              "\n",
              "    .dataframe tbody tr th {\n",
              "        vertical-align: top;\n",
              "    }\n",
              "\n",
              "    .dataframe thead th {\n",
              "        text-align: right;\n",
              "    }\n",
              "</style>\n",
              "<table border=\"1\" class=\"dataframe\">\n",
              "  <thead>\n",
              "    <tr style=\"text-align: right;\">\n",
              "      <th></th>\n",
              "      <th>customer</th>\n",
              "      <th>time_since_fp</th>\n",
              "      <th>time_since_lp</th>\n",
              "      <th>months_since_fp</th>\n",
              "      <th>months_since_lp</th>\n",
              "    </tr>\n",
              "  </thead>\n",
              "  <tbody>\n",
              "    <tr>\n",
              "      <th>0</th>\n",
              "      <td>13,315,067,198.00</td>\n",
              "      <td>425</td>\n",
              "      <td>324</td>\n",
              "      <td>14</td>\n",
              "      <td>11</td>\n",
              "    </tr>\n",
              "    <tr>\n",
              "      <th>1</th>\n",
              "      <td>12,316,161,278.00</td>\n",
              "      <td>270</td>\n",
              "      <td>230</td>\n",
              "      <td>9</td>\n",
              "      <td>8</td>\n",
              "    </tr>\n",
              "    <tr>\n",
              "      <th>2</th>\n",
              "      <td>15,557,129,447.00</td>\n",
              "      <td>425</td>\n",
              "      <td>43</td>\n",
              "      <td>14</td>\n",
              "      <td>1</td>\n",
              "    </tr>\n",
              "    <tr>\n",
              "      <th>3</th>\n",
              "      <td>15,557,162,096.00</td>\n",
              "      <td>394</td>\n",
              "      <td>0</td>\n",
              "      <td>13</td>\n",
              "      <td>0</td>\n",
              "    </tr>\n",
              "    <tr>\n",
              "      <th>4</th>\n",
              "      <td>21,494,990,414.00</td>\n",
              "      <td>49</td>\n",
              "      <td>43</td>\n",
              "      <td>2</td>\n",
              "      <td>1</td>\n",
              "    </tr>\n",
              "  </tbody>\n",
              "</table>\n",
              "</div>"
            ],
            "text/plain": [
              "           customer  time_since_fp  time_since_lp  months_since_fp  months_since_lp\n",
              "0 13,315,067,198.00            425            324               14               11\n",
              "1 12,316,161,278.00            270            230                9                8\n",
              "2 15,557,129,447.00            425             43               14                1\n",
              "3 15,557,162,096.00            394              0               13                0\n",
              "4 21,494,990,414.00             49             43                2                1"
            ]
          },
          "metadata": {
            "tags": []
          },
          "execution_count": 62
        }
      ]
    },
    {
      "cell_type": "code",
      "metadata": {
        "id": "Bh56V1X8ke9q",
        "outputId": "790ca988-e728-4e70-935f-72a0b8596eb7",
        "colab": {
          "base_uri": "https://localhost:8080/",
          "height": 1000
        }
      },
      "source": [
        "grouping=cust_subset.groupby(['months_since_fp','months_since_lp'])\n",
        "cust_cohort_data=grouping['customer'].nunique()\n",
        "cust_cohort_data.reset_index()"
      ],
      "execution_count": 63,
      "outputs": [
        {
          "output_type": "execute_result",
          "data": {
            "text/html": [
              "<div>\n",
              "<style scoped>\n",
              "    .dataframe tbody tr th:only-of-type {\n",
              "        vertical-align: middle;\n",
              "    }\n",
              "\n",
              "    .dataframe tbody tr th {\n",
              "        vertical-align: top;\n",
              "    }\n",
              "\n",
              "    .dataframe thead th {\n",
              "        text-align: right;\n",
              "    }\n",
              "</style>\n",
              "<table border=\"1\" class=\"dataframe\">\n",
              "  <thead>\n",
              "    <tr style=\"text-align: right;\">\n",
              "      <th></th>\n",
              "      <th>months_since_fp</th>\n",
              "      <th>months_since_lp</th>\n",
              "      <th>customer</th>\n",
              "    </tr>\n",
              "  </thead>\n",
              "  <tbody>\n",
              "    <tr>\n",
              "      <th>0</th>\n",
              "      <td>1</td>\n",
              "      <td>0</td>\n",
              "      <td>70</td>\n",
              "    </tr>\n",
              "    <tr>\n",
              "      <th>1</th>\n",
              "      <td>1</td>\n",
              "      <td>1</td>\n",
              "      <td>116</td>\n",
              "    </tr>\n",
              "    <tr>\n",
              "      <th>2</th>\n",
              "      <td>2</td>\n",
              "      <td>0</td>\n",
              "      <td>277</td>\n",
              "    </tr>\n",
              "    <tr>\n",
              "      <th>3</th>\n",
              "      <td>2</td>\n",
              "      <td>1</td>\n",
              "      <td>357</td>\n",
              "    </tr>\n",
              "    <tr>\n",
              "      <th>4</th>\n",
              "      <td>2</td>\n",
              "      <td>2</td>\n",
              "      <td>362</td>\n",
              "    </tr>\n",
              "    <tr>\n",
              "      <th>5</th>\n",
              "      <td>3</td>\n",
              "      <td>0</td>\n",
              "      <td>214</td>\n",
              "    </tr>\n",
              "    <tr>\n",
              "      <th>6</th>\n",
              "      <td>3</td>\n",
              "      <td>1</td>\n",
              "      <td>180</td>\n",
              "    </tr>\n",
              "    <tr>\n",
              "      <th>7</th>\n",
              "      <td>3</td>\n",
              "      <td>2</td>\n",
              "      <td>235</td>\n",
              "    </tr>\n",
              "    <tr>\n",
              "      <th>8</th>\n",
              "      <td>3</td>\n",
              "      <td>3</td>\n",
              "      <td>314</td>\n",
              "    </tr>\n",
              "    <tr>\n",
              "      <th>9</th>\n",
              "      <td>4</td>\n",
              "      <td>0</td>\n",
              "      <td>138</td>\n",
              "    </tr>\n",
              "    <tr>\n",
              "      <th>10</th>\n",
              "      <td>4</td>\n",
              "      <td>1</td>\n",
              "      <td>166</td>\n",
              "    </tr>\n",
              "    <tr>\n",
              "      <th>11</th>\n",
              "      <td>4</td>\n",
              "      <td>2</td>\n",
              "      <td>148</td>\n",
              "    </tr>\n",
              "    <tr>\n",
              "      <th>12</th>\n",
              "      <td>4</td>\n",
              "      <td>3</td>\n",
              "      <td>155</td>\n",
              "    </tr>\n",
              "    <tr>\n",
              "      <th>13</th>\n",
              "      <td>4</td>\n",
              "      <td>4</td>\n",
              "      <td>233</td>\n",
              "    </tr>\n",
              "    <tr>\n",
              "      <th>14</th>\n",
              "      <td>5</td>\n",
              "      <td>0</td>\n",
              "      <td>112</td>\n",
              "    </tr>\n",
              "    <tr>\n",
              "      <th>15</th>\n",
              "      <td>5</td>\n",
              "      <td>1</td>\n",
              "      <td>115</td>\n",
              "    </tr>\n",
              "    <tr>\n",
              "      <th>16</th>\n",
              "      <td>5</td>\n",
              "      <td>2</td>\n",
              "      <td>105</td>\n",
              "    </tr>\n",
              "    <tr>\n",
              "      <th>17</th>\n",
              "      <td>5</td>\n",
              "      <td>3</td>\n",
              "      <td>126</td>\n",
              "    </tr>\n",
              "    <tr>\n",
              "      <th>18</th>\n",
              "      <td>5</td>\n",
              "      <td>4</td>\n",
              "      <td>95</td>\n",
              "    </tr>\n",
              "    <tr>\n",
              "      <th>19</th>\n",
              "      <td>5</td>\n",
              "      <td>5</td>\n",
              "      <td>223</td>\n",
              "    </tr>\n",
              "    <tr>\n",
              "      <th>20</th>\n",
              "      <td>6</td>\n",
              "      <td>0</td>\n",
              "      <td>97</td>\n",
              "    </tr>\n",
              "    <tr>\n",
              "      <th>21</th>\n",
              "      <td>6</td>\n",
              "      <td>1</td>\n",
              "      <td>95</td>\n",
              "    </tr>\n",
              "    <tr>\n",
              "      <th>22</th>\n",
              "      <td>6</td>\n",
              "      <td>2</td>\n",
              "      <td>85</td>\n",
              "    </tr>\n",
              "    <tr>\n",
              "      <th>23</th>\n",
              "      <td>6</td>\n",
              "      <td>3</td>\n",
              "      <td>86</td>\n",
              "    </tr>\n",
              "    <tr>\n",
              "      <th>24</th>\n",
              "      <td>6</td>\n",
              "      <td>4</td>\n",
              "      <td>77</td>\n",
              "    </tr>\n",
              "    <tr>\n",
              "      <th>25</th>\n",
              "      <td>6</td>\n",
              "      <td>5</td>\n",
              "      <td>87</td>\n",
              "    </tr>\n",
              "    <tr>\n",
              "      <th>26</th>\n",
              "      <td>6</td>\n",
              "      <td>6</td>\n",
              "      <td>367</td>\n",
              "    </tr>\n",
              "    <tr>\n",
              "      <th>27</th>\n",
              "      <td>7</td>\n",
              "      <td>0</td>\n",
              "      <td>61</td>\n",
              "    </tr>\n",
              "    <tr>\n",
              "      <th>28</th>\n",
              "      <td>7</td>\n",
              "      <td>1</td>\n",
              "      <td>69</td>\n",
              "    </tr>\n",
              "    <tr>\n",
              "      <th>29</th>\n",
              "      <td>7</td>\n",
              "      <td>2</td>\n",
              "      <td>66</td>\n",
              "    </tr>\n",
              "    <tr>\n",
              "      <th>30</th>\n",
              "      <td>7</td>\n",
              "      <td>3</td>\n",
              "      <td>55</td>\n",
              "    </tr>\n",
              "    <tr>\n",
              "      <th>31</th>\n",
              "      <td>7</td>\n",
              "      <td>4</td>\n",
              "      <td>44</td>\n",
              "    </tr>\n",
              "    <tr>\n",
              "      <th>32</th>\n",
              "      <td>7</td>\n",
              "      <td>5</td>\n",
              "      <td>53</td>\n",
              "    </tr>\n",
              "    <tr>\n",
              "      <th>33</th>\n",
              "      <td>7</td>\n",
              "      <td>6</td>\n",
              "      <td>68</td>\n",
              "    </tr>\n",
              "    <tr>\n",
              "      <th>34</th>\n",
              "      <td>7</td>\n",
              "      <td>7</td>\n",
              "      <td>248</td>\n",
              "    </tr>\n",
              "    <tr>\n",
              "      <th>35</th>\n",
              "      <td>8</td>\n",
              "      <td>0</td>\n",
              "      <td>57</td>\n",
              "    </tr>\n",
              "    <tr>\n",
              "      <th>36</th>\n",
              "      <td>8</td>\n",
              "      <td>1</td>\n",
              "      <td>74</td>\n",
              "    </tr>\n",
              "    <tr>\n",
              "      <th>37</th>\n",
              "      <td>8</td>\n",
              "      <td>2</td>\n",
              "      <td>63</td>\n",
              "    </tr>\n",
              "    <tr>\n",
              "      <th>38</th>\n",
              "      <td>8</td>\n",
              "      <td>3</td>\n",
              "      <td>50</td>\n",
              "    </tr>\n",
              "    <tr>\n",
              "      <th>39</th>\n",
              "      <td>8</td>\n",
              "      <td>4</td>\n",
              "      <td>52</td>\n",
              "    </tr>\n",
              "    <tr>\n",
              "      <th>40</th>\n",
              "      <td>8</td>\n",
              "      <td>5</td>\n",
              "      <td>40</td>\n",
              "    </tr>\n",
              "    <tr>\n",
              "      <th>41</th>\n",
              "      <td>8</td>\n",
              "      <td>6</td>\n",
              "      <td>50</td>\n",
              "    </tr>\n",
              "    <tr>\n",
              "      <th>42</th>\n",
              "      <td>8</td>\n",
              "      <td>7</td>\n",
              "      <td>55</td>\n",
              "    </tr>\n",
              "    <tr>\n",
              "      <th>43</th>\n",
              "      <td>8</td>\n",
              "      <td>8</td>\n",
              "      <td>225</td>\n",
              "    </tr>\n",
              "    <tr>\n",
              "      <th>44</th>\n",
              "      <td>9</td>\n",
              "      <td>0</td>\n",
              "      <td>69</td>\n",
              "    </tr>\n",
              "    <tr>\n",
              "      <th>45</th>\n",
              "      <td>9</td>\n",
              "      <td>1</td>\n",
              "      <td>53</td>\n",
              "    </tr>\n",
              "    <tr>\n",
              "      <th>46</th>\n",
              "      <td>9</td>\n",
              "      <td>2</td>\n",
              "      <td>54</td>\n",
              "    </tr>\n",
              "    <tr>\n",
              "      <th>47</th>\n",
              "      <td>9</td>\n",
              "      <td>3</td>\n",
              "      <td>50</td>\n",
              "    </tr>\n",
              "    <tr>\n",
              "      <th>48</th>\n",
              "      <td>9</td>\n",
              "      <td>4</td>\n",
              "      <td>51</td>\n",
              "    </tr>\n",
              "    <tr>\n",
              "      <th>49</th>\n",
              "      <td>9</td>\n",
              "      <td>5</td>\n",
              "      <td>38</td>\n",
              "    </tr>\n",
              "    <tr>\n",
              "      <th>50</th>\n",
              "      <td>9</td>\n",
              "      <td>6</td>\n",
              "      <td>40</td>\n",
              "    </tr>\n",
              "    <tr>\n",
              "      <th>51</th>\n",
              "      <td>9</td>\n",
              "      <td>7</td>\n",
              "      <td>34</td>\n",
              "    </tr>\n",
              "    <tr>\n",
              "      <th>52</th>\n",
              "      <td>9</td>\n",
              "      <td>8</td>\n",
              "      <td>55</td>\n",
              "    </tr>\n",
              "    <tr>\n",
              "      <th>53</th>\n",
              "      <td>9</td>\n",
              "      <td>9</td>\n",
              "      <td>296</td>\n",
              "    </tr>\n",
              "    <tr>\n",
              "      <th>54</th>\n",
              "      <td>10</td>\n",
              "      <td>0</td>\n",
              "      <td>75</td>\n",
              "    </tr>\n",
              "    <tr>\n",
              "      <th>55</th>\n",
              "      <td>10</td>\n",
              "      <td>1</td>\n",
              "      <td>85</td>\n",
              "    </tr>\n",
              "    <tr>\n",
              "      <th>56</th>\n",
              "      <td>10</td>\n",
              "      <td>2</td>\n",
              "      <td>57</td>\n",
              "    </tr>\n",
              "    <tr>\n",
              "      <th>57</th>\n",
              "      <td>10</td>\n",
              "      <td>3</td>\n",
              "      <td>41</td>\n",
              "    </tr>\n",
              "    <tr>\n",
              "      <th>58</th>\n",
              "      <td>10</td>\n",
              "      <td>4</td>\n",
              "      <td>44</td>\n",
              "    </tr>\n",
              "    <tr>\n",
              "      <th>59</th>\n",
              "      <td>10</td>\n",
              "      <td>5</td>\n",
              "      <td>51</td>\n",
              "    </tr>\n",
              "    <tr>\n",
              "      <th>60</th>\n",
              "      <td>10</td>\n",
              "      <td>6</td>\n",
              "      <td>36</td>\n",
              "    </tr>\n",
              "    <tr>\n",
              "      <th>61</th>\n",
              "      <td>10</td>\n",
              "      <td>7</td>\n",
              "      <td>38</td>\n",
              "    </tr>\n",
              "    <tr>\n",
              "      <th>62</th>\n",
              "      <td>10</td>\n",
              "      <td>8</td>\n",
              "      <td>45</td>\n",
              "    </tr>\n",
              "    <tr>\n",
              "      <th>63</th>\n",
              "      <td>10</td>\n",
              "      <td>9</td>\n",
              "      <td>80</td>\n",
              "    </tr>\n",
              "    <tr>\n",
              "      <th>64</th>\n",
              "      <td>10</td>\n",
              "      <td>10</td>\n",
              "      <td>283</td>\n",
              "    </tr>\n",
              "    <tr>\n",
              "      <th>65</th>\n",
              "      <td>11</td>\n",
              "      <td>0</td>\n",
              "      <td>49</td>\n",
              "    </tr>\n",
              "    <tr>\n",
              "      <th>66</th>\n",
              "      <td>11</td>\n",
              "      <td>1</td>\n",
              "      <td>59</td>\n",
              "    </tr>\n",
              "    <tr>\n",
              "      <th>67</th>\n",
              "      <td>11</td>\n",
              "      <td>2</td>\n",
              "      <td>40</td>\n",
              "    </tr>\n",
              "    <tr>\n",
              "      <th>68</th>\n",
              "      <td>11</td>\n",
              "      <td>3</td>\n",
              "      <td>40</td>\n",
              "    </tr>\n",
              "    <tr>\n",
              "      <th>69</th>\n",
              "      <td>11</td>\n",
              "      <td>4</td>\n",
              "      <td>25</td>\n",
              "    </tr>\n",
              "    <tr>\n",
              "      <th>70</th>\n",
              "      <td>11</td>\n",
              "      <td>5</td>\n",
              "      <td>38</td>\n",
              "    </tr>\n",
              "    <tr>\n",
              "      <th>71</th>\n",
              "      <td>11</td>\n",
              "      <td>6</td>\n",
              "      <td>27</td>\n",
              "    </tr>\n",
              "    <tr>\n",
              "      <th>72</th>\n",
              "      <td>11</td>\n",
              "      <td>7</td>\n",
              "      <td>25</td>\n",
              "    </tr>\n",
              "    <tr>\n",
              "      <th>73</th>\n",
              "      <td>11</td>\n",
              "      <td>8</td>\n",
              "      <td>28</td>\n",
              "    </tr>\n",
              "    <tr>\n",
              "      <th>74</th>\n",
              "      <td>11</td>\n",
              "      <td>9</td>\n",
              "      <td>31</td>\n",
              "    </tr>\n",
              "    <tr>\n",
              "      <th>75</th>\n",
              "      <td>11</td>\n",
              "      <td>10</td>\n",
              "      <td>49</td>\n",
              "    </tr>\n",
              "    <tr>\n",
              "      <th>76</th>\n",
              "      <td>11</td>\n",
              "      <td>11</td>\n",
              "      <td>236</td>\n",
              "    </tr>\n",
              "    <tr>\n",
              "      <th>77</th>\n",
              "      <td>12</td>\n",
              "      <td>0</td>\n",
              "      <td>65</td>\n",
              "    </tr>\n",
              "    <tr>\n",
              "      <th>78</th>\n",
              "      <td>12</td>\n",
              "      <td>1</td>\n",
              "      <td>65</td>\n",
              "    </tr>\n",
              "    <tr>\n",
              "      <th>79</th>\n",
              "      <td>12</td>\n",
              "      <td>2</td>\n",
              "      <td>54</td>\n",
              "    </tr>\n",
              "    <tr>\n",
              "      <th>80</th>\n",
              "      <td>12</td>\n",
              "      <td>3</td>\n",
              "      <td>32</td>\n",
              "    </tr>\n",
              "    <tr>\n",
              "      <th>81</th>\n",
              "      <td>12</td>\n",
              "      <td>4</td>\n",
              "      <td>27</td>\n",
              "    </tr>\n",
              "    <tr>\n",
              "      <th>82</th>\n",
              "      <td>12</td>\n",
              "      <td>5</td>\n",
              "      <td>29</td>\n",
              "    </tr>\n",
              "    <tr>\n",
              "      <th>83</th>\n",
              "      <td>12</td>\n",
              "      <td>6</td>\n",
              "      <td>26</td>\n",
              "    </tr>\n",
              "    <tr>\n",
              "      <th>84</th>\n",
              "      <td>12</td>\n",
              "      <td>7</td>\n",
              "      <td>32</td>\n",
              "    </tr>\n",
              "    <tr>\n",
              "      <th>85</th>\n",
              "      <td>12</td>\n",
              "      <td>8</td>\n",
              "      <td>26</td>\n",
              "    </tr>\n",
              "    <tr>\n",
              "      <th>86</th>\n",
              "      <td>12</td>\n",
              "      <td>9</td>\n",
              "      <td>27</td>\n",
              "    </tr>\n",
              "    <tr>\n",
              "      <th>87</th>\n",
              "      <td>12</td>\n",
              "      <td>10</td>\n",
              "      <td>36</td>\n",
              "    </tr>\n",
              "    <tr>\n",
              "      <th>88</th>\n",
              "      <td>12</td>\n",
              "      <td>11</td>\n",
              "      <td>41</td>\n",
              "    </tr>\n",
              "    <tr>\n",
              "      <th>89</th>\n",
              "      <td>12</td>\n",
              "      <td>12</td>\n",
              "      <td>282</td>\n",
              "    </tr>\n",
              "    <tr>\n",
              "      <th>90</th>\n",
              "      <td>13</td>\n",
              "      <td>0</td>\n",
              "      <td>60</td>\n",
              "    </tr>\n",
              "    <tr>\n",
              "      <th>91</th>\n",
              "      <td>13</td>\n",
              "      <td>1</td>\n",
              "      <td>51</td>\n",
              "    </tr>\n",
              "    <tr>\n",
              "      <th>92</th>\n",
              "      <td>13</td>\n",
              "      <td>2</td>\n",
              "      <td>51</td>\n",
              "    </tr>\n",
              "    <tr>\n",
              "      <th>93</th>\n",
              "      <td>13</td>\n",
              "      <td>3</td>\n",
              "      <td>39</td>\n",
              "    </tr>\n",
              "    <tr>\n",
              "      <th>94</th>\n",
              "      <td>13</td>\n",
              "      <td>4</td>\n",
              "      <td>26</td>\n",
              "    </tr>\n",
              "    <tr>\n",
              "      <th>95</th>\n",
              "      <td>13</td>\n",
              "      <td>5</td>\n",
              "      <td>29</td>\n",
              "    </tr>\n",
              "    <tr>\n",
              "      <th>96</th>\n",
              "      <td>13</td>\n",
              "      <td>6</td>\n",
              "      <td>21</td>\n",
              "    </tr>\n",
              "    <tr>\n",
              "      <th>97</th>\n",
              "      <td>13</td>\n",
              "      <td>7</td>\n",
              "      <td>23</td>\n",
              "    </tr>\n",
              "    <tr>\n",
              "      <th>98</th>\n",
              "      <td>13</td>\n",
              "      <td>8</td>\n",
              "      <td>31</td>\n",
              "    </tr>\n",
              "    <tr>\n",
              "      <th>99</th>\n",
              "      <td>13</td>\n",
              "      <td>9</td>\n",
              "      <td>26</td>\n",
              "    </tr>\n",
              "    <tr>\n",
              "      <th>100</th>\n",
              "      <td>13</td>\n",
              "      <td>10</td>\n",
              "      <td>21</td>\n",
              "    </tr>\n",
              "    <tr>\n",
              "      <th>101</th>\n",
              "      <td>13</td>\n",
              "      <td>11</td>\n",
              "      <td>31</td>\n",
              "    </tr>\n",
              "    <tr>\n",
              "      <th>102</th>\n",
              "      <td>13</td>\n",
              "      <td>12</td>\n",
              "      <td>49</td>\n",
              "    </tr>\n",
              "    <tr>\n",
              "      <th>103</th>\n",
              "      <td>13</td>\n",
              "      <td>13</td>\n",
              "      <td>206</td>\n",
              "    </tr>\n",
              "    <tr>\n",
              "      <th>104</th>\n",
              "      <td>14</td>\n",
              "      <td>0</td>\n",
              "      <td>92</td>\n",
              "    </tr>\n",
              "    <tr>\n",
              "      <th>105</th>\n",
              "      <td>14</td>\n",
              "      <td>1</td>\n",
              "      <td>65</td>\n",
              "    </tr>\n",
              "    <tr>\n",
              "      <th>106</th>\n",
              "      <td>14</td>\n",
              "      <td>2</td>\n",
              "      <td>62</td>\n",
              "    </tr>\n",
              "    <tr>\n",
              "      <th>107</th>\n",
              "      <td>14</td>\n",
              "      <td>3</td>\n",
              "      <td>31</td>\n",
              "    </tr>\n",
              "    <tr>\n",
              "      <th>108</th>\n",
              "      <td>14</td>\n",
              "      <td>4</td>\n",
              "      <td>31</td>\n",
              "    </tr>\n",
              "    <tr>\n",
              "      <th>109</th>\n",
              "      <td>14</td>\n",
              "      <td>5</td>\n",
              "      <td>24</td>\n",
              "    </tr>\n",
              "    <tr>\n",
              "      <th>110</th>\n",
              "      <td>14</td>\n",
              "      <td>6</td>\n",
              "      <td>21</td>\n",
              "    </tr>\n",
              "    <tr>\n",
              "      <th>111</th>\n",
              "      <td>14</td>\n",
              "      <td>7</td>\n",
              "      <td>18</td>\n",
              "    </tr>\n",
              "    <tr>\n",
              "      <th>112</th>\n",
              "      <td>14</td>\n",
              "      <td>8</td>\n",
              "      <td>26</td>\n",
              "    </tr>\n",
              "    <tr>\n",
              "      <th>113</th>\n",
              "      <td>14</td>\n",
              "      <td>9</td>\n",
              "      <td>15</td>\n",
              "    </tr>\n",
              "    <tr>\n",
              "      <th>114</th>\n",
              "      <td>14</td>\n",
              "      <td>10</td>\n",
              "      <td>26</td>\n",
              "    </tr>\n",
              "    <tr>\n",
              "      <th>115</th>\n",
              "      <td>14</td>\n",
              "      <td>11</td>\n",
              "      <td>29</td>\n",
              "    </tr>\n",
              "    <tr>\n",
              "      <th>116</th>\n",
              "      <td>14</td>\n",
              "      <td>12</td>\n",
              "      <td>28</td>\n",
              "    </tr>\n",
              "    <tr>\n",
              "      <th>117</th>\n",
              "      <td>14</td>\n",
              "      <td>13</td>\n",
              "      <td>34</td>\n",
              "    </tr>\n",
              "    <tr>\n",
              "      <th>118</th>\n",
              "      <td>14</td>\n",
              "      <td>14</td>\n",
              "      <td>221</td>\n",
              "    </tr>\n",
              "  </tbody>\n",
              "</table>\n",
              "</div>"
            ],
            "text/plain": [
              "     months_since_fp  months_since_lp  customer\n",
              "0                  1                0        70\n",
              "1                  1                1       116\n",
              "2                  2                0       277\n",
              "3                  2                1       357\n",
              "4                  2                2       362\n",
              "5                  3                0       214\n",
              "6                  3                1       180\n",
              "7                  3                2       235\n",
              "8                  3                3       314\n",
              "9                  4                0       138\n",
              "10                 4                1       166\n",
              "11                 4                2       148\n",
              "12                 4                3       155\n",
              "13                 4                4       233\n",
              "14                 5                0       112\n",
              "15                 5                1       115\n",
              "16                 5                2       105\n",
              "17                 5                3       126\n",
              "18                 5                4        95\n",
              "19                 5                5       223\n",
              "20                 6                0        97\n",
              "21                 6                1        95\n",
              "22                 6                2        85\n",
              "23                 6                3        86\n",
              "24                 6                4        77\n",
              "25                 6                5        87\n",
              "26                 6                6       367\n",
              "27                 7                0        61\n",
              "28                 7                1        69\n",
              "29                 7                2        66\n",
              "30                 7                3        55\n",
              "31                 7                4        44\n",
              "32                 7                5        53\n",
              "33                 7                6        68\n",
              "34                 7                7       248\n",
              "35                 8                0        57\n",
              "36                 8                1        74\n",
              "37                 8                2        63\n",
              "38                 8                3        50\n",
              "39                 8                4        52\n",
              "40                 8                5        40\n",
              "41                 8                6        50\n",
              "42                 8                7        55\n",
              "43                 8                8       225\n",
              "44                 9                0        69\n",
              "45                 9                1        53\n",
              "46                 9                2        54\n",
              "47                 9                3        50\n",
              "48                 9                4        51\n",
              "49                 9                5        38\n",
              "50                 9                6        40\n",
              "51                 9                7        34\n",
              "52                 9                8        55\n",
              "53                 9                9       296\n",
              "54                10                0        75\n",
              "55                10                1        85\n",
              "56                10                2        57\n",
              "57                10                3        41\n",
              "58                10                4        44\n",
              "59                10                5        51\n",
              "60                10                6        36\n",
              "61                10                7        38\n",
              "62                10                8        45\n",
              "63                10                9        80\n",
              "64                10               10       283\n",
              "65                11                0        49\n",
              "66                11                1        59\n",
              "67                11                2        40\n",
              "68                11                3        40\n",
              "69                11                4        25\n",
              "70                11                5        38\n",
              "71                11                6        27\n",
              "72                11                7        25\n",
              "73                11                8        28\n",
              "74                11                9        31\n",
              "75                11               10        49\n",
              "76                11               11       236\n",
              "77                12                0        65\n",
              "78                12                1        65\n",
              "79                12                2        54\n",
              "80                12                3        32\n",
              "81                12                4        27\n",
              "82                12                5        29\n",
              "83                12                6        26\n",
              "84                12                7        32\n",
              "85                12                8        26\n",
              "86                12                9        27\n",
              "87                12               10        36\n",
              "88                12               11        41\n",
              "89                12               12       282\n",
              "90                13                0        60\n",
              "91                13                1        51\n",
              "92                13                2        51\n",
              "93                13                3        39\n",
              "94                13                4        26\n",
              "95                13                5        29\n",
              "96                13                6        21\n",
              "97                13                7        23\n",
              "98                13                8        31\n",
              "99                13                9        26\n",
              "100               13               10        21\n",
              "101               13               11        31\n",
              "102               13               12        49\n",
              "103               13               13       206\n",
              "104               14                0        92\n",
              "105               14                1        65\n",
              "106               14                2        62\n",
              "107               14                3        31\n",
              "108               14                4        31\n",
              "109               14                5        24\n",
              "110               14                6        21\n",
              "111               14                7        18\n",
              "112               14                8        26\n",
              "113               14                9        15\n",
              "114               14               10        26\n",
              "115               14               11        29\n",
              "116               14               12        28\n",
              "117               14               13        34\n",
              "118               14               14       221"
            ]
          },
          "metadata": {
            "tags": []
          },
          "execution_count": 63
        }
      ]
    },
    {
      "cell_type": "code",
      "metadata": {
        "id": "BgAabqXYn7oM",
        "outputId": "46c10ac4-b8a4-4464-9f9d-9fc349d94c74",
        "colab": {
          "base_uri": "https://localhost:8080/",
          "height": 522
        }
      },
      "source": [
        "cohort_counts=cust_cohort_data.unstack('months_since_lp')\n",
        "cohort_counts2=cohort_counts.cumsum(axis=1)\n",
        "cohort_counts2['total_col']=cohort_counts2.max(axis=1)\n",
        "cohort_counts2.sort_values(by='months_since_fp',ascending=False)"
      ],
      "execution_count": 64,
      "outputs": [
        {
          "output_type": "execute_result",
          "data": {
            "text/html": [
              "<div>\n",
              "<style scoped>\n",
              "    .dataframe tbody tr th:only-of-type {\n",
              "        vertical-align: middle;\n",
              "    }\n",
              "\n",
              "    .dataframe tbody tr th {\n",
              "        vertical-align: top;\n",
              "    }\n",
              "\n",
              "    .dataframe thead th {\n",
              "        text-align: right;\n",
              "    }\n",
              "</style>\n",
              "<table border=\"1\" class=\"dataframe\">\n",
              "  <thead>\n",
              "    <tr style=\"text-align: right;\">\n",
              "      <th>months_since_lp</th>\n",
              "      <th>0</th>\n",
              "      <th>1</th>\n",
              "      <th>2</th>\n",
              "      <th>3</th>\n",
              "      <th>4</th>\n",
              "      <th>5</th>\n",
              "      <th>6</th>\n",
              "      <th>7</th>\n",
              "      <th>8</th>\n",
              "      <th>9</th>\n",
              "      <th>10</th>\n",
              "      <th>11</th>\n",
              "      <th>12</th>\n",
              "      <th>13</th>\n",
              "      <th>14</th>\n",
              "      <th>total_col</th>\n",
              "    </tr>\n",
              "    <tr>\n",
              "      <th>months_since_fp</th>\n",
              "      <th></th>\n",
              "      <th></th>\n",
              "      <th></th>\n",
              "      <th></th>\n",
              "      <th></th>\n",
              "      <th></th>\n",
              "      <th></th>\n",
              "      <th></th>\n",
              "      <th></th>\n",
              "      <th></th>\n",
              "      <th></th>\n",
              "      <th></th>\n",
              "      <th></th>\n",
              "      <th></th>\n",
              "      <th></th>\n",
              "      <th></th>\n",
              "    </tr>\n",
              "  </thead>\n",
              "  <tbody>\n",
              "    <tr>\n",
              "      <th>14</th>\n",
              "      <td>92.00</td>\n",
              "      <td>157.00</td>\n",
              "      <td>219.00</td>\n",
              "      <td>250.00</td>\n",
              "      <td>281.00</td>\n",
              "      <td>305.00</td>\n",
              "      <td>326.00</td>\n",
              "      <td>344.00</td>\n",
              "      <td>370.00</td>\n",
              "      <td>385.00</td>\n",
              "      <td>411.00</td>\n",
              "      <td>440.00</td>\n",
              "      <td>468.00</td>\n",
              "      <td>502.00</td>\n",
              "      <td>723.00</td>\n",
              "      <td>723.00</td>\n",
              "    </tr>\n",
              "    <tr>\n",
              "      <th>13</th>\n",
              "      <td>60.00</td>\n",
              "      <td>111.00</td>\n",
              "      <td>162.00</td>\n",
              "      <td>201.00</td>\n",
              "      <td>227.00</td>\n",
              "      <td>256.00</td>\n",
              "      <td>277.00</td>\n",
              "      <td>300.00</td>\n",
              "      <td>331.00</td>\n",
              "      <td>357.00</td>\n",
              "      <td>378.00</td>\n",
              "      <td>409.00</td>\n",
              "      <td>458.00</td>\n",
              "      <td>664.00</td>\n",
              "      <td>nan</td>\n",
              "      <td>664.00</td>\n",
              "    </tr>\n",
              "    <tr>\n",
              "      <th>12</th>\n",
              "      <td>65.00</td>\n",
              "      <td>130.00</td>\n",
              "      <td>184.00</td>\n",
              "      <td>216.00</td>\n",
              "      <td>243.00</td>\n",
              "      <td>272.00</td>\n",
              "      <td>298.00</td>\n",
              "      <td>330.00</td>\n",
              "      <td>356.00</td>\n",
              "      <td>383.00</td>\n",
              "      <td>419.00</td>\n",
              "      <td>460.00</td>\n",
              "      <td>742.00</td>\n",
              "      <td>nan</td>\n",
              "      <td>nan</td>\n",
              "      <td>742.00</td>\n",
              "    </tr>\n",
              "    <tr>\n",
              "      <th>11</th>\n",
              "      <td>49.00</td>\n",
              "      <td>108.00</td>\n",
              "      <td>148.00</td>\n",
              "      <td>188.00</td>\n",
              "      <td>213.00</td>\n",
              "      <td>251.00</td>\n",
              "      <td>278.00</td>\n",
              "      <td>303.00</td>\n",
              "      <td>331.00</td>\n",
              "      <td>362.00</td>\n",
              "      <td>411.00</td>\n",
              "      <td>647.00</td>\n",
              "      <td>nan</td>\n",
              "      <td>nan</td>\n",
              "      <td>nan</td>\n",
              "      <td>647.00</td>\n",
              "    </tr>\n",
              "    <tr>\n",
              "      <th>10</th>\n",
              "      <td>75.00</td>\n",
              "      <td>160.00</td>\n",
              "      <td>217.00</td>\n",
              "      <td>258.00</td>\n",
              "      <td>302.00</td>\n",
              "      <td>353.00</td>\n",
              "      <td>389.00</td>\n",
              "      <td>427.00</td>\n",
              "      <td>472.00</td>\n",
              "      <td>552.00</td>\n",
              "      <td>835.00</td>\n",
              "      <td>nan</td>\n",
              "      <td>nan</td>\n",
              "      <td>nan</td>\n",
              "      <td>nan</td>\n",
              "      <td>835.00</td>\n",
              "    </tr>\n",
              "    <tr>\n",
              "      <th>9</th>\n",
              "      <td>69.00</td>\n",
              "      <td>122.00</td>\n",
              "      <td>176.00</td>\n",
              "      <td>226.00</td>\n",
              "      <td>277.00</td>\n",
              "      <td>315.00</td>\n",
              "      <td>355.00</td>\n",
              "      <td>389.00</td>\n",
              "      <td>444.00</td>\n",
              "      <td>740.00</td>\n",
              "      <td>nan</td>\n",
              "      <td>nan</td>\n",
              "      <td>nan</td>\n",
              "      <td>nan</td>\n",
              "      <td>nan</td>\n",
              "      <td>740.00</td>\n",
              "    </tr>\n",
              "    <tr>\n",
              "      <th>8</th>\n",
              "      <td>57.00</td>\n",
              "      <td>131.00</td>\n",
              "      <td>194.00</td>\n",
              "      <td>244.00</td>\n",
              "      <td>296.00</td>\n",
              "      <td>336.00</td>\n",
              "      <td>386.00</td>\n",
              "      <td>441.00</td>\n",
              "      <td>666.00</td>\n",
              "      <td>nan</td>\n",
              "      <td>nan</td>\n",
              "      <td>nan</td>\n",
              "      <td>nan</td>\n",
              "      <td>nan</td>\n",
              "      <td>nan</td>\n",
              "      <td>666.00</td>\n",
              "    </tr>\n",
              "    <tr>\n",
              "      <th>7</th>\n",
              "      <td>61.00</td>\n",
              "      <td>130.00</td>\n",
              "      <td>196.00</td>\n",
              "      <td>251.00</td>\n",
              "      <td>295.00</td>\n",
              "      <td>348.00</td>\n",
              "      <td>416.00</td>\n",
              "      <td>664.00</td>\n",
              "      <td>nan</td>\n",
              "      <td>nan</td>\n",
              "      <td>nan</td>\n",
              "      <td>nan</td>\n",
              "      <td>nan</td>\n",
              "      <td>nan</td>\n",
              "      <td>nan</td>\n",
              "      <td>664.00</td>\n",
              "    </tr>\n",
              "    <tr>\n",
              "      <th>6</th>\n",
              "      <td>97.00</td>\n",
              "      <td>192.00</td>\n",
              "      <td>277.00</td>\n",
              "      <td>363.00</td>\n",
              "      <td>440.00</td>\n",
              "      <td>527.00</td>\n",
              "      <td>894.00</td>\n",
              "      <td>nan</td>\n",
              "      <td>nan</td>\n",
              "      <td>nan</td>\n",
              "      <td>nan</td>\n",
              "      <td>nan</td>\n",
              "      <td>nan</td>\n",
              "      <td>nan</td>\n",
              "      <td>nan</td>\n",
              "      <td>894.00</td>\n",
              "    </tr>\n",
              "    <tr>\n",
              "      <th>5</th>\n",
              "      <td>112.00</td>\n",
              "      <td>227.00</td>\n",
              "      <td>332.00</td>\n",
              "      <td>458.00</td>\n",
              "      <td>553.00</td>\n",
              "      <td>776.00</td>\n",
              "      <td>nan</td>\n",
              "      <td>nan</td>\n",
              "      <td>nan</td>\n",
              "      <td>nan</td>\n",
              "      <td>nan</td>\n",
              "      <td>nan</td>\n",
              "      <td>nan</td>\n",
              "      <td>nan</td>\n",
              "      <td>nan</td>\n",
              "      <td>776.00</td>\n",
              "    </tr>\n",
              "    <tr>\n",
              "      <th>4</th>\n",
              "      <td>138.00</td>\n",
              "      <td>304.00</td>\n",
              "      <td>452.00</td>\n",
              "      <td>607.00</td>\n",
              "      <td>840.00</td>\n",
              "      <td>nan</td>\n",
              "      <td>nan</td>\n",
              "      <td>nan</td>\n",
              "      <td>nan</td>\n",
              "      <td>nan</td>\n",
              "      <td>nan</td>\n",
              "      <td>nan</td>\n",
              "      <td>nan</td>\n",
              "      <td>nan</td>\n",
              "      <td>nan</td>\n",
              "      <td>840.00</td>\n",
              "    </tr>\n",
              "    <tr>\n",
              "      <th>3</th>\n",
              "      <td>214.00</td>\n",
              "      <td>394.00</td>\n",
              "      <td>629.00</td>\n",
              "      <td>943.00</td>\n",
              "      <td>nan</td>\n",
              "      <td>nan</td>\n",
              "      <td>nan</td>\n",
              "      <td>nan</td>\n",
              "      <td>nan</td>\n",
              "      <td>nan</td>\n",
              "      <td>nan</td>\n",
              "      <td>nan</td>\n",
              "      <td>nan</td>\n",
              "      <td>nan</td>\n",
              "      <td>nan</td>\n",
              "      <td>943.00</td>\n",
              "    </tr>\n",
              "    <tr>\n",
              "      <th>2</th>\n",
              "      <td>277.00</td>\n",
              "      <td>634.00</td>\n",
              "      <td>996.00</td>\n",
              "      <td>nan</td>\n",
              "      <td>nan</td>\n",
              "      <td>nan</td>\n",
              "      <td>nan</td>\n",
              "      <td>nan</td>\n",
              "      <td>nan</td>\n",
              "      <td>nan</td>\n",
              "      <td>nan</td>\n",
              "      <td>nan</td>\n",
              "      <td>nan</td>\n",
              "      <td>nan</td>\n",
              "      <td>nan</td>\n",
              "      <td>996.00</td>\n",
              "    </tr>\n",
              "    <tr>\n",
              "      <th>1</th>\n",
              "      <td>70.00</td>\n",
              "      <td>186.00</td>\n",
              "      <td>nan</td>\n",
              "      <td>nan</td>\n",
              "      <td>nan</td>\n",
              "      <td>nan</td>\n",
              "      <td>nan</td>\n",
              "      <td>nan</td>\n",
              "      <td>nan</td>\n",
              "      <td>nan</td>\n",
              "      <td>nan</td>\n",
              "      <td>nan</td>\n",
              "      <td>nan</td>\n",
              "      <td>nan</td>\n",
              "      <td>nan</td>\n",
              "      <td>186.00</td>\n",
              "    </tr>\n",
              "  </tbody>\n",
              "</table>\n",
              "</div>"
            ],
            "text/plain": [
              "months_since_lp      0      1      2      3      4      5      6      7      8      9     10     11     12     13     14  total_col\n",
              "months_since_fp                                                                                                                    \n",
              "14               92.00 157.00 219.00 250.00 281.00 305.00 326.00 344.00 370.00 385.00 411.00 440.00 468.00 502.00 723.00     723.00\n",
              "13               60.00 111.00 162.00 201.00 227.00 256.00 277.00 300.00 331.00 357.00 378.00 409.00 458.00 664.00    nan     664.00\n",
              "12               65.00 130.00 184.00 216.00 243.00 272.00 298.00 330.00 356.00 383.00 419.00 460.00 742.00    nan    nan     742.00\n",
              "11               49.00 108.00 148.00 188.00 213.00 251.00 278.00 303.00 331.00 362.00 411.00 647.00    nan    nan    nan     647.00\n",
              "10               75.00 160.00 217.00 258.00 302.00 353.00 389.00 427.00 472.00 552.00 835.00    nan    nan    nan    nan     835.00\n",
              "9                69.00 122.00 176.00 226.00 277.00 315.00 355.00 389.00 444.00 740.00    nan    nan    nan    nan    nan     740.00\n",
              "8                57.00 131.00 194.00 244.00 296.00 336.00 386.00 441.00 666.00    nan    nan    nan    nan    nan    nan     666.00\n",
              "7                61.00 130.00 196.00 251.00 295.00 348.00 416.00 664.00    nan    nan    nan    nan    nan    nan    nan     664.00\n",
              "6                97.00 192.00 277.00 363.00 440.00 527.00 894.00    nan    nan    nan    nan    nan    nan    nan    nan     894.00\n",
              "5               112.00 227.00 332.00 458.00 553.00 776.00    nan    nan    nan    nan    nan    nan    nan    nan    nan     776.00\n",
              "4               138.00 304.00 452.00 607.00 840.00    nan    nan    nan    nan    nan    nan    nan    nan    nan    nan     840.00\n",
              "3               214.00 394.00 629.00 943.00    nan    nan    nan    nan    nan    nan    nan    nan    nan    nan    nan     943.00\n",
              "2               277.00 634.00 996.00    nan    nan    nan    nan    nan    nan    nan    nan    nan    nan    nan    nan     996.00\n",
              "1                70.00 186.00    nan    nan    nan    nan    nan    nan    nan    nan    nan    nan    nan    nan    nan     186.00"
            ]
          },
          "metadata": {
            "tags": []
          },
          "execution_count": 64
        }
      ]
    },
    {
      "cell_type": "code",
      "metadata": {
        "id": "AW90lZJ2rN75"
      },
      "source": [
        "cohort_sizes = cohort_counts2.iloc[:,15]\n",
        "retention = cohort_counts2.div(cohort_sizes, axis=0)\n",
        "retention_round = retention.round(3) * 100\n",
        "retention_final=retention_round.drop(columns=['total_col'])"
      ],
      "execution_count": 65,
      "outputs": []
    },
    {
      "cell_type": "code",
      "metadata": {
        "id": "ZjFIoPmh0iSj",
        "outputId": "c492fff8-dab0-4df3-90a6-430896233612",
        "colab": {
          "base_uri": "https://localhost:8080/",
          "height": 514
        }
      },
      "source": [
        "plt.figure(figsize=(15,8))\n",
        "plt.title('Retention by Monthly Cohorts')\n",
        "sns.heatmap(retention_final, annot=True, cmap=\"Greens\",fmt='g')\n",
        "plt.show()"
      ],
      "execution_count": 66,
      "outputs": [
        {
          "output_type": "display_data",
          "data": {
            "image/png": "[encoded data removed]",
            "text/plain": [
              "<Figure size 1080x576 with 2 Axes>"
            ]
          },
          "metadata": {
            "tags": [],
            "needs_background": "light"
          }
        }
      ]
    },
    {
      "cell_type": "code",
      "metadata": {
        "id": "AGwe4TxsDohq",
        "outputId": "085cf949-3724-45ee-9ee4-28b7a466944e",
        "colab": {
          "base_uri": "https://localhost:8080/",
          "height": 522
        }
      },
      "source": [
        "cohort_counts=cust_cohort_data.unstack('months_since_lp')\n",
        "#cohort_counts3=cohort_counts.cumsum(axis=0)\n",
        "cohort_counts['total_col']=cohort_counts.sum(axis=1)\n",
        "cohort_counts.sort_values(by='months_since_fp',ascending=False).reset_index()\n",
        "cohort_counts"
      ],
      "execution_count": 67,
      "outputs": [
        {
          "output_type": "execute_result",
          "data": {
            "text/html": [
              "<div>\n",
              "<style scoped>\n",
              "    .dataframe tbody tr th:only-of-type {\n",
              "        vertical-align: middle;\n",
              "    }\n",
              "\n",
              "    .dataframe tbody tr th {\n",
              "        vertical-align: top;\n",
              "    }\n",
              "\n",
              "    .dataframe thead th {\n",
              "        text-align: right;\n",
              "    }\n",
              "</style>\n",
              "<table border=\"1\" class=\"dataframe\">\n",
              "  <thead>\n",
              "    <tr style=\"text-align: right;\">\n",
              "      <th>months_since_lp</th>\n",
              "      <th>0</th>\n",
              "      <th>1</th>\n",
              "      <th>2</th>\n",
              "      <th>3</th>\n",
              "      <th>4</th>\n",
              "      <th>5</th>\n",
              "      <th>6</th>\n",
              "      <th>7</th>\n",
              "      <th>8</th>\n",
              "      <th>9</th>\n",
              "      <th>10</th>\n",
              "      <th>11</th>\n",
              "      <th>12</th>\n",
              "      <th>13</th>\n",
              "      <th>14</th>\n",
              "      <th>total_col</th>\n",
              "    </tr>\n",
              "    <tr>\n",
              "      <th>months_since_fp</th>\n",
              "      <th></th>\n",
              "      <th></th>\n",
              "      <th></th>\n",
              "      <th></th>\n",
              "      <th></th>\n",
              "      <th></th>\n",
              "      <th></th>\n",
              "      <th></th>\n",
              "      <th></th>\n",
              "      <th></th>\n",
              "      <th></th>\n",
              "      <th></th>\n",
              "      <th></th>\n",
              "      <th></th>\n",
              "      <th></th>\n",
              "      <th></th>\n",
              "    </tr>\n",
              "  </thead>\n",
              "  <tbody>\n",
              "    <tr>\n",
              "      <th>1</th>\n",
              "      <td>70.00</td>\n",
              "      <td>116.00</td>\n",
              "      <td>nan</td>\n",
              "      <td>nan</td>\n",
              "      <td>nan</td>\n",
              "      <td>nan</td>\n",
              "      <td>nan</td>\n",
              "      <td>nan</td>\n",
              "      <td>nan</td>\n",
              "      <td>nan</td>\n",
              "      <td>nan</td>\n",
              "      <td>nan</td>\n",
              "      <td>nan</td>\n",
              "      <td>nan</td>\n",
              "      <td>nan</td>\n",
              "      <td>186.00</td>\n",
              "    </tr>\n",
              "    <tr>\n",
              "      <th>2</th>\n",
              "      <td>277.00</td>\n",
              "      <td>357.00</td>\n",
              "      <td>362.00</td>\n",
              "      <td>nan</td>\n",
              "      <td>nan</td>\n",
              "      <td>nan</td>\n",
              "      <td>nan</td>\n",
              "      <td>nan</td>\n",
              "      <td>nan</td>\n",
              "      <td>nan</td>\n",
              "      <td>nan</td>\n",
              "      <td>nan</td>\n",
              "      <td>nan</td>\n",
              "      <td>nan</td>\n",
              "      <td>nan</td>\n",
              "      <td>996.00</td>\n",
              "    </tr>\n",
              "    <tr>\n",
              "      <th>3</th>\n",
              "      <td>214.00</td>\n",
              "      <td>180.00</td>\n",
              "      <td>235.00</td>\n",
              "      <td>314.00</td>\n",
              "      <td>nan</td>\n",
              "      <td>nan</td>\n",
              "      <td>nan</td>\n",
              "      <td>nan</td>\n",
              "      <td>nan</td>\n",
              "      <td>nan</td>\n",
              "      <td>nan</td>\n",
              "      <td>nan</td>\n",
              "      <td>nan</td>\n",
              "      <td>nan</td>\n",
              "      <td>nan</td>\n",
              "      <td>943.00</td>\n",
              "    </tr>\n",
              "    <tr>\n",
              "      <th>4</th>\n",
              "      <td>138.00</td>\n",
              "      <td>166.00</td>\n",
              "      <td>148.00</td>\n",
              "      <td>155.00</td>\n",
              "      <td>233.00</td>\n",
              "      <td>nan</td>\n",
              "      <td>nan</td>\n",
              "      <td>nan</td>\n",
              "      <td>nan</td>\n",
              "      <td>nan</td>\n",
              "      <td>nan</td>\n",
              "      <td>nan</td>\n",
              "      <td>nan</td>\n",
              "      <td>nan</td>\n",
              "      <td>nan</td>\n",
              "      <td>840.00</td>\n",
              "    </tr>\n",
              "    <tr>\n",
              "      <th>5</th>\n",
              "      <td>112.00</td>\n",
              "      <td>115.00</td>\n",
              "      <td>105.00</td>\n",
              "      <td>126.00</td>\n",
              "      <td>95.00</td>\n",
              "      <td>223.00</td>\n",
              "      <td>nan</td>\n",
              "      <td>nan</td>\n",
              "      <td>nan</td>\n",
              "      <td>nan</td>\n",
              "      <td>nan</td>\n",
              "      <td>nan</td>\n",
              "      <td>nan</td>\n",
              "      <td>nan</td>\n",
              "      <td>nan</td>\n",
              "      <td>776.00</td>\n",
              "    </tr>\n",
              "    <tr>\n",
              "      <th>6</th>\n",
              "      <td>97.00</td>\n",
              "      <td>95.00</td>\n",
              "      <td>85.00</td>\n",
              "      <td>86.00</td>\n",
              "      <td>77.00</td>\n",
              "      <td>87.00</td>\n",
              "      <td>367.00</td>\n",
              "      <td>nan</td>\n",
              "      <td>nan</td>\n",
              "      <td>nan</td>\n",
              "      <td>nan</td>\n",
              "      <td>nan</td>\n",
              "      <td>nan</td>\n",
              "      <td>nan</td>\n",
              "      <td>nan</td>\n",
              "      <td>894.00</td>\n",
              "    </tr>\n",
              "    <tr>\n",
              "      <th>7</th>\n",
              "      <td>61.00</td>\n",
              "      <td>69.00</td>\n",
              "      <td>66.00</td>\n",
              "      <td>55.00</td>\n",
              "      <td>44.00</td>\n",
              "      <td>53.00</td>\n",
              "      <td>68.00</td>\n",
              "      <td>248.00</td>\n",
              "      <td>nan</td>\n",
              "      <td>nan</td>\n",
              "      <td>nan</td>\n",
              "      <td>nan</td>\n",
              "      <td>nan</td>\n",
              "      <td>nan</td>\n",
              "      <td>nan</td>\n",
              "      <td>664.00</td>\n",
              "    </tr>\n",
              "    <tr>\n",
              "      <th>8</th>\n",
              "      <td>57.00</td>\n",
              "      <td>74.00</td>\n",
              "      <td>63.00</td>\n",
              "      <td>50.00</td>\n",
              "      <td>52.00</td>\n",
              "      <td>40.00</td>\n",
              "      <td>50.00</td>\n",
              "      <td>55.00</td>\n",
              "      <td>225.00</td>\n",
              "      <td>nan</td>\n",
              "      <td>nan</td>\n",
              "      <td>nan</td>\n",
              "      <td>nan</td>\n",
              "      <td>nan</td>\n",
              "      <td>nan</td>\n",
              "      <td>666.00</td>\n",
              "    </tr>\n",
              "    <tr>\n",
              "      <th>9</th>\n",
              "      <td>69.00</td>\n",
              "      <td>53.00</td>\n",
              "      <td>54.00</td>\n",
              "      <td>50.00</td>\n",
              "      <td>51.00</td>\n",
              "      <td>38.00</td>\n",
              "      <td>40.00</td>\n",
              "      <td>34.00</td>\n",
              "      <td>55.00</td>\n",
              "      <td>296.00</td>\n",
              "      <td>nan</td>\n",
              "      <td>nan</td>\n",
              "      <td>nan</td>\n",
              "      <td>nan</td>\n",
              "      <td>nan</td>\n",
              "      <td>740.00</td>\n",
              "    </tr>\n",
              "    <tr>\n",
              "      <th>10</th>\n",
              "      <td>75.00</td>\n",
              "      <td>85.00</td>\n",
              "      <td>57.00</td>\n",
              "      <td>41.00</td>\n",
              "      <td>44.00</td>\n",
              "      <td>51.00</td>\n",
              "      <td>36.00</td>\n",
              "      <td>38.00</td>\n",
              "      <td>45.00</td>\n",
              "      <td>80.00</td>\n",
              "      <td>283.00</td>\n",
              "      <td>nan</td>\n",
              "      <td>nan</td>\n",
              "      <td>nan</td>\n",
              "      <td>nan</td>\n",
              "      <td>835.00</td>\n",
              "    </tr>\n",
              "    <tr>\n",
              "      <th>11</th>\n",
              "      <td>49.00</td>\n",
              "      <td>59.00</td>\n",
              "      <td>40.00</td>\n",
              "      <td>40.00</td>\n",
              "      <td>25.00</td>\n",
              "      <td>38.00</td>\n",
              "      <td>27.00</td>\n",
              "      <td>25.00</td>\n",
              "      <td>28.00</td>\n",
              "      <td>31.00</td>\n",
              "      <td>49.00</td>\n",
              "      <td>236.00</td>\n",
              "      <td>nan</td>\n",
              "      <td>nan</td>\n",
              "      <td>nan</td>\n",
              "      <td>647.00</td>\n",
              "    </tr>\n",
              "    <tr>\n",
              "      <th>12</th>\n",
              "      <td>65.00</td>\n",
              "      <td>65.00</td>\n",
              "      <td>54.00</td>\n",
              "      <td>32.00</td>\n",
              "      <td>27.00</td>\n",
              "      <td>29.00</td>\n",
              "      <td>26.00</td>\n",
              "      <td>32.00</td>\n",
              "      <td>26.00</td>\n",
              "      <td>27.00</td>\n",
              "      <td>36.00</td>\n",
              "      <td>41.00</td>\n",
              "      <td>282.00</td>\n",
              "      <td>nan</td>\n",
              "      <td>nan</td>\n",
              "      <td>742.00</td>\n",
              "    </tr>\n",
              "    <tr>\n",
              "      <th>13</th>\n",
              "      <td>60.00</td>\n",
              "      <td>51.00</td>\n",
              "      <td>51.00</td>\n",
              "      <td>39.00</td>\n",
              "      <td>26.00</td>\n",
              "      <td>29.00</td>\n",
              "      <td>21.00</td>\n",
              "      <td>23.00</td>\n",
              "      <td>31.00</td>\n",
              "      <td>26.00</td>\n",
              "      <td>21.00</td>\n",
              "      <td>31.00</td>\n",
              "      <td>49.00</td>\n",
              "      <td>206.00</td>\n",
              "      <td>nan</td>\n",
              "      <td>664.00</td>\n",
              "    </tr>\n",
              "    <tr>\n",
              "      <th>14</th>\n",
              "      <td>92.00</td>\n",
              "      <td>65.00</td>\n",
              "      <td>62.00</td>\n",
              "      <td>31.00</td>\n",
              "      <td>31.00</td>\n",
              "      <td>24.00</td>\n",
              "      <td>21.00</td>\n",
              "      <td>18.00</td>\n",
              "      <td>26.00</td>\n",
              "      <td>15.00</td>\n",
              "      <td>26.00</td>\n",
              "      <td>29.00</td>\n",
              "      <td>28.00</td>\n",
              "      <td>34.00</td>\n",
              "      <td>221.00</td>\n",
              "      <td>723.00</td>\n",
              "    </tr>\n",
              "  </tbody>\n",
              "</table>\n",
              "</div>"
            ],
            "text/plain": [
              "months_since_lp      0      1      2      3      4      5      6      7      8      9     10     11     12     13     14  total_col\n",
              "months_since_fp                                                                                                                    \n",
              "1                70.00 116.00    nan    nan    nan    nan    nan    nan    nan    nan    nan    nan    nan    nan    nan     186.00\n",
              "2               277.00 357.00 362.00    nan    nan    nan    nan    nan    nan    nan    nan    nan    nan    nan    nan     996.00\n",
              "3               214.00 180.00 235.00 314.00    nan    nan    nan    nan    nan    nan    nan    nan    nan    nan    nan     943.00\n",
              "4               138.00 166.00 148.00 155.00 233.00    nan    nan    nan    nan    nan    nan    nan    nan    nan    nan     840.00\n",
              "5               112.00 115.00 105.00 126.00  95.00 223.00    nan    nan    nan    nan    nan    nan    nan    nan    nan     776.00\n",
              "6                97.00  95.00  85.00  86.00  77.00  87.00 367.00    nan    nan    nan    nan    nan    nan    nan    nan     894.00\n",
              "7                61.00  69.00  66.00  55.00  44.00  53.00  68.00 248.00    nan    nan    nan    nan    nan    nan    nan     664.00\n",
              "8                57.00  74.00  63.00  50.00  52.00  40.00  50.00  55.00 225.00    nan    nan    nan    nan    nan    nan     666.00\n",
              "9                69.00  53.00  54.00  50.00  51.00  38.00  40.00  34.00  55.00 296.00    nan    nan    nan    nan    nan     740.00\n",
              "10               75.00  85.00  57.00  41.00  44.00  51.00  36.00  38.00  45.00  80.00 283.00    nan    nan    nan    nan     835.00\n",
              "11               49.00  59.00  40.00  40.00  25.00  38.00  27.00  25.00  28.00  31.00  49.00 236.00    nan    nan    nan     647.00\n",
              "12               65.00  65.00  54.00  32.00  27.00  29.00  26.00  32.00  26.00  27.00  36.00  41.00 282.00    nan    nan     742.00\n",
              "13               60.00  51.00  51.00  39.00  26.00  29.00  21.00  23.00  31.00  26.00  21.00  31.00  49.00 206.00    nan     664.00\n",
              "14               92.00  65.00  62.00  31.00  31.00  24.00  21.00  18.00  26.00  15.00  26.00  29.00  28.00  34.00 221.00     723.00"
            ]
          },
          "metadata": {
            "tags": []
          },
          "execution_count": 67
        }
      ]
    },
    {
      "cell_type": "code",
      "metadata": {
        "id": "HUANeczvEFt_",
        "outputId": "3bd17384-3352-4b28-f4ba-61ee1b862165",
        "colab": {
          "base_uri": "https://localhost:8080/",
          "height": 514
        }
      },
      "source": [
        "cohort_sizes = cohort_counts.iloc[:,15]\n",
        "retention = cohort_counts.div(cohort_sizes, axis=0)\n",
        "retention_round = retention.round(3) * 100\n",
        "retention_final=retention_round.drop(columns=['total_col'])\n",
        "\n",
        "plt.figure(figsize=(15,8))\n",
        "plt.title('Retention by Monthly Cohorts')\n",
        "sns.heatmap(retention_final, annot=True,fmt='g')\n",
        "plt.show()"
      ],
      "execution_count": 68,
      "outputs": [
        {
          "output_type": "display_data",
          "data": {
            "image/png": "[encoded data removed]",
            "text/plain": [
              "<Figure size 1080x576 with 2 Axes>"
            ]
          },
          "metadata": {
            "tags": [],
            "needs_background": "light"
          }
        }
      ]
    },
    {
      "cell_type": "markdown",
      "metadata": {
        "id": "lsD8gUWrx9ns"
      },
      "source": [
        "# ***Hypothesis Testing***"
      ]
    },
    {
      "cell_type": "code",
      "metadata": {
        "id": "oXSMRlGQzfCf"
      },
      "source": [
        "# Defining Function to test continuous variable hypotheses\n",
        "def simple_regression_summary(yvar):\n",
        "  \n",
        "  list_of_cohort_factors=[\n",
        "                          \"total_order\",'total_sales','time_to_2','time_since_lp','total_surplus_orders']\n",
        "\n",
        "  output=[]\n",
        "  i=0\n",
        "\n",
        "  for cohort_factor in list_of_cohort_factors:\n",
        "      formula = cohort_factor + '~' + yvar\n",
        "      results=sm.OLS.from_formula(formula, data = cust_final_dataset).fit()\n",
        "    #output.append(results_summary_to_dataframe(results,list_of_cohort_factors[i]))\n",
        "\n",
        "    #take the result of an statsmodel results table and transforms it into a dataframe\n",
        "    \n",
        "      cvar=list_of_cohort_factors[i]\n",
        "      pvals = results.pvalues\n",
        "      coeff = results.params\n",
        "      conf_lower = results.conf_int()[0]\n",
        "      conf_higher = results.conf_int()[1]\n",
        "\n",
        "      results_df = pd.DataFrame({\"independent\":cvar,\n",
        "                               \"pvals\":pvals,\n",
        "                               \"coeff\":coeff,\n",
        "                               \"conf_lower\":conf_lower,\n",
        "                               \"conf_higher\":conf_higher\n",
        "                                })\n",
        "\n",
        "    #Reordering...\n",
        "      results_df = results_df[['independent',\"coeff\",\"pvals\",\"conf_lower\",\"conf_higher\"]]\n",
        "      print(results_df)\n",
        "      i=i+1\n",
        "\n",
        "  return\n"
      ],
      "execution_count": 69,
      "outputs": []
    },
    {
      "cell_type": "code",
      "metadata": {
        "id": "QKBb4llASsdV"
      },
      "source": [
        "# Defining Function to test categorical variable hypotheses\n",
        "def anova_results_summary(yvar):\n",
        "  \n",
        "  list_of_cohort_factors=[\"total_order\",'total_sales','time_to_2','time_since_lp','total_surplus_orders']\n",
        "\n",
        "  output=[]\n",
        "  i=0\n",
        "\n",
        "  for cohort_factor in list_of_cohort_factors:\n",
        "      formula = cohort_factor + '~' + yvar\n",
        "      results=sm.OLS.from_formula(formula, data = cust_final_dataset).fit()\n",
        "      table=stapi.stats.anova_lm(results)\n",
        "      print(cohort_factor, table.iloc[0:1], \"\\n\")\n",
        "      \n",
        "      i=i+1\n",
        "\n",
        "  return "
      ],
      "execution_count": 70,
      "outputs": []
    },
    {
      "cell_type": "markdown",
      "metadata": {
        "id": "_sqBAyycWV3O"
      },
      "source": [
        "# 1. Entry Source"
      ]
    },
    {
      "cell_type": "code",
      "metadata": {
        "id": "vLAHhFVvWfUu",
        "outputId": "f964f947-e7a9-45e6-ce39-645f35de9ae6",
        "colab": {
          "base_uri": "https://localhost:8080/"
        }
      },
      "source": [
        "# Categorical\n",
        "(anova_results_summary('cohort_fp_source'))\n"
      ],
      "execution_count": 71,
      "outputs": [
        {
          "output_type": "stream",
          "text": [
            "total_order                    df   sum_sq  mean_sq     F  PR(>F)\n",
            "cohort_fp_source 3.00 9,322.55 3,107.52 90.60    0.00 \n",
            "\n",
            "total_sales                    df       sum_sq      mean_sq     F  PR(>F)\n",
            "cohort_fp_source 3.00 7,302,655.95 2,434,218.65 61.75    0.00 \n",
            "\n",
            "time_to_2                    df    sum_sq   mean_sq    F  PR(>F)\n",
            "cohort_fp_source 3.00 55,424.82 18,474.94 4.16    0.01 \n",
            "\n",
            "time_since_lp                    df     sum_sq    mean_sq     F  PR(>F)\n",
            "cohort_fp_source 3.00 595,903.62 198,634.54 14.20    0.00 \n",
            "\n",
            "total_surplus_orders                    df   sum_sq  mean_sq     F  PR(>F)\n",
            "cohort_fp_source 3.00 4,672.30 1,557.43 45.61    0.00 \n",
            "\n"
          ],
          "name": "stdout"
        }
      ]
    },
    {
      "cell_type": "markdown",
      "metadata": {
        "id": "qq85SktrWDXx"
      },
      "source": [
        "# 2. Promo Value"
      ]
    },
    {
      "cell_type": "code",
      "metadata": {
        "id": "9sBsnLv1TJKR",
        "outputId": "c23a12d2-739f-44a6-cea0-b6d9ede9dc0e",
        "colab": {
          "base_uri": "https://localhost:8080/"
        }
      },
      "source": [
        "# Categorical\n",
        "anova_results_summary('cohort_fp_promo_use')"
      ],
      "execution_count": 72,
      "outputs": [
        {
          "output_type": "stream",
          "text": [
            "total_order                       df  sum_sq  mean_sq    F  PR(>F)\n",
            "cohort_fp_promo_use 1.00  208.41   208.41 5.92    0.01 \n",
            "\n",
            "total_sales                       df  sum_sq  mean_sq    F  PR(>F)\n",
            "cohort_fp_promo_use 1.00   58.25    58.25 0.00    0.97 \n",
            "\n",
            "time_to_2                       df  sum_sq  mean_sq    F  PR(>F)\n",
            "cohort_fp_promo_use 1.00    4.22     4.22 0.00    0.98 \n",
            "\n",
            "time_since_lp                       df    sum_sq   mean_sq    F  PR(>F)\n",
            "cohort_fp_promo_use 1.00 42,507.06 42,507.06 3.03    0.08 \n",
            "\n",
            "total_surplus_orders                       df  sum_sq  mean_sq    F  PR(>F)\n",
            "cohort_fp_promo_use 1.00    1.76     1.76 0.05    0.82 \n",
            "\n"
          ],
          "name": "stdout"
        }
      ]
    },
    {
      "cell_type": "code",
      "metadata": {
        "id": "9nfQ9k7PV-wK",
        "outputId": "05eab4d5-9fdf-4bc5-d039-c699d0d7e75e",
        "colab": {
          "base_uri": "https://localhost:8080/"
        }
      },
      "source": [
        "# Continuous\n",
        "simple_regression_summary('fp_promo_val')"
      ],
      "execution_count": 73,
      "outputs": [
        {
          "output_type": "stream",
          "text": [
            "              independent  coeff  pvals  conf_lower  conf_higher\n",
            "Intercept     total_order   3.83   0.00        3.71         3.95\n",
            "fp_promo_val  total_order   0.12   0.06       -0.01         0.24\n",
            "              independent  coeff  pvals  conf_lower  conf_higher\n",
            "Intercept     total_sales 126.06   0.00      122.03       130.09\n",
            "fp_promo_val  total_sales   0.33   0.88       -3.88         4.55\n",
            "             independent  coeff  pvals  conf_lower  conf_higher\n",
            "Intercept      time_to_2  56.21   0.00       54.58        57.84\n",
            "fp_promo_val   time_to_2   0.64   0.44       -0.98         2.26\n",
            "                independent  coeff  pvals  conf_lower  conf_higher\n",
            "Intercept     time_since_lp 135.84   0.00      133.45       138.22\n",
            "fp_promo_val  time_since_lp   1.46   0.25       -1.04         3.95\n",
            "                       independent  coeff  pvals  conf_lower  conf_higher\n",
            "Intercept     total_surplus_orders   0.11   0.06       -0.01         0.23\n",
            "fp_promo_val  total_surplus_orders  -0.01   0.88       -0.13         0.11\n"
          ],
          "name": "stdout"
        }
      ]
    },
    {
      "cell_type": "markdown",
      "metadata": {
        "id": "17JKYiK3fwVk"
      },
      "source": [
        "# 3. Shops Per Zip"
      ]
    },
    {
      "cell_type": "code",
      "metadata": {
        "id": "d3RZe4Cnf3XJ",
        "outputId": "d4395ede-4c92-49bf-d68c-be704d0f1020",
        "colab": {
          "base_uri": "https://localhost:8080/"
        }
      },
      "source": [
        "anova_results_summary('cohort_shops_per_zip')"
      ],
      "execution_count": 74,
      "outputs": [
        {
          "output_type": "stream",
          "text": [
            "total_order                        df   sum_sq  mean_sq     F  PR(>F)\n",
            "cohort_shops_per_zip 2.00 2,892.54 1,446.27 41.42    0.00 \n",
            "\n",
            "total_sales                        df       sum_sq      mean_sq     F  PR(>F)\n",
            "cohort_shops_per_zip 2.00 2,239,908.94 1,119,954.47 28.06    0.00 \n",
            "\n",
            "time_to_2                        df    sum_sq  mean_sq    F  PR(>F)\n",
            "cohort_shops_per_zip 2.00 14,539.73 7,269.87 1.64    0.19 \n",
            "\n",
            "time_since_lp                        df    sum_sq   mean_sq    F  PR(>F)\n",
            "cohort_shops_per_zip 2.00 21,901.32 10,950.66 0.78    0.46 \n",
            "\n",
            "total_surplus_orders                        df   sum_sq  mean_sq     F  PR(>F)\n",
            "cohort_shops_per_zip 2.00 1,742.37   871.19 25.31    0.00 \n",
            "\n"
          ],
          "name": "stdout"
        }
      ]
    },
    {
      "cell_type": "code",
      "metadata": {
        "id": "ruXcX2yVgU-I",
        "outputId": "bf71beea-04b7-4bd6-ae99-6a7b9defc2ba",
        "colab": {
          "base_uri": "https://localhost:8080/"
        }
      },
      "source": [
        "simple_regression_summary('shops_per_zip')"
      ],
      "execution_count": 75,
      "outputs": [
        {
          "output_type": "stream",
          "text": [
            "               independent  coeff  pvals  conf_lower  conf_higher\n",
            "Intercept      total_order   3.25   0.00        3.07         3.42\n",
            "shops_per_zip  total_order   0.23   0.00        0.18         0.28\n",
            "               independent  coeff  pvals  conf_lower  conf_higher\n",
            "Intercept      total_sales 109.16   0.00      103.20       115.12\n",
            "shops_per_zip  total_sales   6.22   0.00        4.56         7.89\n",
            "              independent  coeff  pvals  conf_lower  conf_higher\n",
            "Intercept       time_to_2  56.49   0.00       54.08        58.90\n",
            "shops_per_zip   time_to_2  -0.03   0.93       -0.69         0.62\n",
            "                 independent  coeff  pvals  conf_lower  conf_higher\n",
            "Intercept      time_since_lp 138.71   0.00      135.17       142.24\n",
            "shops_per_zip  time_since_lp  -0.91   0.07       -1.89         0.08\n",
            "                        independent  coeff  pvals  conf_lower  conf_higher\n",
            "Intercept      total_surplus_orders  -0.40   0.00       -0.57        -0.22\n",
            "shops_per_zip  total_surplus_orders   0.19   0.00        0.14         0.24\n"
          ],
          "name": "stdout"
        }
      ]
    },
    {
      "cell_type": "markdown",
      "metadata": {
        "id": "X7R4G1DxhnjM"
      },
      "source": [
        "# 4. Shop Loyalty"
      ]
    },
    {
      "cell_type": "code",
      "metadata": {
        "id": "AjhdBLX4hu3D",
        "outputId": "e5d32b50-68b7-4a86-ede6-252ed15f3a42",
        "colab": {
          "base_uri": "https://localhost:8080/"
        }
      },
      "source": [
        "anova_results_summary('cohort_shop_loyalty')"
      ],
      "execution_count": 76,
      "outputs": [
        {
          "output_type": "stream",
          "text": [
            "total_order                       df   sum_sq  mean_sq     F  PR(>F)\n",
            "cohort_shop_loyalty 2.00 6,783.31 3,391.66 98.19    0.00 \n",
            "\n",
            "total_sales                       df       sum_sq      mean_sq     F  PR(>F)\n",
            "cohort_shop_loyalty 2.00 6,675,587.97 3,337,793.99 84.55    0.00 \n",
            "\n",
            "time_to_2                       df    sum_sq   mean_sq    F  PR(>F)\n",
            "cohort_shop_loyalty 2.00 23,118.64 11,559.32 2.60    0.07 \n",
            "\n",
            "time_since_lp                       df       sum_sq      mean_sq      F  PR(>F)\n",
            "cohort_shop_loyalty 2.00 5,764,467.98 2,882,233.99 213.68    0.00 \n",
            "\n",
            "total_surplus_orders                       df   sum_sq  mean_sq      F  PR(>F)\n",
            "cohort_shop_loyalty 2.00 7,513.85 3,756.93 110.94    0.00 \n",
            "\n"
          ],
          "name": "stdout"
        }
      ]
    },
    {
      "cell_type": "code",
      "metadata": {
        "id": "E7Bpz0nthyGE",
        "outputId": "928f90f3-a1b1-40a7-d35d-a186fdec2a94",
        "colab": {
          "base_uri": "https://localhost:8080/"
        }
      },
      "source": [
        "simple_regression_summary('fp_shop_cust_loyalty_score')"
      ],
      "execution_count": 77,
      "outputs": [
        {
          "output_type": "stream",
          "text": [
            "                            independent  coeff  pvals  conf_lower  conf_higher\n",
            "Intercept                   total_order  -0.19   0.41       -0.66         0.27\n",
            "fp_shop_cust_loyalty_score  total_order   0.06   0.00        0.05         0.06\n",
            "                            independent  coeff  pvals  conf_lower  conf_higher\n",
            "Intercept                   total_sales  -1.56   0.85      -17.21        14.10\n",
            "fp_shop_cust_loyalty_score  total_sales   1.74   0.00        1.55         1.93\n",
            "                           independent  coeff  pvals  conf_lower  conf_higher\n",
            "Intercept                    time_to_2  64.25   0.00       56.72        71.77\n",
            "fp_shop_cust_loyalty_score   time_to_2  -0.09   0.04       -0.18        -0.01\n",
            "                              independent  coeff  pvals  conf_lower  conf_higher\n",
            "Intercept                   time_since_lp 256.54   0.00      248.23       264.86\n",
            "fp_shop_cust_loyalty_score  time_since_lp  -1.65   0.00       -1.76        -1.55\n",
            "                                     independent  coeff  pvals  conf_lower  conf_higher\n",
            "Intercept                   total_surplus_orders  -4.14   0.00       -4.60        -3.69\n",
            "fp_shop_cust_loyalty_score  total_surplus_orders   0.06   0.00        0.05         0.06\n"
          ],
          "name": "stdout"
        }
      ]
    },
    {
      "cell_type": "markdown",
      "metadata": {
        "id": "Ud902y7EiODw"
      },
      "source": [
        "# 5. Zip Loyalty"
      ]
    },
    {
      "cell_type": "code",
      "metadata": {
        "id": "YeFzU2lqicAU",
        "outputId": "70336d97-efaf-493e-f616-991a7dd8d5c6",
        "colab": {
          "base_uri": "https://localhost:8080/"
        }
      },
      "source": [
        "anova_results_summary('fp_zip_cust_loyalty_score')"
      ],
      "execution_count": 78,
      "outputs": [
        {
          "output_type": "stream",
          "text": [
            "total_order                             df    sum_sq   mean_sq      F  PR(>F)\n",
            "fp_zip_cust_loyalty_score 1.00 15,161.50 15,161.50 432.99    0.00 \n",
            "\n",
            "total_sales                             df        sum_sq       mean_sq      F  PR(>F)\n",
            "fp_zip_cust_loyalty_score 1.00 15,409,544.81 15,409,544.81 384.06    0.00 \n",
            "\n",
            "time_to_2                             df    sum_sq   mean_sq    F  PR(>F)\n",
            "fp_zip_cust_loyalty_score 1.00 41,427.10 41,427.10 9.33    0.00 \n",
            "\n",
            "time_since_lp                             df       sum_sq      mean_sq      F  PR(>F)\n",
            "fp_zip_cust_loyalty_score 1.00 7,361,751.49 7,361,751.49 569.20    0.00 \n",
            "\n",
            "total_surplus_orders                             df    sum_sq   mean_sq      F  PR(>F)\n",
            "fp_zip_cust_loyalty_score 1.00 14,983.88 14,983.88 438.13    0.00 \n",
            "\n"
          ],
          "name": "stdout"
        }
      ]
    },
    {
      "cell_type": "code",
      "metadata": {
        "id": "5tu-Q01HipRU",
        "outputId": "49cb988c-9b59-4cab-a5ae-4a242bdf2416",
        "colab": {
          "base_uri": "https://localhost:8080/"
        }
      },
      "source": [
        "  simple_regression_summary('fp_zip_cust_loyalty_score')"
      ],
      "execution_count": 79,
      "outputs": [
        {
          "output_type": "stream",
          "text": [
            "                           independent  coeff  pvals  conf_lower  conf_higher\n",
            "Intercept                  total_order   0.18   0.34       -0.20         0.56\n",
            "fp_zip_cust_loyalty_score  total_order   0.04   0.00        0.04         0.05\n",
            "                           independent  coeff  pvals  conf_lower  conf_higher\n",
            "Intercept                  total_sales   8.85   0.18       -3.99        21.69\n",
            "fp_zip_cust_loyalty_score  total_sales   1.43   0.00        1.29         1.57\n",
            "                          independent  coeff  pvals  conf_lower  conf_higher\n",
            "Intercept                   time_to_2  65.08   0.00       59.30        70.86\n",
            "fp_zip_cust_loyalty_score   time_to_2  -0.09   0.00       -0.15        -0.03\n",
            "                             independent  coeff  pvals  conf_lower  conf_higher\n",
            "Intercept                  time_since_lp 215.84   0.00      208.55       223.13\n",
            "fp_zip_cust_loyalty_score  time_since_lp  -0.99   0.00       -1.07        -0.91\n",
            "                                    independent  coeff  pvals  conf_lower  conf_higher\n",
            "Intercept                  total_surplus_orders  -3.55   0.00       -3.92        -3.17\n",
            "fp_zip_cust_loyalty_score  total_surplus_orders   0.04   0.00        0.04         0.05\n"
          ],
          "name": "stdout"
        }
      ]
    }
  ]
}