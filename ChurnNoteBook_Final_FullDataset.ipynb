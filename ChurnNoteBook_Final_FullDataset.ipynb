{
  "nbformat": 4,
  "nbformat_minor": 0,
  "metadata": {
    "colab": {
      "name": "ChurnNoteBook_Final.ipynb",
      "provenance": [],
      "collapsed_sections": [],
      "authorship_tag": "ABX9TyMWL35j4hNJhHgej4G9vtZP",
      "include_colab_link": true
    },
    "kernelspec": {
      "name": "python3",
      "display_name": "Python 3"
    }
  },
  "cells": [
    {
      "cell_type": "markdown",
      "metadata": {
        "id": "view-in-github",
        "colab_type": "text"
      },
      "source": [
        "<a href=\"https://colab.research.google.com/github/aneeshoberoi/churnhw/blob/main/ChurnNoteBook_Final_FullDataset.ipynb\" target=\"_parent\"><img src=\"https://colab.research.google.com/assets/colab-badge.svg\" alt=\"Open In Colab\"/></a>"
      ]
    },
    {
      "cell_type": "code",
      "metadata": {
        "id": "fAemffSOhqZu"
      },
      "source": [
        "import pandas as pd\n",
        "import numpy as np\n",
        "from collections import OrderedDict\n",
        "\n",
        "pd.set_option('display.float_format', lambda x: '%.0f' % x)\n",
        "pd.set_option(\"display.precision\",2)"
      ],
      "execution_count": 61,
      "outputs": []
    },
    {
      "cell_type": "code",
      "metadata": {
        "id": "ZMwOrs5Th067"
      },
      "source": [
        "df=pd.read_csv('https://raw.githubusercontent.com/aneeshoberoi/churnhw/main/churn_homework%20-%20homework_orders.csv?token=AP7KM2RBFAH333CPSXM4ILC7SV6WI', sep=\",\")"
      ],
      "execution_count": 6,
      "outputs": []
    },
    {
      "cell_type": "code",
      "metadata": {
        "id": "hNQzJuICh-jI",
        "outputId": "8d1a1a84-087a-4220-a1f1-8cfb55db55a4",
        "colab": {
          "base_uri": "https://localhost:8080/",
          "height": 619
        }
      },
      "source": [
        "raw=df.head(100)\n",
        "raw.set_index('order_id')"
      ],
      "execution_count": 15,
      "outputs": [
        {
          "output_type": "execute_result",
          "data": {
            "text/html": [
              "<div>\n",
              "<style scoped>\n",
              "    .dataframe tbody tr th:only-of-type {\n",
              "        vertical-align: middle;\n",
              "    }\n",
              "\n",
              "    .dataframe tbody tr th {\n",
              "        vertical-align: top;\n",
              "    }\n",
              "\n",
              "    .dataframe thead th {\n",
              "        text-align: right;\n",
              "    }\n",
              "</style>\n",
              "<table border=\"1\" class=\"dataframe\">\n",
              "  <thead>\n",
              "    <tr style=\"text-align: right;\">\n",
              "      <th></th>\n",
              "      <th>source</th>\n",
              "      <th>date_purchased</th>\n",
              "      <th>shipping_type</th>\n",
              "      <th>payment_method</th>\n",
              "      <th>promo_value</th>\n",
              "      <th>restaurant_total</th>\n",
              "      <th>customer</th>\n",
              "      <th>shops_id</th>\n",
              "      <th>state</th>\n",
              "      <th>postal_code</th>\n",
              "    </tr>\n",
              "    <tr>\n",
              "      <th>order_id</th>\n",
              "      <th></th>\n",
              "      <th></th>\n",
              "      <th></th>\n",
              "      <th></th>\n",
              "      <th></th>\n",
              "      <th></th>\n",
              "      <th></th>\n",
              "      <th></th>\n",
              "      <th></th>\n",
              "      <th></th>\n",
              "    </tr>\n",
              "  </thead>\n",
              "  <tbody>\n",
              "    <tr>\n",
              "      <th>47433960</th>\n",
              "      <td>iosapp</td>\n",
              "      <td>2019-03-13T08:02:07.000Z</td>\n",
              "      <td>Delivery</td>\n",
              "      <td>credit</td>\n",
              "      <td>0</td>\n",
              "      <td>16</td>\n",
              "      <td>13315067198</td>\n",
              "      <td>24597</td>\n",
              "      <td>MD</td>\n",
              "      <td>21162</td>\n",
              "    </tr>\n",
              "    <tr>\n",
              "      <th>47434359</th>\n",
              "      <td>iosapp</td>\n",
              "      <td>2019-03-13T08:11:38.000Z</td>\n",
              "      <td>Delivery</td>\n",
              "      <td>credit</td>\n",
              "      <td>0</td>\n",
              "      <td>25</td>\n",
              "      <td>15557129447</td>\n",
              "      <td>64392</td>\n",
              "      <td>NY</td>\n",
              "      <td>12944</td>\n",
              "    </tr>\n",
              "    <tr>\n",
              "      <th>47437194</th>\n",
              "      <td>partner_website</td>\n",
              "      <td>2019-03-13T09:07:31.000Z</td>\n",
              "      <td>Delivery</td>\n",
              "      <td>cash</td>\n",
              "      <td>0</td>\n",
              "      <td>43</td>\n",
              "      <td>25689365012</td>\n",
              "      <td>33699</td>\n",
              "      <td>NJ</td>\n",
              "      <td>8007</td>\n",
              "    </tr>\n",
              "    <tr>\n",
              "      <th>47442942</th>\n",
              "      <td>partner_website</td>\n",
              "      <td>2019-03-13T11:01:04.000Z</td>\n",
              "      <td>Delivery</td>\n",
              "      <td>credit</td>\n",
              "      <td>0</td>\n",
              "      <td>28</td>\n",
              "      <td>25421112251</td>\n",
              "      <td>19002</td>\n",
              "      <td>WI</td>\n",
              "      <td>53235</td>\n",
              "    </tr>\n",
              "    <tr>\n",
              "      <th>47443107</th>\n",
              "      <td>partner_website</td>\n",
              "      <td>2019-03-13T11:04:56.000Z</td>\n",
              "      <td>Delivery</td>\n",
              "      <td>credit</td>\n",
              "      <td>0</td>\n",
              "      <td>23</td>\n",
              "      <td>18529185191</td>\n",
              "      <td>34911</td>\n",
              "      <td>MA</td>\n",
              "      <td>2122</td>\n",
              "    </tr>\n",
              "    <tr>\n",
              "      <th>...</th>\n",
              "      <td>...</td>\n",
              "      <td>...</td>\n",
              "      <td>...</td>\n",
              "      <td>...</td>\n",
              "      <td>...</td>\n",
              "      <td>...</td>\n",
              "      <td>...</td>\n",
              "      <td>...</td>\n",
              "      <td>...</td>\n",
              "      <td>...</td>\n",
              "    </tr>\n",
              "    <tr>\n",
              "      <th>47571438</th>\n",
              "      <td>iosapp</td>\n",
              "      <td>2019-03-14T20:33:11.000Z</td>\n",
              "      <td>Delivery</td>\n",
              "      <td>credit</td>\n",
              "      <td>0</td>\n",
              "      <td>19</td>\n",
              "      <td>18312751742</td>\n",
              "      <td>57072</td>\n",
              "      <td>PA</td>\n",
              "      <td>19382</td>\n",
              "    </tr>\n",
              "    <tr>\n",
              "      <th>47574693</th>\n",
              "      <td>partner_website</td>\n",
              "      <td>2019-03-15T07:32:12.000Z</td>\n",
              "      <td>Delivery</td>\n",
              "      <td>cash</td>\n",
              "      <td>0</td>\n",
              "      <td>17</td>\n",
              "      <td>6103411793</td>\n",
              "      <td>15639</td>\n",
              "      <td>CT</td>\n",
              "      <td>6484</td>\n",
              "    </tr>\n",
              "    <tr>\n",
              "      <th>47575101</th>\n",
              "      <td>androidapp</td>\n",
              "      <td>2019-03-15T07:51:01.000Z</td>\n",
              "      <td>Delivery</td>\n",
              "      <td>credit</td>\n",
              "      <td>0</td>\n",
              "      <td>37</td>\n",
              "      <td>27267518882</td>\n",
              "      <td>30054</td>\n",
              "      <td>NJ</td>\n",
              "      <td>7921</td>\n",
              "    </tr>\n",
              "    <tr>\n",
              "      <th>47576202</th>\n",
              "      <td>slicelife</td>\n",
              "      <td>2019-03-15T08:13:06.000Z</td>\n",
              "      <td>Delivery</td>\n",
              "      <td>credit</td>\n",
              "      <td>0</td>\n",
              "      <td>23</td>\n",
              "      <td>29219400710</td>\n",
              "      <td>40359</td>\n",
              "      <td>NJ</td>\n",
              "      <td>8854</td>\n",
              "    </tr>\n",
              "    <tr>\n",
              "      <th>47576433</th>\n",
              "      <td>partner_website</td>\n",
              "      <td>2019-03-15T08:16:12.000Z</td>\n",
              "      <td>Delivery</td>\n",
              "      <td>cash</td>\n",
              "      <td>0</td>\n",
              "      <td>14</td>\n",
              "      <td>18520839371</td>\n",
              "      <td>51831</td>\n",
              "      <td>MA</td>\n",
              "      <td>2121</td>\n",
              "    </tr>\n",
              "  </tbody>\n",
              "</table>\n",
              "<p>100 rows × 10 columns</p>\n",
              "</div>"
            ],
            "text/plain": [
              "                   source            date_purchased  ... state postal_code\n",
              "order_id                                             ...                  \n",
              "47433960           iosapp  2019-03-13T08:02:07.000Z  ...    MD       21162\n",
              "47434359           iosapp  2019-03-13T08:11:38.000Z  ...    NY       12944\n",
              "47437194  partner_website  2019-03-13T09:07:31.000Z  ...    NJ        8007\n",
              "47442942  partner_website  2019-03-13T11:01:04.000Z  ...    WI       53235\n",
              "47443107  partner_website  2019-03-13T11:04:56.000Z  ...    MA        2122\n",
              "...                   ...                       ...  ...   ...         ...\n",
              "47571438           iosapp  2019-03-14T20:33:11.000Z  ...    PA       19382\n",
              "47574693  partner_website  2019-03-15T07:32:12.000Z  ...    CT        6484\n",
              "47575101       androidapp  2019-03-15T07:51:01.000Z  ...    NJ        7921\n",
              "47576202        slicelife  2019-03-15T08:13:06.000Z  ...    NJ        8854\n",
              "47576433  partner_website  2019-03-15T08:16:12.000Z  ...    MA        2121\n",
              "\n",
              "[100 rows x 10 columns]"
            ]
          },
          "metadata": {
            "tags": []
          },
          "execution_count": 15
        }
      ]
    },
    {
      "cell_type": "code",
      "metadata": {
        "id": "t2KE-bLU7jYX"
      },
      "source": [
        "# assigning to working copy for indicator variables"
      ],
      "execution_count": null,
      "outputs": []
    },
    {
      "cell_type": "markdown",
      "metadata": {
        "id": "tj8tz5U_7hOW"
      },
      "source": [
        "# **Basic Statistics**"
      ]
    },
    {
      "cell_type": "code",
      "metadata": {
        "id": "KUH5A7-o7gb6",
        "outputId": "7fd0a6fa-cd21-4fae-8d35-74bf9f2f9068",
        "colab": {
          "base_uri": "https://localhost:8080/",
          "height": 35
        }
      },
      "source": [
        "raw.customer.nunique()"
      ],
      "execution_count": 12,
      "outputs": [
        {
          "output_type": "execute_result",
          "data": {
            "text/plain": [
              "87"
            ]
          },
          "metadata": {
            "tags": []
          },
          "execution_count": 12
        }
      ]
    },
    {
      "cell_type": "code",
      "metadata": {
        "id": "x1klgOTK8jnu",
        "outputId": "10774226-14d9-43af-b0d4-1ce7ec8275bf",
        "colab": {
          "base_uri": "https://localhost:8080/",
          "height": 35
        }
      },
      "source": [
        "raw.restaurant_total.sum()"
      ],
      "execution_count": 13,
      "outputs": [
        {
          "output_type": "execute_result",
          "data": {
            "text/plain": [
              "2909.73"
            ]
          },
          "metadata": {
            "tags": []
          },
          "execution_count": 13
        }
      ]
    },
    {
      "cell_type": "code",
      "metadata": {
        "id": "yiqURoiF8pSv",
        "outputId": "fad167fb-de11-410a-9bf5-2b7f5a491c4e",
        "colab": {
          "base_uri": "https://localhost:8080/",
          "height": 35
        }
      },
      "source": [
        "raw.order_id.nunique()"
      ],
      "execution_count": 16,
      "outputs": [
        {
          "output_type": "execute_result",
          "data": {
            "text/plain": [
              "100"
            ]
          },
          "metadata": {
            "tags": []
          },
          "execution_count": 16
        }
      ]
    },
    {
      "cell_type": "markdown",
      "metadata": {
        "id": "m4ryxWsNiFYB"
      },
      "source": [
        "# ***Data Cleaning***"
      ]
    },
    {
      "cell_type": "code",
      "metadata": {
        "id": "Y0pmc4Ob82vv"
      },
      "source": [
        "# assigning to working copy for indicator variables\n",
        "test=raw"
      ],
      "execution_count": 17,
      "outputs": []
    },
    {
      "cell_type": "code",
      "metadata": {
        "id": "NL7yafaDiEGE"
      },
      "source": [
        "# Remove zero dollar txns\n",
        "test=test[test['restaurant_total']>0]"
      ],
      "execution_count": 18,
      "outputs": []
    },
    {
      "cell_type": "code",
      "metadata": {
        "id": "hzTowRdfiPzN"
      },
      "source": [
        "# Variable Conversion\n",
        "test['date_purchased']=pd.to_datetime(test['date_purchased'])\n",
        "test['dateonly_purchased']=test['date_purchased'].dt.date\n",
        "test['houronly_purchased']=test['date_purchased'].dt.hour\n",
        "test['datehour_purchased']=test['dateonly_purchased'].astype(str) + \"-\" + test['houronly_purchased'].astype(str)\n",
        "\n",
        "test['restaurant_total']=test['restaurant_total'].astype(float)"
      ],
      "execution_count": null,
      "outputs": []
    },
    {
      "cell_type": "code",
      "metadata": {
        "id": "yrravVgeiTNP"
      },
      "source": [
        "# Removing Duplicate Txns - i.e. those made within the same hour at the same shop by a given customer. Keeping last txn only.\n",
        "test=test.drop_duplicates(subset=['customer', 'shops_id', 'datehour_purchased'], keep='last')\n"
      ],
      "execution_count": 20,
      "outputs": []
    },
    {
      "cell_type": "code",
      "metadata": {
        "id": "64IxZWTS9D_I",
        "outputId": "0a02505c-f9cc-417b-af33-90adce742a9a",
        "colab": {
          "base_uri": "https://localhost:8080/",
          "height": 35
        }
      },
      "source": [
        "# Checking Impact of cleanup\n",
        "\n",
        "test.restaurant_total.sum()"
      ],
      "execution_count": 21,
      "outputs": [
        {
          "output_type": "execute_result",
          "data": {
            "text/plain": [
              "2693.3500000000004"
            ]
          },
          "metadata": {
            "tags": []
          },
          "execution_count": 21
        }
      ]
    },
    {
      "cell_type": "code",
      "metadata": {
        "id": "Dqs0-aI99JeA",
        "outputId": "cdd4823c-b900-4eea-c467-cbdc731c5cce",
        "colab": {
          "base_uri": "https://localhost:8080/",
          "height": 35
        }
      },
      "source": [
        "test.order_id.count()"
      ],
      "execution_count": 22,
      "outputs": [
        {
          "output_type": "execute_result",
          "data": {
            "text/plain": [
              "90"
            ]
          },
          "metadata": {
            "tags": []
          },
          "execution_count": 22
        }
      ]
    },
    {
      "cell_type": "markdown",
      "metadata": {
        "id": "uy8xsCRciWOY"
      },
      "source": [
        "# ***Data Prep - Indicators***"
      ]
    },
    {
      "cell_type": "code",
      "metadata": {
        "id": "BuJ7YqJqihuQ"
      },
      "source": [
        " #Enumerating Purchases\n",
        " test.sort_values(by=['customer','date_purchased'])\n",
        " \n",
        "test = test.assign(order_enum=test.groupby('customer')['datehour_purchased'].cumcount()+1)\n",
        "test['total_order']=test.groupby('customer')['order_id'].transform('count')"
      ],
      "execution_count": 23,
      "outputs": []
    },
    {
      "cell_type": "code",
      "metadata": {
        "id": "MKxzGjgIinDI"
      },
      "source": [
        "test['bin_orders']=np.where(test['total_order']<7,test['order_enum'],7)"
      ],
      "execution_count": 24,
      "outputs": []
    },
    {
      "cell_type": "code",
      "metadata": {
        "id": "5cdHcKtuipp7"
      },
      "source": [
        "# Calculating Journey Data\n",
        "\n",
        "test['time_between_purch']=test.groupby(['customer'])['date_purchased'].diff()\n",
        "test['spend_growth']=test.groupby(['customer'])['restaurant_total'].diff()\n"
      ],
      "execution_count": 25,
      "outputs": []
    },
    {
      "cell_type": "code",
      "metadata": {
        "id": "JW8g4ElEj_8F"
      },
      "source": [
        ""
      ],
      "execution_count": null,
      "outputs": []
    },
    {
      "cell_type": "markdown",
      "metadata": {
        "id": "ikVuShFVj_D-"
      },
      "source": [
        "# Preparing Zip-Cust Level Variables\n",
        "\n",
        "\n"
      ]
    },
    {
      "cell_type": "code",
      "metadata": {
        "id": "AoSjGna59bd5"
      },
      "source": [
        "#Assigning raw dataset to working copy for this section\n",
        "shopszip=test[['postal_code', 'shops_id','customer','total_order']].set_index('postal_code')\n",
        "shopszip=shopszip.drop_duplicates(subset=['customer', 'shops_id'], keep='last')"
      ],
      "execution_count": 262,
      "outputs": []
    },
    {
      "cell_type": "code",
      "metadata": {
        "id": "tq7HeqsB-5sw"
      },
      "source": [
        "# calculating shops and customers per postal code\n",
        "shopszip['shops_per_zip']=shopszip.groupby('postal_code').shops_id.nunique()\n",
        "shopszip['cust_per_zip']=shopszip.groupby('postal_code').customer.nunique()\n",
        "shopszip['shops_per_cust_per_zip']=shopszip['shops_per_zip']/shopszip['cust_per_zip']"
      ],
      "execution_count": 263,
      "outputs": []
    },
    {
      "cell_type": "code",
      "metadata": {
        "id": "tHC_9PvnH476"
      },
      "source": [
        "# Of customers placing orders in a given zip, what # and  % have placed more than 2 orders in total?\n",
        "temp=shopszip[shopszip['total_order']>2]\n",
        "shopszip['zip_cust_2_more']=temp.groupby('postal_code')['customer'].count()\n",
        "shopszip['zip_pct_cust_2_more']=shopszip['zip_cust_2_more']*100/shopszip['cust_per_zip']"
      ],
      "execution_count": 264,
      "outputs": []
    },
    {
      "cell_type": "code",
      "metadata": {
        "id": "mpQZVhzxNmBq",
        "outputId": "4e2cea5e-daa5-4a3b-f4d3-49376801e3d4",
        "colab": {
          "base_uri": "https://localhost:8080/",
          "height": 110
        }
      },
      "source": [
        "shopszip[shopszip['shops_id']==27246]"
      ],
      "execution_count": 242,
      "outputs": [
        {
          "output_type": "execute_result",
          "data": {
            "text/html": [
              "<div>\n",
              "<style scoped>\n",
              "    .dataframe tbody tr th:only-of-type {\n",
              "        vertical-align: middle;\n",
              "    }\n",
              "\n",
              "    .dataframe tbody tr th {\n",
              "        vertical-align: top;\n",
              "    }\n",
              "\n",
              "    .dataframe thead th {\n",
              "        text-align: right;\n",
              "    }\n",
              "</style>\n",
              "<table border=\"1\" class=\"dataframe\">\n",
              "  <thead>\n",
              "    <tr style=\"text-align: right;\">\n",
              "      <th></th>\n",
              "      <th>shops_id</th>\n",
              "      <th>customer</th>\n",
              "      <th>total_order</th>\n",
              "      <th>shops_per_zip</th>\n",
              "      <th>cust_per_zip</th>\n",
              "      <th>zip_cust_2_more</th>\n",
              "      <th>zip_pct_cust_2_more</th>\n",
              "      <th>shops_per_cust_per_zip</th>\n",
              "    </tr>\n",
              "    <tr>\n",
              "      <th>postal_code</th>\n",
              "      <th></th>\n",
              "      <th></th>\n",
              "      <th></th>\n",
              "      <th></th>\n",
              "      <th></th>\n",
              "      <th></th>\n",
              "      <th></th>\n",
              "      <th></th>\n",
              "    </tr>\n",
              "  </thead>\n",
              "  <tbody>\n",
              "    <tr>\n",
              "      <th>98101</th>\n",
              "      <td>27246</td>\n",
              "      <td>6196987925</td>\n",
              "      <td>3</td>\n",
              "      <td>1</td>\n",
              "      <td>1</td>\n",
              "      <td>1</td>\n",
              "      <td>100</td>\n",
              "      <td>1</td>\n",
              "    </tr>\n",
              "  </tbody>\n",
              "</table>\n",
              "</div>"
            ],
            "text/plain": [
              "             shops_id   customer  ...  zip_pct_cust_2_more  shops_per_cust_per_zip\n",
              "postal_code                       ...                                             \n",
              "98101           27246 6196987925  ...                  100                       1\n",
              "\n",
              "[1 rows x 8 columns]"
            ]
          },
          "metadata": {
            "tags": []
          },
          "execution_count": 242
        }
      ]
    },
    {
      "cell_type": "markdown",
      "metadata": {
        "id": "cRCJ5D8-JFr5"
      },
      "source": [
        "# ***Preparing Shop-Cust Level Variables***"
      ]
    },
    {
      "cell_type": "code",
      "metadata": {
        "id": "bkuRZlSeElYO"
      },
      "source": [
        "#Total customers served by each shop"
      ],
      "execution_count": 133,
      "outputs": []
    },
    {
      "cell_type": "code",
      "metadata": {
        "id": "A17_m8reGnT5"
      },
      "source": [
        "shopscust=shopszip.set_index('shops_id')\n",
        "shopscust=shopscust.drop(columns=['shops_per_zip','cust_per_zip','zip_cust_2_more', 'zip_pct_cust_2_more','shops_per_cust_per_zip'] )\n",
        "\n",
        "# How many customers have placed at least one order at a given shop?\n",
        "\n",
        "shopscust['cust_per_shop']=shopscust.groupby('shops_id').customer.nunique()"
      ],
      "execution_count": 285,
      "outputs": []
    },
    {
      "cell_type": "code",
      "metadata": {
        "id": "Hwlvj3EaAQsk"
      },
      "source": [
        "# Of customers placing orders at a given shop, what # and % have placed > 2 total orders/\n",
        "t=shopscust[shopscust['total_order']>2]\n",
        "shopscust['shop_cust_2_more']=t.groupby('shops_id')['customer'].count()\n",
        "shopscust['shop_pct_cust_2_more']=shopscust['shop_cust_2_more']*100/shopscust['cust_per_shop']"
      ],
      "execution_count": 286,
      "outputs": []
    },
    {
      "cell_type": "code",
      "metadata": {
        "id": "pLse1tc5Z1PP"
      },
      "source": [
        ""
      ],
      "execution_count": null,
      "outputs": []
    },
    {
      "cell_type": "markdown",
      "metadata": {
        "id": "uILgWEFsZy4p"
      },
      "source": [
        "# ***Preparing Shop-Sales Level Variables***"
      ]
    },
    {
      "cell_type": "code",
      "metadata": {
        "id": "j0mDPOQCZyJR"
      },
      "source": [
        "shopsales=test[['shops_id','customer','order_id','restaurant_total']] "
      ],
      "execution_count": 344,
      "outputs": []
    },
    {
      "cell_type": "code",
      "metadata": {
        "id": "XmuDz2B0ad_8"
      },
      "source": [
        "shopsales['total_shop_sales']=shopsales.groupby('shops_id').restaurant_total.transform('sum')\n",
        "shopsales['total_shop_orders']=shopsales.groupby('shops_id').order_id.transform('count')"
      ],
      "execution_count": null,
      "outputs": []
    },
    {
      "cell_type": "code",
      "metadata": {
        "id": "LEPFMEPoapfX"
      },
      "source": [
        "shopsales=shopsales.drop_duplicates(subset=['shops_id'], keep='last').drop(columns=['customer','order_id','restaurant_total'])"
      ],
      "execution_count": 354,
      "outputs": []
    },
    {
      "cell_type": "code",
      "metadata": {
        "id": "wDNrdFJRbbWR"
      },
      "source": [
        "shopsales['sales_qunitiles']=pd.qcut(shopsales['total_shop_sales'],5,labels=False)\n",
        "shopsales['order_qunitiles']=pd.qcut(shopsales['total_shop_orders'].rank(method='first'),5,labels=False)\n",
        "\n",
        "#pd.qcut(df['a'].rank(method='first'), 3, labels=False)"
      ],
      "execution_count": 360,
      "outputs": []
    },
    {
      "cell_type": "code",
      "metadata": {
        "id": "lsufRgItb9fg",
        "outputId": "742d278b-8ce6-47c8-e939-4b331e38615f",
        "colab": {
          "base_uri": "https://localhost:8080/",
          "height": 415
        }
      },
      "source": [
        "shopsales"
      ],
      "execution_count": 361,
      "outputs": [
        {
          "output_type": "execute_result",
          "data": {
            "text/html": [
              "<div>\n",
              "<style scoped>\n",
              "    .dataframe tbody tr th:only-of-type {\n",
              "        vertical-align: middle;\n",
              "    }\n",
              "\n",
              "    .dataframe tbody tr th {\n",
              "        vertical-align: top;\n",
              "    }\n",
              "\n",
              "    .dataframe thead th {\n",
              "        text-align: right;\n",
              "    }\n",
              "</style>\n",
              "<table border=\"1\" class=\"dataframe\">\n",
              "  <thead>\n",
              "    <tr style=\"text-align: right;\">\n",
              "      <th></th>\n",
              "      <th>shops_id</th>\n",
              "      <th>total_shop_sales</th>\n",
              "      <th>total_shop_orders</th>\n",
              "      <th>sales_qunitiles</th>\n",
              "      <th>order_qunitiles</th>\n",
              "    </tr>\n",
              "  </thead>\n",
              "  <tbody>\n",
              "    <tr>\n",
              "      <th>0</th>\n",
              "      <td>24597</td>\n",
              "      <td>16</td>\n",
              "      <td>1</td>\n",
              "      <td>0</td>\n",
              "      <td>0</td>\n",
              "    </tr>\n",
              "    <tr>\n",
              "      <th>1</th>\n",
              "      <td>64392</td>\n",
              "      <td>25</td>\n",
              "      <td>1</td>\n",
              "      <td>2</td>\n",
              "      <td>0</td>\n",
              "    </tr>\n",
              "    <tr>\n",
              "      <th>2</th>\n",
              "      <td>33699</td>\n",
              "      <td>43</td>\n",
              "      <td>1</td>\n",
              "      <td>4</td>\n",
              "      <td>0</td>\n",
              "    </tr>\n",
              "    <tr>\n",
              "      <th>3</th>\n",
              "      <td>19002</td>\n",
              "      <td>28</td>\n",
              "      <td>1</td>\n",
              "      <td>2</td>\n",
              "      <td>0</td>\n",
              "    </tr>\n",
              "    <tr>\n",
              "      <th>4</th>\n",
              "      <td>34911</td>\n",
              "      <td>23</td>\n",
              "      <td>1</td>\n",
              "      <td>1</td>\n",
              "      <td>0</td>\n",
              "    </tr>\n",
              "    <tr>\n",
              "      <th>...</th>\n",
              "      <td>...</td>\n",
              "      <td>...</td>\n",
              "      <td>...</td>\n",
              "      <td>...</td>\n",
              "      <td>...</td>\n",
              "    </tr>\n",
              "    <tr>\n",
              "      <th>95</th>\n",
              "      <td>57072</td>\n",
              "      <td>19</td>\n",
              "      <td>1</td>\n",
              "      <td>1</td>\n",
              "      <td>4</td>\n",
              "    </tr>\n",
              "    <tr>\n",
              "      <th>96</th>\n",
              "      <td>15639</td>\n",
              "      <td>17</td>\n",
              "      <td>1</td>\n",
              "      <td>0</td>\n",
              "      <td>4</td>\n",
              "    </tr>\n",
              "    <tr>\n",
              "      <th>97</th>\n",
              "      <td>30054</td>\n",
              "      <td>37</td>\n",
              "      <td>1</td>\n",
              "      <td>3</td>\n",
              "      <td>4</td>\n",
              "    </tr>\n",
              "    <tr>\n",
              "      <th>98</th>\n",
              "      <td>40359</td>\n",
              "      <td>23</td>\n",
              "      <td>1</td>\n",
              "      <td>2</td>\n",
              "      <td>4</td>\n",
              "    </tr>\n",
              "    <tr>\n",
              "      <th>99</th>\n",
              "      <td>51831</td>\n",
              "      <td>14</td>\n",
              "      <td>1</td>\n",
              "      <td>0</td>\n",
              "      <td>4</td>\n",
              "    </tr>\n",
              "  </tbody>\n",
              "</table>\n",
              "<p>85 rows × 5 columns</p>\n",
              "</div>"
            ],
            "text/plain": [
              "    shops_id  total_shop_sales  ...  sales_qunitiles  order_qunitiles\n",
              "0      24597                16  ...                0                0\n",
              "1      64392                25  ...                2                0\n",
              "2      33699                43  ...                4                0\n",
              "3      19002                28  ...                2                0\n",
              "4      34911                23  ...                1                0\n",
              "..       ...               ...  ...              ...              ...\n",
              "95     57072                19  ...                1                4\n",
              "96     15639                17  ...                0                4\n",
              "97     30054                37  ...                3                4\n",
              "98     40359                23  ...                2                4\n",
              "99     51831                14  ...                0                4\n",
              "\n",
              "[85 rows x 5 columns]"
            ]
          },
          "metadata": {
            "tags": []
          },
          "execution_count": 361
        }
      ]
    },
    {
      "cell_type": "markdown",
      "metadata": {
        "id": "EYXE3jdHQ73S"
      },
      "source": [
        "# ***Combining to create final analytical dataset***"
      ]
    },
    {
      "cell_type": "code",
      "metadata": {
        "id": "ggdWasSMSrz5"
      },
      "source": [
        "shopscust_final=shopscust.reset_index()\n",
        "shopscust_final=shopscust_final.drop_duplicates(subset=['shops_id'], keep='last').drop(columns=['customer','total_order']).set_index('shops_id')\n"
      ],
      "execution_count": 288,
      "outputs": []
    },
    {
      "cell_type": "code",
      "metadata": {
        "id": "K73kj8gSYghJ",
        "outputId": "ec67acff-8395-4719-a879-f61d1ec4ecde",
        "colab": {
          "base_uri": "https://localhost:8080/",
          "height": 191
        }
      },
      "source": [
        "shopscust_final.info()"
      ],
      "execution_count": 323,
      "outputs": [
        {
          "output_type": "stream",
          "text": [
            "<class 'pandas.core.frame.DataFrame'>\n",
            "Int64Index: 85 entries, 24597 to 51831\n",
            "Data columns (total 3 columns):\n",
            " #   Column                Non-Null Count  Dtype  \n",
            "---  ------                --------------  -----  \n",
            " 0   cust_per_shop         85 non-null     int64  \n",
            " 1   shop_cust_2_more      1 non-null      float64\n",
            " 2   shop_pct_cust_2_more  1 non-null      float64\n",
            "dtypes: float64(2), int64(1)\n",
            "memory usage: 2.7 KB\n"
          ],
          "name": "stdout"
        }
      ]
    },
    {
      "cell_type": "code",
      "metadata": {
        "id": "Riavvz_TYD-l"
      },
      "source": [
        "# Merging shopscust with original dataset\n",
        "\n",
        "test2=test.merge(shopscust_final,left_on='shops_id',right_on='shops_id') \n"
      ],
      "execution_count": 324,
      "outputs": []
    },
    {
      "cell_type": "code",
      "metadata": {
        "id": "_6S6wvMsYkes",
        "outputId": "ea71ef4c-9a85-4929-a0ae-8659dad7074b",
        "colab": {
          "base_uri": "https://localhost:8080/",
          "height": 213
        }
      },
      "source": [
        "#test2[test2['customer']==6196987925]"
      ],
      "execution_count": 327,
      "outputs": [
        {
          "output_type": "execute_result",
          "data": {
            "text/html": [
              "<div>\n",
              "<style scoped>\n",
              "    .dataframe tbody tr th:only-of-type {\n",
              "        vertical-align: middle;\n",
              "    }\n",
              "\n",
              "    .dataframe tbody tr th {\n",
              "        vertical-align: top;\n",
              "    }\n",
              "\n",
              "    .dataframe thead th {\n",
              "        text-align: right;\n",
              "    }\n",
              "</style>\n",
              "<table border=\"1\" class=\"dataframe\">\n",
              "  <thead>\n",
              "    <tr style=\"text-align: right;\">\n",
              "      <th></th>\n",
              "      <th>order_id</th>\n",
              "      <th>source</th>\n",
              "      <th>date_purchased</th>\n",
              "      <th>shipping_type</th>\n",
              "      <th>payment_method</th>\n",
              "      <th>promo_value</th>\n",
              "      <th>restaurant_total</th>\n",
              "      <th>customer</th>\n",
              "      <th>shops_id</th>\n",
              "      <th>state</th>\n",
              "      <th>postal_code</th>\n",
              "      <th>dateonly_purchased</th>\n",
              "      <th>houronly_purchased</th>\n",
              "      <th>datehour_purchased</th>\n",
              "      <th>order_enum</th>\n",
              "      <th>total_order</th>\n",
              "      <th>bin_orders</th>\n",
              "      <th>time_between_purch</th>\n",
              "      <th>spend_growth</th>\n",
              "      <th>cust_per_shop</th>\n",
              "      <th>shop_cust_2_more</th>\n",
              "      <th>shop_pct_cust_2_more</th>\n",
              "    </tr>\n",
              "  </thead>\n",
              "  <tbody>\n",
              "    <tr>\n",
              "      <th>22</th>\n",
              "      <td>47474511</td>\n",
              "      <td>slicelife</td>\n",
              "      <td>2019-03-13 16:33:51+00:00</td>\n",
              "      <td>Delivery</td>\n",
              "      <td>cash</td>\n",
              "      <td>0</td>\n",
              "      <td>21</td>\n",
              "      <td>6196987925</td>\n",
              "      <td>27246</td>\n",
              "      <td>WA</td>\n",
              "      <td>98101</td>\n",
              "      <td>2019-03-13</td>\n",
              "      <td>16</td>\n",
              "      <td>2019-03-13-16</td>\n",
              "      <td>1</td>\n",
              "      <td>3</td>\n",
              "      <td>1</td>\n",
              "      <td>NaT</td>\n",
              "      <td>nan</td>\n",
              "      <td>1</td>\n",
              "      <td>1</td>\n",
              "      <td>100</td>\n",
              "    </tr>\n",
              "    <tr>\n",
              "      <th>23</th>\n",
              "      <td>47513940</td>\n",
              "      <td>slicelife</td>\n",
              "      <td>2019-03-14 13:15:11+00:00</td>\n",
              "      <td>Delivery</td>\n",
              "      <td>cash</td>\n",
              "      <td>0</td>\n",
              "      <td>21</td>\n",
              "      <td>6196987925</td>\n",
              "      <td>27246</td>\n",
              "      <td>WA</td>\n",
              "      <td>98101</td>\n",
              "      <td>2019-03-14</td>\n",
              "      <td>13</td>\n",
              "      <td>2019-03-14-13</td>\n",
              "      <td>2</td>\n",
              "      <td>3</td>\n",
              "      <td>2</td>\n",
              "      <td>0 days 20:41:20</td>\n",
              "      <td>0</td>\n",
              "      <td>1</td>\n",
              "      <td>1</td>\n",
              "      <td>100</td>\n",
              "    </tr>\n",
              "    <tr>\n",
              "      <th>24</th>\n",
              "      <td>47566653</td>\n",
              "      <td>slicelife</td>\n",
              "      <td>2019-03-14 18:44:08+00:00</td>\n",
              "      <td>Delivery</td>\n",
              "      <td>cash</td>\n",
              "      <td>0</td>\n",
              "      <td>19</td>\n",
              "      <td>6196987925</td>\n",
              "      <td>27246</td>\n",
              "      <td>WA</td>\n",
              "      <td>98101</td>\n",
              "      <td>2019-03-14</td>\n",
              "      <td>18</td>\n",
              "      <td>2019-03-14-18</td>\n",
              "      <td>3</td>\n",
              "      <td>3</td>\n",
              "      <td>3</td>\n",
              "      <td>0 days 05:28:57</td>\n",
              "      <td>-2</td>\n",
              "      <td>1</td>\n",
              "      <td>1</td>\n",
              "      <td>100</td>\n",
              "    </tr>\n",
              "  </tbody>\n",
              "</table>\n",
              "</div>"
            ],
            "text/plain": [
              "    order_id     source  ... shop_cust_2_more shop_pct_cust_2_more\n",
              "22  47474511  slicelife  ...                1                  100\n",
              "23  47513940  slicelife  ...                1                  100\n",
              "24  47566653  slicelife  ...                1                  100\n",
              "\n",
              "[3 rows x 22 columns]"
            ]
          },
          "metadata": {
            "tags": []
          },
          "execution_count": 327
        }
      ]
    },
    {
      "cell_type": "code",
      "metadata": {
        "id": "R01hK-_iSajp"
      },
      "source": [
        "# Merging shopszip with original dataset\n",
        "shopszip_final=shopszip.reset_index()\n",
        "shopszip_final=shopszip_final.drop_duplicates(subset=['postal_code'], keep='last').drop(columns=['customer','total_order']).set_index('shops_id')\n",
        "shopszip_final.info()\n",
        "#shopscustzip_final=shopscustzip.drop(columns=['customer','total_order'])"
      ],
      "execution_count": null,
      "outputs": []
    },
    {
      "cell_type": "code",
      "metadata": {
        "id": "zlzLX4mgZL_E"
      },
      "source": [
        "shopszip_final.set_index('postal_code')\n",
        "test3=test2.merge(shopszip_final,left_on='postal_code',right_on='postal_code') "
      ],
      "execution_count": 335,
      "outputs": []
    },
    {
      "cell_type": "code",
      "metadata": {
        "id": "ji8s8Vu1ctF7"
      },
      "source": [
        "# Merging shopsales with original dataset\n",
        "test4=test3.merge(shopsales,left_on='shops_id',right_on='shops_id')"
      ],
      "execution_count": 362,
      "outputs": []
    },
    {
      "cell_type": "code",
      "metadata": {
        "id": "WX4TOU1jXAog",
        "outputId": "f70f9b25-d2fa-48f6-cba5-3dd8ca336c5a",
        "colab": {
          "base_uri": "https://localhost:8080/",
          "height": 213
        }
      },
      "source": [
        "test4[test4['customer']==6196987925]"
      ],
      "execution_count": 364,
      "outputs": [
        {
          "output_type": "execute_result",
          "data": {
            "text/html": [
              "<div>\n",
              "<style scoped>\n",
              "    .dataframe tbody tr th:only-of-type {\n",
              "        vertical-align: middle;\n",
              "    }\n",
              "\n",
              "    .dataframe tbody tr th {\n",
              "        vertical-align: top;\n",
              "    }\n",
              "\n",
              "    .dataframe thead th {\n",
              "        text-align: right;\n",
              "    }\n",
              "</style>\n",
              "<table border=\"1\" class=\"dataframe\">\n",
              "  <thead>\n",
              "    <tr style=\"text-align: right;\">\n",
              "      <th></th>\n",
              "      <th>order_id</th>\n",
              "      <th>source</th>\n",
              "      <th>date_purchased</th>\n",
              "      <th>shipping_type</th>\n",
              "      <th>payment_method</th>\n",
              "      <th>promo_value</th>\n",
              "      <th>restaurant_total</th>\n",
              "      <th>customer</th>\n",
              "      <th>shops_id</th>\n",
              "      <th>state</th>\n",
              "      <th>postal_code</th>\n",
              "      <th>dateonly_purchased</th>\n",
              "      <th>houronly_purchased</th>\n",
              "      <th>datehour_purchased</th>\n",
              "      <th>order_enum</th>\n",
              "      <th>total_order</th>\n",
              "      <th>bin_orders</th>\n",
              "      <th>time_between_purch</th>\n",
              "      <th>spend_growth</th>\n",
              "      <th>cust_per_shop</th>\n",
              "      <th>shop_cust_2_more</th>\n",
              "      <th>shop_pct_cust_2_more</th>\n",
              "      <th>shops_per_zip</th>\n",
              "      <th>cust_per_zip</th>\n",
              "      <th>shops_per_cust_per_zip</th>\n",
              "      <th>zip_cust_2_more</th>\n",
              "      <th>zip_pct_cust_2_more</th>\n",
              "      <th>total_shop_sales</th>\n",
              "      <th>total_shop_orders</th>\n",
              "      <th>sales_qunitiles</th>\n",
              "      <th>order_qunitiles</th>\n",
              "    </tr>\n",
              "  </thead>\n",
              "  <tbody>\n",
              "    <tr>\n",
              "      <th>22</th>\n",
              "      <td>47474511</td>\n",
              "      <td>slicelife</td>\n",
              "      <td>2019-03-13 16:33:51+00:00</td>\n",
              "      <td>Delivery</td>\n",
              "      <td>cash</td>\n",
              "      <td>0</td>\n",
              "      <td>21</td>\n",
              "      <td>6196987925</td>\n",
              "      <td>27246</td>\n",
              "      <td>WA</td>\n",
              "      <td>98101</td>\n",
              "      <td>2019-03-13</td>\n",
              "      <td>16</td>\n",
              "      <td>2019-03-13-16</td>\n",
              "      <td>1</td>\n",
              "      <td>3</td>\n",
              "      <td>1</td>\n",
              "      <td>NaT</td>\n",
              "      <td>nan</td>\n",
              "      <td>1</td>\n",
              "      <td>1</td>\n",
              "      <td>100</td>\n",
              "      <td>1</td>\n",
              "      <td>1</td>\n",
              "      <td>1</td>\n",
              "      <td>1</td>\n",
              "      <td>100</td>\n",
              "      <td>61</td>\n",
              "      <td>3</td>\n",
              "      <td>4</td>\n",
              "      <td>4</td>\n",
              "    </tr>\n",
              "    <tr>\n",
              "      <th>23</th>\n",
              "      <td>47513940</td>\n",
              "      <td>slicelife</td>\n",
              "      <td>2019-03-14 13:15:11+00:00</td>\n",
              "      <td>Delivery</td>\n",
              "      <td>cash</td>\n",
              "      <td>0</td>\n",
              "      <td>21</td>\n",
              "      <td>6196987925</td>\n",
              "      <td>27246</td>\n",
              "      <td>WA</td>\n",
              "      <td>98101</td>\n",
              "      <td>2019-03-14</td>\n",
              "      <td>13</td>\n",
              "      <td>2019-03-14-13</td>\n",
              "      <td>2</td>\n",
              "      <td>3</td>\n",
              "      <td>2</td>\n",
              "      <td>0 days 20:41:20</td>\n",
              "      <td>0</td>\n",
              "      <td>1</td>\n",
              "      <td>1</td>\n",
              "      <td>100</td>\n",
              "      <td>1</td>\n",
              "      <td>1</td>\n",
              "      <td>1</td>\n",
              "      <td>1</td>\n",
              "      <td>100</td>\n",
              "      <td>61</td>\n",
              "      <td>3</td>\n",
              "      <td>4</td>\n",
              "      <td>4</td>\n",
              "    </tr>\n",
              "    <tr>\n",
              "      <th>24</th>\n",
              "      <td>47566653</td>\n",
              "      <td>slicelife</td>\n",
              "      <td>2019-03-14 18:44:08+00:00</td>\n",
              "      <td>Delivery</td>\n",
              "      <td>cash</td>\n",
              "      <td>0</td>\n",
              "      <td>19</td>\n",
              "      <td>6196987925</td>\n",
              "      <td>27246</td>\n",
              "      <td>WA</td>\n",
              "      <td>98101</td>\n",
              "      <td>2019-03-14</td>\n",
              "      <td>18</td>\n",
              "      <td>2019-03-14-18</td>\n",
              "      <td>3</td>\n",
              "      <td>3</td>\n",
              "      <td>3</td>\n",
              "      <td>0 days 05:28:57</td>\n",
              "      <td>-2</td>\n",
              "      <td>1</td>\n",
              "      <td>1</td>\n",
              "      <td>100</td>\n",
              "      <td>1</td>\n",
              "      <td>1</td>\n",
              "      <td>1</td>\n",
              "      <td>1</td>\n",
              "      <td>100</td>\n",
              "      <td>61</td>\n",
              "      <td>3</td>\n",
              "      <td>4</td>\n",
              "      <td>4</td>\n",
              "    </tr>\n",
              "  </tbody>\n",
              "</table>\n",
              "</div>"
            ],
            "text/plain": [
              "    order_id     source  ... sales_qunitiles order_qunitiles\n",
              "22  47474511  slicelife  ...               4               4\n",
              "23  47513940  slicelife  ...               4               4\n",
              "24  47566653  slicelife  ...               4               4\n",
              "\n",
              "[3 rows x 31 columns]"
            ]
          },
          "metadata": {
            "tags": []
          },
          "execution_count": 364
        }
      ]
    },
    {
      "cell_type": "code",
      "metadata": {
        "id": "DwJHC_LnXj8Y"
      },
      "source": [
        ""
      ],
      "execution_count": null,
      "outputs": []
    },
    {
      "cell_type": "code",
      "metadata": {
        "id": "6XxbddkJacKo"
      },
      "source": [
        ""
      ],
      "execution_count": null,
      "outputs": []
    }
  ]
}