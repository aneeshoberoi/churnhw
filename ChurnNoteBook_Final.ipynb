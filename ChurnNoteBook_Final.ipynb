{
  "nbformat": 4,
  "nbformat_minor": 0,
  "metadata": {
    "colab": {
      "name": "ChurnNoteBook_Final.ipynb",
      "provenance": [],
      "collapsed_sections": [],
      "authorship_tag": "ABX9TyPIdf9OG+IBbKqHzX5mCJag",
      "include_colab_link": true
    },
    "kernelspec": {
      "name": "python3",
      "display_name": "Python 3"
    }
  },
  "cells": [
    {
      "cell_type": "markdown",
      "metadata": {
        "id": "view-in-github",
        "colab_type": "text"
      },
      "source": [
        "<a href=\"https://colab.research.google.com/github/aneeshoberoi/churnhw/blob/main/ChurnNoteBook_Final.ipynb\" target=\"_parent\"><img src=\"https://colab.research.google.com/assets/colab-badge.svg\" alt=\"Open In Colab\"/></a>"
      ]
    },
    {
      "cell_type": "code",
      "metadata": {
        "id": "fAemffSOhqZu"
      },
      "source": [
        "import pandas as pd\n",
        "import numpy as np\n",
        "\n",
        "pd.set_option('display.float_format', lambda x: '%.0f' % x)\n",
        "pd.set_option(\"display.precision\",2)"
      ],
      "execution_count": 2,
      "outputs": []
    },
    {
      "cell_type": "code",
      "metadata": {
        "id": "ZMwOrs5Th067"
      },
      "source": [
        "df=pd.read_csv('https://raw.githubusercontent.com/aneeshoberoi/churnhw/main/churn_homework%20-%20homework_orders.csv?token=AP7KM2WDNY5XXC7AIA4M2327SSO42', sep=\",\")"
      ],
      "execution_count": 3,
      "outputs": []
    },
    {
      "cell_type": "code",
      "metadata": {
        "id": "hNQzJuICh-jI",
        "outputId": "96ae451c-76cd-48d6-bcdc-273a23ac097e",
        "colab": {
          "base_uri": "https://localhost:8080/",
          "height": 619
        }
      },
      "source": [
        "test=df.head(100)\n",
        "test.set_index('order_id')"
      ],
      "execution_count": 5,
      "outputs": [
        {
          "output_type": "execute_result",
          "data": {
            "text/html": [
              "<div>\n",
              "<style scoped>\n",
              "    .dataframe tbody tr th:only-of-type {\n",
              "        vertical-align: middle;\n",
              "    }\n",
              "\n",
              "    .dataframe tbody tr th {\n",
              "        vertical-align: top;\n",
              "    }\n",
              "\n",
              "    .dataframe thead th {\n",
              "        text-align: right;\n",
              "    }\n",
              "</style>\n",
              "<table border=\"1\" class=\"dataframe\">\n",
              "  <thead>\n",
              "    <tr style=\"text-align: right;\">\n",
              "      <th></th>\n",
              "      <th>source</th>\n",
              "      <th>date_purchased</th>\n",
              "      <th>shipping_type</th>\n",
              "      <th>payment_method</th>\n",
              "      <th>promo_value</th>\n",
              "      <th>restaurant_total</th>\n",
              "      <th>customer</th>\n",
              "      <th>shops_id</th>\n",
              "      <th>state</th>\n",
              "      <th>postal_code</th>\n",
              "    </tr>\n",
              "    <tr>\n",
              "      <th>order_id</th>\n",
              "      <th></th>\n",
              "      <th></th>\n",
              "      <th></th>\n",
              "      <th></th>\n",
              "      <th></th>\n",
              "      <th></th>\n",
              "      <th></th>\n",
              "      <th></th>\n",
              "      <th></th>\n",
              "      <th></th>\n",
              "    </tr>\n",
              "  </thead>\n",
              "  <tbody>\n",
              "    <tr>\n",
              "      <th>47433960</th>\n",
              "      <td>iosapp</td>\n",
              "      <td>2019-03-13T08:02:07.000Z</td>\n",
              "      <td>Delivery</td>\n",
              "      <td>credit</td>\n",
              "      <td>0</td>\n",
              "      <td>16</td>\n",
              "      <td>13315067198</td>\n",
              "      <td>24597</td>\n",
              "      <td>MD</td>\n",
              "      <td>21162</td>\n",
              "    </tr>\n",
              "    <tr>\n",
              "      <th>47434359</th>\n",
              "      <td>iosapp</td>\n",
              "      <td>2019-03-13T08:11:38.000Z</td>\n",
              "      <td>Delivery</td>\n",
              "      <td>credit</td>\n",
              "      <td>0</td>\n",
              "      <td>25</td>\n",
              "      <td>15557129447</td>\n",
              "      <td>64392</td>\n",
              "      <td>NY</td>\n",
              "      <td>12944</td>\n",
              "    </tr>\n",
              "    <tr>\n",
              "      <th>47437194</th>\n",
              "      <td>partner_website</td>\n",
              "      <td>2019-03-13T09:07:31.000Z</td>\n",
              "      <td>Delivery</td>\n",
              "      <td>cash</td>\n",
              "      <td>0</td>\n",
              "      <td>43</td>\n",
              "      <td>25689365012</td>\n",
              "      <td>33699</td>\n",
              "      <td>NJ</td>\n",
              "      <td>8007</td>\n",
              "    </tr>\n",
              "    <tr>\n",
              "      <th>47442942</th>\n",
              "      <td>partner_website</td>\n",
              "      <td>2019-03-13T11:01:04.000Z</td>\n",
              "      <td>Delivery</td>\n",
              "      <td>credit</td>\n",
              "      <td>0</td>\n",
              "      <td>28</td>\n",
              "      <td>25421112251</td>\n",
              "      <td>19002</td>\n",
              "      <td>WI</td>\n",
              "      <td>53235</td>\n",
              "    </tr>\n",
              "    <tr>\n",
              "      <th>47443107</th>\n",
              "      <td>partner_website</td>\n",
              "      <td>2019-03-13T11:04:56.000Z</td>\n",
              "      <td>Delivery</td>\n",
              "      <td>credit</td>\n",
              "      <td>0</td>\n",
              "      <td>23</td>\n",
              "      <td>18529185191</td>\n",
              "      <td>34911</td>\n",
              "      <td>MA</td>\n",
              "      <td>2122</td>\n",
              "    </tr>\n",
              "    <tr>\n",
              "      <th>...</th>\n",
              "      <td>...</td>\n",
              "      <td>...</td>\n",
              "      <td>...</td>\n",
              "      <td>...</td>\n",
              "      <td>...</td>\n",
              "      <td>...</td>\n",
              "      <td>...</td>\n",
              "      <td>...</td>\n",
              "      <td>...</td>\n",
              "      <td>...</td>\n",
              "    </tr>\n",
              "    <tr>\n",
              "      <th>47571438</th>\n",
              "      <td>iosapp</td>\n",
              "      <td>2019-03-14T20:33:11.000Z</td>\n",
              "      <td>Delivery</td>\n",
              "      <td>credit</td>\n",
              "      <td>0</td>\n",
              "      <td>19</td>\n",
              "      <td>18312751742</td>\n",
              "      <td>57072</td>\n",
              "      <td>PA</td>\n",
              "      <td>19382</td>\n",
              "    </tr>\n",
              "    <tr>\n",
              "      <th>47574693</th>\n",
              "      <td>partner_website</td>\n",
              "      <td>2019-03-15T07:32:12.000Z</td>\n",
              "      <td>Delivery</td>\n",
              "      <td>cash</td>\n",
              "      <td>0</td>\n",
              "      <td>17</td>\n",
              "      <td>6103411793</td>\n",
              "      <td>15639</td>\n",
              "      <td>CT</td>\n",
              "      <td>6484</td>\n",
              "    </tr>\n",
              "    <tr>\n",
              "      <th>47575101</th>\n",
              "      <td>androidapp</td>\n",
              "      <td>2019-03-15T07:51:01.000Z</td>\n",
              "      <td>Delivery</td>\n",
              "      <td>credit</td>\n",
              "      <td>0</td>\n",
              "      <td>37</td>\n",
              "      <td>27267518882</td>\n",
              "      <td>30054</td>\n",
              "      <td>NJ</td>\n",
              "      <td>7921</td>\n",
              "    </tr>\n",
              "    <tr>\n",
              "      <th>47576202</th>\n",
              "      <td>slicelife</td>\n",
              "      <td>2019-03-15T08:13:06.000Z</td>\n",
              "      <td>Delivery</td>\n",
              "      <td>credit</td>\n",
              "      <td>0</td>\n",
              "      <td>23</td>\n",
              "      <td>29219400710</td>\n",
              "      <td>40359</td>\n",
              "      <td>NJ</td>\n",
              "      <td>8854</td>\n",
              "    </tr>\n",
              "    <tr>\n",
              "      <th>47576433</th>\n",
              "      <td>partner_website</td>\n",
              "      <td>2019-03-15T08:16:12.000Z</td>\n",
              "      <td>Delivery</td>\n",
              "      <td>cash</td>\n",
              "      <td>0</td>\n",
              "      <td>14</td>\n",
              "      <td>18520839371</td>\n",
              "      <td>51831</td>\n",
              "      <td>MA</td>\n",
              "      <td>2121</td>\n",
              "    </tr>\n",
              "  </tbody>\n",
              "</table>\n",
              "<p>100 rows × 10 columns</p>\n",
              "</div>"
            ],
            "text/plain": [
              "                   source            date_purchased  ... state postal_code\n",
              "order_id                                             ...                  \n",
              "47433960           iosapp  2019-03-13T08:02:07.000Z  ...    MD       21162\n",
              "47434359           iosapp  2019-03-13T08:11:38.000Z  ...    NY       12944\n",
              "47437194  partner_website  2019-03-13T09:07:31.000Z  ...    NJ        8007\n",
              "47442942  partner_website  2019-03-13T11:01:04.000Z  ...    WI       53235\n",
              "47443107  partner_website  2019-03-13T11:04:56.000Z  ...    MA        2122\n",
              "...                   ...                       ...  ...   ...         ...\n",
              "47571438           iosapp  2019-03-14T20:33:11.000Z  ...    PA       19382\n",
              "47574693  partner_website  2019-03-15T07:32:12.000Z  ...    CT        6484\n",
              "47575101       androidapp  2019-03-15T07:51:01.000Z  ...    NJ        7921\n",
              "47576202        slicelife  2019-03-15T08:13:06.000Z  ...    NJ        8854\n",
              "47576433  partner_website  2019-03-15T08:16:12.000Z  ...    MA        2121\n",
              "\n",
              "[100 rows x 10 columns]"
            ]
          },
          "metadata": {
            "tags": []
          },
          "execution_count": 5
        }
      ]
    },
    {
      "cell_type": "markdown",
      "metadata": {
        "id": "m4ryxWsNiFYB"
      },
      "source": [
        "# ***Data Cleaning***"
      ]
    },
    {
      "cell_type": "code",
      "metadata": {
        "id": "NL7yafaDiEGE"
      },
      "source": [
        "# Remove zero dollar txns\n",
        "test=test[test['restaurant_total']>0]"
      ],
      "execution_count": 6,
      "outputs": []
    },
    {
      "cell_type": "code",
      "metadata": {
        "id": "hzTowRdfiPzN"
      },
      "source": [
        "# Variable Conversion\n",
        "test['date_purchased']=pd.to_datetime(test['date_purchased'])\n",
        "test['dateonly_purchased']=test['date_purchased'].dt.date\n",
        "test['houronly_purchased']=test['date_purchased'].dt.hour\n",
        "test['datehour_purchased']=test['dateonly_purchased'].astype(str) + \"-\" + test['houronly_purchased'].astype(str)\n",
        "\n",
        "test['restaurant_total']=test['restaurant_total'].astype(float)"
      ],
      "execution_count": 7,
      "outputs": []
    },
    {
      "cell_type": "code",
      "metadata": {
        "id": "yrravVgeiTNP"
      },
      "source": [
        "# Removing Duplicate Txns - i.e. those made within the same hour at the same shop by a given customer. Keeping last txn only.\n",
        "test=test.drop_duplicates(subset=['customer', 'shops_id', 'datehour_purchased'], keep='last')\n"
      ],
      "execution_count": 8,
      "outputs": []
    },
    {
      "cell_type": "markdown",
      "metadata": {
        "id": "uy8xsCRciWOY"
      },
      "source": [
        "# ***Data Prep - Indicators***"
      ]
    },
    {
      "cell_type": "code",
      "metadata": {
        "id": "BuJ7YqJqihuQ"
      },
      "source": [
        " #Enumerating Purchases\n",
        " test.sort_values(by=['customer','date_purchased'])\n",
        " \n",
        "test = test.assign(order_enum=test.groupby('customer')['datehour_purchased'].cumcount()+1)\n",
        "test['total_order']=test.groupby('customer')['order_id'].transform('count')"
      ],
      "execution_count": 9,
      "outputs": []
    },
    {
      "cell_type": "code",
      "metadata": {
        "id": "MKxzGjgIinDI"
      },
      "source": [
        "test['bin_orders']=np.where(test['total_order']<7,test['order_enum'],7)"
      ],
      "execution_count": 22,
      "outputs": []
    },
    {
      "cell_type": "code",
      "metadata": {
        "id": "5cdHcKtuipp7"
      },
      "source": [
        "# Calculating Journey Data\n",
        "#df.groupby(['site', 'country'])['score'].diff().fillna(0)\n",
        "test['time_between_purch']=test.groupby(['customer'])['date_purchased'].diff()\n",
        "test['spend_growth']=test.groupby(['customer'])['restaurant_total'].diff()\n"
      ],
      "execution_count": 23,
      "outputs": []
    },
    {
      "cell_type": "code",
      "metadata": {
        "id": "agKw6Yf6i_vM",
        "outputId": "14c56ee5-df5c-460a-b5a6-db31ef07b3a6",
        "colab": {
          "base_uri": "https://localhost:8080/",
          "height": 213
        }
      },
      "source": [
        "test[test['customer']==6196987925]"
      ],
      "execution_count": 20,
      "outputs": [
        {
          "output_type": "execute_result",
          "data": {
            "text/html": [
              "<div>\n",
              "<style scoped>\n",
              "    .dataframe tbody tr th:only-of-type {\n",
              "        vertical-align: middle;\n",
              "    }\n",
              "\n",
              "    .dataframe tbody tr th {\n",
              "        vertical-align: top;\n",
              "    }\n",
              "\n",
              "    .dataframe thead th {\n",
              "        text-align: right;\n",
              "    }\n",
              "</style>\n",
              "<table border=\"1\" class=\"dataframe\">\n",
              "  <thead>\n",
              "    <tr style=\"text-align: right;\">\n",
              "      <th></th>\n",
              "      <th>order_id</th>\n",
              "      <th>source</th>\n",
              "      <th>date_purchased</th>\n",
              "      <th>shipping_type</th>\n",
              "      <th>payment_method</th>\n",
              "      <th>promo_value</th>\n",
              "      <th>restaurant_total</th>\n",
              "      <th>customer</th>\n",
              "      <th>shops_id</th>\n",
              "      <th>state</th>\n",
              "      <th>postal_code</th>\n",
              "      <th>dateonly_purchased</th>\n",
              "      <th>houronly_purchased</th>\n",
              "      <th>datehour_purchased</th>\n",
              "      <th>order_enum</th>\n",
              "      <th>total_order</th>\n",
              "      <th>bin_orders</th>\n",
              "      <th>time_between_purch</th>\n",
              "      <th>spend_growth</th>\n",
              "    </tr>\n",
              "  </thead>\n",
              "  <tbody>\n",
              "    <tr>\n",
              "      <th>25</th>\n",
              "      <td>47474511</td>\n",
              "      <td>slicelife</td>\n",
              "      <td>2019-03-13 16:33:51+00:00</td>\n",
              "      <td>Delivery</td>\n",
              "      <td>cash</td>\n",
              "      <td>0</td>\n",
              "      <td>21</td>\n",
              "      <td>6196987925</td>\n",
              "      <td>27246</td>\n",
              "      <td>WA</td>\n",
              "      <td>98101</td>\n",
              "      <td>2019-03-13</td>\n",
              "      <td>16</td>\n",
              "      <td>2019-03-13-16</td>\n",
              "      <td>1</td>\n",
              "      <td>3</td>\n",
              "      <td>1</td>\n",
              "      <td>NaT</td>\n",
              "      <td>nan</td>\n",
              "    </tr>\n",
              "    <tr>\n",
              "      <th>48</th>\n",
              "      <td>47513940</td>\n",
              "      <td>slicelife</td>\n",
              "      <td>2019-03-14 13:15:11+00:00</td>\n",
              "      <td>Delivery</td>\n",
              "      <td>cash</td>\n",
              "      <td>0</td>\n",
              "      <td>21</td>\n",
              "      <td>6196987925</td>\n",
              "      <td>27246</td>\n",
              "      <td>WA</td>\n",
              "      <td>98101</td>\n",
              "      <td>2019-03-14</td>\n",
              "      <td>13</td>\n",
              "      <td>2019-03-14-13</td>\n",
              "      <td>2</td>\n",
              "      <td>3</td>\n",
              "      <td>2</td>\n",
              "      <td>0 days 20:41:20</td>\n",
              "      <td>0</td>\n",
              "    </tr>\n",
              "    <tr>\n",
              "      <th>90</th>\n",
              "      <td>47566653</td>\n",
              "      <td>slicelife</td>\n",
              "      <td>2019-03-14 18:44:08+00:00</td>\n",
              "      <td>Delivery</td>\n",
              "      <td>cash</td>\n",
              "      <td>0</td>\n",
              "      <td>19</td>\n",
              "      <td>6196987925</td>\n",
              "      <td>27246</td>\n",
              "      <td>WA</td>\n",
              "      <td>98101</td>\n",
              "      <td>2019-03-14</td>\n",
              "      <td>18</td>\n",
              "      <td>2019-03-14-18</td>\n",
              "      <td>3</td>\n",
              "      <td>3</td>\n",
              "      <td>3</td>\n",
              "      <td>0 days 05:28:57</td>\n",
              "      <td>-2</td>\n",
              "    </tr>\n",
              "  </tbody>\n",
              "</table>\n",
              "</div>"
            ],
            "text/plain": [
              "    order_id     source  ... time_between_purch spend_growth\n",
              "25  47474511  slicelife  ...                NaT          nan\n",
              "48  47513940  slicelife  ...    0 days 20:41:20            0\n",
              "90  47566653  slicelife  ...    0 days 05:28:57           -2\n",
              "\n",
              "[3 rows x 19 columns]"
            ]
          },
          "metadata": {
            "tags": []
          },
          "execution_count": 20
        }
      ]
    },
    {
      "cell_type": "code",
      "metadata": {
        "id": "JW8g4ElEj_8F"
      },
      "source": [
        ""
      ],
      "execution_count": null,
      "outputs": []
    },
    {
      "cell_type": "markdown",
      "metadata": {
        "id": "ikVuShFVj_D-"
      },
      "source": [
        "# ***Preparing Shop-Level Variables***"
      ]
    },
    {
      "cell_type": "code",
      "metadata": {
        "id": "Xe0CYDRjj9m2"
      },
      "source": [
        ""
      ],
      "execution_count": null,
      "outputs": []
    }
  ]
}