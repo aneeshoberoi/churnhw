{
  "nbformat": 4,
  "nbformat_minor": 0,
  "metadata": {
    "colab": {
      "name": "ChurnNoteBook_Final.ipynb",
      "provenance": [],
      "collapsed_sections": [],
      "authorship_tag": "ABX9TyOoVxAV6988unqsChPUW6gk",
      "include_colab_link": true
    },
    "kernelspec": {
      "name": "python3",
      "display_name": "Python 3"
    }
  },
  "cells": [
    {
      "cell_type": "markdown",
      "metadata": {
        "id": "view-in-github",
        "colab_type": "text"
      },
      "source": [
        "<a href=\"https://colab.research.google.com/github/aneeshoberoi/churnhw/blob/main/ChurnNoteBook_Final.ipynb\" target=\"_parent\"><img src=\"https://colab.research.google.com/assets/colab-badge.svg\" alt=\"Open In Colab\"/></a>"
      ]
    },
    {
      "cell_type": "code",
      "metadata": {
        "id": "fAemffSOhqZu"
      },
      "source": [
        "import pandas as pd\n",
        "import numpy as np\n",
        "from collections import OrderedDict\n",
        "\n",
        "pd.set_option('display.float_format', lambda x: '%.0f' % x)\n",
        "pd.set_option(\"display.precision\",2)"
      ],
      "execution_count": 61,
      "outputs": []
    },
    {
      "cell_type": "code",
      "metadata": {
        "id": "ZMwOrs5Th067"
      },
      "source": [
        "df=pd.read_csv('https://raw.githubusercontent.com/aneeshoberoi/churnhw/main/churn_homework%20-%20homework_orders.csv?token=AP7KM2RBFAH333CPSXM4ILC7SV6WI', sep=\",\")"
      ],
      "execution_count": 6,
      "outputs": []
    },
    {
      "cell_type": "code",
      "metadata": {
        "id": "hNQzJuICh-jI",
        "outputId": "8d1a1a84-087a-4220-a1f1-8cfb55db55a4",
        "colab": {
          "base_uri": "https://localhost:8080/",
          "height": 619
        }
      },
      "source": [
        "raw=df.head(100)\n",
        "raw.set_index('order_id')"
      ],
      "execution_count": 15,
      "outputs": [
        {
          "output_type": "execute_result",
          "data": {
            "text/html": [
              "<div>\n",
              "<style scoped>\n",
              "    .dataframe tbody tr th:only-of-type {\n",
              "        vertical-align: middle;\n",
              "    }\n",
              "\n",
              "    .dataframe tbody tr th {\n",
              "        vertical-align: top;\n",
              "    }\n",
              "\n",
              "    .dataframe thead th {\n",
              "        text-align: right;\n",
              "    }\n",
              "</style>\n",
              "<table border=\"1\" class=\"dataframe\">\n",
              "  <thead>\n",
              "    <tr style=\"text-align: right;\">\n",
              "      <th></th>\n",
              "      <th>source</th>\n",
              "      <th>date_purchased</th>\n",
              "      <th>shipping_type</th>\n",
              "      <th>payment_method</th>\n",
              "      <th>promo_value</th>\n",
              "      <th>restaurant_total</th>\n",
              "      <th>customer</th>\n",
              "      <th>shops_id</th>\n",
              "      <th>state</th>\n",
              "      <th>postal_code</th>\n",
              "    </tr>\n",
              "    <tr>\n",
              "      <th>order_id</th>\n",
              "      <th></th>\n",
              "      <th></th>\n",
              "      <th></th>\n",
              "      <th></th>\n",
              "      <th></th>\n",
              "      <th></th>\n",
              "      <th></th>\n",
              "      <th></th>\n",
              "      <th></th>\n",
              "      <th></th>\n",
              "    </tr>\n",
              "  </thead>\n",
              "  <tbody>\n",
              "    <tr>\n",
              "      <th>47433960</th>\n",
              "      <td>iosapp</td>\n",
              "      <td>2019-03-13T08:02:07.000Z</td>\n",
              "      <td>Delivery</td>\n",
              "      <td>credit</td>\n",
              "      <td>0</td>\n",
              "      <td>16</td>\n",
              "      <td>13315067198</td>\n",
              "      <td>24597</td>\n",
              "      <td>MD</td>\n",
              "      <td>21162</td>\n",
              "    </tr>\n",
              "    <tr>\n",
              "      <th>47434359</th>\n",
              "      <td>iosapp</td>\n",
              "      <td>2019-03-13T08:11:38.000Z</td>\n",
              "      <td>Delivery</td>\n",
              "      <td>credit</td>\n",
              "      <td>0</td>\n",
              "      <td>25</td>\n",
              "      <td>15557129447</td>\n",
              "      <td>64392</td>\n",
              "      <td>NY</td>\n",
              "      <td>12944</td>\n",
              "    </tr>\n",
              "    <tr>\n",
              "      <th>47437194</th>\n",
              "      <td>partner_website</td>\n",
              "      <td>2019-03-13T09:07:31.000Z</td>\n",
              "      <td>Delivery</td>\n",
              "      <td>cash</td>\n",
              "      <td>0</td>\n",
              "      <td>43</td>\n",
              "      <td>25689365012</td>\n",
              "      <td>33699</td>\n",
              "      <td>NJ</td>\n",
              "      <td>8007</td>\n",
              "    </tr>\n",
              "    <tr>\n",
              "      <th>47442942</th>\n",
              "      <td>partner_website</td>\n",
              "      <td>2019-03-13T11:01:04.000Z</td>\n",
              "      <td>Delivery</td>\n",
              "      <td>credit</td>\n",
              "      <td>0</td>\n",
              "      <td>28</td>\n",
              "      <td>25421112251</td>\n",
              "      <td>19002</td>\n",
              "      <td>WI</td>\n",
              "      <td>53235</td>\n",
              "    </tr>\n",
              "    <tr>\n",
              "      <th>47443107</th>\n",
              "      <td>partner_website</td>\n",
              "      <td>2019-03-13T11:04:56.000Z</td>\n",
              "      <td>Delivery</td>\n",
              "      <td>credit</td>\n",
              "      <td>0</td>\n",
              "      <td>23</td>\n",
              "      <td>18529185191</td>\n",
              "      <td>34911</td>\n",
              "      <td>MA</td>\n",
              "      <td>2122</td>\n",
              "    </tr>\n",
              "    <tr>\n",
              "      <th>...</th>\n",
              "      <td>...</td>\n",
              "      <td>...</td>\n",
              "      <td>...</td>\n",
              "      <td>...</td>\n",
              "      <td>...</td>\n",
              "      <td>...</td>\n",
              "      <td>...</td>\n",
              "      <td>...</td>\n",
              "      <td>...</td>\n",
              "      <td>...</td>\n",
              "    </tr>\n",
              "    <tr>\n",
              "      <th>47571438</th>\n",
              "      <td>iosapp</td>\n",
              "      <td>2019-03-14T20:33:11.000Z</td>\n",
              "      <td>Delivery</td>\n",
              "      <td>credit</td>\n",
              "      <td>0</td>\n",
              "      <td>19</td>\n",
              "      <td>18312751742</td>\n",
              "      <td>57072</td>\n",
              "      <td>PA</td>\n",
              "      <td>19382</td>\n",
              "    </tr>\n",
              "    <tr>\n",
              "      <th>47574693</th>\n",
              "      <td>partner_website</td>\n",
              "      <td>2019-03-15T07:32:12.000Z</td>\n",
              "      <td>Delivery</td>\n",
              "      <td>cash</td>\n",
              "      <td>0</td>\n",
              "      <td>17</td>\n",
              "      <td>6103411793</td>\n",
              "      <td>15639</td>\n",
              "      <td>CT</td>\n",
              "      <td>6484</td>\n",
              "    </tr>\n",
              "    <tr>\n",
              "      <th>47575101</th>\n",
              "      <td>androidapp</td>\n",
              "      <td>2019-03-15T07:51:01.000Z</td>\n",
              "      <td>Delivery</td>\n",
              "      <td>credit</td>\n",
              "      <td>0</td>\n",
              "      <td>37</td>\n",
              "      <td>27267518882</td>\n",
              "      <td>30054</td>\n",
              "      <td>NJ</td>\n",
              "      <td>7921</td>\n",
              "    </tr>\n",
              "    <tr>\n",
              "      <th>47576202</th>\n",
              "      <td>slicelife</td>\n",
              "      <td>2019-03-15T08:13:06.000Z</td>\n",
              "      <td>Delivery</td>\n",
              "      <td>credit</td>\n",
              "      <td>0</td>\n",
              "      <td>23</td>\n",
              "      <td>29219400710</td>\n",
              "      <td>40359</td>\n",
              "      <td>NJ</td>\n",
              "      <td>8854</td>\n",
              "    </tr>\n",
              "    <tr>\n",
              "      <th>47576433</th>\n",
              "      <td>partner_website</td>\n",
              "      <td>2019-03-15T08:16:12.000Z</td>\n",
              "      <td>Delivery</td>\n",
              "      <td>cash</td>\n",
              "      <td>0</td>\n",
              "      <td>14</td>\n",
              "      <td>18520839371</td>\n",
              "      <td>51831</td>\n",
              "      <td>MA</td>\n",
              "      <td>2121</td>\n",
              "    </tr>\n",
              "  </tbody>\n",
              "</table>\n",
              "<p>100 rows × 10 columns</p>\n",
              "</div>"
            ],
            "text/plain": [
              "                   source            date_purchased  ... state postal_code\n",
              "order_id                                             ...                  \n",
              "47433960           iosapp  2019-03-13T08:02:07.000Z  ...    MD       21162\n",
              "47434359           iosapp  2019-03-13T08:11:38.000Z  ...    NY       12944\n",
              "47437194  partner_website  2019-03-13T09:07:31.000Z  ...    NJ        8007\n",
              "47442942  partner_website  2019-03-13T11:01:04.000Z  ...    WI       53235\n",
              "47443107  partner_website  2019-03-13T11:04:56.000Z  ...    MA        2122\n",
              "...                   ...                       ...  ...   ...         ...\n",
              "47571438           iosapp  2019-03-14T20:33:11.000Z  ...    PA       19382\n",
              "47574693  partner_website  2019-03-15T07:32:12.000Z  ...    CT        6484\n",
              "47575101       androidapp  2019-03-15T07:51:01.000Z  ...    NJ        7921\n",
              "47576202        slicelife  2019-03-15T08:13:06.000Z  ...    NJ        8854\n",
              "47576433  partner_website  2019-03-15T08:16:12.000Z  ...    MA        2121\n",
              "\n",
              "[100 rows x 10 columns]"
            ]
          },
          "metadata": {
            "tags": []
          },
          "execution_count": 15
        }
      ]
    },
    {
      "cell_type": "code",
      "metadata": {
        "id": "t2KE-bLU7jYX"
      },
      "source": [
        "# assigning to working copy for indicator variables"
      ],
      "execution_count": null,
      "outputs": []
    },
    {
      "cell_type": "markdown",
      "metadata": {
        "id": "tj8tz5U_7hOW"
      },
      "source": [
        "# **Basic Statistics**"
      ]
    },
    {
      "cell_type": "code",
      "metadata": {
        "id": "KUH5A7-o7gb6",
        "outputId": "7fd0a6fa-cd21-4fae-8d35-74bf9f2f9068",
        "colab": {
          "base_uri": "https://localhost:8080/",
          "height": 35
        }
      },
      "source": [
        "raw.customer.nunique()"
      ],
      "execution_count": 12,
      "outputs": [
        {
          "output_type": "execute_result",
          "data": {
            "text/plain": [
              "87"
            ]
          },
          "metadata": {
            "tags": []
          },
          "execution_count": 12
        }
      ]
    },
    {
      "cell_type": "code",
      "metadata": {
        "id": "x1klgOTK8jnu",
        "outputId": "10774226-14d9-43af-b0d4-1ce7ec8275bf",
        "colab": {
          "base_uri": "https://localhost:8080/",
          "height": 35
        }
      },
      "source": [
        "raw.restaurant_total.sum()"
      ],
      "execution_count": 13,
      "outputs": [
        {
          "output_type": "execute_result",
          "data": {
            "text/plain": [
              "2909.73"
            ]
          },
          "metadata": {
            "tags": []
          },
          "execution_count": 13
        }
      ]
    },
    {
      "cell_type": "code",
      "metadata": {
        "id": "yiqURoiF8pSv",
        "outputId": "fad167fb-de11-410a-9bf5-2b7f5a491c4e",
        "colab": {
          "base_uri": "https://localhost:8080/",
          "height": 35
        }
      },
      "source": [
        "raw.order_id.nunique()"
      ],
      "execution_count": 16,
      "outputs": [
        {
          "output_type": "execute_result",
          "data": {
            "text/plain": [
              "100"
            ]
          },
          "metadata": {
            "tags": []
          },
          "execution_count": 16
        }
      ]
    },
    {
      "cell_type": "markdown",
      "metadata": {
        "id": "m4ryxWsNiFYB"
      },
      "source": [
        "# ***Data Cleaning***"
      ]
    },
    {
      "cell_type": "code",
      "metadata": {
        "id": "Y0pmc4Ob82vv"
      },
      "source": [
        "# assigning to working copy for indicator variables\n",
        "test=raw"
      ],
      "execution_count": 17,
      "outputs": []
    },
    {
      "cell_type": "code",
      "metadata": {
        "id": "NL7yafaDiEGE"
      },
      "source": [
        "# Remove zero dollar txns\n",
        "test=test[test['restaurant_total']>0]"
      ],
      "execution_count": 18,
      "outputs": []
    },
    {
      "cell_type": "code",
      "metadata": {
        "id": "hzTowRdfiPzN"
      },
      "source": [
        "# Variable Conversion\n",
        "test['date_purchased']=pd.to_datetime(test['date_purchased'])\n",
        "test['dateonly_purchased']=test['date_purchased'].dt.date\n",
        "test['houronly_purchased']=test['date_purchased'].dt.hour\n",
        "test['datehour_purchased']=test['dateonly_purchased'].astype(str) + \"-\" + test['houronly_purchased'].astype(str)\n",
        "\n",
        "test['restaurant_total']=test['restaurant_total'].astype(float)"
      ],
      "execution_count": null,
      "outputs": []
    },
    {
      "cell_type": "code",
      "metadata": {
        "id": "yrravVgeiTNP"
      },
      "source": [
        "# Removing Duplicate Txns - i.e. those made within the same hour at the same shop by a given customer. Keeping last txn only.\n",
        "test=test.drop_duplicates(subset=['customer', 'shops_id', 'datehour_purchased'], keep='last')\n"
      ],
      "execution_count": 20,
      "outputs": []
    },
    {
      "cell_type": "code",
      "metadata": {
        "id": "64IxZWTS9D_I",
        "outputId": "0a02505c-f9cc-417b-af33-90adce742a9a",
        "colab": {
          "base_uri": "https://localhost:8080/",
          "height": 35
        }
      },
      "source": [
        "# Checking Impact of cleanup\n",
        "\n",
        "test.restaurant_total.sum()"
      ],
      "execution_count": 21,
      "outputs": [
        {
          "output_type": "execute_result",
          "data": {
            "text/plain": [
              "2693.3500000000004"
            ]
          },
          "metadata": {
            "tags": []
          },
          "execution_count": 21
        }
      ]
    },
    {
      "cell_type": "code",
      "metadata": {
        "id": "Dqs0-aI99JeA",
        "outputId": "cdd4823c-b900-4eea-c467-cbdc731c5cce",
        "colab": {
          "base_uri": "https://localhost:8080/",
          "height": 35
        }
      },
      "source": [
        "test.order_id.count()"
      ],
      "execution_count": 22,
      "outputs": [
        {
          "output_type": "execute_result",
          "data": {
            "text/plain": [
              "90"
            ]
          },
          "metadata": {
            "tags": []
          },
          "execution_count": 22
        }
      ]
    },
    {
      "cell_type": "markdown",
      "metadata": {
        "id": "uy8xsCRciWOY"
      },
      "source": [
        "# ***Data Prep - Indicators***"
      ]
    },
    {
      "cell_type": "code",
      "metadata": {
        "id": "BuJ7YqJqihuQ"
      },
      "source": [
        " #Enumerating Purchases\n",
        " test.sort_values(by=['customer','date_purchased'])\n",
        " \n",
        "test = test.assign(order_enum=test.groupby('customer')['datehour_purchased'].cumcount()+1)\n",
        "test['total_order']=test.groupby('customer')['order_id'].transform('count')"
      ],
      "execution_count": 23,
      "outputs": []
    },
    {
      "cell_type": "code",
      "metadata": {
        "id": "MKxzGjgIinDI"
      },
      "source": [
        "test['bin_orders']=np.where(test['total_order']<7,test['order_enum'],7)"
      ],
      "execution_count": 24,
      "outputs": []
    },
    {
      "cell_type": "code",
      "metadata": {
        "id": "5cdHcKtuipp7"
      },
      "source": [
        "# Calculating Journey Data\n",
        "\n",
        "test['time_between_purch']=test.groupby(['customer'])['date_purchased'].diff()\n",
        "test['spend_growth']=test.groupby(['customer'])['restaurant_total'].diff()\n"
      ],
      "execution_count": 25,
      "outputs": []
    },
    {
      "cell_type": "code",
      "metadata": {
        "id": "JW8g4ElEj_8F"
      },
      "source": [
        ""
      ],
      "execution_count": null,
      "outputs": []
    },
    {
      "cell_type": "markdown",
      "metadata": {
        "id": "ikVuShFVj_D-"
      },
      "source": [
        "# Preparing Zip-Level Variables\n",
        "\n",
        "\n"
      ]
    },
    {
      "cell_type": "code",
      "metadata": {
        "id": "AoSjGna59bd5"
      },
      "source": [
        "#Assigning raw dataset to working copy for this section\n",
        "shopszip=test[['postal_code', 'shops_id','customer','total_order']].set_index('postal_code')\n",
        "shopszip=shopszip.drop_duplicates(subset=['customer', 'shops_id'], keep='last')"
      ],
      "execution_count": 262,
      "outputs": []
    },
    {
      "cell_type": "code",
      "metadata": {
        "id": "tq7HeqsB-5sw"
      },
      "source": [
        "# calculating shops and customers per postal code\n",
        "shopszip['shops_per_zip']=shopszip.groupby('postal_code').shops_id.nunique()\n",
        "shopszip['cust_per_zip']=shopszip.groupby('postal_code').customer.nunique()\n",
        "shopszip['shops_per_cust_per_zip']=shopszip['shops_per_zip']/shopszip['cust_per_zip']"
      ],
      "execution_count": 263,
      "outputs": []
    },
    {
      "cell_type": "code",
      "metadata": {
        "id": "tHC_9PvnH476"
      },
      "source": [
        "# Of customers placing orders in a given zip, what # and  % have placed more than 2 orders in total?\n",
        "temp=shopszip[shopszip['total_order']>2]\n",
        "shopszip['zip_cust_2_more']=temp.groupby('postal_code')['customer'].count()\n",
        "shopszip['zip_pct_cust_2_more']=shopszip['zip_cust_2_more']*100/shopszip['cust_per_zip']"
      ],
      "execution_count": 264,
      "outputs": []
    },
    {
      "cell_type": "code",
      "metadata": {
        "id": "mpQZVhzxNmBq",
        "outputId": "4e2cea5e-daa5-4a3b-f4d3-49376801e3d4",
        "colab": {
          "base_uri": "https://localhost:8080/",
          "height": 110
        }
      },
      "source": [
        "shopszip[shopszip['shops_id']==27246]"
      ],
      "execution_count": 242,
      "outputs": [
        {
          "output_type": "execute_result",
          "data": {
            "text/html": [
              "<div>\n",
              "<style scoped>\n",
              "    .dataframe tbody tr th:only-of-type {\n",
              "        vertical-align: middle;\n",
              "    }\n",
              "\n",
              "    .dataframe tbody tr th {\n",
              "        vertical-align: top;\n",
              "    }\n",
              "\n",
              "    .dataframe thead th {\n",
              "        text-align: right;\n",
              "    }\n",
              "</style>\n",
              "<table border=\"1\" class=\"dataframe\">\n",
              "  <thead>\n",
              "    <tr style=\"text-align: right;\">\n",
              "      <th></th>\n",
              "      <th>shops_id</th>\n",
              "      <th>customer</th>\n",
              "      <th>total_order</th>\n",
              "      <th>shops_per_zip</th>\n",
              "      <th>cust_per_zip</th>\n",
              "      <th>zip_cust_2_more</th>\n",
              "      <th>zip_pct_cust_2_more</th>\n",
              "      <th>shops_per_cust_per_zip</th>\n",
              "    </tr>\n",
              "    <tr>\n",
              "      <th>postal_code</th>\n",
              "      <th></th>\n",
              "      <th></th>\n",
              "      <th></th>\n",
              "      <th></th>\n",
              "      <th></th>\n",
              "      <th></th>\n",
              "      <th></th>\n",
              "      <th></th>\n",
              "    </tr>\n",
              "  </thead>\n",
              "  <tbody>\n",
              "    <tr>\n",
              "      <th>98101</th>\n",
              "      <td>27246</td>\n",
              "      <td>6196987925</td>\n",
              "      <td>3</td>\n",
              "      <td>1</td>\n",
              "      <td>1</td>\n",
              "      <td>1</td>\n",
              "      <td>100</td>\n",
              "      <td>1</td>\n",
              "    </tr>\n",
              "  </tbody>\n",
              "</table>\n",
              "</div>"
            ],
            "text/plain": [
              "             shops_id   customer  ...  zip_pct_cust_2_more  shops_per_cust_per_zip\n",
              "postal_code                       ...                                             \n",
              "98101           27246 6196987925  ...                  100                       1\n",
              "\n",
              "[1 rows x 8 columns]"
            ]
          },
          "metadata": {
            "tags": []
          },
          "execution_count": 242
        }
      ]
    },
    {
      "cell_type": "markdown",
      "metadata": {
        "id": "cRCJ5D8-JFr5"
      },
      "source": [
        "# ***Preparing Shop-Level Variables***"
      ]
    },
    {
      "cell_type": "code",
      "metadata": {
        "id": "bkuRZlSeElYO"
      },
      "source": [
        "#Total customers served by each shop"
      ],
      "execution_count": 133,
      "outputs": []
    },
    {
      "cell_type": "code",
      "metadata": {
        "id": "A17_m8reGnT5"
      },
      "source": [
        "shopscust=shopszip.set_index('shops_id')\n",
        "shopscust=shopscust.drop(columns=['shops_per_zip','cust_per_zip','zip_cust_2_more', 'zip_pct_cust_2_more','shops_per_cust_per_zip'] )\n",
        "\n",
        "# How many customers have placed at least one order at a given shop?\n",
        "\n",
        "shopscust['cust_per_shop']=shopscust.groupby('shops_id').customer.nunique()"
      ],
      "execution_count": 285,
      "outputs": []
    },
    {
      "cell_type": "code",
      "metadata": {
        "id": "Hwlvj3EaAQsk"
      },
      "source": [
        "# Of customers placing orders at a given shop, what # and % have placed > 2 total orders/\n",
        "t=shopscust[shopscust['total_order']>2]\n",
        "shopscust['shop_cust_2_more']=t.groupby('shops_id')['customer'].count()\n",
        "shopscust['shop_pct_cust_2_more']=shopscust['shop_cust_2_more']*100/shopscust['cust_per_shop']"
      ],
      "execution_count": 286,
      "outputs": []
    },
    {
      "cell_type": "markdown",
      "metadata": {
        "id": "EYXE3jdHQ73S"
      },
      "source": [
        "# ***Preparing Shop-Zip Level Variables***"
      ]
    },
    {
      "cell_type": "code",
      "metadata": {
        "id": "V1bOKIQUQ6kf",
        "outputId": "de1588a8-5829-4429-c1f2-bb688853b617",
        "colab": {
          "base_uri": "https://localhost:8080/",
          "height": 225
        }
      },
      "source": [
        "shopscust.info()"
      ],
      "execution_count": 287,
      "outputs": [
        {
          "output_type": "stream",
          "text": [
            "<class 'pandas.core.frame.DataFrame'>\n",
            "Int64Index: 87 entries, 24597 to 51831\n",
            "Data columns (total 5 columns):\n",
            " #   Column                Non-Null Count  Dtype  \n",
            "---  ------                --------------  -----  \n",
            " 0   customer              87 non-null     float64\n",
            " 1   total_order           87 non-null     int64  \n",
            " 2   cust_per_shop         87 non-null     int64  \n",
            " 3   shop_cust_2_more      1 non-null      float64\n",
            " 4   shop_pct_cust_2_more  1 non-null      float64\n",
            "dtypes: float64(3), int64(2)\n",
            "memory usage: 4.1 KB\n"
          ],
          "name": "stdout"
        }
      ]
    },
    {
      "cell_type": "code",
      "metadata": {
        "id": "ggdWasSMSrz5"
      },
      "source": [
        "shopscust_final=shopscust.reset_index()\n",
        "shopscust_final=shopscust_final.drop_duplicates(subset=['shops_id'], keep='last').drop(columns=['customer','total_order']).set_index('shops_id')\n"
      ],
      "execution_count": 288,
      "outputs": []
    },
    {
      "cell_type": "code",
      "metadata": {
        "id": "fhXEJLjnTPtn",
        "outputId": "5416cd8f-ecf6-4359-d92c-5d697d6b0483",
        "colab": {
          "base_uri": "https://localhost:8080/",
          "height": 446
        }
      },
      "source": [
        "shopscust_final"
      ],
      "execution_count": 289,
      "outputs": [
        {
          "output_type": "execute_result",
          "data": {
            "text/html": [
              "<div>\n",
              "<style scoped>\n",
              "    .dataframe tbody tr th:only-of-type {\n",
              "        vertical-align: middle;\n",
              "    }\n",
              "\n",
              "    .dataframe tbody tr th {\n",
              "        vertical-align: top;\n",
              "    }\n",
              "\n",
              "    .dataframe thead th {\n",
              "        text-align: right;\n",
              "    }\n",
              "</style>\n",
              "<table border=\"1\" class=\"dataframe\">\n",
              "  <thead>\n",
              "    <tr style=\"text-align: right;\">\n",
              "      <th></th>\n",
              "      <th>cust_per_shop</th>\n",
              "      <th>shop_cust_2_more</th>\n",
              "      <th>shop_pct_cust_2_more</th>\n",
              "    </tr>\n",
              "    <tr>\n",
              "      <th>shops_id</th>\n",
              "      <th></th>\n",
              "      <th></th>\n",
              "      <th></th>\n",
              "    </tr>\n",
              "  </thead>\n",
              "  <tbody>\n",
              "    <tr>\n",
              "      <th>24597</th>\n",
              "      <td>1</td>\n",
              "      <td>nan</td>\n",
              "      <td>nan</td>\n",
              "    </tr>\n",
              "    <tr>\n",
              "      <th>64392</th>\n",
              "      <td>1</td>\n",
              "      <td>nan</td>\n",
              "      <td>nan</td>\n",
              "    </tr>\n",
              "    <tr>\n",
              "      <th>33699</th>\n",
              "      <td>1</td>\n",
              "      <td>nan</td>\n",
              "      <td>nan</td>\n",
              "    </tr>\n",
              "    <tr>\n",
              "      <th>19002</th>\n",
              "      <td>1</td>\n",
              "      <td>nan</td>\n",
              "      <td>nan</td>\n",
              "    </tr>\n",
              "    <tr>\n",
              "      <th>34911</th>\n",
              "      <td>1</td>\n",
              "      <td>nan</td>\n",
              "      <td>nan</td>\n",
              "    </tr>\n",
              "    <tr>\n",
              "      <th>...</th>\n",
              "      <td>...</td>\n",
              "      <td>...</td>\n",
              "      <td>...</td>\n",
              "    </tr>\n",
              "    <tr>\n",
              "      <th>57072</th>\n",
              "      <td>1</td>\n",
              "      <td>nan</td>\n",
              "      <td>nan</td>\n",
              "    </tr>\n",
              "    <tr>\n",
              "      <th>15639</th>\n",
              "      <td>1</td>\n",
              "      <td>nan</td>\n",
              "      <td>nan</td>\n",
              "    </tr>\n",
              "    <tr>\n",
              "      <th>30054</th>\n",
              "      <td>1</td>\n",
              "      <td>nan</td>\n",
              "      <td>nan</td>\n",
              "    </tr>\n",
              "    <tr>\n",
              "      <th>40359</th>\n",
              "      <td>1</td>\n",
              "      <td>nan</td>\n",
              "      <td>nan</td>\n",
              "    </tr>\n",
              "    <tr>\n",
              "      <th>51831</th>\n",
              "      <td>1</td>\n",
              "      <td>nan</td>\n",
              "      <td>nan</td>\n",
              "    </tr>\n",
              "  </tbody>\n",
              "</table>\n",
              "<p>85 rows × 3 columns</p>\n",
              "</div>"
            ],
            "text/plain": [
              "          cust_per_shop  shop_cust_2_more  shop_pct_cust_2_more\n",
              "shops_id                                                       \n",
              "24597                 1               nan                   nan\n",
              "64392                 1               nan                   nan\n",
              "33699                 1               nan                   nan\n",
              "19002                 1               nan                   nan\n",
              "34911                 1               nan                   nan\n",
              "...                 ...               ...                   ...\n",
              "57072                 1               nan                   nan\n",
              "15639                 1               nan                   nan\n",
              "30054                 1               nan                   nan\n",
              "40359                 1               nan                   nan\n",
              "51831                 1               nan                   nan\n",
              "\n",
              "[85 rows x 3 columns]"
            ]
          },
          "metadata": {
            "tags": []
          },
          "execution_count": 289
        }
      ]
    },
    {
      "cell_type": "code",
      "metadata": {
        "id": "yqKQZcoFSdqN"
      },
      "source": [
        "shopszip_final=shopszip.reset_index()"
      ],
      "execution_count": 298,
      "outputs": []
    },
    {
      "cell_type": "code",
      "metadata": {
        "id": "xoY_hj13TiQ5"
      },
      "source": [
        "\n",
        "#shopscust_final=shopscust_final.drop_duplicates(subset=['shops_id'], keep='last').drop(columns=['customer','total_order']).set_index('shops_id')\n"
      ],
      "execution_count": null,
      "outputs": []
    },
    {
      "cell_type": "code",
      "metadata": {
        "id": "R01hK-_iSajp"
      },
      "source": [
        "shopscustzip=shopszip_final.merge(shopscust_final,left_on='shops_id',right_on='shops_id') "
      ],
      "execution_count": 299,
      "outputs": []
    },
    {
      "cell_type": "code",
      "metadata": {
        "id": "VPVgUxWxUh3n",
        "outputId": "2a96675c-b9a5-4907-a5a7-83080daeabb3",
        "colab": {
          "base_uri": "https://localhost:8080/",
          "height": 347
        }
      },
      "source": [
        "shopscustzip.info()"
      ],
      "execution_count": 300,
      "outputs": [
        {
          "output_type": "stream",
          "text": [
            "<class 'pandas.core.frame.DataFrame'>\n",
            "Int64Index: 87 entries, 0 to 86\n",
            "Data columns (total 12 columns):\n",
            " #   Column                  Non-Null Count  Dtype  \n",
            "---  ------                  --------------  -----  \n",
            " 0   postal_code             87 non-null     int64  \n",
            " 1   shops_id                87 non-null     int64  \n",
            " 2   customer                87 non-null     float64\n",
            " 3   total_order             87 non-null     int64  \n",
            " 4   shops_per_zip           87 non-null     int64  \n",
            " 5   cust_per_zip            87 non-null     int64  \n",
            " 6   shops_per_cust_per_zip  87 non-null     float64\n",
            " 7   zip_cust_2_more         1 non-null      float64\n",
            " 8   zip_pct_cust_2_more     1 non-null      float64\n",
            " 9   cust_per_shop           87 non-null     int64  \n",
            " 10  shop_cust_2_more        1 non-null      float64\n",
            " 11  shop_pct_cust_2_more    1 non-null      float64\n",
            "dtypes: float64(6), int64(6)\n",
            "memory usage: 8.8 KB\n"
          ],
          "name": "stdout"
        }
      ]
    },
    {
      "cell_type": "code",
      "metadata": {
        "id": "FYz7E5sbROoo",
        "outputId": "93cc7c9d-e93d-47cf-e3ca-c1b6b0b7e74e",
        "colab": {
          "base_uri": "https://localhost:8080/",
          "height": 99
        }
      },
      "source": [
        "shopscustzip[shopscustzip['customer']==6196987925]"
      ],
      "execution_count": 301,
      "outputs": [
        {
          "output_type": "execute_result",
          "data": {
            "text/html": [
              "<div>\n",
              "<style scoped>\n",
              "    .dataframe tbody tr th:only-of-type {\n",
              "        vertical-align: middle;\n",
              "    }\n",
              "\n",
              "    .dataframe tbody tr th {\n",
              "        vertical-align: top;\n",
              "    }\n",
              "\n",
              "    .dataframe thead th {\n",
              "        text-align: right;\n",
              "    }\n",
              "</style>\n",
              "<table border=\"1\" class=\"dataframe\">\n",
              "  <thead>\n",
              "    <tr style=\"text-align: right;\">\n",
              "      <th></th>\n",
              "      <th>postal_code</th>\n",
              "      <th>shops_id</th>\n",
              "      <th>customer</th>\n",
              "      <th>total_order</th>\n",
              "      <th>shops_per_zip</th>\n",
              "      <th>cust_per_zip</th>\n",
              "      <th>shops_per_cust_per_zip</th>\n",
              "      <th>zip_cust_2_more</th>\n",
              "      <th>zip_pct_cust_2_more</th>\n",
              "      <th>cust_per_shop</th>\n",
              "      <th>shop_cust_2_more</th>\n",
              "      <th>shop_pct_cust_2_more</th>\n",
              "    </tr>\n",
              "  </thead>\n",
              "  <tbody>\n",
              "    <tr>\n",
              "      <th>77</th>\n",
              "      <td>98101</td>\n",
              "      <td>27246</td>\n",
              "      <td>6196987925</td>\n",
              "      <td>3</td>\n",
              "      <td>1</td>\n",
              "      <td>1</td>\n",
              "      <td>1</td>\n",
              "      <td>1</td>\n",
              "      <td>100</td>\n",
              "      <td>1</td>\n",
              "      <td>1</td>\n",
              "      <td>100</td>\n",
              "    </tr>\n",
              "  </tbody>\n",
              "</table>\n",
              "</div>"
            ],
            "text/plain": [
              "    postal_code  shops_id  ...  shop_cust_2_more  shop_pct_cust_2_more\n",
              "77        98101     27246  ...                 1                   100\n",
              "\n",
              "[1 rows x 12 columns]"
            ]
          },
          "metadata": {
            "tags": []
          },
          "execution_count": 301
        }
      ]
    },
    {
      "cell_type": "code",
      "metadata": {
        "id": "0sur_xjSU8L5",
        "outputId": "42095dad-7288-429e-e09e-812415fe5f7a",
        "colab": {
          "base_uri": "https://localhost:8080/",
          "height": 130
        }
      },
      "source": [
        "t=shopscustzip[shopscustzip['total_order']>2]\n",
        "t.set_index('postal_code')"
      ],
      "execution_count": 306,
      "outputs": [
        {
          "output_type": "execute_result",
          "data": {
            "text/html": [
              "<div>\n",
              "<style scoped>\n",
              "    .dataframe tbody tr th:only-of-type {\n",
              "        vertical-align: middle;\n",
              "    }\n",
              "\n",
              "    .dataframe tbody tr th {\n",
              "        vertical-align: top;\n",
              "    }\n",
              "\n",
              "    .dataframe thead th {\n",
              "        text-align: right;\n",
              "    }\n",
              "</style>\n",
              "<table border=\"1\" class=\"dataframe\">\n",
              "  <thead>\n",
              "    <tr style=\"text-align: right;\">\n",
              "      <th></th>\n",
              "      <th>shops_id</th>\n",
              "      <th>customer</th>\n",
              "      <th>total_order</th>\n",
              "      <th>shops_per_zip</th>\n",
              "      <th>cust_per_zip</th>\n",
              "      <th>shops_per_cust_per_zip</th>\n",
              "      <th>zip_cust_2_more</th>\n",
              "      <th>zip_pct_cust_2_more</th>\n",
              "      <th>cust_per_shop</th>\n",
              "      <th>shop_cust_2_more</th>\n",
              "      <th>shop_pct_cust_2_more</th>\n",
              "      <th>shops_zip_2_orders_more</th>\n",
              "    </tr>\n",
              "    <tr>\n",
              "      <th>postal_code</th>\n",
              "      <th></th>\n",
              "      <th></th>\n",
              "      <th></th>\n",
              "      <th></th>\n",
              "      <th></th>\n",
              "      <th></th>\n",
              "      <th></th>\n",
              "      <th></th>\n",
              "      <th></th>\n",
              "      <th></th>\n",
              "      <th></th>\n",
              "      <th></th>\n",
              "    </tr>\n",
              "  </thead>\n",
              "  <tbody>\n",
              "    <tr>\n",
              "      <th>98101</th>\n",
              "      <td>27246</td>\n",
              "      <td>6196987925</td>\n",
              "      <td>3</td>\n",
              "      <td>1</td>\n",
              "      <td>1</td>\n",
              "      <td>1</td>\n",
              "      <td>1</td>\n",
              "      <td>100</td>\n",
              "      <td>1</td>\n",
              "      <td>1</td>\n",
              "      <td>100</td>\n",
              "      <td>nan</td>\n",
              "    </tr>\n",
              "  </tbody>\n",
              "</table>\n",
              "</div>"
            ],
            "text/plain": [
              "             shops_id   customer  ...  shop_pct_cust_2_more  shops_zip_2_orders_more\n",
              "postal_code                       ...                                               \n",
              "98101           27246 6196987925  ...                   100                      nan\n",
              "\n",
              "[1 rows x 12 columns]"
            ]
          },
          "metadata": {
            "tags": []
          },
          "execution_count": 306
        }
      ]
    },
    {
      "cell_type": "code",
      "metadata": {
        "id": "fuMUCbm1VBMq",
        "outputId": "e2fa46d6-da53-4eec-efbe-a047b3fe1118",
        "colab": {
          "base_uri": "https://localhost:8080/",
          "height": 121
        }
      },
      "source": [
        "t['t1']=t.groupby('postal_code').shops_id.count()"
      ],
      "execution_count": 316,
      "outputs": [
        {
          "output_type": "stream",
          "text": [
            "/usr/local/lib/python3.6/dist-packages/ipykernel_launcher.py:1: SettingWithCopyWarning: \n",
            "A value is trying to be set on a copy of a slice from a DataFrame.\n",
            "Try using .loc[row_indexer,col_indexer] = value instead\n",
            "\n",
            "See the caveats in the documentation: https://pandas.pydata.org/pandas-docs/stable/user_guide/indexing.html#returning-a-view-versus-a-copy\n",
            "  \"\"\"Entry point for launching an IPython kernel.\n"
          ],
          "name": "stderr"
        }
      ]
    },
    {
      "cell_type": "code",
      "metadata": {
        "id": "wVHyEUEbVhp1",
        "outputId": "f0b88067-7292-416d-ff6d-ea4c0aa62799",
        "colab": {
          "base_uri": "https://localhost:8080/",
          "height": 99
        }
      },
      "source": [
        "t[t['customer']==6196987925]"
      ],
      "execution_count": 312,
      "outputs": [
        {
          "output_type": "execute_result",
          "data": {
            "text/html": [
              "<div>\n",
              "<style scoped>\n",
              "    .dataframe tbody tr th:only-of-type {\n",
              "        vertical-align: middle;\n",
              "    }\n",
              "\n",
              "    .dataframe tbody tr th {\n",
              "        vertical-align: top;\n",
              "    }\n",
              "\n",
              "    .dataframe thead th {\n",
              "        text-align: right;\n",
              "    }\n",
              "</style>\n",
              "<table border=\"1\" class=\"dataframe\">\n",
              "  <thead>\n",
              "    <tr style=\"text-align: right;\">\n",
              "      <th></th>\n",
              "      <th>postal_code</th>\n",
              "      <th>shops_id</th>\n",
              "      <th>customer</th>\n",
              "      <th>total_order</th>\n",
              "      <th>shops_per_zip</th>\n",
              "      <th>cust_per_zip</th>\n",
              "      <th>shops_per_cust_per_zip</th>\n",
              "      <th>zip_cust_2_more</th>\n",
              "      <th>zip_pct_cust_2_more</th>\n",
              "      <th>cust_per_shop</th>\n",
              "      <th>shop_cust_2_more</th>\n",
              "      <th>shop_pct_cust_2_more</th>\n",
              "      <th>shops_zip_2_orders_more</th>\n",
              "    </tr>\n",
              "  </thead>\n",
              "  <tbody>\n",
              "    <tr>\n",
              "      <th>77</th>\n",
              "      <td>98101</td>\n",
              "      <td>27246</td>\n",
              "      <td>6196987925</td>\n",
              "      <td>3</td>\n",
              "      <td>1</td>\n",
              "      <td>1</td>\n",
              "      <td>1</td>\n",
              "      <td>1</td>\n",
              "      <td>100</td>\n",
              "      <td>1</td>\n",
              "      <td>1</td>\n",
              "      <td>100</td>\n",
              "      <td>nan</td>\n",
              "    </tr>\n",
              "  </tbody>\n",
              "</table>\n",
              "</div>"
            ],
            "text/plain": [
              "    postal_code  shops_id  ...  shop_pct_cust_2_more  shops_zip_2_orders_more\n",
              "77        98101     27246  ...                   100                      nan\n",
              "\n",
              "[1 rows x 13 columns]"
            ]
          },
          "metadata": {
            "tags": []
          },
          "execution_count": 312
        }
      ]
    }
  ]
}