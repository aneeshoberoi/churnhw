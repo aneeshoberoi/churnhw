{
  "nbformat": 4,
  "nbformat_minor": 0,
  "metadata": {
    "colab": {
      "name": "ChurnNoteBook_Final.ipynb",
      "provenance": [],
      "collapsed_sections": [],
      "authorship_tag": "ABX9TyNAX3sK5/gs90KZ2Gc5DJs9",
      "include_colab_link": true
    },
    "kernelspec": {
      "name": "python3",
      "display_name": "Python 3"
    }
  },
  "cells": [
    {
      "cell_type": "markdown",
      "metadata": {
        "id": "view-in-github",
        "colab_type": "text"
      },
      "source": [
        "<a href=\"https://colab.research.google.com/github/aneeshoberoi/churnhw/blob/main/ChurnNoteBook_Final.ipynb\" target=\"_parent\"><img src=\"https://colab.research.google.com/assets/colab-badge.svg\" alt=\"Open In Colab\"/></a>"
      ]
    },
    {
      "cell_type": "code",
      "metadata": {
        "id": "fAemffSOhqZu"
      },
      "source": [
        "import pandas as pd\n",
        "import numpy as np\n",
        "from collections import OrderedDict\n",
        "from scipy.stats import chi2_contingency\n",
        "from scipy.stats import chi2\n",
        "import statsmodels.api as stapi\n",
        "import statsmodels.regression.linear_model as sm\n",
        "from IPython.display import HTML \n",
        "\n",
        "#pd.set_option('display.float_format', lambda x: '%.0f' % x)\n",
        "pd.options.display.float_format = \"{:,.2f}\".format\n",
        "pd.set_option(\"display.precision\",2)"
      ],
      "execution_count": 509,
      "outputs": []
    },
    {
      "cell_type": "code",
      "metadata": {
        "id": "ZMwOrs5Th067"
      },
      "source": [
        "source='https://raw.githubusercontent.com/aneeshoberoi/churnhw/main/churn_homework%20-%20homework_orders.csv?token=AP7KM2V7ATORWSUELYW4GHK7TGCMY'\n",
        "raw=pd.read_csv(source, sep=\",\")"
      ],
      "execution_count": 342,
      "outputs": []
    },
    {
      "cell_type": "code",
      "metadata": {
        "id": "hNQzJuICh-jI"
      },
      "source": [
        "#raw=df.head(100)\n",
        "#raw.set_index('order_id')"
      ],
      "execution_count": 343,
      "outputs": []
    },
    {
      "cell_type": "code",
      "metadata": {
        "id": "t2KE-bLU7jYX"
      },
      "source": [
        "# assigning to working copy for indicator variables"
      ],
      "execution_count": 344,
      "outputs": []
    },
    {
      "cell_type": "markdown",
      "metadata": {
        "id": "tj8tz5U_7hOW"
      },
      "source": [
        "# **Basic Statistics**"
      ]
    },
    {
      "cell_type": "code",
      "metadata": {
        "id": "KUH5A7-o7gb6",
        "outputId": "e027d167-b1fe-454b-f5d4-ccdcec4c84d5",
        "colab": {
          "base_uri": "https://localhost:8080/",
          "height": 35
        }
      },
      "source": [
        "raw.customer.nunique()"
      ],
      "execution_count": 345,
      "outputs": [
        {
          "output_type": "execute_result",
          "data": {
            "text/plain": [
              "10316"
            ]
          },
          "metadata": {
            "tags": []
          },
          "execution_count": 345
        }
      ]
    },
    {
      "cell_type": "code",
      "metadata": {
        "id": "x1klgOTK8jnu",
        "outputId": "6759d80a-0c1f-4a14-8ff7-b61b89894b85",
        "colab": {
          "base_uri": "https://localhost:8080/",
          "height": 35
        }
      },
      "source": [
        "raw.restaurant_total.sum()"
      ],
      "execution_count": 346,
      "outputs": [
        {
          "output_type": "execute_result",
          "data": {
            "text/plain": [
              "1372249.61"
            ]
          },
          "metadata": {
            "tags": []
          },
          "execution_count": 346
        }
      ]
    },
    {
      "cell_type": "code",
      "metadata": {
        "id": "yiqURoiF8pSv",
        "outputId": "fa9c372d-9eaa-4085-9001-b7e90df2a1cc",
        "colab": {
          "base_uri": "https://localhost:8080/",
          "height": 35
        }
      },
      "source": [
        "raw.order_id.nunique()"
      ],
      "execution_count": 347,
      "outputs": [
        {
          "output_type": "execute_result",
          "data": {
            "text/plain": [
              "42198"
            ]
          },
          "metadata": {
            "tags": []
          },
          "execution_count": 347
        }
      ]
    },
    {
      "cell_type": "code",
      "metadata": {
        "id": "_XFXqF-jAl6q",
        "outputId": "ba53c060-3a13-4b16-d00b-7f978765cd98",
        "colab": {
          "base_uri": "https://localhost:8080/",
          "height": 35
        }
      },
      "source": [
        "raw.customer.isna().sum()"
      ],
      "execution_count": 348,
      "outputs": [
        {
          "output_type": "execute_result",
          "data": {
            "text/plain": [
              "5"
            ]
          },
          "metadata": {
            "tags": []
          },
          "execution_count": 348
        }
      ]
    },
    {
      "cell_type": "markdown",
      "metadata": {
        "id": "m4ryxWsNiFYB"
      },
      "source": [
        "# ***Data Cleaning***"
      ]
    },
    {
      "cell_type": "code",
      "metadata": {
        "id": "Y0pmc4Ob82vv"
      },
      "source": [
        "# assigning to working copy for indicator variables\n",
        "test=raw"
      ],
      "execution_count": 349,
      "outputs": []
    },
    {
      "cell_type": "code",
      "metadata": {
        "id": "NL7yafaDiEGE"
      },
      "source": [
        "# Remove zero dollar txns\n",
        "test=test[test['restaurant_total']>0]"
      ],
      "execution_count": 350,
      "outputs": []
    },
    {
      "cell_type": "code",
      "metadata": {
        "id": "QvDNpmtKA2jQ"
      },
      "source": [
        "# Remove rows with customer number = na\n",
        "test=test.dropna(subset=['customer'])"
      ],
      "execution_count": 351,
      "outputs": []
    },
    {
      "cell_type": "code",
      "metadata": {
        "id": "3y6SJBNodhEJ",
        "outputId": "2fd9babc-b6d3-468d-e7c4-fc87282d4cf5",
        "colab": {
          "base_uri": "https://localhost:8080/",
          "height": 35
        }
      },
      "source": [
        "test.customer.nunique()"
      ],
      "execution_count": 352,
      "outputs": [
        {
          "output_type": "execute_result",
          "data": {
            "text/plain": [
              "10316"
            ]
          },
          "metadata": {
            "tags": []
          },
          "execution_count": 352
        }
      ]
    },
    {
      "cell_type": "code",
      "metadata": {
        "id": "yjZGqG33dm0Y",
        "outputId": "e009a273-d8b1-4b57-ff09-80e59409a6f2",
        "colab": {
          "base_uri": "https://localhost:8080/",
          "height": 35
        }
      },
      "source": [
        "test.order_id.nunique()"
      ],
      "execution_count": 353,
      "outputs": [
        {
          "output_type": "execute_result",
          "data": {
            "text/plain": [
              "41906"
            ]
          },
          "metadata": {
            "tags": []
          },
          "execution_count": 353
        }
      ]
    },
    {
      "cell_type": "code",
      "metadata": {
        "id": "kO_WXi3IdpbW",
        "outputId": "5b6789c8-324a-425a-df6a-db4b30cf8fbb",
        "colab": {
          "base_uri": "https://localhost:8080/",
          "height": 35
        }
      },
      "source": [
        "test.restaurant_total.sum()"
      ],
      "execution_count": 354,
      "outputs": [
        {
          "output_type": "execute_result",
          "data": {
            "text/plain": [
              "1372113.6300000001"
            ]
          },
          "metadata": {
            "tags": []
          },
          "execution_count": 354
        }
      ]
    },
    {
      "cell_type": "code",
      "metadata": {
        "id": "hzTowRdfiPzN"
      },
      "source": [
        "# Variable Conversion\n",
        "test['date_purchased']=pd.to_datetime(test['date_purchased'])\n",
        "test['dateonly_purchased']=test['date_purchased'].dt.date\n",
        "test['houronly_purchased']=test['date_purchased'].dt.hour\n",
        "test['datehour_purchased']=test['dateonly_purchased'].astype(str) + \"-\" + test['houronly_purchased'].astype(str)\n",
        "\n",
        "test['restaurant_total']=test['restaurant_total'].astype(float)"
      ],
      "execution_count": 355,
      "outputs": []
    },
    {
      "cell_type": "code",
      "metadata": {
        "id": "yrravVgeiTNP"
      },
      "source": [
        "# Removing Duplicate Txns - i.e. those made within the same hour at the same shop by a given customer. Keeping last txn only.\n",
        "test=test.drop_duplicates(subset=['customer', 'shops_id', 'datehour_purchased'], keep='last')\n"
      ],
      "execution_count": 356,
      "outputs": []
    },
    {
      "cell_type": "code",
      "metadata": {
        "id": "Tks2UD91dvPu",
        "outputId": "6ff8194f-b597-4854-c6f9-04cabaf1f1d3",
        "colab": {
          "base_uri": "https://localhost:8080/",
          "height": 35
        }
      },
      "source": [
        "test.customer.nunique()"
      ],
      "execution_count": 357,
      "outputs": [
        {
          "output_type": "execute_result",
          "data": {
            "text/plain": [
              "10316"
            ]
          },
          "metadata": {
            "tags": []
          },
          "execution_count": 357
        }
      ]
    },
    {
      "cell_type": "code",
      "metadata": {
        "id": "HXLvU0e1dvP5",
        "outputId": "a47e0e04-92e6-44ca-cb6c-b509458fe4f0",
        "colab": {
          "base_uri": "https://localhost:8080/",
          "height": 35
        }
      },
      "source": [
        "test.order_id.nunique()"
      ],
      "execution_count": 358,
      "outputs": [
        {
          "output_type": "execute_result",
          "data": {
            "text/plain": [
              "39880"
            ]
          },
          "metadata": {
            "tags": []
          },
          "execution_count": 358
        }
      ]
    },
    {
      "cell_type": "code",
      "metadata": {
        "id": "TLpmoO_ndvQA",
        "outputId": "0ebfa99a-3e2c-4291-d199-7fa01e79164d",
        "colab": {
          "base_uri": "https://localhost:8080/",
          "height": 35
        }
      },
      "source": [
        "test.restaurant_total.sum()"
      ],
      "execution_count": 359,
      "outputs": [
        {
          "output_type": "execute_result",
          "data": {
            "text/plain": [
              "1301395.08"
            ]
          },
          "metadata": {
            "tags": []
          },
          "execution_count": 359
        }
      ]
    },
    {
      "cell_type": "markdown",
      "metadata": {
        "id": "uy8xsCRciWOY"
      },
      "source": [
        "# ***Data Prep - Indicators***"
      ]
    },
    {
      "cell_type": "code",
      "metadata": {
        "id": "BuJ7YqJqihuQ"
      },
      "source": [
        " #Enumerating Purchases\n",
        " test.sort_values(by=['customer','date_purchased'])\n",
        "\n",
        "test = test.assign(order_enum=test.groupby('customer')['datehour_purchased'].cumcount()+1)\n",
        "test['total_order']=test.groupby('customer')['order_id'].transform('count')\n",
        "test['total_sales']=test.groupby('customer')['restaurant_total'].transform('sum')"
      ],
      "execution_count": 360,
      "outputs": []
    },
    {
      "cell_type": "code",
      "metadata": {
        "id": "MKxzGjgIinDI"
      },
      "source": [
        "test['bin_orders']=np.where(test['total_order']<7,test['order_enum'],7)"
      ],
      "execution_count": 361,
      "outputs": []
    },
    {
      "cell_type": "code",
      "metadata": {
        "id": "5cdHcKtuipp7"
      },
      "source": [
        "# Calculating Journey Data\n",
        "\n",
        "test['time_between_purch']=test.groupby(['customer'])['date_purchased'].diff()\n",
        "test['spend_growth']=test.groupby(['customer'])['restaurant_total'].diff()\n",
        "test['date_last_purch']=test.groupby(['customer'])['date_purchased'].transform('max')\n"
      ],
      "execution_count": 362,
      "outputs": []
    },
    {
      "cell_type": "code",
      "metadata": {
        "id": "GPPy3gphWABh",
        "outputId": "3a6ead4b-9e24-4288-b4bb-a5cea8e059ac",
        "colab": {
          "base_uri": "https://localhost:8080/",
          "height": 309
        }
      },
      "source": [
        "test.head()"
      ],
      "execution_count": 363,
      "outputs": [
        {
          "output_type": "execute_result",
          "data": {
            "text/html": [
              "<div>\n",
              "<style scoped>\n",
              "    .dataframe tbody tr th:only-of-type {\n",
              "        vertical-align: middle;\n",
              "    }\n",
              "\n",
              "    .dataframe tbody tr th {\n",
              "        vertical-align: top;\n",
              "    }\n",
              "\n",
              "    .dataframe thead th {\n",
              "        text-align: right;\n",
              "    }\n",
              "</style>\n",
              "<table border=\"1\" class=\"dataframe\">\n",
              "  <thead>\n",
              "    <tr style=\"text-align: right;\">\n",
              "      <th></th>\n",
              "      <th>order_id</th>\n",
              "      <th>source</th>\n",
              "      <th>date_purchased</th>\n",
              "      <th>shipping_type</th>\n",
              "      <th>payment_method</th>\n",
              "      <th>promo_value</th>\n",
              "      <th>restaurant_total</th>\n",
              "      <th>customer</th>\n",
              "      <th>shops_id</th>\n",
              "      <th>state</th>\n",
              "      <th>postal_code</th>\n",
              "      <th>dateonly_purchased</th>\n",
              "      <th>houronly_purchased</th>\n",
              "      <th>datehour_purchased</th>\n",
              "      <th>order_enum</th>\n",
              "      <th>total_order</th>\n",
              "      <th>total_sales</th>\n",
              "      <th>bin_orders</th>\n",
              "      <th>time_between_purch</th>\n",
              "      <th>spend_growth</th>\n",
              "      <th>date_last_purch</th>\n",
              "    </tr>\n",
              "  </thead>\n",
              "  <tbody>\n",
              "    <tr>\n",
              "      <th>0</th>\n",
              "      <td>47433960</td>\n",
              "      <td>iosapp</td>\n",
              "      <td>2019-03-13 08:02:07+00:00</td>\n",
              "      <td>Delivery</td>\n",
              "      <td>credit</td>\n",
              "      <td>0</td>\n",
              "      <td>15.50</td>\n",
              "      <td>13,315,067,198.00</td>\n",
              "      <td>24597</td>\n",
              "      <td>MD</td>\n",
              "      <td>21162</td>\n",
              "      <td>2019-03-13</td>\n",
              "      <td>8.00</td>\n",
              "      <td>2019-03-13-8.0</td>\n",
              "      <td>1</td>\n",
              "      <td>2</td>\n",
              "      <td>32.21</td>\n",
              "      <td>1</td>\n",
              "      <td>NaT</td>\n",
              "      <td>nan</td>\n",
              "      <td>2019-06-22 07:38:20+00:00</td>\n",
              "    </tr>\n",
              "    <tr>\n",
              "      <th>1</th>\n",
              "      <td>47434359</td>\n",
              "      <td>iosapp</td>\n",
              "      <td>2019-03-13 08:11:38+00:00</td>\n",
              "      <td>Delivery</td>\n",
              "      <td>credit</td>\n",
              "      <td>0</td>\n",
              "      <td>24.83</td>\n",
              "      <td>15,557,129,447.00</td>\n",
              "      <td>64392</td>\n",
              "      <td>NY</td>\n",
              "      <td>12944</td>\n",
              "      <td>2019-03-13</td>\n",
              "      <td>8.00</td>\n",
              "      <td>2019-03-13-8.0</td>\n",
              "      <td>1</td>\n",
              "      <td>5</td>\n",
              "      <td>152.83</td>\n",
              "      <td>1</td>\n",
              "      <td>NaT</td>\n",
              "      <td>nan</td>\n",
              "      <td>2020-03-29 12:58:54+00:00</td>\n",
              "    </tr>\n",
              "    <tr>\n",
              "      <th>2</th>\n",
              "      <td>47437194</td>\n",
              "      <td>partner_website</td>\n",
              "      <td>2019-03-13 09:07:31+00:00</td>\n",
              "      <td>Delivery</td>\n",
              "      <td>cash</td>\n",
              "      <td>0</td>\n",
              "      <td>43.24</td>\n",
              "      <td>25,689,365,012.00</td>\n",
              "      <td>33699</td>\n",
              "      <td>NJ</td>\n",
              "      <td>8007</td>\n",
              "      <td>2019-03-13</td>\n",
              "      <td>9.00</td>\n",
              "      <td>2019-03-13-9.0</td>\n",
              "      <td>1</td>\n",
              "      <td>48</td>\n",
              "      <td>1,835.14</td>\n",
              "      <td>7</td>\n",
              "      <td>NaT</td>\n",
              "      <td>nan</td>\n",
              "      <td>2020-03-12 08:30:11+00:00</td>\n",
              "    </tr>\n",
              "    <tr>\n",
              "      <th>3</th>\n",
              "      <td>47442942</td>\n",
              "      <td>partner_website</td>\n",
              "      <td>2019-03-13 11:01:04+00:00</td>\n",
              "      <td>Delivery</td>\n",
              "      <td>credit</td>\n",
              "      <td>0</td>\n",
              "      <td>27.95</td>\n",
              "      <td>25,421,112,251.00</td>\n",
              "      <td>19002</td>\n",
              "      <td>WI</td>\n",
              "      <td>53235</td>\n",
              "      <td>2019-03-13</td>\n",
              "      <td>11.00</td>\n",
              "      <td>2019-03-13-11.0</td>\n",
              "      <td>1</td>\n",
              "      <td>11</td>\n",
              "      <td>249.88</td>\n",
              "      <td>7</td>\n",
              "      <td>NaT</td>\n",
              "      <td>nan</td>\n",
              "      <td>2019-11-20 12:12:20+00:00</td>\n",
              "    </tr>\n",
              "    <tr>\n",
              "      <th>4</th>\n",
              "      <td>47443107</td>\n",
              "      <td>partner_website</td>\n",
              "      <td>2019-03-13 11:04:56+00:00</td>\n",
              "      <td>Delivery</td>\n",
              "      <td>credit</td>\n",
              "      <td>0</td>\n",
              "      <td>23.15</td>\n",
              "      <td>18,529,185,191.00</td>\n",
              "      <td>34911</td>\n",
              "      <td>MA</td>\n",
              "      <td>2122</td>\n",
              "      <td>2019-03-13</td>\n",
              "      <td>11.00</td>\n",
              "      <td>2019-03-13-11.0</td>\n",
              "      <td>1</td>\n",
              "      <td>1</td>\n",
              "      <td>23.15</td>\n",
              "      <td>1</td>\n",
              "      <td>NaT</td>\n",
              "      <td>nan</td>\n",
              "      <td>2019-03-13 11:04:56+00:00</td>\n",
              "    </tr>\n",
              "  </tbody>\n",
              "</table>\n",
              "</div>"
            ],
            "text/plain": [
              "   order_id           source  ... spend_growth           date_last_purch\n",
              "0  47433960           iosapp  ...          nan 2019-06-22 07:38:20+00:00\n",
              "1  47434359           iosapp  ...          nan 2020-03-29 12:58:54+00:00\n",
              "2  47437194  partner_website  ...          nan 2020-03-12 08:30:11+00:00\n",
              "3  47442942  partner_website  ...          nan 2019-11-20 12:12:20+00:00\n",
              "4  47443107  partner_website  ...          nan 2019-03-13 11:04:56+00:00\n",
              "\n",
              "[5 rows x 21 columns]"
            ]
          },
          "metadata": {
            "tags": []
          },
          "execution_count": 363
        }
      ]
    },
    {
      "cell_type": "markdown",
      "metadata": {
        "id": "ikVuShFVj_D-"
      },
      "source": [
        "# Preparing Zip-Cust Level Variables\n",
        "\n",
        "\n"
      ]
    },
    {
      "cell_type": "code",
      "metadata": {
        "id": "AoSjGna59bd5"
      },
      "source": [
        "#Assigning raw dataset to working copy for this section\n",
        "shopszip=test[['postal_code', 'shops_id','customer','total_order']].set_index('postal_code')\n",
        "shopszip=shopszip.drop_duplicates(subset=['customer', 'shops_id'], keep='last')"
      ],
      "execution_count": 364,
      "outputs": []
    },
    {
      "cell_type": "code",
      "metadata": {
        "id": "tq7HeqsB-5sw"
      },
      "source": [
        "# calculating shops and customers per postal code\n",
        "shopszip['shops_per_zip']=shopszip.groupby('postal_code').shops_id.nunique()\n",
        "shopszip['cust_per_zip']=shopszip.groupby('postal_code').customer.nunique()\n",
        "shopszip['shops_per_cust_per_zip']=shopszip['shops_per_zip']/shopszip['cust_per_zip']"
      ],
      "execution_count": 365,
      "outputs": []
    },
    {
      "cell_type": "code",
      "metadata": {
        "id": "tHC_9PvnH476"
      },
      "source": [
        "# Of customers placing orders in a given zip, what # and  % have placed more than 2 orders in total?\n",
        "temp=shopszip[shopszip['total_order']>1]\n",
        "shopszip['zip_cust_2_more']=temp.groupby('postal_code')['customer'].count()\n",
        "shopszip['zip_pct_cust_2_more']=shopszip['zip_cust_2_more']*100/shopszip['cust_per_zip']"
      ],
      "execution_count": 366,
      "outputs": []
    },
    {
      "cell_type": "markdown",
      "metadata": {
        "id": "cRCJ5D8-JFr5"
      },
      "source": [
        "# ***Preparing Shop-Cust Level Variables***"
      ]
    },
    {
      "cell_type": "code",
      "metadata": {
        "id": "bkuRZlSeElYO"
      },
      "source": [
        "#Total customers served by each shop"
      ],
      "execution_count": 367,
      "outputs": []
    },
    {
      "cell_type": "code",
      "metadata": {
        "id": "A17_m8reGnT5"
      },
      "source": [
        "shopscust=shopszip.set_index('shops_id')\n",
        "shopscust=shopscust.drop(columns=['shops_per_zip','cust_per_zip','zip_cust_2_more', 'zip_pct_cust_2_more','shops_per_cust_per_zip'] )\n",
        "\n",
        "# How many customers have placed at least one order at a given shop?\n",
        "\n",
        "shopscust['cust_per_shop']=shopscust.groupby('shops_id').customer.nunique()"
      ],
      "execution_count": 368,
      "outputs": []
    },
    {
      "cell_type": "code",
      "metadata": {
        "id": "Hwlvj3EaAQsk"
      },
      "source": [
        "# Of customers placing orders at a given shop, what # and % have placed > 2 total orders/\n",
        "t=shopscust[shopscust['total_order']>1]\n",
        "shopscust['shop_cust_2_more']=t.groupby('shops_id')['customer'].count()\n",
        "shopscust['shop_pct_cust_2_more']=shopscust['shop_cust_2_more']*100/shopscust['cust_per_shop']"
      ],
      "execution_count": 369,
      "outputs": []
    },
    {
      "cell_type": "code",
      "metadata": {
        "id": "pLse1tc5Z1PP"
      },
      "source": [
        "k=shopscust.reset_index()"
      ],
      "execution_count": 370,
      "outputs": []
    },
    {
      "cell_type": "code",
      "metadata": {
        "id": "C36AgCk8MNBT",
        "outputId": "f2afc2c8-38ed-42a9-f530-679bd9e8fd81",
        "colab": {
          "base_uri": "https://localhost:8080/",
          "height": 294
        }
      },
      "source": [
        "k[k['shops_id']==168]"
      ],
      "execution_count": 371,
      "outputs": [
        {
          "output_type": "execute_result",
          "data": {
            "text/html": [
              "<div>\n",
              "<style scoped>\n",
              "    .dataframe tbody tr th:only-of-type {\n",
              "        vertical-align: middle;\n",
              "    }\n",
              "\n",
              "    .dataframe tbody tr th {\n",
              "        vertical-align: top;\n",
              "    }\n",
              "\n",
              "    .dataframe thead th {\n",
              "        text-align: right;\n",
              "    }\n",
              "</style>\n",
              "<table border=\"1\" class=\"dataframe\">\n",
              "  <thead>\n",
              "    <tr style=\"text-align: right;\">\n",
              "      <th></th>\n",
              "      <th>shops_id</th>\n",
              "      <th>customer</th>\n",
              "      <th>total_order</th>\n",
              "      <th>cust_per_shop</th>\n",
              "      <th>shop_cust_2_more</th>\n",
              "      <th>shop_pct_cust_2_more</th>\n",
              "    </tr>\n",
              "  </thead>\n",
              "  <tbody>\n",
              "    <tr>\n",
              "      <th>3144</th>\n",
              "      <td>168</td>\n",
              "      <td>19,401,297,806.00</td>\n",
              "      <td>10</td>\n",
              "      <td>8</td>\n",
              "      <td>7.00</td>\n",
              "      <td>87.50</td>\n",
              "    </tr>\n",
              "    <tr>\n",
              "      <th>4639</th>\n",
              "      <td>168</td>\n",
              "      <td>6,050,193,965.00</td>\n",
              "      <td>10</td>\n",
              "      <td>8</td>\n",
              "      <td>7.00</td>\n",
              "      <td>87.50</td>\n",
              "    </tr>\n",
              "    <tr>\n",
              "      <th>4898</th>\n",
              "      <td>168</td>\n",
              "      <td>23,577,510,143.00</td>\n",
              "      <td>2</td>\n",
              "      <td>8</td>\n",
              "      <td>7.00</td>\n",
              "      <td>87.50</td>\n",
              "    </tr>\n",
              "    <tr>\n",
              "      <th>6227</th>\n",
              "      <td>168</td>\n",
              "      <td>6,053,701,253.00</td>\n",
              "      <td>2</td>\n",
              "      <td>8</td>\n",
              "      <td>7.00</td>\n",
              "      <td>87.50</td>\n",
              "    </tr>\n",
              "    <tr>\n",
              "      <th>6647</th>\n",
              "      <td>168</td>\n",
              "      <td>8,033,244,233.00</td>\n",
              "      <td>11</td>\n",
              "      <td>8</td>\n",
              "      <td>7.00</td>\n",
              "      <td>87.50</td>\n",
              "    </tr>\n",
              "    <tr>\n",
              "      <th>9400</th>\n",
              "      <td>168</td>\n",
              "      <td>27,519,565,682.00</td>\n",
              "      <td>7</td>\n",
              "      <td>8</td>\n",
              "      <td>7.00</td>\n",
              "      <td>87.50</td>\n",
              "    </tr>\n",
              "    <tr>\n",
              "      <th>9528</th>\n",
              "      <td>168</td>\n",
              "      <td>6,051,718,178.00</td>\n",
              "      <td>1</td>\n",
              "      <td>8</td>\n",
              "      <td>7.00</td>\n",
              "      <td>87.50</td>\n",
              "    </tr>\n",
              "    <tr>\n",
              "      <th>9594</th>\n",
              "      <td>168</td>\n",
              "      <td>23,270,669,225.00</td>\n",
              "      <td>6</td>\n",
              "      <td>8</td>\n",
              "      <td>7.00</td>\n",
              "      <td>87.50</td>\n",
              "    </tr>\n",
              "  </tbody>\n",
              "</table>\n",
              "</div>"
            ],
            "text/plain": [
              "      shops_id          customer  ...  shop_cust_2_more  shop_pct_cust_2_more\n",
              "3144       168 19,401,297,806.00  ...              7.00                 87.50\n",
              "4639       168  6,050,193,965.00  ...              7.00                 87.50\n",
              "4898       168 23,577,510,143.00  ...              7.00                 87.50\n",
              "6227       168  6,053,701,253.00  ...              7.00                 87.50\n",
              "6647       168  8,033,244,233.00  ...              7.00                 87.50\n",
              "9400       168 27,519,565,682.00  ...              7.00                 87.50\n",
              "9528       168  6,051,718,178.00  ...              7.00                 87.50\n",
              "9594       168 23,270,669,225.00  ...              7.00                 87.50\n",
              "\n",
              "[8 rows x 6 columns]"
            ]
          },
          "metadata": {
            "tags": []
          },
          "execution_count": 371
        }
      ]
    },
    {
      "cell_type": "markdown",
      "metadata": {
        "id": "OhvQb7nyhUtq"
      },
      "source": [
        "# ***Preparing Shop-Sales Level Variables***"
      ]
    },
    {
      "cell_type": "code",
      "metadata": {
        "id": "j0mDPOQCZyJR"
      },
      "source": [
        "shopsales=test[['shops_id','customer','order_id','restaurant_total']] "
      ],
      "execution_count": 372,
      "outputs": []
    },
    {
      "cell_type": "code",
      "metadata": {
        "id": "XmuDz2B0ad_8",
        "outputId": "edfc4dd4-f243-49f5-f5cc-5030adc5fa86",
        "colab": {
          "base_uri": "https://localhost:8080/",
          "height": 329
        }
      },
      "source": [
        "shopsales['total_shop_sales']=shopsales.groupby('shops_id').restaurant_total.transform('sum')\n",
        "shopsales['total_shop_orders']=shopsales.groupby('shops_id').order_id.transform('count')\n",
        "shopsales['total_shop_cust_base']=shopsales.groupby('shops_id').customer.transform('nunique')"
      ],
      "execution_count": 373,
      "outputs": [
        {
          "output_type": "stream",
          "text": [
            "/usr/local/lib/python3.6/dist-packages/ipykernel_launcher.py:1: SettingWithCopyWarning: \n",
            "A value is trying to be set on a copy of a slice from a DataFrame.\n",
            "Try using .loc[row_indexer,col_indexer] = value instead\n",
            "\n",
            "See the caveats in the documentation: https://pandas.pydata.org/pandas-docs/stable/user_guide/indexing.html#returning-a-view-versus-a-copy\n",
            "  \"\"\"Entry point for launching an IPython kernel.\n",
            "/usr/local/lib/python3.6/dist-packages/ipykernel_launcher.py:2: SettingWithCopyWarning: \n",
            "A value is trying to be set on a copy of a slice from a DataFrame.\n",
            "Try using .loc[row_indexer,col_indexer] = value instead\n",
            "\n",
            "See the caveats in the documentation: https://pandas.pydata.org/pandas-docs/stable/user_guide/indexing.html#returning-a-view-versus-a-copy\n",
            "  \n",
            "/usr/local/lib/python3.6/dist-packages/ipykernel_launcher.py:3: SettingWithCopyWarning: \n",
            "A value is trying to be set on a copy of a slice from a DataFrame.\n",
            "Try using .loc[row_indexer,col_indexer] = value instead\n",
            "\n",
            "See the caveats in the documentation: https://pandas.pydata.org/pandas-docs/stable/user_guide/indexing.html#returning-a-view-versus-a-copy\n",
            "  This is separate from the ipykernel package so we can avoid doing imports until\n"
          ],
          "name": "stderr"
        }
      ]
    },
    {
      "cell_type": "code",
      "metadata": {
        "id": "LEPFMEPoapfX"
      },
      "source": [
        "shopsales=shopsales.drop_duplicates(subset=['shops_id'], keep='last').drop(columns=['customer','order_id','restaurant_total'])"
      ],
      "execution_count": 374,
      "outputs": []
    },
    {
      "cell_type": "code",
      "metadata": {
        "id": "wDNrdFJRbbWR"
      },
      "source": [
        "shopsales['sales_qunitiles']=pd.qcut(shopsales['total_shop_sales'],5,labels=False)\n",
        "shopsales['order_qunitiles']=pd.qcut(shopsales['total_shop_orders'].rank(method='first'),5,labels=False)\n",
        "\n",
        "#pd.qcut(df['a'].rank(method='first'), 3, labels=False)"
      ],
      "execution_count": 375,
      "outputs": []
    },
    {
      "cell_type": "markdown",
      "metadata": {
        "id": "EYXE3jdHQ73S"
      },
      "source": [
        "# ***Combining to create final analytical dataset***"
      ]
    },
    {
      "cell_type": "code",
      "metadata": {
        "id": "ggdWasSMSrz5"
      },
      "source": [
        "shopscust_final=shopscust.reset_index()\n",
        "shopscust_final=shopscust_final.drop_duplicates(subset=['shops_id'], keep='last').drop(columns=['customer','total_order']).set_index('shops_id')\n"
      ],
      "execution_count": 376,
      "outputs": []
    },
    {
      "cell_type": "code",
      "metadata": {
        "id": "K73kj8gSYghJ",
        "outputId": "1377b8a9-f8eb-4a53-99e9-8520020b1262",
        "colab": {
          "base_uri": "https://localhost:8080/",
          "height": 191
        }
      },
      "source": [
        "shopscust_final.info()"
      ],
      "execution_count": 377,
      "outputs": [
        {
          "output_type": "stream",
          "text": [
            "<class 'pandas.core.frame.DataFrame'>\n",
            "Int64Index: 6058 entries, 24807 to 18948\n",
            "Data columns (total 3 columns):\n",
            " #   Column                Non-Null Count  Dtype  \n",
            "---  ------                --------------  -----  \n",
            " 0   cust_per_shop         6058 non-null   int64  \n",
            " 1   shop_cust_2_more      5213 non-null   float64\n",
            " 2   shop_pct_cust_2_more  5213 non-null   float64\n",
            "dtypes: float64(2), int64(1)\n",
            "memory usage: 189.3 KB\n"
          ],
          "name": "stdout"
        }
      ]
    },
    {
      "cell_type": "code",
      "metadata": {
        "id": "Riavvz_TYD-l"
      },
      "source": [
        "# Merging shopscust with original dataset\n",
        "\n",
        "test2=test.merge(shopscust_final,left_on='shops_id',right_on='shops_id') \n"
      ],
      "execution_count": 378,
      "outputs": []
    },
    {
      "cell_type": "code",
      "metadata": {
        "id": "_6S6wvMsYkes",
        "outputId": "c250369f-9767-4560-d96e-9a11c8646b79",
        "colab": {
          "base_uri": "https://localhost:8080/",
          "height": 1000
        }
      },
      "source": [
        "test2[test2['customer']==6196987925]"
      ],
      "execution_count": 379,
      "outputs": [
        {
          "output_type": "execute_result",
          "data": {
            "text/html": [
              "<div>\n",
              "<style scoped>\n",
              "    .dataframe tbody tr th:only-of-type {\n",
              "        vertical-align: middle;\n",
              "    }\n",
              "\n",
              "    .dataframe tbody tr th {\n",
              "        vertical-align: top;\n",
              "    }\n",
              "\n",
              "    .dataframe thead th {\n",
              "        text-align: right;\n",
              "    }\n",
              "</style>\n",
              "<table border=\"1\" class=\"dataframe\">\n",
              "  <thead>\n",
              "    <tr style=\"text-align: right;\">\n",
              "      <th></th>\n",
              "      <th>order_id</th>\n",
              "      <th>source</th>\n",
              "      <th>date_purchased</th>\n",
              "      <th>shipping_type</th>\n",
              "      <th>payment_method</th>\n",
              "      <th>promo_value</th>\n",
              "      <th>restaurant_total</th>\n",
              "      <th>customer</th>\n",
              "      <th>shops_id</th>\n",
              "      <th>state</th>\n",
              "      <th>postal_code</th>\n",
              "      <th>dateonly_purchased</th>\n",
              "      <th>houronly_purchased</th>\n",
              "      <th>datehour_purchased</th>\n",
              "      <th>order_enum</th>\n",
              "      <th>total_order</th>\n",
              "      <th>total_sales</th>\n",
              "      <th>bin_orders</th>\n",
              "      <th>time_between_purch</th>\n",
              "      <th>spend_growth</th>\n",
              "      <th>date_last_purch</th>\n",
              "      <th>cust_per_shop</th>\n",
              "      <th>shop_cust_2_more</th>\n",
              "      <th>shop_pct_cust_2_more</th>\n",
              "    </tr>\n",
              "  </thead>\n",
              "  <tbody>\n",
              "    <tr>\n",
              "      <th>314</th>\n",
              "      <td>47474511</td>\n",
              "      <td>slicelife</td>\n",
              "      <td>2019-03-13 16:33:51+00:00</td>\n",
              "      <td>Delivery</td>\n",
              "      <td>cash</td>\n",
              "      <td>0</td>\n",
              "      <td>20.92</td>\n",
              "      <td>6,196,987,925.00</td>\n",
              "      <td>27246</td>\n",
              "      <td>WA</td>\n",
              "      <td>98101</td>\n",
              "      <td>2019-03-13</td>\n",
              "      <td>16.00</td>\n",
              "      <td>2019-03-13-16.0</td>\n",
              "      <td>1</td>\n",
              "      <td>23</td>\n",
              "      <td>463.31</td>\n",
              "      <td>7</td>\n",
              "      <td>NaT</td>\n",
              "      <td>nan</td>\n",
              "      <td>2019-04-30 14:42:06+00:00</td>\n",
              "      <td>2</td>\n",
              "      <td>2.00</td>\n",
              "      <td>100.00</td>\n",
              "    </tr>\n",
              "    <tr>\n",
              "      <th>315</th>\n",
              "      <td>47513940</td>\n",
              "      <td>slicelife</td>\n",
              "      <td>2019-03-14 13:15:11+00:00</td>\n",
              "      <td>Delivery</td>\n",
              "      <td>cash</td>\n",
              "      <td>0</td>\n",
              "      <td>20.92</td>\n",
              "      <td>6,196,987,925.00</td>\n",
              "      <td>27246</td>\n",
              "      <td>WA</td>\n",
              "      <td>98101</td>\n",
              "      <td>2019-03-14</td>\n",
              "      <td>13.00</td>\n",
              "      <td>2019-03-14-13.0</td>\n",
              "      <td>2</td>\n",
              "      <td>23</td>\n",
              "      <td>463.31</td>\n",
              "      <td>7</td>\n",
              "      <td>0 days 20:41:20</td>\n",
              "      <td>0.00</td>\n",
              "      <td>2019-04-30 14:42:06+00:00</td>\n",
              "      <td>2</td>\n",
              "      <td>2.00</td>\n",
              "      <td>100.00</td>\n",
              "    </tr>\n",
              "    <tr>\n",
              "      <th>316</th>\n",
              "      <td>47566653</td>\n",
              "      <td>slicelife</td>\n",
              "      <td>2019-03-14 18:44:08+00:00</td>\n",
              "      <td>Delivery</td>\n",
              "      <td>cash</td>\n",
              "      <td>0</td>\n",
              "      <td>18.72</td>\n",
              "      <td>6,196,987,925.00</td>\n",
              "      <td>27246</td>\n",
              "      <td>WA</td>\n",
              "      <td>98101</td>\n",
              "      <td>2019-03-14</td>\n",
              "      <td>18.00</td>\n",
              "      <td>2019-03-14-18.0</td>\n",
              "      <td>3</td>\n",
              "      <td>23</td>\n",
              "      <td>463.31</td>\n",
              "      <td>7</td>\n",
              "      <td>0 days 05:28:57</td>\n",
              "      <td>-2.20</td>\n",
              "      <td>2019-04-30 14:42:06+00:00</td>\n",
              "      <td>2</td>\n",
              "      <td>2.00</td>\n",
              "      <td>100.00</td>\n",
              "    </tr>\n",
              "    <tr>\n",
              "      <th>317</th>\n",
              "      <td>47716284</td>\n",
              "      <td>slicelife</td>\n",
              "      <td>2019-03-16 14:25:01+00:00</td>\n",
              "      <td>Delivery</td>\n",
              "      <td>cash</td>\n",
              "      <td>0</td>\n",
              "      <td>20.92</td>\n",
              "      <td>6,196,987,925.00</td>\n",
              "      <td>27246</td>\n",
              "      <td>WA</td>\n",
              "      <td>98101</td>\n",
              "      <td>2019-03-16</td>\n",
              "      <td>14.00</td>\n",
              "      <td>2019-03-16-14.0</td>\n",
              "      <td>4</td>\n",
              "      <td>23</td>\n",
              "      <td>463.31</td>\n",
              "      <td>7</td>\n",
              "      <td>1 days 19:40:53</td>\n",
              "      <td>2.20</td>\n",
              "      <td>2019-04-30 14:42:06+00:00</td>\n",
              "      <td>2</td>\n",
              "      <td>2.00</td>\n",
              "      <td>100.00</td>\n",
              "    </tr>\n",
              "    <tr>\n",
              "      <th>318</th>\n",
              "      <td>47947731</td>\n",
              "      <td>slicelife</td>\n",
              "      <td>2019-03-19 17:56:56+00:00</td>\n",
              "      <td>Delivery</td>\n",
              "      <td>cash</td>\n",
              "      <td>0</td>\n",
              "      <td>23.12</td>\n",
              "      <td>6,196,987,925.00</td>\n",
              "      <td>27246</td>\n",
              "      <td>WA</td>\n",
              "      <td>98101</td>\n",
              "      <td>2019-03-19</td>\n",
              "      <td>17.00</td>\n",
              "      <td>2019-03-19-17.0</td>\n",
              "      <td>5</td>\n",
              "      <td>23</td>\n",
              "      <td>463.31</td>\n",
              "      <td>7</td>\n",
              "      <td>3 days 03:31:55</td>\n",
              "      <td>2.20</td>\n",
              "      <td>2019-04-30 14:42:06+00:00</td>\n",
              "      <td>2</td>\n",
              "      <td>2.00</td>\n",
              "      <td>100.00</td>\n",
              "    </tr>\n",
              "    <tr>\n",
              "      <th>319</th>\n",
              "      <td>47993268</td>\n",
              "      <td>slicelife</td>\n",
              "      <td>2019-03-20 16:09:30+00:00</td>\n",
              "      <td>Delivery</td>\n",
              "      <td>cash</td>\n",
              "      <td>0</td>\n",
              "      <td>23.12</td>\n",
              "      <td>6,196,987,925.00</td>\n",
              "      <td>27246</td>\n",
              "      <td>WA</td>\n",
              "      <td>98101</td>\n",
              "      <td>2019-03-20</td>\n",
              "      <td>16.00</td>\n",
              "      <td>2019-03-20-16.0</td>\n",
              "      <td>6</td>\n",
              "      <td>23</td>\n",
              "      <td>463.31</td>\n",
              "      <td>7</td>\n",
              "      <td>0 days 22:12:34</td>\n",
              "      <td>0.00</td>\n",
              "      <td>2019-04-30 14:42:06+00:00</td>\n",
              "      <td>2</td>\n",
              "      <td>2.00</td>\n",
              "      <td>100.00</td>\n",
              "    </tr>\n",
              "    <tr>\n",
              "      <th>320</th>\n",
              "      <td>48058374</td>\n",
              "      <td>slicelife</td>\n",
              "      <td>2019-03-21 15:29:23+00:00</td>\n",
              "      <td>Delivery</td>\n",
              "      <td>cash</td>\n",
              "      <td>0</td>\n",
              "      <td>19.82</td>\n",
              "      <td>6,196,987,925.00</td>\n",
              "      <td>27246</td>\n",
              "      <td>WA</td>\n",
              "      <td>98101</td>\n",
              "      <td>2019-03-21</td>\n",
              "      <td>15.00</td>\n",
              "      <td>2019-03-21-15.0</td>\n",
              "      <td>7</td>\n",
              "      <td>23</td>\n",
              "      <td>463.31</td>\n",
              "      <td>7</td>\n",
              "      <td>0 days 23:19:53</td>\n",
              "      <td>-3.30</td>\n",
              "      <td>2019-04-30 14:42:06+00:00</td>\n",
              "      <td>2</td>\n",
              "      <td>2.00</td>\n",
              "      <td>100.00</td>\n",
              "    </tr>\n",
              "    <tr>\n",
              "      <th>321</th>\n",
              "      <td>48162981</td>\n",
              "      <td>slicelife</td>\n",
              "      <td>2019-03-22 16:00:47+00:00</td>\n",
              "      <td>Delivery</td>\n",
              "      <td>cash</td>\n",
              "      <td>0</td>\n",
              "      <td>18.72</td>\n",
              "      <td>6,196,987,925.00</td>\n",
              "      <td>27246</td>\n",
              "      <td>WA</td>\n",
              "      <td>98101</td>\n",
              "      <td>2019-03-22</td>\n",
              "      <td>16.00</td>\n",
              "      <td>2019-03-22-16.0</td>\n",
              "      <td>8</td>\n",
              "      <td>23</td>\n",
              "      <td>463.31</td>\n",
              "      <td>7</td>\n",
              "      <td>1 days 00:31:24</td>\n",
              "      <td>-1.10</td>\n",
              "      <td>2019-04-30 14:42:06+00:00</td>\n",
              "      <td>2</td>\n",
              "      <td>2.00</td>\n",
              "      <td>100.00</td>\n",
              "    </tr>\n",
              "    <tr>\n",
              "      <th>322</th>\n",
              "      <td>48254211</td>\n",
              "      <td>slicelife</td>\n",
              "      <td>2019-03-23 15:15:08+00:00</td>\n",
              "      <td>Delivery</td>\n",
              "      <td>cash</td>\n",
              "      <td>0</td>\n",
              "      <td>22.02</td>\n",
              "      <td>6,196,987,925.00</td>\n",
              "      <td>27246</td>\n",
              "      <td>WA</td>\n",
              "      <td>98101</td>\n",
              "      <td>2019-03-23</td>\n",
              "      <td>15.00</td>\n",
              "      <td>2019-03-23-15.0</td>\n",
              "      <td>9</td>\n",
              "      <td>23</td>\n",
              "      <td>463.31</td>\n",
              "      <td>7</td>\n",
              "      <td>0 days 23:14:21</td>\n",
              "      <td>3.30</td>\n",
              "      <td>2019-04-30 14:42:06+00:00</td>\n",
              "      <td>2</td>\n",
              "      <td>2.00</td>\n",
              "      <td>100.00</td>\n",
              "    </tr>\n",
              "    <tr>\n",
              "      <th>323</th>\n",
              "      <td>48370509</td>\n",
              "      <td>slicelife</td>\n",
              "      <td>2019-03-24 17:55:18+00:00</td>\n",
              "      <td>Delivery</td>\n",
              "      <td>cash</td>\n",
              "      <td>0</td>\n",
              "      <td>16.52</td>\n",
              "      <td>6,196,987,925.00</td>\n",
              "      <td>27246</td>\n",
              "      <td>WA</td>\n",
              "      <td>98101</td>\n",
              "      <td>2019-03-24</td>\n",
              "      <td>17.00</td>\n",
              "      <td>2019-03-24-17.0</td>\n",
              "      <td>10</td>\n",
              "      <td>23</td>\n",
              "      <td>463.31</td>\n",
              "      <td>7</td>\n",
              "      <td>1 days 02:40:10</td>\n",
              "      <td>-5.50</td>\n",
              "      <td>2019-04-30 14:42:06+00:00</td>\n",
              "      <td>2</td>\n",
              "      <td>2.00</td>\n",
              "      <td>100.00</td>\n",
              "    </tr>\n",
              "    <tr>\n",
              "      <th>324</th>\n",
              "      <td>48404790</td>\n",
              "      <td>slicelife</td>\n",
              "      <td>2019-03-25 15:10:18+00:00</td>\n",
              "      <td>Delivery</td>\n",
              "      <td>cash</td>\n",
              "      <td>0</td>\n",
              "      <td>22.02</td>\n",
              "      <td>6,196,987,925.00</td>\n",
              "      <td>27246</td>\n",
              "      <td>WA</td>\n",
              "      <td>98101</td>\n",
              "      <td>2019-03-25</td>\n",
              "      <td>15.00</td>\n",
              "      <td>2019-03-25-15.0</td>\n",
              "      <td>12</td>\n",
              "      <td>23</td>\n",
              "      <td>463.31</td>\n",
              "      <td>7</td>\n",
              "      <td>0 days 20:17:57</td>\n",
              "      <td>8.73</td>\n",
              "      <td>2019-04-30 14:42:06+00:00</td>\n",
              "      <td>2</td>\n",
              "      <td>2.00</td>\n",
              "      <td>100.00</td>\n",
              "    </tr>\n",
              "    <tr>\n",
              "      <th>325</th>\n",
              "      <td>48471852</td>\n",
              "      <td>slicelife</td>\n",
              "      <td>2019-03-26 16:53:09+00:00</td>\n",
              "      <td>Delivery</td>\n",
              "      <td>cash</td>\n",
              "      <td>0</td>\n",
              "      <td>22.02</td>\n",
              "      <td>6,196,987,925.00</td>\n",
              "      <td>27246</td>\n",
              "      <td>WA</td>\n",
              "      <td>98101</td>\n",
              "      <td>2019-03-26</td>\n",
              "      <td>16.00</td>\n",
              "      <td>2019-03-26-16.0</td>\n",
              "      <td>13</td>\n",
              "      <td>23</td>\n",
              "      <td>463.31</td>\n",
              "      <td>7</td>\n",
              "      <td>1 days 01:42:51</td>\n",
              "      <td>0.00</td>\n",
              "      <td>2019-04-30 14:42:06+00:00</td>\n",
              "      <td>2</td>\n",
              "      <td>2.00</td>\n",
              "      <td>100.00</td>\n",
              "    </tr>\n",
              "    <tr>\n",
              "      <th>326</th>\n",
              "      <td>48546141</td>\n",
              "      <td>slicelife</td>\n",
              "      <td>2019-03-27 21:12:31+00:00</td>\n",
              "      <td>Delivery</td>\n",
              "      <td>cash</td>\n",
              "      <td>0</td>\n",
              "      <td>18.72</td>\n",
              "      <td>6,196,987,925.00</td>\n",
              "      <td>27246</td>\n",
              "      <td>WA</td>\n",
              "      <td>98101</td>\n",
              "      <td>2019-03-27</td>\n",
              "      <td>21.00</td>\n",
              "      <td>2019-03-27-21.0</td>\n",
              "      <td>14</td>\n",
              "      <td>23</td>\n",
              "      <td>463.31</td>\n",
              "      <td>7</td>\n",
              "      <td>1 days 04:19:22</td>\n",
              "      <td>-3.30</td>\n",
              "      <td>2019-04-30 14:42:06+00:00</td>\n",
              "      <td>2</td>\n",
              "      <td>2.00</td>\n",
              "      <td>100.00</td>\n",
              "    </tr>\n",
              "    <tr>\n",
              "      <th>327</th>\n",
              "      <td>48573567</td>\n",
              "      <td>slicelife</td>\n",
              "      <td>2019-03-28 14:22:54+00:00</td>\n",
              "      <td>Delivery</td>\n",
              "      <td>cash</td>\n",
              "      <td>0</td>\n",
              "      <td>19.82</td>\n",
              "      <td>6,196,987,925.00</td>\n",
              "      <td>27246</td>\n",
              "      <td>WA</td>\n",
              "      <td>98101</td>\n",
              "      <td>2019-03-28</td>\n",
              "      <td>14.00</td>\n",
              "      <td>2019-03-28-14.0</td>\n",
              "      <td>15</td>\n",
              "      <td>23</td>\n",
              "      <td>463.31</td>\n",
              "      <td>7</td>\n",
              "      <td>0 days 17:10:23</td>\n",
              "      <td>1.10</td>\n",
              "      <td>2019-04-30 14:42:06+00:00</td>\n",
              "      <td>2</td>\n",
              "      <td>2.00</td>\n",
              "      <td>100.00</td>\n",
              "    </tr>\n",
              "    <tr>\n",
              "      <th>328</th>\n",
              "      <td>48657786</td>\n",
              "      <td>slicelife</td>\n",
              "      <td>2019-03-29 14:22:49+00:00</td>\n",
              "      <td>Delivery</td>\n",
              "      <td>cash</td>\n",
              "      <td>0</td>\n",
              "      <td>17.62</td>\n",
              "      <td>6,196,987,925.00</td>\n",
              "      <td>27246</td>\n",
              "      <td>WA</td>\n",
              "      <td>98101</td>\n",
              "      <td>2019-03-29</td>\n",
              "      <td>14.00</td>\n",
              "      <td>2019-03-29-14.0</td>\n",
              "      <td>16</td>\n",
              "      <td>23</td>\n",
              "      <td>463.31</td>\n",
              "      <td>7</td>\n",
              "      <td>0 days 23:59:55</td>\n",
              "      <td>-2.20</td>\n",
              "      <td>2019-04-30 14:42:06+00:00</td>\n",
              "      <td>2</td>\n",
              "      <td>2.00</td>\n",
              "      <td>100.00</td>\n",
              "    </tr>\n",
              "    <tr>\n",
              "      <th>329</th>\n",
              "      <td>48783969</td>\n",
              "      <td>slicelife</td>\n",
              "      <td>2019-03-30 15:24:26+00:00</td>\n",
              "      <td>Delivery</td>\n",
              "      <td>cash</td>\n",
              "      <td>0</td>\n",
              "      <td>16.52</td>\n",
              "      <td>6,196,987,925.00</td>\n",
              "      <td>27246</td>\n",
              "      <td>WA</td>\n",
              "      <td>98101</td>\n",
              "      <td>2019-03-30</td>\n",
              "      <td>15.00</td>\n",
              "      <td>2019-03-30-15.0</td>\n",
              "      <td>17</td>\n",
              "      <td>23</td>\n",
              "      <td>463.31</td>\n",
              "      <td>7</td>\n",
              "      <td>1 days 01:01:37</td>\n",
              "      <td>-1.10</td>\n",
              "      <td>2019-04-30 14:42:06+00:00</td>\n",
              "      <td>2</td>\n",
              "      <td>2.00</td>\n",
              "      <td>100.00</td>\n",
              "    </tr>\n",
              "    <tr>\n",
              "      <th>330</th>\n",
              "      <td>49362288</td>\n",
              "      <td>slicelife</td>\n",
              "      <td>2019-04-06 18:07:05+00:00</td>\n",
              "      <td>Delivery</td>\n",
              "      <td>cash</td>\n",
              "      <td>0</td>\n",
              "      <td>22.02</td>\n",
              "      <td>6,196,987,925.00</td>\n",
              "      <td>27246</td>\n",
              "      <td>WA</td>\n",
              "      <td>98101</td>\n",
              "      <td>2019-04-06</td>\n",
              "      <td>18.00</td>\n",
              "      <td>2019-04-06-18.0</td>\n",
              "      <td>19</td>\n",
              "      <td>23</td>\n",
              "      <td>463.31</td>\n",
              "      <td>7</td>\n",
              "      <td>1 days 15:41:04</td>\n",
              "      <td>-0.78</td>\n",
              "      <td>2019-04-30 14:42:06+00:00</td>\n",
              "      <td>2</td>\n",
              "      <td>2.00</td>\n",
              "      <td>100.00</td>\n",
              "    </tr>\n",
              "    <tr>\n",
              "      <th>331</th>\n",
              "      <td>49605030</td>\n",
              "      <td>slicelife</td>\n",
              "      <td>2019-04-10 16:32:44+00:00</td>\n",
              "      <td>Delivery</td>\n",
              "      <td>cash</td>\n",
              "      <td>0</td>\n",
              "      <td>22.02</td>\n",
              "      <td>6,196,987,925.00</td>\n",
              "      <td>27246</td>\n",
              "      <td>WA</td>\n",
              "      <td>98101</td>\n",
              "      <td>2019-04-10</td>\n",
              "      <td>16.00</td>\n",
              "      <td>2019-04-10-16.0</td>\n",
              "      <td>20</td>\n",
              "      <td>23</td>\n",
              "      <td>463.31</td>\n",
              "      <td>7</td>\n",
              "      <td>3 days 22:25:39</td>\n",
              "      <td>0.00</td>\n",
              "      <td>2019-04-30 14:42:06+00:00</td>\n",
              "      <td>2</td>\n",
              "      <td>2.00</td>\n",
              "      <td>100.00</td>\n",
              "    </tr>\n",
              "    <tr>\n",
              "      <th>333</th>\n",
              "      <td>50059731</td>\n",
              "      <td>slicelife</td>\n",
              "      <td>2019-04-15 19:23:44+00:00</td>\n",
              "      <td>Delivery</td>\n",
              "      <td>cash</td>\n",
              "      <td>0</td>\n",
              "      <td>22.02</td>\n",
              "      <td>6,196,987,925.00</td>\n",
              "      <td>27246</td>\n",
              "      <td>WA</td>\n",
              "      <td>98101</td>\n",
              "      <td>2019-04-15</td>\n",
              "      <td>19.00</td>\n",
              "      <td>2019-04-15-19.0</td>\n",
              "      <td>21</td>\n",
              "      <td>23</td>\n",
              "      <td>463.31</td>\n",
              "      <td>7</td>\n",
              "      <td>5 days 02:51:00</td>\n",
              "      <td>0.00</td>\n",
              "      <td>2019-04-30 14:42:06+00:00</td>\n",
              "      <td>2</td>\n",
              "      <td>2.00</td>\n",
              "      <td>100.00</td>\n",
              "    </tr>\n",
              "    <tr>\n",
              "      <th>334</th>\n",
              "      <td>50362869</td>\n",
              "      <td>slicelife</td>\n",
              "      <td>2019-04-19 18:18:31+00:00</td>\n",
              "      <td>Delivery</td>\n",
              "      <td>cash</td>\n",
              "      <td>0</td>\n",
              "      <td>18.72</td>\n",
              "      <td>6,196,987,925.00</td>\n",
              "      <td>27246</td>\n",
              "      <td>WA</td>\n",
              "      <td>98101</td>\n",
              "      <td>2019-04-19</td>\n",
              "      <td>18.00</td>\n",
              "      <td>2019-04-19-18.0</td>\n",
              "      <td>22</td>\n",
              "      <td>23</td>\n",
              "      <td>463.31</td>\n",
              "      <td>7</td>\n",
              "      <td>3 days 22:54:47</td>\n",
              "      <td>-3.30</td>\n",
              "      <td>2019-04-30 14:42:06+00:00</td>\n",
              "      <td>2</td>\n",
              "      <td>2.00</td>\n",
              "      <td>100.00</td>\n",
              "    </tr>\n",
              "    <tr>\n",
              "      <th>335</th>\n",
              "      <td>51116376</td>\n",
              "      <td>partner_website</td>\n",
              "      <td>2019-04-30 14:42:06+00:00</td>\n",
              "      <td>Delivery</td>\n",
              "      <td>cash</td>\n",
              "      <td>0</td>\n",
              "      <td>20.92</td>\n",
              "      <td>6,196,987,925.00</td>\n",
              "      <td>27246</td>\n",
              "      <td>WA</td>\n",
              "      <td>98101</td>\n",
              "      <td>2019-04-30</td>\n",
              "      <td>14.00</td>\n",
              "      <td>2019-04-30-14.0</td>\n",
              "      <td>23</td>\n",
              "      <td>23</td>\n",
              "      <td>463.31</td>\n",
              "      <td>7</td>\n",
              "      <td>10 days 20:23:35</td>\n",
              "      <td>2.20</td>\n",
              "      <td>2019-04-30 14:42:06+00:00</td>\n",
              "      <td>2</td>\n",
              "      <td>2.00</td>\n",
              "      <td>100.00</td>\n",
              "    </tr>\n",
              "    <tr>\n",
              "      <th>7361</th>\n",
              "      <td>48374580</td>\n",
              "      <td>slicelife</td>\n",
              "      <td>2019-03-24 18:52:21+00:00</td>\n",
              "      <td>Delivery</td>\n",
              "      <td>cash</td>\n",
              "      <td>0</td>\n",
              "      <td>13.29</td>\n",
              "      <td>6,196,987,925.00</td>\n",
              "      <td>6132</td>\n",
              "      <td>WA</td>\n",
              "      <td>98105</td>\n",
              "      <td>2019-03-24</td>\n",
              "      <td>18.00</td>\n",
              "      <td>2019-03-24-18.0</td>\n",
              "      <td>11</td>\n",
              "      <td>23</td>\n",
              "      <td>463.31</td>\n",
              "      <td>7</td>\n",
              "      <td>0 days 00:57:03</td>\n",
              "      <td>-3.23</td>\n",
              "      <td>2019-04-30 14:42:06+00:00</td>\n",
              "      <td>1</td>\n",
              "      <td>1.00</td>\n",
              "      <td>100.00</td>\n",
              "    </tr>\n",
              "    <tr>\n",
              "      <th>10346</th>\n",
              "      <td>49153530</td>\n",
              "      <td>slicelife</td>\n",
              "      <td>2019-04-05 02:26:01+00:00</td>\n",
              "      <td>Delivery</td>\n",
              "      <td>cash</td>\n",
              "      <td>0</td>\n",
              "      <td>22.80</td>\n",
              "      <td>6,196,987,925.00</td>\n",
              "      <td>3225</td>\n",
              "      <td>WA</td>\n",
              "      <td>98102</td>\n",
              "      <td>2019-04-05</td>\n",
              "      <td>2.00</td>\n",
              "      <td>2019-04-05-2.0</td>\n",
              "      <td>18</td>\n",
              "      <td>23</td>\n",
              "      <td>463.31</td>\n",
              "      <td>7</td>\n",
              "      <td>5 days 11:01:35</td>\n",
              "      <td>6.28</td>\n",
              "      <td>2019-04-30 14:42:06+00:00</td>\n",
              "      <td>1</td>\n",
              "      <td>1.00</td>\n",
              "      <td>100.00</td>\n",
              "    </tr>\n",
              "  </tbody>\n",
              "</table>\n",
              "</div>"
            ],
            "text/plain": [
              "       order_id           source  ... shop_cust_2_more shop_pct_cust_2_more\n",
              "314    47474511        slicelife  ...             2.00               100.00\n",
              "315    47513940        slicelife  ...             2.00               100.00\n",
              "316    47566653        slicelife  ...             2.00               100.00\n",
              "317    47716284        slicelife  ...             2.00               100.00\n",
              "318    47947731        slicelife  ...             2.00               100.00\n",
              "319    47993268        slicelife  ...             2.00               100.00\n",
              "320    48058374        slicelife  ...             2.00               100.00\n",
              "321    48162981        slicelife  ...             2.00               100.00\n",
              "322    48254211        slicelife  ...             2.00               100.00\n",
              "323    48370509        slicelife  ...             2.00               100.00\n",
              "324    48404790        slicelife  ...             2.00               100.00\n",
              "325    48471852        slicelife  ...             2.00               100.00\n",
              "326    48546141        slicelife  ...             2.00               100.00\n",
              "327    48573567        slicelife  ...             2.00               100.00\n",
              "328    48657786        slicelife  ...             2.00               100.00\n",
              "329    48783969        slicelife  ...             2.00               100.00\n",
              "330    49362288        slicelife  ...             2.00               100.00\n",
              "331    49605030        slicelife  ...             2.00               100.00\n",
              "333    50059731        slicelife  ...             2.00               100.00\n",
              "334    50362869        slicelife  ...             2.00               100.00\n",
              "335    51116376  partner_website  ...             2.00               100.00\n",
              "7361   48374580        slicelife  ...             1.00               100.00\n",
              "10346  49153530        slicelife  ...             1.00               100.00\n",
              "\n",
              "[23 rows x 24 columns]"
            ]
          },
          "metadata": {
            "tags": []
          },
          "execution_count": 379
        }
      ]
    },
    {
      "cell_type": "code",
      "metadata": {
        "id": "R01hK-_iSajp",
        "outputId": "33cb377d-a104-4ce8-f1fa-596525132cdb",
        "colab": {
          "base_uri": "https://localhost:8080/",
          "height": 243
        }
      },
      "source": [
        "# Merging shopszip with original dataset\n",
        "shopszip_final=shopszip.reset_index()\n",
        "shopszip_final=shopszip_final.drop_duplicates(subset=['postal_code'], keep='last').drop(columns=['customer','total_order']).set_index('shops_id')\n",
        "shopszip_final.info()\n",
        "#shopscustzip_final=shopscustzip.drop(columns=['customer','total_order'])"
      ],
      "execution_count": 380,
      "outputs": [
        {
          "output_type": "stream",
          "text": [
            "<class 'pandas.core.frame.DataFrame'>\n",
            "Int64Index: 3397 entries, 35952 to 18948\n",
            "Data columns (total 6 columns):\n",
            " #   Column                  Non-Null Count  Dtype  \n",
            "---  ------                  --------------  -----  \n",
            " 0   postal_code             3397 non-null   int64  \n",
            " 1   shops_per_zip           3397 non-null   int64  \n",
            " 2   cust_per_zip            3397 non-null   int64  \n",
            " 3   shops_per_cust_per_zip  3397 non-null   float64\n",
            " 4   zip_cust_2_more         3005 non-null   float64\n",
            " 5   zip_pct_cust_2_more     3005 non-null   float64\n",
            "dtypes: float64(3), int64(3)\n",
            "memory usage: 185.8 KB\n"
          ],
          "name": "stdout"
        }
      ]
    },
    {
      "cell_type": "code",
      "metadata": {
        "id": "zlzLX4mgZL_E"
      },
      "source": [
        "shopszip_final.set_index('postal_code')\n",
        "test3=test2.merge(shopszip_final,left_on='postal_code',right_on='postal_code') "
      ],
      "execution_count": 381,
      "outputs": []
    },
    {
      "cell_type": "code",
      "metadata": {
        "id": "ji8s8Vu1ctF7"
      },
      "source": [
        "# Merging shopsales with original dataset\n",
        "test4=test3.merge(shopsales,left_on='shops_id',right_on='shops_id')"
      ],
      "execution_count": 382,
      "outputs": []
    },
    {
      "cell_type": "code",
      "metadata": {
        "id": "WX4TOU1jXAog",
        "outputId": "a7c2e720-7bc3-4df0-83cb-d6e4df59e7c1",
        "colab": {
          "base_uri": "https://localhost:8080/",
          "height": 1000
        }
      },
      "source": [
        "test4[test4['customer']==6196987925]"
      ],
      "execution_count": 383,
      "outputs": [
        {
          "output_type": "execute_result",
          "data": {
            "text/html": [
              "<div>\n",
              "<style scoped>\n",
              "    .dataframe tbody tr th:only-of-type {\n",
              "        vertical-align: middle;\n",
              "    }\n",
              "\n",
              "    .dataframe tbody tr th {\n",
              "        vertical-align: top;\n",
              "    }\n",
              "\n",
              "    .dataframe thead th {\n",
              "        text-align: right;\n",
              "    }\n",
              "</style>\n",
              "<table border=\"1\" class=\"dataframe\">\n",
              "  <thead>\n",
              "    <tr style=\"text-align: right;\">\n",
              "      <th></th>\n",
              "      <th>order_id</th>\n",
              "      <th>source</th>\n",
              "      <th>date_purchased</th>\n",
              "      <th>shipping_type</th>\n",
              "      <th>payment_method</th>\n",
              "      <th>promo_value</th>\n",
              "      <th>restaurant_total</th>\n",
              "      <th>customer</th>\n",
              "      <th>shops_id</th>\n",
              "      <th>state</th>\n",
              "      <th>postal_code</th>\n",
              "      <th>dateonly_purchased</th>\n",
              "      <th>houronly_purchased</th>\n",
              "      <th>datehour_purchased</th>\n",
              "      <th>order_enum</th>\n",
              "      <th>total_order</th>\n",
              "      <th>total_sales</th>\n",
              "      <th>bin_orders</th>\n",
              "      <th>time_between_purch</th>\n",
              "      <th>spend_growth</th>\n",
              "      <th>date_last_purch</th>\n",
              "      <th>cust_per_shop</th>\n",
              "      <th>shop_cust_2_more</th>\n",
              "      <th>shop_pct_cust_2_more</th>\n",
              "      <th>shops_per_zip</th>\n",
              "      <th>cust_per_zip</th>\n",
              "      <th>shops_per_cust_per_zip</th>\n",
              "      <th>zip_cust_2_more</th>\n",
              "      <th>zip_pct_cust_2_more</th>\n",
              "      <th>total_shop_sales</th>\n",
              "      <th>total_shop_orders</th>\n",
              "      <th>total_shop_cust_base</th>\n",
              "      <th>sales_qunitiles</th>\n",
              "      <th>order_qunitiles</th>\n",
              "    </tr>\n",
              "  </thead>\n",
              "  <tbody>\n",
              "    <tr>\n",
              "      <th>670</th>\n",
              "      <td>47474511</td>\n",
              "      <td>slicelife</td>\n",
              "      <td>2019-03-13 16:33:51+00:00</td>\n",
              "      <td>Delivery</td>\n",
              "      <td>cash</td>\n",
              "      <td>0</td>\n",
              "      <td>20.92</td>\n",
              "      <td>6,196,987,925.00</td>\n",
              "      <td>27246</td>\n",
              "      <td>WA</td>\n",
              "      <td>98101</td>\n",
              "      <td>2019-03-13</td>\n",
              "      <td>16.00</td>\n",
              "      <td>2019-03-13-16.0</td>\n",
              "      <td>1</td>\n",
              "      <td>23</td>\n",
              "      <td>463.31</td>\n",
              "      <td>7</td>\n",
              "      <td>NaT</td>\n",
              "      <td>nan</td>\n",
              "      <td>2019-04-30 14:42:06+00:00</td>\n",
              "      <td>2</td>\n",
              "      <td>2.00</td>\n",
              "      <td>100.00</td>\n",
              "      <td>3</td>\n",
              "      <td>13</td>\n",
              "      <td>0.23</td>\n",
              "      <td>10.00</td>\n",
              "      <td>76.92</td>\n",
              "      <td>518.54</td>\n",
              "      <td>23</td>\n",
              "      <td>2</td>\n",
              "      <td>4</td>\n",
              "      <td>4</td>\n",
              "    </tr>\n",
              "    <tr>\n",
              "      <th>671</th>\n",
              "      <td>47513940</td>\n",
              "      <td>slicelife</td>\n",
              "      <td>2019-03-14 13:15:11+00:00</td>\n",
              "      <td>Delivery</td>\n",
              "      <td>cash</td>\n",
              "      <td>0</td>\n",
              "      <td>20.92</td>\n",
              "      <td>6,196,987,925.00</td>\n",
              "      <td>27246</td>\n",
              "      <td>WA</td>\n",
              "      <td>98101</td>\n",
              "      <td>2019-03-14</td>\n",
              "      <td>13.00</td>\n",
              "      <td>2019-03-14-13.0</td>\n",
              "      <td>2</td>\n",
              "      <td>23</td>\n",
              "      <td>463.31</td>\n",
              "      <td>7</td>\n",
              "      <td>0 days 20:41:20</td>\n",
              "      <td>0.00</td>\n",
              "      <td>2019-04-30 14:42:06+00:00</td>\n",
              "      <td>2</td>\n",
              "      <td>2.00</td>\n",
              "      <td>100.00</td>\n",
              "      <td>3</td>\n",
              "      <td>13</td>\n",
              "      <td>0.23</td>\n",
              "      <td>10.00</td>\n",
              "      <td>76.92</td>\n",
              "      <td>518.54</td>\n",
              "      <td>23</td>\n",
              "      <td>2</td>\n",
              "      <td>4</td>\n",
              "      <td>4</td>\n",
              "    </tr>\n",
              "    <tr>\n",
              "      <th>672</th>\n",
              "      <td>47566653</td>\n",
              "      <td>slicelife</td>\n",
              "      <td>2019-03-14 18:44:08+00:00</td>\n",
              "      <td>Delivery</td>\n",
              "      <td>cash</td>\n",
              "      <td>0</td>\n",
              "      <td>18.72</td>\n",
              "      <td>6,196,987,925.00</td>\n",
              "      <td>27246</td>\n",
              "      <td>WA</td>\n",
              "      <td>98101</td>\n",
              "      <td>2019-03-14</td>\n",
              "      <td>18.00</td>\n",
              "      <td>2019-03-14-18.0</td>\n",
              "      <td>3</td>\n",
              "      <td>23</td>\n",
              "      <td>463.31</td>\n",
              "      <td>7</td>\n",
              "      <td>0 days 05:28:57</td>\n",
              "      <td>-2.20</td>\n",
              "      <td>2019-04-30 14:42:06+00:00</td>\n",
              "      <td>2</td>\n",
              "      <td>2.00</td>\n",
              "      <td>100.00</td>\n",
              "      <td>3</td>\n",
              "      <td>13</td>\n",
              "      <td>0.23</td>\n",
              "      <td>10.00</td>\n",
              "      <td>76.92</td>\n",
              "      <td>518.54</td>\n",
              "      <td>23</td>\n",
              "      <td>2</td>\n",
              "      <td>4</td>\n",
              "      <td>4</td>\n",
              "    </tr>\n",
              "    <tr>\n",
              "      <th>673</th>\n",
              "      <td>47716284</td>\n",
              "      <td>slicelife</td>\n",
              "      <td>2019-03-16 14:25:01+00:00</td>\n",
              "      <td>Delivery</td>\n",
              "      <td>cash</td>\n",
              "      <td>0</td>\n",
              "      <td>20.92</td>\n",
              "      <td>6,196,987,925.00</td>\n",
              "      <td>27246</td>\n",
              "      <td>WA</td>\n",
              "      <td>98101</td>\n",
              "      <td>2019-03-16</td>\n",
              "      <td>14.00</td>\n",
              "      <td>2019-03-16-14.0</td>\n",
              "      <td>4</td>\n",
              "      <td>23</td>\n",
              "      <td>463.31</td>\n",
              "      <td>7</td>\n",
              "      <td>1 days 19:40:53</td>\n",
              "      <td>2.20</td>\n",
              "      <td>2019-04-30 14:42:06+00:00</td>\n",
              "      <td>2</td>\n",
              "      <td>2.00</td>\n",
              "      <td>100.00</td>\n",
              "      <td>3</td>\n",
              "      <td>13</td>\n",
              "      <td>0.23</td>\n",
              "      <td>10.00</td>\n",
              "      <td>76.92</td>\n",
              "      <td>518.54</td>\n",
              "      <td>23</td>\n",
              "      <td>2</td>\n",
              "      <td>4</td>\n",
              "      <td>4</td>\n",
              "    </tr>\n",
              "    <tr>\n",
              "      <th>674</th>\n",
              "      <td>47947731</td>\n",
              "      <td>slicelife</td>\n",
              "      <td>2019-03-19 17:56:56+00:00</td>\n",
              "      <td>Delivery</td>\n",
              "      <td>cash</td>\n",
              "      <td>0</td>\n",
              "      <td>23.12</td>\n",
              "      <td>6,196,987,925.00</td>\n",
              "      <td>27246</td>\n",
              "      <td>WA</td>\n",
              "      <td>98101</td>\n",
              "      <td>2019-03-19</td>\n",
              "      <td>17.00</td>\n",
              "      <td>2019-03-19-17.0</td>\n",
              "      <td>5</td>\n",
              "      <td>23</td>\n",
              "      <td>463.31</td>\n",
              "      <td>7</td>\n",
              "      <td>3 days 03:31:55</td>\n",
              "      <td>2.20</td>\n",
              "      <td>2019-04-30 14:42:06+00:00</td>\n",
              "      <td>2</td>\n",
              "      <td>2.00</td>\n",
              "      <td>100.00</td>\n",
              "      <td>3</td>\n",
              "      <td>13</td>\n",
              "      <td>0.23</td>\n",
              "      <td>10.00</td>\n",
              "      <td>76.92</td>\n",
              "      <td>518.54</td>\n",
              "      <td>23</td>\n",
              "      <td>2</td>\n",
              "      <td>4</td>\n",
              "      <td>4</td>\n",
              "    </tr>\n",
              "    <tr>\n",
              "      <th>675</th>\n",
              "      <td>47993268</td>\n",
              "      <td>slicelife</td>\n",
              "      <td>2019-03-20 16:09:30+00:00</td>\n",
              "      <td>Delivery</td>\n",
              "      <td>cash</td>\n",
              "      <td>0</td>\n",
              "      <td>23.12</td>\n",
              "      <td>6,196,987,925.00</td>\n",
              "      <td>27246</td>\n",
              "      <td>WA</td>\n",
              "      <td>98101</td>\n",
              "      <td>2019-03-20</td>\n",
              "      <td>16.00</td>\n",
              "      <td>2019-03-20-16.0</td>\n",
              "      <td>6</td>\n",
              "      <td>23</td>\n",
              "      <td>463.31</td>\n",
              "      <td>7</td>\n",
              "      <td>0 days 22:12:34</td>\n",
              "      <td>0.00</td>\n",
              "      <td>2019-04-30 14:42:06+00:00</td>\n",
              "      <td>2</td>\n",
              "      <td>2.00</td>\n",
              "      <td>100.00</td>\n",
              "      <td>3</td>\n",
              "      <td>13</td>\n",
              "      <td>0.23</td>\n",
              "      <td>10.00</td>\n",
              "      <td>76.92</td>\n",
              "      <td>518.54</td>\n",
              "      <td>23</td>\n",
              "      <td>2</td>\n",
              "      <td>4</td>\n",
              "      <td>4</td>\n",
              "    </tr>\n",
              "    <tr>\n",
              "      <th>676</th>\n",
              "      <td>48058374</td>\n",
              "      <td>slicelife</td>\n",
              "      <td>2019-03-21 15:29:23+00:00</td>\n",
              "      <td>Delivery</td>\n",
              "      <td>cash</td>\n",
              "      <td>0</td>\n",
              "      <td>19.82</td>\n",
              "      <td>6,196,987,925.00</td>\n",
              "      <td>27246</td>\n",
              "      <td>WA</td>\n",
              "      <td>98101</td>\n",
              "      <td>2019-03-21</td>\n",
              "      <td>15.00</td>\n",
              "      <td>2019-03-21-15.0</td>\n",
              "      <td>7</td>\n",
              "      <td>23</td>\n",
              "      <td>463.31</td>\n",
              "      <td>7</td>\n",
              "      <td>0 days 23:19:53</td>\n",
              "      <td>-3.30</td>\n",
              "      <td>2019-04-30 14:42:06+00:00</td>\n",
              "      <td>2</td>\n",
              "      <td>2.00</td>\n",
              "      <td>100.00</td>\n",
              "      <td>3</td>\n",
              "      <td>13</td>\n",
              "      <td>0.23</td>\n",
              "      <td>10.00</td>\n",
              "      <td>76.92</td>\n",
              "      <td>518.54</td>\n",
              "      <td>23</td>\n",
              "      <td>2</td>\n",
              "      <td>4</td>\n",
              "      <td>4</td>\n",
              "    </tr>\n",
              "    <tr>\n",
              "      <th>677</th>\n",
              "      <td>48162981</td>\n",
              "      <td>slicelife</td>\n",
              "      <td>2019-03-22 16:00:47+00:00</td>\n",
              "      <td>Delivery</td>\n",
              "      <td>cash</td>\n",
              "      <td>0</td>\n",
              "      <td>18.72</td>\n",
              "      <td>6,196,987,925.00</td>\n",
              "      <td>27246</td>\n",
              "      <td>WA</td>\n",
              "      <td>98101</td>\n",
              "      <td>2019-03-22</td>\n",
              "      <td>16.00</td>\n",
              "      <td>2019-03-22-16.0</td>\n",
              "      <td>8</td>\n",
              "      <td>23</td>\n",
              "      <td>463.31</td>\n",
              "      <td>7</td>\n",
              "      <td>1 days 00:31:24</td>\n",
              "      <td>-1.10</td>\n",
              "      <td>2019-04-30 14:42:06+00:00</td>\n",
              "      <td>2</td>\n",
              "      <td>2.00</td>\n",
              "      <td>100.00</td>\n",
              "      <td>3</td>\n",
              "      <td>13</td>\n",
              "      <td>0.23</td>\n",
              "      <td>10.00</td>\n",
              "      <td>76.92</td>\n",
              "      <td>518.54</td>\n",
              "      <td>23</td>\n",
              "      <td>2</td>\n",
              "      <td>4</td>\n",
              "      <td>4</td>\n",
              "    </tr>\n",
              "    <tr>\n",
              "      <th>678</th>\n",
              "      <td>48254211</td>\n",
              "      <td>slicelife</td>\n",
              "      <td>2019-03-23 15:15:08+00:00</td>\n",
              "      <td>Delivery</td>\n",
              "      <td>cash</td>\n",
              "      <td>0</td>\n",
              "      <td>22.02</td>\n",
              "      <td>6,196,987,925.00</td>\n",
              "      <td>27246</td>\n",
              "      <td>WA</td>\n",
              "      <td>98101</td>\n",
              "      <td>2019-03-23</td>\n",
              "      <td>15.00</td>\n",
              "      <td>2019-03-23-15.0</td>\n",
              "      <td>9</td>\n",
              "      <td>23</td>\n",
              "      <td>463.31</td>\n",
              "      <td>7</td>\n",
              "      <td>0 days 23:14:21</td>\n",
              "      <td>3.30</td>\n",
              "      <td>2019-04-30 14:42:06+00:00</td>\n",
              "      <td>2</td>\n",
              "      <td>2.00</td>\n",
              "      <td>100.00</td>\n",
              "      <td>3</td>\n",
              "      <td>13</td>\n",
              "      <td>0.23</td>\n",
              "      <td>10.00</td>\n",
              "      <td>76.92</td>\n",
              "      <td>518.54</td>\n",
              "      <td>23</td>\n",
              "      <td>2</td>\n",
              "      <td>4</td>\n",
              "      <td>4</td>\n",
              "    </tr>\n",
              "    <tr>\n",
              "      <th>679</th>\n",
              "      <td>48370509</td>\n",
              "      <td>slicelife</td>\n",
              "      <td>2019-03-24 17:55:18+00:00</td>\n",
              "      <td>Delivery</td>\n",
              "      <td>cash</td>\n",
              "      <td>0</td>\n",
              "      <td>16.52</td>\n",
              "      <td>6,196,987,925.00</td>\n",
              "      <td>27246</td>\n",
              "      <td>WA</td>\n",
              "      <td>98101</td>\n",
              "      <td>2019-03-24</td>\n",
              "      <td>17.00</td>\n",
              "      <td>2019-03-24-17.0</td>\n",
              "      <td>10</td>\n",
              "      <td>23</td>\n",
              "      <td>463.31</td>\n",
              "      <td>7</td>\n",
              "      <td>1 days 02:40:10</td>\n",
              "      <td>-5.50</td>\n",
              "      <td>2019-04-30 14:42:06+00:00</td>\n",
              "      <td>2</td>\n",
              "      <td>2.00</td>\n",
              "      <td>100.00</td>\n",
              "      <td>3</td>\n",
              "      <td>13</td>\n",
              "      <td>0.23</td>\n",
              "      <td>10.00</td>\n",
              "      <td>76.92</td>\n",
              "      <td>518.54</td>\n",
              "      <td>23</td>\n",
              "      <td>2</td>\n",
              "      <td>4</td>\n",
              "      <td>4</td>\n",
              "    </tr>\n",
              "    <tr>\n",
              "      <th>680</th>\n",
              "      <td>48404790</td>\n",
              "      <td>slicelife</td>\n",
              "      <td>2019-03-25 15:10:18+00:00</td>\n",
              "      <td>Delivery</td>\n",
              "      <td>cash</td>\n",
              "      <td>0</td>\n",
              "      <td>22.02</td>\n",
              "      <td>6,196,987,925.00</td>\n",
              "      <td>27246</td>\n",
              "      <td>WA</td>\n",
              "      <td>98101</td>\n",
              "      <td>2019-03-25</td>\n",
              "      <td>15.00</td>\n",
              "      <td>2019-03-25-15.0</td>\n",
              "      <td>12</td>\n",
              "      <td>23</td>\n",
              "      <td>463.31</td>\n",
              "      <td>7</td>\n",
              "      <td>0 days 20:17:57</td>\n",
              "      <td>8.73</td>\n",
              "      <td>2019-04-30 14:42:06+00:00</td>\n",
              "      <td>2</td>\n",
              "      <td>2.00</td>\n",
              "      <td>100.00</td>\n",
              "      <td>3</td>\n",
              "      <td>13</td>\n",
              "      <td>0.23</td>\n",
              "      <td>10.00</td>\n",
              "      <td>76.92</td>\n",
              "      <td>518.54</td>\n",
              "      <td>23</td>\n",
              "      <td>2</td>\n",
              "      <td>4</td>\n",
              "      <td>4</td>\n",
              "    </tr>\n",
              "    <tr>\n",
              "      <th>681</th>\n",
              "      <td>48471852</td>\n",
              "      <td>slicelife</td>\n",
              "      <td>2019-03-26 16:53:09+00:00</td>\n",
              "      <td>Delivery</td>\n",
              "      <td>cash</td>\n",
              "      <td>0</td>\n",
              "      <td>22.02</td>\n",
              "      <td>6,196,987,925.00</td>\n",
              "      <td>27246</td>\n",
              "      <td>WA</td>\n",
              "      <td>98101</td>\n",
              "      <td>2019-03-26</td>\n",
              "      <td>16.00</td>\n",
              "      <td>2019-03-26-16.0</td>\n",
              "      <td>13</td>\n",
              "      <td>23</td>\n",
              "      <td>463.31</td>\n",
              "      <td>7</td>\n",
              "      <td>1 days 01:42:51</td>\n",
              "      <td>0.00</td>\n",
              "      <td>2019-04-30 14:42:06+00:00</td>\n",
              "      <td>2</td>\n",
              "      <td>2.00</td>\n",
              "      <td>100.00</td>\n",
              "      <td>3</td>\n",
              "      <td>13</td>\n",
              "      <td>0.23</td>\n",
              "      <td>10.00</td>\n",
              "      <td>76.92</td>\n",
              "      <td>518.54</td>\n",
              "      <td>23</td>\n",
              "      <td>2</td>\n",
              "      <td>4</td>\n",
              "      <td>4</td>\n",
              "    </tr>\n",
              "    <tr>\n",
              "      <th>682</th>\n",
              "      <td>48546141</td>\n",
              "      <td>slicelife</td>\n",
              "      <td>2019-03-27 21:12:31+00:00</td>\n",
              "      <td>Delivery</td>\n",
              "      <td>cash</td>\n",
              "      <td>0</td>\n",
              "      <td>18.72</td>\n",
              "      <td>6,196,987,925.00</td>\n",
              "      <td>27246</td>\n",
              "      <td>WA</td>\n",
              "      <td>98101</td>\n",
              "      <td>2019-03-27</td>\n",
              "      <td>21.00</td>\n",
              "      <td>2019-03-27-21.0</td>\n",
              "      <td>14</td>\n",
              "      <td>23</td>\n",
              "      <td>463.31</td>\n",
              "      <td>7</td>\n",
              "      <td>1 days 04:19:22</td>\n",
              "      <td>-3.30</td>\n",
              "      <td>2019-04-30 14:42:06+00:00</td>\n",
              "      <td>2</td>\n",
              "      <td>2.00</td>\n",
              "      <td>100.00</td>\n",
              "      <td>3</td>\n",
              "      <td>13</td>\n",
              "      <td>0.23</td>\n",
              "      <td>10.00</td>\n",
              "      <td>76.92</td>\n",
              "      <td>518.54</td>\n",
              "      <td>23</td>\n",
              "      <td>2</td>\n",
              "      <td>4</td>\n",
              "      <td>4</td>\n",
              "    </tr>\n",
              "    <tr>\n",
              "      <th>683</th>\n",
              "      <td>48573567</td>\n",
              "      <td>slicelife</td>\n",
              "      <td>2019-03-28 14:22:54+00:00</td>\n",
              "      <td>Delivery</td>\n",
              "      <td>cash</td>\n",
              "      <td>0</td>\n",
              "      <td>19.82</td>\n",
              "      <td>6,196,987,925.00</td>\n",
              "      <td>27246</td>\n",
              "      <td>WA</td>\n",
              "      <td>98101</td>\n",
              "      <td>2019-03-28</td>\n",
              "      <td>14.00</td>\n",
              "      <td>2019-03-28-14.0</td>\n",
              "      <td>15</td>\n",
              "      <td>23</td>\n",
              "      <td>463.31</td>\n",
              "      <td>7</td>\n",
              "      <td>0 days 17:10:23</td>\n",
              "      <td>1.10</td>\n",
              "      <td>2019-04-30 14:42:06+00:00</td>\n",
              "      <td>2</td>\n",
              "      <td>2.00</td>\n",
              "      <td>100.00</td>\n",
              "      <td>3</td>\n",
              "      <td>13</td>\n",
              "      <td>0.23</td>\n",
              "      <td>10.00</td>\n",
              "      <td>76.92</td>\n",
              "      <td>518.54</td>\n",
              "      <td>23</td>\n",
              "      <td>2</td>\n",
              "      <td>4</td>\n",
              "      <td>4</td>\n",
              "    </tr>\n",
              "    <tr>\n",
              "      <th>684</th>\n",
              "      <td>48657786</td>\n",
              "      <td>slicelife</td>\n",
              "      <td>2019-03-29 14:22:49+00:00</td>\n",
              "      <td>Delivery</td>\n",
              "      <td>cash</td>\n",
              "      <td>0</td>\n",
              "      <td>17.62</td>\n",
              "      <td>6,196,987,925.00</td>\n",
              "      <td>27246</td>\n",
              "      <td>WA</td>\n",
              "      <td>98101</td>\n",
              "      <td>2019-03-29</td>\n",
              "      <td>14.00</td>\n",
              "      <td>2019-03-29-14.0</td>\n",
              "      <td>16</td>\n",
              "      <td>23</td>\n",
              "      <td>463.31</td>\n",
              "      <td>7</td>\n",
              "      <td>0 days 23:59:55</td>\n",
              "      <td>-2.20</td>\n",
              "      <td>2019-04-30 14:42:06+00:00</td>\n",
              "      <td>2</td>\n",
              "      <td>2.00</td>\n",
              "      <td>100.00</td>\n",
              "      <td>3</td>\n",
              "      <td>13</td>\n",
              "      <td>0.23</td>\n",
              "      <td>10.00</td>\n",
              "      <td>76.92</td>\n",
              "      <td>518.54</td>\n",
              "      <td>23</td>\n",
              "      <td>2</td>\n",
              "      <td>4</td>\n",
              "      <td>4</td>\n",
              "    </tr>\n",
              "    <tr>\n",
              "      <th>685</th>\n",
              "      <td>48783969</td>\n",
              "      <td>slicelife</td>\n",
              "      <td>2019-03-30 15:24:26+00:00</td>\n",
              "      <td>Delivery</td>\n",
              "      <td>cash</td>\n",
              "      <td>0</td>\n",
              "      <td>16.52</td>\n",
              "      <td>6,196,987,925.00</td>\n",
              "      <td>27246</td>\n",
              "      <td>WA</td>\n",
              "      <td>98101</td>\n",
              "      <td>2019-03-30</td>\n",
              "      <td>15.00</td>\n",
              "      <td>2019-03-30-15.0</td>\n",
              "      <td>17</td>\n",
              "      <td>23</td>\n",
              "      <td>463.31</td>\n",
              "      <td>7</td>\n",
              "      <td>1 days 01:01:37</td>\n",
              "      <td>-1.10</td>\n",
              "      <td>2019-04-30 14:42:06+00:00</td>\n",
              "      <td>2</td>\n",
              "      <td>2.00</td>\n",
              "      <td>100.00</td>\n",
              "      <td>3</td>\n",
              "      <td>13</td>\n",
              "      <td>0.23</td>\n",
              "      <td>10.00</td>\n",
              "      <td>76.92</td>\n",
              "      <td>518.54</td>\n",
              "      <td>23</td>\n",
              "      <td>2</td>\n",
              "      <td>4</td>\n",
              "      <td>4</td>\n",
              "    </tr>\n",
              "    <tr>\n",
              "      <th>686</th>\n",
              "      <td>49362288</td>\n",
              "      <td>slicelife</td>\n",
              "      <td>2019-04-06 18:07:05+00:00</td>\n",
              "      <td>Delivery</td>\n",
              "      <td>cash</td>\n",
              "      <td>0</td>\n",
              "      <td>22.02</td>\n",
              "      <td>6,196,987,925.00</td>\n",
              "      <td>27246</td>\n",
              "      <td>WA</td>\n",
              "      <td>98101</td>\n",
              "      <td>2019-04-06</td>\n",
              "      <td>18.00</td>\n",
              "      <td>2019-04-06-18.0</td>\n",
              "      <td>19</td>\n",
              "      <td>23</td>\n",
              "      <td>463.31</td>\n",
              "      <td>7</td>\n",
              "      <td>1 days 15:41:04</td>\n",
              "      <td>-0.78</td>\n",
              "      <td>2019-04-30 14:42:06+00:00</td>\n",
              "      <td>2</td>\n",
              "      <td>2.00</td>\n",
              "      <td>100.00</td>\n",
              "      <td>3</td>\n",
              "      <td>13</td>\n",
              "      <td>0.23</td>\n",
              "      <td>10.00</td>\n",
              "      <td>76.92</td>\n",
              "      <td>518.54</td>\n",
              "      <td>23</td>\n",
              "      <td>2</td>\n",
              "      <td>4</td>\n",
              "      <td>4</td>\n",
              "    </tr>\n",
              "    <tr>\n",
              "      <th>687</th>\n",
              "      <td>49605030</td>\n",
              "      <td>slicelife</td>\n",
              "      <td>2019-04-10 16:32:44+00:00</td>\n",
              "      <td>Delivery</td>\n",
              "      <td>cash</td>\n",
              "      <td>0</td>\n",
              "      <td>22.02</td>\n",
              "      <td>6,196,987,925.00</td>\n",
              "      <td>27246</td>\n",
              "      <td>WA</td>\n",
              "      <td>98101</td>\n",
              "      <td>2019-04-10</td>\n",
              "      <td>16.00</td>\n",
              "      <td>2019-04-10-16.0</td>\n",
              "      <td>20</td>\n",
              "      <td>23</td>\n",
              "      <td>463.31</td>\n",
              "      <td>7</td>\n",
              "      <td>3 days 22:25:39</td>\n",
              "      <td>0.00</td>\n",
              "      <td>2019-04-30 14:42:06+00:00</td>\n",
              "      <td>2</td>\n",
              "      <td>2.00</td>\n",
              "      <td>100.00</td>\n",
              "      <td>3</td>\n",
              "      <td>13</td>\n",
              "      <td>0.23</td>\n",
              "      <td>10.00</td>\n",
              "      <td>76.92</td>\n",
              "      <td>518.54</td>\n",
              "      <td>23</td>\n",
              "      <td>2</td>\n",
              "      <td>4</td>\n",
              "      <td>4</td>\n",
              "    </tr>\n",
              "    <tr>\n",
              "      <th>689</th>\n",
              "      <td>50059731</td>\n",
              "      <td>slicelife</td>\n",
              "      <td>2019-04-15 19:23:44+00:00</td>\n",
              "      <td>Delivery</td>\n",
              "      <td>cash</td>\n",
              "      <td>0</td>\n",
              "      <td>22.02</td>\n",
              "      <td>6,196,987,925.00</td>\n",
              "      <td>27246</td>\n",
              "      <td>WA</td>\n",
              "      <td>98101</td>\n",
              "      <td>2019-04-15</td>\n",
              "      <td>19.00</td>\n",
              "      <td>2019-04-15-19.0</td>\n",
              "      <td>21</td>\n",
              "      <td>23</td>\n",
              "      <td>463.31</td>\n",
              "      <td>7</td>\n",
              "      <td>5 days 02:51:00</td>\n",
              "      <td>0.00</td>\n",
              "      <td>2019-04-30 14:42:06+00:00</td>\n",
              "      <td>2</td>\n",
              "      <td>2.00</td>\n",
              "      <td>100.00</td>\n",
              "      <td>3</td>\n",
              "      <td>13</td>\n",
              "      <td>0.23</td>\n",
              "      <td>10.00</td>\n",
              "      <td>76.92</td>\n",
              "      <td>518.54</td>\n",
              "      <td>23</td>\n",
              "      <td>2</td>\n",
              "      <td>4</td>\n",
              "      <td>4</td>\n",
              "    </tr>\n",
              "    <tr>\n",
              "      <th>690</th>\n",
              "      <td>50362869</td>\n",
              "      <td>slicelife</td>\n",
              "      <td>2019-04-19 18:18:31+00:00</td>\n",
              "      <td>Delivery</td>\n",
              "      <td>cash</td>\n",
              "      <td>0</td>\n",
              "      <td>18.72</td>\n",
              "      <td>6,196,987,925.00</td>\n",
              "      <td>27246</td>\n",
              "      <td>WA</td>\n",
              "      <td>98101</td>\n",
              "      <td>2019-04-19</td>\n",
              "      <td>18.00</td>\n",
              "      <td>2019-04-19-18.0</td>\n",
              "      <td>22</td>\n",
              "      <td>23</td>\n",
              "      <td>463.31</td>\n",
              "      <td>7</td>\n",
              "      <td>3 days 22:54:47</td>\n",
              "      <td>-3.30</td>\n",
              "      <td>2019-04-30 14:42:06+00:00</td>\n",
              "      <td>2</td>\n",
              "      <td>2.00</td>\n",
              "      <td>100.00</td>\n",
              "      <td>3</td>\n",
              "      <td>13</td>\n",
              "      <td>0.23</td>\n",
              "      <td>10.00</td>\n",
              "      <td>76.92</td>\n",
              "      <td>518.54</td>\n",
              "      <td>23</td>\n",
              "      <td>2</td>\n",
              "      <td>4</td>\n",
              "      <td>4</td>\n",
              "    </tr>\n",
              "    <tr>\n",
              "      <th>691</th>\n",
              "      <td>51116376</td>\n",
              "      <td>partner_website</td>\n",
              "      <td>2019-04-30 14:42:06+00:00</td>\n",
              "      <td>Delivery</td>\n",
              "      <td>cash</td>\n",
              "      <td>0</td>\n",
              "      <td>20.92</td>\n",
              "      <td>6,196,987,925.00</td>\n",
              "      <td>27246</td>\n",
              "      <td>WA</td>\n",
              "      <td>98101</td>\n",
              "      <td>2019-04-30</td>\n",
              "      <td>14.00</td>\n",
              "      <td>2019-04-30-14.0</td>\n",
              "      <td>23</td>\n",
              "      <td>23</td>\n",
              "      <td>463.31</td>\n",
              "      <td>7</td>\n",
              "      <td>10 days 20:23:35</td>\n",
              "      <td>2.20</td>\n",
              "      <td>2019-04-30 14:42:06+00:00</td>\n",
              "      <td>2</td>\n",
              "      <td>2.00</td>\n",
              "      <td>100.00</td>\n",
              "      <td>3</td>\n",
              "      <td>13</td>\n",
              "      <td>0.23</td>\n",
              "      <td>10.00</td>\n",
              "      <td>76.92</td>\n",
              "      <td>518.54</td>\n",
              "      <td>23</td>\n",
              "      <td>2</td>\n",
              "      <td>4</td>\n",
              "      <td>4</td>\n",
              "    </tr>\n",
              "    <tr>\n",
              "      <th>11723</th>\n",
              "      <td>48374580</td>\n",
              "      <td>slicelife</td>\n",
              "      <td>2019-03-24 18:52:21+00:00</td>\n",
              "      <td>Delivery</td>\n",
              "      <td>cash</td>\n",
              "      <td>0</td>\n",
              "      <td>13.29</td>\n",
              "      <td>6,196,987,925.00</td>\n",
              "      <td>6132</td>\n",
              "      <td>WA</td>\n",
              "      <td>98105</td>\n",
              "      <td>2019-03-24</td>\n",
              "      <td>18.00</td>\n",
              "      <td>2019-03-24-18.0</td>\n",
              "      <td>11</td>\n",
              "      <td>23</td>\n",
              "      <td>463.31</td>\n",
              "      <td>7</td>\n",
              "      <td>0 days 00:57:03</td>\n",
              "      <td>-3.23</td>\n",
              "      <td>2019-04-30 14:42:06+00:00</td>\n",
              "      <td>1</td>\n",
              "      <td>1.00</td>\n",
              "      <td>100.00</td>\n",
              "      <td>3</td>\n",
              "      <td>9</td>\n",
              "      <td>0.33</td>\n",
              "      <td>5.00</td>\n",
              "      <td>55.56</td>\n",
              "      <td>13.29</td>\n",
              "      <td>1</td>\n",
              "      <td>1</td>\n",
              "      <td>0</td>\n",
              "      <td>0</td>\n",
              "    </tr>\n",
              "    <tr>\n",
              "      <th>15968</th>\n",
              "      <td>49153530</td>\n",
              "      <td>slicelife</td>\n",
              "      <td>2019-04-05 02:26:01+00:00</td>\n",
              "      <td>Delivery</td>\n",
              "      <td>cash</td>\n",
              "      <td>0</td>\n",
              "      <td>22.80</td>\n",
              "      <td>6,196,987,925.00</td>\n",
              "      <td>3225</td>\n",
              "      <td>WA</td>\n",
              "      <td>98102</td>\n",
              "      <td>2019-04-05</td>\n",
              "      <td>2.00</td>\n",
              "      <td>2019-04-05-2.0</td>\n",
              "      <td>18</td>\n",
              "      <td>23</td>\n",
              "      <td>463.31</td>\n",
              "      <td>7</td>\n",
              "      <td>5 days 11:01:35</td>\n",
              "      <td>6.28</td>\n",
              "      <td>2019-04-30 14:42:06+00:00</td>\n",
              "      <td>1</td>\n",
              "      <td>1.00</td>\n",
              "      <td>100.00</td>\n",
              "      <td>2</td>\n",
              "      <td>2</td>\n",
              "      <td>1.00</td>\n",
              "      <td>2.00</td>\n",
              "      <td>100.00</td>\n",
              "      <td>22.80</td>\n",
              "      <td>1</td>\n",
              "      <td>1</td>\n",
              "      <td>0</td>\n",
              "      <td>0</td>\n",
              "    </tr>\n",
              "  </tbody>\n",
              "</table>\n",
              "</div>"
            ],
            "text/plain": [
              "       order_id           source  ... sales_qunitiles order_qunitiles\n",
              "670    47474511        slicelife  ...               4               4\n",
              "671    47513940        slicelife  ...               4               4\n",
              "672    47566653        slicelife  ...               4               4\n",
              "673    47716284        slicelife  ...               4               4\n",
              "674    47947731        slicelife  ...               4               4\n",
              "675    47993268        slicelife  ...               4               4\n",
              "676    48058374        slicelife  ...               4               4\n",
              "677    48162981        slicelife  ...               4               4\n",
              "678    48254211        slicelife  ...               4               4\n",
              "679    48370509        slicelife  ...               4               4\n",
              "680    48404790        slicelife  ...               4               4\n",
              "681    48471852        slicelife  ...               4               4\n",
              "682    48546141        slicelife  ...               4               4\n",
              "683    48573567        slicelife  ...               4               4\n",
              "684    48657786        slicelife  ...               4               4\n",
              "685    48783969        slicelife  ...               4               4\n",
              "686    49362288        slicelife  ...               4               4\n",
              "687    49605030        slicelife  ...               4               4\n",
              "689    50059731        slicelife  ...               4               4\n",
              "690    50362869        slicelife  ...               4               4\n",
              "691    51116376  partner_website  ...               4               4\n",
              "11723  48374580        slicelife  ...               0               0\n",
              "15968  49153530        slicelife  ...               0               0\n",
              "\n",
              "[23 rows x 34 columns]"
            ]
          },
          "metadata": {
            "tags": []
          },
          "execution_count": 383
        }
      ]
    },
    {
      "cell_type": "code",
      "metadata": {
        "id": "DwJHC_LnXj8Y"
      },
      "source": [
        "## add more data operation statements here if needed"
      ],
      "execution_count": 384,
      "outputs": []
    },
    {
      "cell_type": "markdown",
      "metadata": {
        "id": "9aDyIE0vyQJI"
      },
      "source": [
        "# ***Customer Level Dataset Creation***"
      ]
    },
    {
      "cell_type": "code",
      "metadata": {
        "id": "sVhq0KjPkqCI",
        "outputId": "3dba3a72-2ca7-40fd-e888-9c153ffad0f7",
        "colab": {
          "base_uri": "https://localhost:8080/",
          "height": 309
        }
      },
      "source": [
        "test4.head()"
      ],
      "execution_count": 385,
      "outputs": [
        {
          "output_type": "execute_result",
          "data": {
            "text/html": [
              "<div>\n",
              "<style scoped>\n",
              "    .dataframe tbody tr th:only-of-type {\n",
              "        vertical-align: middle;\n",
              "    }\n",
              "\n",
              "    .dataframe tbody tr th {\n",
              "        vertical-align: top;\n",
              "    }\n",
              "\n",
              "    .dataframe thead th {\n",
              "        text-align: right;\n",
              "    }\n",
              "</style>\n",
              "<table border=\"1\" class=\"dataframe\">\n",
              "  <thead>\n",
              "    <tr style=\"text-align: right;\">\n",
              "      <th></th>\n",
              "      <th>order_id</th>\n",
              "      <th>source</th>\n",
              "      <th>date_purchased</th>\n",
              "      <th>shipping_type</th>\n",
              "      <th>payment_method</th>\n",
              "      <th>promo_value</th>\n",
              "      <th>restaurant_total</th>\n",
              "      <th>customer</th>\n",
              "      <th>shops_id</th>\n",
              "      <th>state</th>\n",
              "      <th>postal_code</th>\n",
              "      <th>dateonly_purchased</th>\n",
              "      <th>houronly_purchased</th>\n",
              "      <th>datehour_purchased</th>\n",
              "      <th>order_enum</th>\n",
              "      <th>total_order</th>\n",
              "      <th>total_sales</th>\n",
              "      <th>bin_orders</th>\n",
              "      <th>time_between_purch</th>\n",
              "      <th>spend_growth</th>\n",
              "      <th>date_last_purch</th>\n",
              "      <th>cust_per_shop</th>\n",
              "      <th>shop_cust_2_more</th>\n",
              "      <th>shop_pct_cust_2_more</th>\n",
              "      <th>shops_per_zip</th>\n",
              "      <th>cust_per_zip</th>\n",
              "      <th>shops_per_cust_per_zip</th>\n",
              "      <th>zip_cust_2_more</th>\n",
              "      <th>zip_pct_cust_2_more</th>\n",
              "      <th>total_shop_sales</th>\n",
              "      <th>total_shop_orders</th>\n",
              "      <th>total_shop_cust_base</th>\n",
              "      <th>sales_qunitiles</th>\n",
              "      <th>order_qunitiles</th>\n",
              "    </tr>\n",
              "  </thead>\n",
              "  <tbody>\n",
              "    <tr>\n",
              "      <th>0</th>\n",
              "      <td>47433960</td>\n",
              "      <td>iosapp</td>\n",
              "      <td>2019-03-13 08:02:07+00:00</td>\n",
              "      <td>Delivery</td>\n",
              "      <td>credit</td>\n",
              "      <td>0</td>\n",
              "      <td>15.50</td>\n",
              "      <td>13,315,067,198.00</td>\n",
              "      <td>24597</td>\n",
              "      <td>MD</td>\n",
              "      <td>21162</td>\n",
              "      <td>2019-03-13</td>\n",
              "      <td>8.00</td>\n",
              "      <td>2019-03-13-8.0</td>\n",
              "      <td>1</td>\n",
              "      <td>2</td>\n",
              "      <td>32.21</td>\n",
              "      <td>1</td>\n",
              "      <td>NaT</td>\n",
              "      <td>nan</td>\n",
              "      <td>2019-06-22 07:38:20+00:00</td>\n",
              "      <td>2</td>\n",
              "      <td>2.00</td>\n",
              "      <td>100.00</td>\n",
              "      <td>1</td>\n",
              "      <td>2</td>\n",
              "      <td>0.50</td>\n",
              "      <td>2.00</td>\n",
              "      <td>100.00</td>\n",
              "      <td>70.41</td>\n",
              "      <td>4</td>\n",
              "      <td>2</td>\n",
              "      <td>1</td>\n",
              "      <td>2</td>\n",
              "    </tr>\n",
              "    <tr>\n",
              "      <th>1</th>\n",
              "      <td>55207974</td>\n",
              "      <td>iosapp</td>\n",
              "      <td>2019-06-22 07:38:20+00:00</td>\n",
              "      <td>Delivery</td>\n",
              "      <td>credit</td>\n",
              "      <td>0</td>\n",
              "      <td>16.71</td>\n",
              "      <td>13,315,067,198.00</td>\n",
              "      <td>24597</td>\n",
              "      <td>MD</td>\n",
              "      <td>21162</td>\n",
              "      <td>2019-06-22</td>\n",
              "      <td>7.00</td>\n",
              "      <td>2019-06-22-7.0</td>\n",
              "      <td>2</td>\n",
              "      <td>2</td>\n",
              "      <td>32.21</td>\n",
              "      <td>2</td>\n",
              "      <td>100 days 23:36:13</td>\n",
              "      <td>1.21</td>\n",
              "      <td>2019-06-22 07:38:20+00:00</td>\n",
              "      <td>2</td>\n",
              "      <td>2.00</td>\n",
              "      <td>100.00</td>\n",
              "      <td>1</td>\n",
              "      <td>2</td>\n",
              "      <td>0.50</td>\n",
              "      <td>2.00</td>\n",
              "      <td>100.00</td>\n",
              "      <td>70.41</td>\n",
              "      <td>4</td>\n",
              "      <td>2</td>\n",
              "      <td>1</td>\n",
              "      <td>2</td>\n",
              "    </tr>\n",
              "    <tr>\n",
              "      <th>2</th>\n",
              "      <td>59481261</td>\n",
              "      <td>iosapp</td>\n",
              "      <td>2019-08-15 08:58:47+00:00</td>\n",
              "      <td>Pickup</td>\n",
              "      <td>credit</td>\n",
              "      <td>4</td>\n",
              "      <td>13.95</td>\n",
              "      <td>12,316,161,278.00</td>\n",
              "      <td>24597</td>\n",
              "      <td>MD</td>\n",
              "      <td>21162</td>\n",
              "      <td>2019-08-15</td>\n",
              "      <td>8.00</td>\n",
              "      <td>2019-08-15-8.0</td>\n",
              "      <td>1</td>\n",
              "      <td>2</td>\n",
              "      <td>38.20</td>\n",
              "      <td>1</td>\n",
              "      <td>NaT</td>\n",
              "      <td>nan</td>\n",
              "      <td>2019-09-24 10:01:02+00:00</td>\n",
              "      <td>2</td>\n",
              "      <td>2.00</td>\n",
              "      <td>100.00</td>\n",
              "      <td>1</td>\n",
              "      <td>2</td>\n",
              "      <td>0.50</td>\n",
              "      <td>2.00</td>\n",
              "      <td>100.00</td>\n",
              "      <td>70.41</td>\n",
              "      <td>4</td>\n",
              "      <td>2</td>\n",
              "      <td>1</td>\n",
              "      <td>2</td>\n",
              "    </tr>\n",
              "    <tr>\n",
              "      <th>3</th>\n",
              "      <td>62794419</td>\n",
              "      <td>partner_website</td>\n",
              "      <td>2019-09-24 10:01:02+00:00</td>\n",
              "      <td>Pickup</td>\n",
              "      <td>credit</td>\n",
              "      <td>0</td>\n",
              "      <td>24.25</td>\n",
              "      <td>12,316,161,278.00</td>\n",
              "      <td>24597</td>\n",
              "      <td>MD</td>\n",
              "      <td>21162</td>\n",
              "      <td>2019-09-24</td>\n",
              "      <td>10.00</td>\n",
              "      <td>2019-09-24-10.0</td>\n",
              "      <td>2</td>\n",
              "      <td>2</td>\n",
              "      <td>38.20</td>\n",
              "      <td>2</td>\n",
              "      <td>40 days 01:02:15</td>\n",
              "      <td>10.30</td>\n",
              "      <td>2019-09-24 10:01:02+00:00</td>\n",
              "      <td>2</td>\n",
              "      <td>2.00</td>\n",
              "      <td>100.00</td>\n",
              "      <td>1</td>\n",
              "      <td>2</td>\n",
              "      <td>0.50</td>\n",
              "      <td>2.00</td>\n",
              "      <td>100.00</td>\n",
              "      <td>70.41</td>\n",
              "      <td>4</td>\n",
              "      <td>2</td>\n",
              "      <td>1</td>\n",
              "      <td>2</td>\n",
              "    </tr>\n",
              "    <tr>\n",
              "      <th>4</th>\n",
              "      <td>47434359</td>\n",
              "      <td>iosapp</td>\n",
              "      <td>2019-03-13 08:11:38+00:00</td>\n",
              "      <td>Delivery</td>\n",
              "      <td>credit</td>\n",
              "      <td>0</td>\n",
              "      <td>24.83</td>\n",
              "      <td>15,557,129,447.00</td>\n",
              "      <td>64392</td>\n",
              "      <td>NY</td>\n",
              "      <td>12944</td>\n",
              "      <td>2019-03-13</td>\n",
              "      <td>8.00</td>\n",
              "      <td>2019-03-13-8.0</td>\n",
              "      <td>1</td>\n",
              "      <td>5</td>\n",
              "      <td>152.83</td>\n",
              "      <td>1</td>\n",
              "      <td>NaT</td>\n",
              "      <td>nan</td>\n",
              "      <td>2020-03-29 12:58:54+00:00</td>\n",
              "      <td>3</td>\n",
              "      <td>3.00</td>\n",
              "      <td>100.00</td>\n",
              "      <td>2</td>\n",
              "      <td>5</td>\n",
              "      <td>0.40</td>\n",
              "      <td>6.00</td>\n",
              "      <td>120.00</td>\n",
              "      <td>287.52</td>\n",
              "      <td>12</td>\n",
              "      <td>3</td>\n",
              "      <td>3</td>\n",
              "      <td>4</td>\n",
              "    </tr>\n",
              "  </tbody>\n",
              "</table>\n",
              "</div>"
            ],
            "text/plain": [
              "   order_id           source  ... sales_qunitiles order_qunitiles\n",
              "0  47433960           iosapp  ...               1               2\n",
              "1  55207974           iosapp  ...               1               2\n",
              "2  59481261           iosapp  ...               1               2\n",
              "3  62794419  partner_website  ...               1               2\n",
              "4  47434359           iosapp  ...               3               4\n",
              "\n",
              "[5 rows x 34 columns]"
            ]
          },
          "metadata": {
            "tags": []
          },
          "execution_count": 385
        }
      ]
    },
    {
      "cell_type": "code",
      "metadata": {
        "id": "tXz7kNFi-x-k",
        "outputId": "7806bb51-5e4a-4831-f375-4b71f089143f",
        "colab": {
          "base_uri": "https://localhost:8080/",
          "height": 35
        }
      },
      "source": [
        "test4.customer.nunique()"
      ],
      "execution_count": 386,
      "outputs": [
        {
          "output_type": "execute_result",
          "data": {
            "text/plain": [
              "10316"
            ]
          },
          "metadata": {
            "tags": []
          },
          "execution_count": 386
        }
      ]
    },
    {
      "cell_type": "code",
      "metadata": {
        "id": "5dGoNkiZyifV"
      },
      "source": [
        "# First Purchase Characteristics\n",
        "\n",
        "fp=test4[test4['order_enum']==1]"
      ],
      "execution_count": 387,
      "outputs": []
    },
    {
      "cell_type": "code",
      "metadata": {
        "id": "x6RffImDEWF5",
        "outputId": "e3e1df71-fadb-4278-a703-83cdb1cff754",
        "colab": {
          "base_uri": "https://localhost:8080/",
          "height": 728
        }
      },
      "source": [
        "fp.info()"
      ],
      "execution_count": 388,
      "outputs": [
        {
          "output_type": "stream",
          "text": [
            "<class 'pandas.core.frame.DataFrame'>\n",
            "Int64Index: 10316 entries, 0 to 39812\n",
            "Data columns (total 34 columns):\n",
            " #   Column                  Non-Null Count  Dtype              \n",
            "---  ------                  --------------  -----              \n",
            " 0   order_id                10316 non-null  int64              \n",
            " 1   source                  10316 non-null  object             \n",
            " 2   date_purchased          10316 non-null  datetime64[ns, UTC]\n",
            " 3   shipping_type           10316 non-null  object             \n",
            " 4   payment_method          10316 non-null  object             \n",
            " 5   promo_value             10316 non-null  int64              \n",
            " 6   restaurant_total        10316 non-null  float64            \n",
            " 7   customer                10316 non-null  float64            \n",
            " 8   shops_id                10316 non-null  int64              \n",
            " 9   state                   10301 non-null  object             \n",
            " 10  postal_code             10316 non-null  int64              \n",
            " 11  dateonly_purchased      10316 non-null  object             \n",
            " 12  houronly_purchased      10316 non-null  float64            \n",
            " 13  datehour_purchased      10316 non-null  object             \n",
            " 14  order_enum              10316 non-null  int64              \n",
            " 15  total_order             10316 non-null  int64              \n",
            " 16  total_sales             10316 non-null  float64            \n",
            " 17  bin_orders              10316 non-null  int64              \n",
            " 18  time_between_purch      0 non-null      timedelta64[ns]    \n",
            " 19  spend_growth            0 non-null      float64            \n",
            " 20  date_last_purch         10316 non-null  datetime64[ns, UTC]\n",
            " 21  cust_per_shop           10316 non-null  int64              \n",
            " 22  shop_cust_2_more        9311 non-null   float64            \n",
            " 23  shop_pct_cust_2_more    9311 non-null   float64            \n",
            " 24  shops_per_zip           10316 non-null  int64              \n",
            " 25  cust_per_zip            10316 non-null  int64              \n",
            " 26  shops_per_cust_per_zip  10316 non-null  float64            \n",
            " 27  zip_cust_2_more         9812 non-null   float64            \n",
            " 28  zip_pct_cust_2_more     9812 non-null   float64            \n",
            " 29  total_shop_sales        10316 non-null  float64            \n",
            " 30  total_shop_orders       10316 non-null  int64              \n",
            " 31  total_shop_cust_base    10316 non-null  int64              \n",
            " 32  sales_qunitiles         10316 non-null  int64              \n",
            " 33  order_qunitiles         10316 non-null  int64              \n",
            "dtypes: datetime64[ns, UTC](2), float64(11), int64(14), object(6), timedelta64[ns](1)\n",
            "memory usage: 2.8+ MB\n"
          ],
          "name": "stdout"
        }
      ]
    },
    {
      "cell_type": "code",
      "metadata": {
        "id": "Hss1azAxI-bZ"
      },
      "source": [
        "fp_final=fp[['customer','date_purchased','date_last_purch','source','promo_value','shops_id','postal_code','total_order','total_sales','sales_qunitiles','order_qunitiles','zip_pct_cust_2_more','shop_pct_cust_2_more','shops_per_zip', 'shops_per_cust_per_zip']].rename(columns={'date_purchased':'fp_date','date_last_purch': 'lp_date','source':'fp_source','promo_value':'fp_promo_val','shops_id':'fp_shops_id','postal_code':'fp_postal_code','sales_quintiles':'fp_shop_sales_quintile','order_quintiles':'fp_shop_order_qunitile','zip_pct_cust_2_more':'fp_zip_cust_loyalty_score','shop_pct_cust_2_more':'fp_shop_cust_loyalty_score'})\n",
        "\n",
        "fp_final['customer_sales_centiles']=pd.qcut(fp_final['total_sales'].rank(method='first'),100,labels=False)\n",
        "fp_final['customer_order_centiles']=pd.qcut(fp_final['total_order'].rank(method='first'),100,labels=False)"
      ],
      "execution_count": 389,
      "outputs": []
    },
    {
      "cell_type": "code",
      "metadata": {
        "id": "D29dXqvQVt8l",
        "outputId": "2cda1690-ecd7-4e3d-d60d-059e0cb79ee4",
        "colab": {
          "base_uri": "https://localhost:8080/",
          "height": 433
        }
      },
      "source": [
        "fp_final.info()"
      ],
      "execution_count": 390,
      "outputs": [
        {
          "output_type": "stream",
          "text": [
            "<class 'pandas.core.frame.DataFrame'>\n",
            "Int64Index: 10316 entries, 0 to 39812\n",
            "Data columns (total 17 columns):\n",
            " #   Column                      Non-Null Count  Dtype              \n",
            "---  ------                      --------------  -----              \n",
            " 0   customer                    10316 non-null  float64            \n",
            " 1   fp_date                     10316 non-null  datetime64[ns, UTC]\n",
            " 2   lp_date                     10316 non-null  datetime64[ns, UTC]\n",
            " 3   fp_source                   10316 non-null  object             \n",
            " 4   fp_promo_val                10316 non-null  int64              \n",
            " 5   fp_shops_id                 10316 non-null  int64              \n",
            " 6   fp_postal_code              10316 non-null  int64              \n",
            " 7   total_order                 10316 non-null  int64              \n",
            " 8   total_sales                 10316 non-null  float64            \n",
            " 9   sales_qunitiles             10316 non-null  int64              \n",
            " 10  order_qunitiles             10316 non-null  int64              \n",
            " 11  fp_zip_cust_loyalty_score   9812 non-null   float64            \n",
            " 12  fp_shop_cust_loyalty_score  9311 non-null   float64            \n",
            " 13  shops_per_zip               10316 non-null  int64              \n",
            " 14  shops_per_cust_per_zip      10316 non-null  float64            \n",
            " 15  customer_sales_centiles     10316 non-null  int64              \n",
            " 16  customer_order_centiles     10316 non-null  int64              \n",
            "dtypes: datetime64[ns, UTC](2), float64(5), int64(9), object(1)\n",
            "memory usage: 1.4+ MB\n"
          ],
          "name": "stdout"
        }
      ]
    },
    {
      "cell_type": "code",
      "metadata": {
        "id": "B5843BmWyq7B"
      },
      "source": [
        "fp_final['end_date']=test['date_purchased'].max()\n",
        "fp_final['time_since_fp']=((fp_final['end_date']-fp_final['fp_date']).dt.days.astype('int16'))\n",
        "fp_final['time_since_lp']=((fp_final['end_date']-fp_final['lp_date']).dt.days.astype('int16'))\n",
        "fp_final['total_order_benchmark']=(fp_final['time_since_fp']*0.5/30).round(0) #6 pizza per year = 0.5 pizza per 30 days\n",
        "fp_final['total_surplus_orders']=fp_final['total_order']-fp_final['total_order_benchmark']\n",
        "\n",
        "# make customer total sales and total order centiles, total order benchmark, surplus, shops per zip H/M/L\n",
        "\n"
      ],
      "execution_count": 391,
      "outputs": []
    },
    {
      "cell_type": "code",
      "metadata": {
        "id": "vEQEwTq2Klbg",
        "outputId": "523dc606-bdb3-4965-f503-546b858ed225",
        "colab": {
          "base_uri": "https://localhost:8080/",
          "height": 309
        }
      },
      "source": [
        "fp_final.head()"
      ],
      "execution_count": 392,
      "outputs": [
        {
          "output_type": "execute_result",
          "data": {
            "text/html": [
              "<div>\n",
              "<style scoped>\n",
              "    .dataframe tbody tr th:only-of-type {\n",
              "        vertical-align: middle;\n",
              "    }\n",
              "\n",
              "    .dataframe tbody tr th {\n",
              "        vertical-align: top;\n",
              "    }\n",
              "\n",
              "    .dataframe thead th {\n",
              "        text-align: right;\n",
              "    }\n",
              "</style>\n",
              "<table border=\"1\" class=\"dataframe\">\n",
              "  <thead>\n",
              "    <tr style=\"text-align: right;\">\n",
              "      <th></th>\n",
              "      <th>customer</th>\n",
              "      <th>fp_date</th>\n",
              "      <th>lp_date</th>\n",
              "      <th>fp_source</th>\n",
              "      <th>fp_promo_val</th>\n",
              "      <th>fp_shops_id</th>\n",
              "      <th>fp_postal_code</th>\n",
              "      <th>total_order</th>\n",
              "      <th>total_sales</th>\n",
              "      <th>sales_qunitiles</th>\n",
              "      <th>order_qunitiles</th>\n",
              "      <th>fp_zip_cust_loyalty_score</th>\n",
              "      <th>fp_shop_cust_loyalty_score</th>\n",
              "      <th>shops_per_zip</th>\n",
              "      <th>shops_per_cust_per_zip</th>\n",
              "      <th>customer_sales_centiles</th>\n",
              "      <th>customer_order_centiles</th>\n",
              "      <th>end_date</th>\n",
              "      <th>time_since_fp</th>\n",
              "      <th>time_since_lp</th>\n",
              "      <th>total_order_benchmark</th>\n",
              "      <th>total_surplus_orders</th>\n",
              "    </tr>\n",
              "  </thead>\n",
              "  <tbody>\n",
              "    <tr>\n",
              "      <th>0</th>\n",
              "      <td>13,315,067,198.00</td>\n",
              "      <td>2019-03-13 08:02:07+00:00</td>\n",
              "      <td>2019-06-22 07:38:20+00:00</td>\n",
              "      <td>iosapp</td>\n",
              "      <td>0</td>\n",
              "      <td>24597</td>\n",
              "      <td>21162</td>\n",
              "      <td>2</td>\n",
              "      <td>32.21</td>\n",
              "      <td>1</td>\n",
              "      <td>2</td>\n",
              "      <td>100.00</td>\n",
              "      <td>100.00</td>\n",
              "      <td>1</td>\n",
              "      <td>0.50</td>\n",
              "      <td>21</td>\n",
              "      <td>31</td>\n",
              "      <td>2020-05-11 19:13:14+00:00</td>\n",
              "      <td>425</td>\n",
              "      <td>324</td>\n",
              "      <td>7.00</td>\n",
              "      <td>-5.00</td>\n",
              "    </tr>\n",
              "    <tr>\n",
              "      <th>2</th>\n",
              "      <td>12,316,161,278.00</td>\n",
              "      <td>2019-08-15 08:58:47+00:00</td>\n",
              "      <td>2019-09-24 10:01:02+00:00</td>\n",
              "      <td>iosapp</td>\n",
              "      <td>4</td>\n",
              "      <td>24597</td>\n",
              "      <td>21162</td>\n",
              "      <td>2</td>\n",
              "      <td>38.20</td>\n",
              "      <td>1</td>\n",
              "      <td>2</td>\n",
              "      <td>100.00</td>\n",
              "      <td>100.00</td>\n",
              "      <td>1</td>\n",
              "      <td>0.50</td>\n",
              "      <td>27</td>\n",
              "      <td>31</td>\n",
              "      <td>2020-05-11 19:13:14+00:00</td>\n",
              "      <td>270</td>\n",
              "      <td>230</td>\n",
              "      <td>4.00</td>\n",
              "      <td>-2.00</td>\n",
              "    </tr>\n",
              "    <tr>\n",
              "      <th>4</th>\n",
              "      <td>15,557,129,447.00</td>\n",
              "      <td>2019-03-13 08:11:38+00:00</td>\n",
              "      <td>2020-03-29 12:58:54+00:00</td>\n",
              "      <td>iosapp</td>\n",
              "      <td>0</td>\n",
              "      <td>64392</td>\n",
              "      <td>12944</td>\n",
              "      <td>5</td>\n",
              "      <td>152.83</td>\n",
              "      <td>3</td>\n",
              "      <td>4</td>\n",
              "      <td>120.00</td>\n",
              "      <td>100.00</td>\n",
              "      <td>2</td>\n",
              "      <td>0.40</td>\n",
              "      <td>78</td>\n",
              "      <td>78</td>\n",
              "      <td>2020-05-11 19:13:14+00:00</td>\n",
              "      <td>425</td>\n",
              "      <td>43</td>\n",
              "      <td>7.00</td>\n",
              "      <td>-2.00</td>\n",
              "    </tr>\n",
              "    <tr>\n",
              "      <th>5</th>\n",
              "      <td>15,557,162,096.00</td>\n",
              "      <td>2019-04-13 15:24:04+00:00</td>\n",
              "      <td>2020-05-11 15:12:51+00:00</td>\n",
              "      <td>partner_website</td>\n",
              "      <td>0</td>\n",
              "      <td>64392</td>\n",
              "      <td>12944</td>\n",
              "      <td>44</td>\n",
              "      <td>1,316.66</td>\n",
              "      <td>3</td>\n",
              "      <td>4</td>\n",
              "      <td>120.00</td>\n",
              "      <td>100.00</td>\n",
              "      <td>2</td>\n",
              "      <td>0.40</td>\n",
              "      <td>99</td>\n",
              "      <td>99</td>\n",
              "      <td>2020-05-11 19:13:14+00:00</td>\n",
              "      <td>394</td>\n",
              "      <td>0</td>\n",
              "      <td>7.00</td>\n",
              "      <td>37.00</td>\n",
              "    </tr>\n",
              "    <tr>\n",
              "      <th>35</th>\n",
              "      <td>21,494,990,414.00</td>\n",
              "      <td>2020-03-23 16:19:50+00:00</td>\n",
              "      <td>2020-03-29 14:44:52+00:00</td>\n",
              "      <td>partner_website</td>\n",
              "      <td>0</td>\n",
              "      <td>140271</td>\n",
              "      <td>12944</td>\n",
              "      <td>2</td>\n",
              "      <td>55.88</td>\n",
              "      <td>4</td>\n",
              "      <td>4</td>\n",
              "      <td>120.00</td>\n",
              "      <td>100.00</td>\n",
              "      <td>2</td>\n",
              "      <td>0.40</td>\n",
              "      <td>41</td>\n",
              "      <td>31</td>\n",
              "      <td>2020-05-11 19:13:14+00:00</td>\n",
              "      <td>49</td>\n",
              "      <td>43</td>\n",
              "      <td>1.00</td>\n",
              "      <td>1.00</td>\n",
              "    </tr>\n",
              "  </tbody>\n",
              "</table>\n",
              "</div>"
            ],
            "text/plain": [
              "            customer  ... total_surplus_orders\n",
              "0  13,315,067,198.00  ...                -5.00\n",
              "2  12,316,161,278.00  ...                -2.00\n",
              "4  15,557,129,447.00  ...                -2.00\n",
              "5  15,557,162,096.00  ...                37.00\n",
              "35 21,494,990,414.00  ...                 1.00\n",
              "\n",
              "[5 rows x 22 columns]"
            ]
          },
          "metadata": {
            "tags": []
          },
          "execution_count": 392
        }
      ]
    },
    {
      "cell_type": "code",
      "metadata": {
        "id": "AKzzvEco4Shr"
      },
      "source": [
        "#Subsequent Purchase -- Value up to 6th purchase\n",
        "\n",
        "subs_purchase = test4[(test4['order_enum'] <7)]"
      ],
      "execution_count": 393,
      "outputs": []
    },
    {
      "cell_type": "code",
      "metadata": {
        "id": "G6wASuxM9tGW",
        "outputId": "ba739a2e-fdcb-44fa-dc1b-840a99d07c5a",
        "colab": {
          "base_uri": "https://localhost:8080/",
          "height": 415
        }
      },
      "source": [
        "subs_purchase_value_final=subs_purchase.pivot(index='customer',columns='order_enum', values='restaurant_total').reset_index().add_prefix('total_spend_')\n",
        "subs_purchase_value_final.rename(columns={'total_spend_customer':'customer'}).fillna(0)\n",
        "\n",
        "#subs_purchase_final.drop(columns=['order_enum'])"
      ],
      "execution_count": 394,
      "outputs": [
        {
          "output_type": "execute_result",
          "data": {
            "text/html": [
              "<div>\n",
              "<style scoped>\n",
              "    .dataframe tbody tr th:only-of-type {\n",
              "        vertical-align: middle;\n",
              "    }\n",
              "\n",
              "    .dataframe tbody tr th {\n",
              "        vertical-align: top;\n",
              "    }\n",
              "\n",
              "    .dataframe thead th {\n",
              "        text-align: right;\n",
              "    }\n",
              "</style>\n",
              "<table border=\"1\" class=\"dataframe\">\n",
              "  <thead>\n",
              "    <tr style=\"text-align: right;\">\n",
              "      <th>order_enum</th>\n",
              "      <th>customer</th>\n",
              "      <th>total_spend_1</th>\n",
              "      <th>total_spend_2</th>\n",
              "      <th>total_spend_3</th>\n",
              "      <th>total_spend_4</th>\n",
              "      <th>total_spend_5</th>\n",
              "      <th>total_spend_6</th>\n",
              "    </tr>\n",
              "  </thead>\n",
              "  <tbody>\n",
              "    <tr>\n",
              "      <th>0</th>\n",
              "      <td>1,920,771,353.00</td>\n",
              "      <td>46.42</td>\n",
              "      <td>0.00</td>\n",
              "      <td>0.00</td>\n",
              "      <td>0.00</td>\n",
              "      <td>0.00</td>\n",
              "      <td>0.00</td>\n",
              "    </tr>\n",
              "    <tr>\n",
              "      <th>1</th>\n",
              "      <td>4,042,653,893.00</td>\n",
              "      <td>30.51</td>\n",
              "      <td>18.36</td>\n",
              "      <td>25.34</td>\n",
              "      <td>15.51</td>\n",
              "      <td>0.00</td>\n",
              "      <td>0.00</td>\n",
              "    </tr>\n",
              "    <tr>\n",
              "      <th>2</th>\n",
              "      <td>4,555,796,885.00</td>\n",
              "      <td>29.78</td>\n",
              "      <td>0.00</td>\n",
              "      <td>0.00</td>\n",
              "      <td>0.00</td>\n",
              "      <td>0.00</td>\n",
              "      <td>0.00</td>\n",
              "    </tr>\n",
              "    <tr>\n",
              "      <th>3</th>\n",
              "      <td>6,033,333,473.00</td>\n",
              "      <td>12.24</td>\n",
              "      <td>0.00</td>\n",
              "      <td>0.00</td>\n",
              "      <td>0.00</td>\n",
              "      <td>0.00</td>\n",
              "      <td>0.00</td>\n",
              "    </tr>\n",
              "    <tr>\n",
              "      <th>4</th>\n",
              "      <td>6,036,185,756.00</td>\n",
              "      <td>44.75</td>\n",
              "      <td>0.00</td>\n",
              "      <td>0.00</td>\n",
              "      <td>0.00</td>\n",
              "      <td>0.00</td>\n",
              "      <td>0.00</td>\n",
              "    </tr>\n",
              "    <tr>\n",
              "      <th>...</th>\n",
              "      <td>...</td>\n",
              "      <td>...</td>\n",
              "      <td>...</td>\n",
              "      <td>...</td>\n",
              "      <td>...</td>\n",
              "      <td>...</td>\n",
              "      <td>...</td>\n",
              "    </tr>\n",
              "    <tr>\n",
              "      <th>10311</th>\n",
              "      <td>51,227,013,587.00</td>\n",
              "      <td>35.70</td>\n",
              "      <td>35.79</td>\n",
              "      <td>42.25</td>\n",
              "      <td>54.54</td>\n",
              "      <td>0.00</td>\n",
              "      <td>0.00</td>\n",
              "    </tr>\n",
              "    <tr>\n",
              "      <th>10312</th>\n",
              "      <td>57,523,677,443.00</td>\n",
              "      <td>12.39</td>\n",
              "      <td>22.29</td>\n",
              "      <td>23.28</td>\n",
              "      <td>20.64</td>\n",
              "      <td>0.00</td>\n",
              "      <td>0.00</td>\n",
              "    </tr>\n",
              "    <tr>\n",
              "      <th>10313</th>\n",
              "      <td>120,495,000,000.00</td>\n",
              "      <td>5.82</td>\n",
              "      <td>0.00</td>\n",
              "      <td>0.00</td>\n",
              "      <td>0.00</td>\n",
              "      <td>0.00</td>\n",
              "      <td>0.00</td>\n",
              "    </tr>\n",
              "    <tr>\n",
              "      <th>10314</th>\n",
              "      <td>217,278,000,000.00</td>\n",
              "      <td>16.84</td>\n",
              "      <td>0.00</td>\n",
              "      <td>0.00</td>\n",
              "      <td>0.00</td>\n",
              "      <td>0.00</td>\n",
              "      <td>0.00</td>\n",
              "    </tr>\n",
              "    <tr>\n",
              "      <th>10315</th>\n",
              "      <td>21,118,800,000,000.00</td>\n",
              "      <td>27.17</td>\n",
              "      <td>0.00</td>\n",
              "      <td>0.00</td>\n",
              "      <td>0.00</td>\n",
              "      <td>0.00</td>\n",
              "      <td>0.00</td>\n",
              "    </tr>\n",
              "  </tbody>\n",
              "</table>\n",
              "<p>10316 rows × 7 columns</p>\n",
              "</div>"
            ],
            "text/plain": [
              "order_enum              customer  total_spend_1  ...  total_spend_5  total_spend_6\n",
              "0               1,920,771,353.00          46.42  ...           0.00           0.00\n",
              "1               4,042,653,893.00          30.51  ...           0.00           0.00\n",
              "2               4,555,796,885.00          29.78  ...           0.00           0.00\n",
              "3               6,033,333,473.00          12.24  ...           0.00           0.00\n",
              "4               6,036,185,756.00          44.75  ...           0.00           0.00\n",
              "...                          ...            ...  ...            ...            ...\n",
              "10311          51,227,013,587.00          35.70  ...           0.00           0.00\n",
              "10312          57,523,677,443.00          12.39  ...           0.00           0.00\n",
              "10313         120,495,000,000.00           5.82  ...           0.00           0.00\n",
              "10314         217,278,000,000.00          16.84  ...           0.00           0.00\n",
              "10315      21,118,800,000,000.00          27.17  ...           0.00           0.00\n",
              "\n",
              "[10316 rows x 7 columns]"
            ]
          },
          "metadata": {
            "tags": []
          },
          "execution_count": 394
        }
      ]
    },
    {
      "cell_type": "code",
      "metadata": {
        "id": "FskCX6qXKo7D"
      },
      "source": [
        "subs_purchase_value_final['spend_growth_2']=(subs_purchase_value_final['total_spend_2']-subs_purchase_value_final['total_spend_1'])*100/subs_purchase_value_final['total_spend_1']\n",
        "subs_purchase_value_final['spend_growth_3']=(subs_purchase_value_final['total_spend_3']-subs_purchase_value_final['total_spend_2'])*100/subs_purchase_value_final['total_spend_2']\n",
        "subs_purchase_value_final['spend_growth_4']=(subs_purchase_value_final['total_spend_4']-subs_purchase_value_final['total_spend_3'])*100/subs_purchase_value_final['total_spend_3']\n",
        "subs_purchase_value_final['spend_growth_5']=(subs_purchase_value_final['total_spend_5']-subs_purchase_value_final['total_spend_4'])*100/subs_purchase_value_final['total_spend_4']\n",
        "subs_purchase_value_final['spend_growth_6']=(subs_purchase_value_final['total_spend_6']-subs_purchase_value_final['total_spend_5'])*100/subs_purchase_value_final['total_spend_5']"
      ],
      "execution_count": 395,
      "outputs": []
    },
    {
      "cell_type": "code",
      "metadata": {
        "id": "t3zs8hltDMwg",
        "outputId": "a02722ad-1c08-4489-88c2-ff18f4808db0",
        "colab": {
          "base_uri": "https://localhost:8080/",
          "height": 415
        }
      },
      "source": [
        "#Subsequent Purchase -- Time up to 6th purchase\n",
        "subs_purchase_time_final=subs_purchase.pivot(index='customer',columns='order_enum', values='time_between_purch').reset_index().add_prefix('time_to_')\n",
        "\n",
        "# Converting time between purchases to days\n",
        "subs_purchase_time_final['time_to_2']=subs_purchase_time_final['time_to_2'].dt.days\n",
        "subs_purchase_time_final['time_to_3']=subs_purchase_time_final['time_to_3'].dt.days\n",
        "subs_purchase_time_final['time_to_4']=subs_purchase_time_final['time_to_4'].dt.days\n",
        "subs_purchase_time_final['time_to_5']=subs_purchase_time_final['time_to_5'].dt.days\n",
        "subs_purchase_time_final['time_to_6']=subs_purchase_time_final['time_to_6'].dt.days\n",
        "\n",
        "subs_purchase_time_final.rename(columns={'time_to_customer':'customer'}).drop(columns=['time_to_1'])"
      ],
      "execution_count": 396,
      "outputs": [
        {
          "output_type": "execute_result",
          "data": {
            "text/html": [
              "<div>\n",
              "<style scoped>\n",
              "    .dataframe tbody tr th:only-of-type {\n",
              "        vertical-align: middle;\n",
              "    }\n",
              "\n",
              "    .dataframe tbody tr th {\n",
              "        vertical-align: top;\n",
              "    }\n",
              "\n",
              "    .dataframe thead th {\n",
              "        text-align: right;\n",
              "    }\n",
              "</style>\n",
              "<table border=\"1\" class=\"dataframe\">\n",
              "  <thead>\n",
              "    <tr style=\"text-align: right;\">\n",
              "      <th>order_enum</th>\n",
              "      <th>customer</th>\n",
              "      <th>time_to_2</th>\n",
              "      <th>time_to_3</th>\n",
              "      <th>time_to_4</th>\n",
              "      <th>time_to_5</th>\n",
              "      <th>time_to_6</th>\n",
              "    </tr>\n",
              "  </thead>\n",
              "  <tbody>\n",
              "    <tr>\n",
              "      <th>0</th>\n",
              "      <td>1,920,771,353.00</td>\n",
              "      <td>nan</td>\n",
              "      <td>nan</td>\n",
              "      <td>nan</td>\n",
              "      <td>nan</td>\n",
              "      <td>nan</td>\n",
              "    </tr>\n",
              "    <tr>\n",
              "      <th>1</th>\n",
              "      <td>4,042,653,893.00</td>\n",
              "      <td>36.00</td>\n",
              "      <td>11.00</td>\n",
              "      <td>2.00</td>\n",
              "      <td>nan</td>\n",
              "      <td>nan</td>\n",
              "    </tr>\n",
              "    <tr>\n",
              "      <th>2</th>\n",
              "      <td>4,555,796,885.00</td>\n",
              "      <td>nan</td>\n",
              "      <td>nan</td>\n",
              "      <td>nan</td>\n",
              "      <td>nan</td>\n",
              "      <td>nan</td>\n",
              "    </tr>\n",
              "    <tr>\n",
              "      <th>3</th>\n",
              "      <td>6,033,333,473.00</td>\n",
              "      <td>nan</td>\n",
              "      <td>nan</td>\n",
              "      <td>nan</td>\n",
              "      <td>nan</td>\n",
              "      <td>nan</td>\n",
              "    </tr>\n",
              "    <tr>\n",
              "      <th>4</th>\n",
              "      <td>6,036,185,756.00</td>\n",
              "      <td>nan</td>\n",
              "      <td>nan</td>\n",
              "      <td>nan</td>\n",
              "      <td>nan</td>\n",
              "      <td>nan</td>\n",
              "    </tr>\n",
              "    <tr>\n",
              "      <th>...</th>\n",
              "      <td>...</td>\n",
              "      <td>...</td>\n",
              "      <td>...</td>\n",
              "      <td>...</td>\n",
              "      <td>...</td>\n",
              "      <td>...</td>\n",
              "    </tr>\n",
              "    <tr>\n",
              "      <th>10311</th>\n",
              "      <td>51,227,013,587.00</td>\n",
              "      <td>18.00</td>\n",
              "      <td>24.00</td>\n",
              "      <td>203.00</td>\n",
              "      <td>nan</td>\n",
              "      <td>nan</td>\n",
              "    </tr>\n",
              "    <tr>\n",
              "      <th>10312</th>\n",
              "      <td>57,523,677,443.00</td>\n",
              "      <td>30.00</td>\n",
              "      <td>195.00</td>\n",
              "      <td>17.00</td>\n",
              "      <td>nan</td>\n",
              "      <td>nan</td>\n",
              "    </tr>\n",
              "    <tr>\n",
              "      <th>10313</th>\n",
              "      <td>120,495,000,000.00</td>\n",
              "      <td>nan</td>\n",
              "      <td>nan</td>\n",
              "      <td>nan</td>\n",
              "      <td>nan</td>\n",
              "      <td>nan</td>\n",
              "    </tr>\n",
              "    <tr>\n",
              "      <th>10314</th>\n",
              "      <td>217,278,000,000.00</td>\n",
              "      <td>nan</td>\n",
              "      <td>nan</td>\n",
              "      <td>nan</td>\n",
              "      <td>nan</td>\n",
              "      <td>nan</td>\n",
              "    </tr>\n",
              "    <tr>\n",
              "      <th>10315</th>\n",
              "      <td>21,118,800,000,000.00</td>\n",
              "      <td>nan</td>\n",
              "      <td>nan</td>\n",
              "      <td>nan</td>\n",
              "      <td>nan</td>\n",
              "      <td>nan</td>\n",
              "    </tr>\n",
              "  </tbody>\n",
              "</table>\n",
              "<p>10316 rows × 6 columns</p>\n",
              "</div>"
            ],
            "text/plain": [
              "order_enum              customer  time_to_2  ...  time_to_5  time_to_6\n",
              "0               1,920,771,353.00        nan  ...        nan        nan\n",
              "1               4,042,653,893.00      36.00  ...        nan        nan\n",
              "2               4,555,796,885.00        nan  ...        nan        nan\n",
              "3               6,033,333,473.00        nan  ...        nan        nan\n",
              "4               6,036,185,756.00        nan  ...        nan        nan\n",
              "...                          ...        ...  ...        ...        ...\n",
              "10311          51,227,013,587.00      18.00  ...        nan        nan\n",
              "10312          57,523,677,443.00      30.00  ...        nan        nan\n",
              "10313         120,495,000,000.00        nan  ...        nan        nan\n",
              "10314         217,278,000,000.00        nan  ...        nan        nan\n",
              "10315      21,118,800,000,000.00        nan  ...        nan        nan\n",
              "\n",
              "[10316 rows x 6 columns]"
            ]
          },
          "metadata": {
            "tags": []
          },
          "execution_count": 396
        }
      ]
    },
    {
      "cell_type": "code",
      "metadata": {
        "id": "mdTiVT4uMVyL"
      },
      "source": [
        "cust_final_dataset=fp_final.merge(subs_purchase_value_final,left_on='customer',right_on='total_spend_customer') "
      ],
      "execution_count": 435,
      "outputs": []
    },
    {
      "cell_type": "code",
      "metadata": {
        "id": "n3ahDdNHNR3M"
      },
      "source": [
        "cust_final_dataset=cust_final_dataset.merge(subs_purchase_time_final,left_on='customer',right_on='time_to_customer') "
      ],
      "execution_count": 436,
      "outputs": []
    },
    {
      "cell_type": "code",
      "metadata": {
        "id": "BFD7oNgc4OgC",
        "outputId": "1906b369-7641-4b53-d4a5-dead258064a6",
        "colab": {
          "base_uri": "https://localhost:8080/",
          "height": 283
        }
      },
      "source": [
        "# Check spend growth\n",
        "cust_final_dataset.spend_growth_2.hist(bins=15)"
      ],
      "execution_count": 399,
      "outputs": [
        {
          "output_type": "execute_result",
          "data": {
            "text/plain": [
              "<matplotlib.axes._subplots.AxesSubplot at 0x7fd45ef39438>"
            ]
          },
          "metadata": {
            "tags": []
          },
          "execution_count": 399
        },
        {
          "output_type": "display_data",
          "data": {
            "image/png": "[encoded data removed]",
            "text/plain": [
              "<Figure size 432x288 with 1 Axes>"
            ]
          },
          "metadata": {
            "tags": [],
            "needs_background": "light"
          }
        }
      ]
    },
    {
      "cell_type": "markdown",
      "metadata": {
        "id": "sezOppHdjTcz"
      },
      "source": [
        "# ***Exporting Dataset for usage in Tableau***"
      ]
    },
    {
      "cell_type": "code",
      "metadata": {
        "id": "6XxbddkJacKo"
      },
      "source": [
        "#test4.to_csv('fin_an_dataset.csv',index=False)\n",
        "cust_final_dataset.to_csv('cust_final_dataset.csv',index=False)"
      ],
      "execution_count": 400,
      "outputs": []
    },
    {
      "cell_type": "markdown",
      "metadata": {
        "id": "92ZKLJQ1kLV_"
      },
      "source": [
        "# ***Define Cohorts Based on First Order***"
      ]
    },
    {
      "cell_type": "code",
      "metadata": {
        "id": "KMDvwInY_Zhk",
        "outputId": "1313c00b-b095-49eb-a53e-fe307af87f70",
        "colab": {
          "base_uri": "https://localhost:8080/",
          "height": 849
        }
      },
      "source": [
        "cust_final_dataset.info()"
      ],
      "execution_count": 437,
      "outputs": [
        {
          "output_type": "stream",
          "text": [
            "<class 'pandas.core.frame.DataFrame'>\n",
            "Int64Index: 10316 entries, 0 to 10315\n",
            "Data columns (total 41 columns):\n",
            " #   Column                      Non-Null Count  Dtype              \n",
            "---  ------                      --------------  -----              \n",
            " 0   customer                    10316 non-null  float64            \n",
            " 1   fp_date                     10316 non-null  datetime64[ns, UTC]\n",
            " 2   lp_date                     10316 non-null  datetime64[ns, UTC]\n",
            " 3   fp_source                   10316 non-null  object             \n",
            " 4   fp_promo_val                10316 non-null  int64              \n",
            " 5   fp_shops_id                 10316 non-null  int64              \n",
            " 6   fp_postal_code              10316 non-null  int64              \n",
            " 7   total_order                 10316 non-null  int64              \n",
            " 8   total_sales                 10316 non-null  float64            \n",
            " 9   sales_qunitiles             10316 non-null  int64              \n",
            " 10  order_qunitiles             10316 non-null  int64              \n",
            " 11  fp_zip_cust_loyalty_score   9812 non-null   float64            \n",
            " 12  fp_shop_cust_loyalty_score  9311 non-null   float64            \n",
            " 13  shops_per_zip               10316 non-null  int64              \n",
            " 14  shops_per_cust_per_zip      10316 non-null  float64            \n",
            " 15  customer_sales_centiles     10316 non-null  int64              \n",
            " 16  customer_order_centiles     10316 non-null  int64              \n",
            " 17  end_date                    10316 non-null  datetime64[ns, UTC]\n",
            " 18  time_since_fp               10316 non-null  int16              \n",
            " 19  time_since_lp               10316 non-null  int16              \n",
            " 20  total_order_benchmark       10316 non-null  float64            \n",
            " 21  total_surplus_orders        10316 non-null  float64            \n",
            " 22  total_spend_customer        10316 non-null  float64            \n",
            " 23  total_spend_1               10316 non-null  float64            \n",
            " 24  total_spend_2               7047 non-null   float64            \n",
            " 25  total_spend_3               4310 non-null   float64            \n",
            " 26  total_spend_4               2982 non-null   float64            \n",
            " 27  total_spend_5               2182 non-null   float64            \n",
            " 28  total_spend_6               1708 non-null   float64            \n",
            " 29  spend_growth_2              7047 non-null   float64            \n",
            " 30  spend_growth_3              4310 non-null   float64            \n",
            " 31  spend_growth_4              2982 non-null   float64            \n",
            " 32  spend_growth_5              2182 non-null   float64            \n",
            " 33  spend_growth_6              1708 non-null   float64            \n",
            " 34  time_to_customer            10316 non-null  float64            \n",
            " 35  time_to_1                   0 non-null      timedelta64[ns]    \n",
            " 36  time_to_2                   7045 non-null   float64            \n",
            " 37  time_to_3                   4306 non-null   float64            \n",
            " 38  time_to_4                   2980 non-null   float64            \n",
            " 39  time_to_5                   2180 non-null   float64            \n",
            " 40  time_to_6                   1707 non-null   float64            \n",
            "dtypes: datetime64[ns, UTC](3), float64(25), int16(2), int64(9), object(1), timedelta64[ns](1)\n",
            "memory usage: 3.2+ MB\n"
          ],
          "name": "stdout"
        }
      ]
    },
    {
      "cell_type": "code",
      "metadata": {
        "id": "Gyek9MfVrw3J",
        "outputId": "8642c4cb-29ec-43df-e97e-4a03471a2824",
        "colab": {
          "base_uri": "https://localhost:8080/",
          "height": 173
        }
      },
      "source": [
        "cust_final_dataset.fp_source.value_counts()"
      ],
      "execution_count": 410,
      "outputs": [
        {
          "output_type": "execute_result",
          "data": {
            "text/plain": [
              "partner_website    5991\n",
              "iosapp             2861\n",
              "slicelife          1150\n",
              "partner_button      148\n",
              "androidapp          132\n",
              "web                  31\n",
              "call-center           2\n",
              "google                1\n",
              "Name: fp_source, dtype: int64"
            ]
          },
          "metadata": {
            "tags": []
          },
          "execution_count": 410
        }
      ]
    },
    {
      "cell_type": "code",
      "metadata": {
        "id": "QqTF70JTkWZ_"
      },
      "source": [
        "# Grouping Source of Entry\n",
        "def source(df):\n",
        "  if df['fp_source'] in ('iosapp', 'androidapp'):\n",
        "    return 'Owned-App'\n",
        "  elif df['fp_source'] in ('slicelife'):\n",
        "    return 'Owned-Web'\n",
        "  elif df['fp_source'] in ('partner_website','partner_button'):\n",
        "    return 'Partner-Web'\n",
        "  else:\n",
        "    return 'Other'"
      ],
      "execution_count": 428,
      "outputs": []
    },
    {
      "cell_type": "code",
      "metadata": {
        "id": "WELkgoVRs7Sw"
      },
      "source": [
        "# Grouping Use of Promo in First Purchase\n",
        "def promo(df):\n",
        "  if df['fp_promo_val'] > 0:\n",
        "    return 'FP: Promo Used'\n",
        "  else:\n",
        "    return 'FP: Promo Not Used'"
      ],
      "execution_count": 429,
      "outputs": []
    },
    {
      "cell_type": "code",
      "metadata": {
        "id": "hcHol4I7tP9G"
      },
      "source": [
        "# Grouping Shops per Zip\n",
        "def shops_per_zip(df):\n",
        "  if df['shops_per_zip']==1:\n",
        "    return \"FP Zip: # Shops = 1\"\n",
        "  elif df['shops_per_zip'] in (2,3):\n",
        "    return \"FP Zip: # Shops = 2-3\"\n",
        "  else:\n",
        "    return \"FP Zip: # Shops = 4+\""
      ],
      "execution_count": 430,
      "outputs": []
    },
    {
      "cell_type": "code",
      "metadata": {
        "id": "lWNWptegvUPs",
        "outputId": "f15dda0f-de49-4f46-97bb-4dcb14036771",
        "colab": {
          "base_uri": "https://localhost:8080/",
          "height": 208
        }
      },
      "source": [
        "cust_final_dataset.fp_shop_cust_loyalty_score.quantile([.05,.1,.2,.25,.5, 0.51,.66,.75,.9,1])"
      ],
      "execution_count": 423,
      "outputs": [
        {
          "output_type": "execute_result",
          "data": {
            "text/plain": [
              "0.05    33.33\n",
              "0.10    50.00\n",
              "0.20    57.14\n",
              "0.25    66.67\n",
              "0.50    83.33\n",
              "0.51    83.33\n",
              "0.66   100.00\n",
              "0.75   100.00\n",
              "0.90   100.00\n",
              "1.00   100.00\n",
              "Name: fp_shop_cust_loyalty_score, dtype: float64"
            ]
          },
          "metadata": {
            "tags": []
          },
          "execution_count": 423
        }
      ]
    },
    {
      "cell_type": "code",
      "metadata": {
        "id": "KogtGntmus-5"
      },
      "source": [
        "# Grouping Shop Cust Loyalty Score\n",
        "def shop_loyalty(df):\n",
        "  if df['fp_shop_cust_loyalty_score']<=50:\n",
        "    return \"FP Shop Loyalty: Low\"\n",
        "  elif df['fp_shop_cust_loyalty_score']<=80:\n",
        "    return \"FP Shop Loyalty: Medium\"\n",
        "  else:\n",
        "    return \"FP Shop Loyalty: High\""
      ],
      "execution_count": 431,
      "outputs": []
    },
    {
      "cell_type": "code",
      "metadata": {
        "id": "AKYTj5mYwW6w",
        "outputId": "f64b1699-4729-4507-8dbe-af73c83eda96",
        "colab": {
          "base_uri": "https://localhost:8080/",
          "height": 191
        }
      },
      "source": [
        "cust_final_dataset.fp_zip_cust_loyalty_score.quantile([.05,.1,.2,.25,.5,.66,.75,.9,1])"
      ],
      "execution_count": 422,
      "outputs": [
        {
          "output_type": "execute_result",
          "data": {
            "text/plain": [
              "0.05    42.86\n",
              "0.10    50.00\n",
              "0.20    60.00\n",
              "0.25    66.67\n",
              "0.50    85.71\n",
              "0.66   100.00\n",
              "0.75   100.00\n",
              "0.90   116.67\n",
              "1.00   250.00\n",
              "Name: fp_zip_cust_loyalty_score, dtype: float64"
            ]
          },
          "metadata": {
            "tags": []
          },
          "execution_count": 422
        }
      ]
    },
    {
      "cell_type": "code",
      "metadata": {
        "id": "GRA0w1P7wl1F"
      },
      "source": [
        "# Grouping Shop Cust Loyalty Score\n",
        "def zip_loyalty(df):\n",
        "  if df['fp_zip_cust_loyalty_score']<=50:\n",
        "    return \"FP Zip Loyalty: Low\"\n",
        "  elif df['fp_zip_cust_loyalty_score']<=80:\n",
        "    return \"FP Zip Loyalty: Medium\"\n",
        "  else:\n",
        "    return \"FP Zip Loyalty: High\""
      ],
      "execution_count": 432,
      "outputs": []
    },
    {
      "cell_type": "code",
      "metadata": {
        "id": "zcy1xxASxfpk",
        "outputId": "6adfced4-3a3d-464d-ca1d-ca5602545d6c",
        "colab": {
          "base_uri": "https://localhost:8080/",
          "height": 121
        }
      },
      "source": [
        "cust_final_dataset.head()"
      ],
      "execution_count": 434,
      "outputs": [
        {
          "output_type": "execute_result",
          "data": {
            "text/plain": [
              "0      Owned-App\n",
              "1      Owned-App\n",
              "2      Owned-App\n",
              "3    Partner-Web\n",
              "4    Partner-Web\n",
              "dtype: object"
            ]
          },
          "metadata": {
            "tags": []
          },
          "execution_count": 434
        }
      ]
    },
    {
      "cell_type": "code",
      "metadata": {
        "id": "IIRIpeztMUIE"
      },
      "source": [
        "#Applying Segments to Cust Level Dataset\n",
        "cust_final_dataset['cohort_fp_source']=cust_final_dataset.apply(source,axis=1)\n",
        "cust_final_dataset['cohort_fp_promo_use']=cust_final_dataset.apply(promo,axis=1)\n",
        "cust_final_dataset['cohort_shops_per_zip']=cust_final_dataset.apply(shops_per_zip,axis=1)\n",
        "cust_final_dataset['cohort_shop_loyalty']=cust_final_dataset.apply(shop_loyalty,axis=1)\n",
        "cust_final_dataset['cohort_zip_loyalty']=cust_final_dataset.apply(zip_loyalty,axis=1)\n"
      ],
      "execution_count": 438,
      "outputs": []
    },
    {
      "cell_type": "code",
      "metadata": {
        "id": "u2Z2XESgMxQl",
        "outputId": "fa3dd51c-2aa3-4f85-e655-f64fb9d84710",
        "colab": {
          "base_uri": "https://localhost:8080/",
          "height": 309
        }
      },
      "source": [
        "cust_final_dataset.head()"
      ],
      "execution_count": 439,
      "outputs": [
        {
          "output_type": "execute_result",
          "data": {
            "text/html": [
              "<div>\n",
              "<style scoped>\n",
              "    .dataframe tbody tr th:only-of-type {\n",
              "        vertical-align: middle;\n",
              "    }\n",
              "\n",
              "    .dataframe tbody tr th {\n",
              "        vertical-align: top;\n",
              "    }\n",
              "\n",
              "    .dataframe thead th {\n",
              "        text-align: right;\n",
              "    }\n",
              "</style>\n",
              "<table border=\"1\" class=\"dataframe\">\n",
              "  <thead>\n",
              "    <tr style=\"text-align: right;\">\n",
              "      <th></th>\n",
              "      <th>customer</th>\n",
              "      <th>fp_date</th>\n",
              "      <th>lp_date</th>\n",
              "      <th>fp_source</th>\n",
              "      <th>fp_promo_val</th>\n",
              "      <th>fp_shops_id</th>\n",
              "      <th>fp_postal_code</th>\n",
              "      <th>total_order</th>\n",
              "      <th>total_sales</th>\n",
              "      <th>sales_qunitiles</th>\n",
              "      <th>order_qunitiles</th>\n",
              "      <th>fp_zip_cust_loyalty_score</th>\n",
              "      <th>fp_shop_cust_loyalty_score</th>\n",
              "      <th>shops_per_zip</th>\n",
              "      <th>shops_per_cust_per_zip</th>\n",
              "      <th>customer_sales_centiles</th>\n",
              "      <th>customer_order_centiles</th>\n",
              "      <th>end_date</th>\n",
              "      <th>time_since_fp</th>\n",
              "      <th>time_since_lp</th>\n",
              "      <th>total_order_benchmark</th>\n",
              "      <th>total_surplus_orders</th>\n",
              "      <th>total_spend_customer</th>\n",
              "      <th>total_spend_1</th>\n",
              "      <th>total_spend_2</th>\n",
              "      <th>total_spend_3</th>\n",
              "      <th>total_spend_4</th>\n",
              "      <th>total_spend_5</th>\n",
              "      <th>total_spend_6</th>\n",
              "      <th>spend_growth_2</th>\n",
              "      <th>spend_growth_3</th>\n",
              "      <th>spend_growth_4</th>\n",
              "      <th>spend_growth_5</th>\n",
              "      <th>spend_growth_6</th>\n",
              "      <th>time_to_customer</th>\n",
              "      <th>time_to_1</th>\n",
              "      <th>time_to_2</th>\n",
              "      <th>time_to_3</th>\n",
              "      <th>time_to_4</th>\n",
              "      <th>time_to_5</th>\n",
              "      <th>time_to_6</th>\n",
              "      <th>cohort_fp_source</th>\n",
              "      <th>cohort_fp_promo_use</th>\n",
              "      <th>cohort_shops_per_zip</th>\n",
              "      <th>cohort_shop_loyalty</th>\n",
              "      <th>cohort_zip_loyalty</th>\n",
              "    </tr>\n",
              "  </thead>\n",
              "  <tbody>\n",
              "    <tr>\n",
              "      <th>0</th>\n",
              "      <td>13,315,067,198.00</td>\n",
              "      <td>2019-03-13 08:02:07+00:00</td>\n",
              "      <td>2019-06-22 07:38:20+00:00</td>\n",
              "      <td>iosapp</td>\n",
              "      <td>0</td>\n",
              "      <td>24597</td>\n",
              "      <td>21162</td>\n",
              "      <td>2</td>\n",
              "      <td>32.21</td>\n",
              "      <td>1</td>\n",
              "      <td>2</td>\n",
              "      <td>100.00</td>\n",
              "      <td>100.00</td>\n",
              "      <td>1</td>\n",
              "      <td>0.50</td>\n",
              "      <td>21</td>\n",
              "      <td>31</td>\n",
              "      <td>2020-05-11 19:13:14+00:00</td>\n",
              "      <td>425</td>\n",
              "      <td>324</td>\n",
              "      <td>7.00</td>\n",
              "      <td>-5.00</td>\n",
              "      <td>13,315,067,198.00</td>\n",
              "      <td>15.50</td>\n",
              "      <td>16.71</td>\n",
              "      <td>nan</td>\n",
              "      <td>nan</td>\n",
              "      <td>nan</td>\n",
              "      <td>nan</td>\n",
              "      <td>7.81</td>\n",
              "      <td>nan</td>\n",
              "      <td>nan</td>\n",
              "      <td>nan</td>\n",
              "      <td>nan</td>\n",
              "      <td>13,315,067,198.00</td>\n",
              "      <td>NaT</td>\n",
              "      <td>100.00</td>\n",
              "      <td>nan</td>\n",
              "      <td>nan</td>\n",
              "      <td>nan</td>\n",
              "      <td>nan</td>\n",
              "      <td>Owned-App</td>\n",
              "      <td>FP: Promo Not Used</td>\n",
              "      <td>FP Zip: # Shops = 1</td>\n",
              "      <td>FP Shop Loyalty: High</td>\n",
              "      <td>FP Zip Loyalty: High</td>\n",
              "    </tr>\n",
              "    <tr>\n",
              "      <th>1</th>\n",
              "      <td>12,316,161,278.00</td>\n",
              "      <td>2019-08-15 08:58:47+00:00</td>\n",
              "      <td>2019-09-24 10:01:02+00:00</td>\n",
              "      <td>iosapp</td>\n",
              "      <td>4</td>\n",
              "      <td>24597</td>\n",
              "      <td>21162</td>\n",
              "      <td>2</td>\n",
              "      <td>38.20</td>\n",
              "      <td>1</td>\n",
              "      <td>2</td>\n",
              "      <td>100.00</td>\n",
              "      <td>100.00</td>\n",
              "      <td>1</td>\n",
              "      <td>0.50</td>\n",
              "      <td>27</td>\n",
              "      <td>31</td>\n",
              "      <td>2020-05-11 19:13:14+00:00</td>\n",
              "      <td>270</td>\n",
              "      <td>230</td>\n",
              "      <td>4.00</td>\n",
              "      <td>-2.00</td>\n",
              "      <td>12,316,161,278.00</td>\n",
              "      <td>13.95</td>\n",
              "      <td>24.25</td>\n",
              "      <td>nan</td>\n",
              "      <td>nan</td>\n",
              "      <td>nan</td>\n",
              "      <td>nan</td>\n",
              "      <td>73.84</td>\n",
              "      <td>nan</td>\n",
              "      <td>nan</td>\n",
              "      <td>nan</td>\n",
              "      <td>nan</td>\n",
              "      <td>12,316,161,278.00</td>\n",
              "      <td>NaT</td>\n",
              "      <td>40.00</td>\n",
              "      <td>nan</td>\n",
              "      <td>nan</td>\n",
              "      <td>nan</td>\n",
              "      <td>nan</td>\n",
              "      <td>Owned-App</td>\n",
              "      <td>FP: Promo Used</td>\n",
              "      <td>FP Zip: # Shops = 1</td>\n",
              "      <td>FP Shop Loyalty: High</td>\n",
              "      <td>FP Zip Loyalty: High</td>\n",
              "    </tr>\n",
              "    <tr>\n",
              "      <th>2</th>\n",
              "      <td>15,557,129,447.00</td>\n",
              "      <td>2019-03-13 08:11:38+00:00</td>\n",
              "      <td>2020-03-29 12:58:54+00:00</td>\n",
              "      <td>iosapp</td>\n",
              "      <td>0</td>\n",
              "      <td>64392</td>\n",
              "      <td>12944</td>\n",
              "      <td>5</td>\n",
              "      <td>152.83</td>\n",
              "      <td>3</td>\n",
              "      <td>4</td>\n",
              "      <td>120.00</td>\n",
              "      <td>100.00</td>\n",
              "      <td>2</td>\n",
              "      <td>0.40</td>\n",
              "      <td>78</td>\n",
              "      <td>78</td>\n",
              "      <td>2020-05-11 19:13:14+00:00</td>\n",
              "      <td>425</td>\n",
              "      <td>43</td>\n",
              "      <td>7.00</td>\n",
              "      <td>-2.00</td>\n",
              "      <td>15,557,129,447.00</td>\n",
              "      <td>24.83</td>\n",
              "      <td>48.27</td>\n",
              "      <td>40.86</td>\n",
              "      <td>12.26</td>\n",
              "      <td>26.61</td>\n",
              "      <td>nan</td>\n",
              "      <td>94.40</td>\n",
              "      <td>-15.35</td>\n",
              "      <td>-70.00</td>\n",
              "      <td>117.05</td>\n",
              "      <td>nan</td>\n",
              "      <td>15,557,129,447.00</td>\n",
              "      <td>NaT</td>\n",
              "      <td>48.00</td>\n",
              "      <td>182.00</td>\n",
              "      <td>141.00</td>\n",
              "      <td>10.00</td>\n",
              "      <td>nan</td>\n",
              "      <td>Owned-App</td>\n",
              "      <td>FP: Promo Not Used</td>\n",
              "      <td>FP Zip: # Shops = 2-3</td>\n",
              "      <td>FP Shop Loyalty: High</td>\n",
              "      <td>FP Zip Loyalty: High</td>\n",
              "    </tr>\n",
              "    <tr>\n",
              "      <th>3</th>\n",
              "      <td>15,557,162,096.00</td>\n",
              "      <td>2019-04-13 15:24:04+00:00</td>\n",
              "      <td>2020-05-11 15:12:51+00:00</td>\n",
              "      <td>partner_website</td>\n",
              "      <td>0</td>\n",
              "      <td>64392</td>\n",
              "      <td>12944</td>\n",
              "      <td>44</td>\n",
              "      <td>1,316.66</td>\n",
              "      <td>3</td>\n",
              "      <td>4</td>\n",
              "      <td>120.00</td>\n",
              "      <td>100.00</td>\n",
              "      <td>2</td>\n",
              "      <td>0.40</td>\n",
              "      <td>99</td>\n",
              "      <td>99</td>\n",
              "      <td>2020-05-11 19:13:14+00:00</td>\n",
              "      <td>394</td>\n",
              "      <td>0</td>\n",
              "      <td>7.00</td>\n",
              "      <td>37.00</td>\n",
              "      <td>15,557,162,096.00</td>\n",
              "      <td>39.67</td>\n",
              "      <td>21.91</td>\n",
              "      <td>43.98</td>\n",
              "      <td>19.78</td>\n",
              "      <td>21.00</td>\n",
              "      <td>15.53</td>\n",
              "      <td>-44.77</td>\n",
              "      <td>100.73</td>\n",
              "      <td>-55.03</td>\n",
              "      <td>6.17</td>\n",
              "      <td>-26.05</td>\n",
              "      <td>15,557,162,096.00</td>\n",
              "      <td>NaT</td>\n",
              "      <td>40.00</td>\n",
              "      <td>12.00</td>\n",
              "      <td>35.00</td>\n",
              "      <td>6.00</td>\n",
              "      <td>5.00</td>\n",
              "      <td>Partner-Web</td>\n",
              "      <td>FP: Promo Not Used</td>\n",
              "      <td>FP Zip: # Shops = 2-3</td>\n",
              "      <td>FP Shop Loyalty: High</td>\n",
              "      <td>FP Zip Loyalty: High</td>\n",
              "    </tr>\n",
              "    <tr>\n",
              "      <th>4</th>\n",
              "      <td>21,494,990,414.00</td>\n",
              "      <td>2020-03-23 16:19:50+00:00</td>\n",
              "      <td>2020-03-29 14:44:52+00:00</td>\n",
              "      <td>partner_website</td>\n",
              "      <td>0</td>\n",
              "      <td>140271</td>\n",
              "      <td>12944</td>\n",
              "      <td>2</td>\n",
              "      <td>55.88</td>\n",
              "      <td>4</td>\n",
              "      <td>4</td>\n",
              "      <td>120.00</td>\n",
              "      <td>100.00</td>\n",
              "      <td>2</td>\n",
              "      <td>0.40</td>\n",
              "      <td>41</td>\n",
              "      <td>31</td>\n",
              "      <td>2020-05-11 19:13:14+00:00</td>\n",
              "      <td>49</td>\n",
              "      <td>43</td>\n",
              "      <td>1.00</td>\n",
              "      <td>1.00</td>\n",
              "      <td>21,494,990,414.00</td>\n",
              "      <td>26.86</td>\n",
              "      <td>29.02</td>\n",
              "      <td>nan</td>\n",
              "      <td>nan</td>\n",
              "      <td>nan</td>\n",
              "      <td>nan</td>\n",
              "      <td>8.04</td>\n",
              "      <td>nan</td>\n",
              "      <td>nan</td>\n",
              "      <td>nan</td>\n",
              "      <td>nan</td>\n",
              "      <td>21,494,990,414.00</td>\n",
              "      <td>NaT</td>\n",
              "      <td>5.00</td>\n",
              "      <td>nan</td>\n",
              "      <td>nan</td>\n",
              "      <td>nan</td>\n",
              "      <td>nan</td>\n",
              "      <td>Partner-Web</td>\n",
              "      <td>FP: Promo Not Used</td>\n",
              "      <td>FP Zip: # Shops = 2-3</td>\n",
              "      <td>FP Shop Loyalty: High</td>\n",
              "      <td>FP Zip Loyalty: High</td>\n",
              "    </tr>\n",
              "  </tbody>\n",
              "</table>\n",
              "</div>"
            ],
            "text/plain": [
              "           customer  ...    cohort_zip_loyalty\n",
              "0 13,315,067,198.00  ...  FP Zip Loyalty: High\n",
              "1 12,316,161,278.00  ...  FP Zip Loyalty: High\n",
              "2 15,557,129,447.00  ...  FP Zip Loyalty: High\n",
              "3 15,557,162,096.00  ...  FP Zip Loyalty: High\n",
              "4 21,494,990,414.00  ...  FP Zip Loyalty: High\n",
              "\n",
              "[5 rows x 46 columns]"
            ]
          },
          "metadata": {
            "tags": []
          },
          "execution_count": 439
        }
      ]
    },
    {
      "cell_type": "markdown",
      "metadata": {
        "id": "lsD8gUWrx9ns"
      },
      "source": [
        "# ***Hypothesis Testing***"
      ]
    },
    {
      "cell_type": "code",
      "metadata": {
        "id": "oXSMRlGQzfCf"
      },
      "source": [
        "# Defining Function to test continuous variable hypotheses\n",
        "def simple_regression_summary(yvar):\n",
        "  \n",
        "  list_of_cohort_factors=[\"total_order\",'total_sales','time_to_2','time_since_lp','total_surplus_orders']\n",
        "\n",
        "  output=[]\n",
        "  i=0\n",
        "\n",
        "  for cohort_factor in list_of_cohort_factors:\n",
        "      formula = cohort_factor + '~' + yvar\n",
        "      results=sm.OLS.from_formula(formula, data = cust_final_dataset).fit()\n",
        "    #output.append(results_summary_to_dataframe(results,list_of_cohort_factors[i]))\n",
        "\n",
        "    #take the result of an statsmodel results table and transforms it into a dataframe\n",
        "    \n",
        "      cvar=list_of_cohort_factors[i]\n",
        "      pvals = results.pvalues\n",
        "      coeff = results.params\n",
        "      conf_lower = results.conf_int()[0]\n",
        "      conf_higher = results.conf_int()[1]\n",
        "\n",
        "      results_df = pd.DataFrame({\"independent\":cvar,\n",
        "                               \"pvals\":pvals,\n",
        "                               \"coeff\":coeff,\n",
        "                               \"conf_lower\":conf_lower,\n",
        "                               \"conf_higher\":conf_higher\n",
        "                                })\n",
        "\n",
        "    #Reordering...\n",
        "      results_df = results_df[['independent',\"coeff\",\"pvals\",\"conf_lower\",\"conf_higher\"]]\n",
        "      print(results_df)\n",
        "      i=i+1\n",
        "\n",
        "  return\n"
      ],
      "execution_count": 591,
      "outputs": []
    },
    {
      "cell_type": "code",
      "metadata": {
        "id": "QKBb4llASsdV"
      },
      "source": [
        "# Defining Function to test categorical variable hypotheses\n",
        "def anova_results_summary(yvar):\n",
        "  \n",
        "  list_of_cohort_factors=[\"total_order\",'total_sales','time_to_2','time_since_lp','total_surplus_orders']\n",
        "\n",
        "  output=[]\n",
        "  i=0\n",
        "\n",
        "  for cohort_factor in list_of_cohort_factors:\n",
        "      formula = cohort_factor + '~' + yvar\n",
        "      results=sm.OLS.from_formula(formula, data = cust_final_dataset).fit()\n",
        "      table=stapi.stats.anova_lm(results)\n",
        "      print(cohort_factor, table.iloc[0:1], \"\\n\")\n",
        "      \n",
        "      i=i+1\n",
        "\n",
        "  return "
      ],
      "execution_count": 571,
      "outputs": []
    },
    {
      "cell_type": "markdown",
      "metadata": {
        "id": "_sqBAyycWV3O"
      },
      "source": [
        "# 1. Entry Source"
      ]
    },
    {
      "cell_type": "code",
      "metadata": {
        "id": "vLAHhFVvWfUu",
        "outputId": "79dc4174-d567-4e78-d63e-fad7d9a0d392",
        "colab": {
          "base_uri": "https://localhost:8080/",
          "height": 277
        }
      },
      "source": [
        "# Categorical\n",
        "(anova_results_summary('cohort_fp_source'))\n"
      ],
      "execution_count": 583,
      "outputs": [
        {
          "output_type": "stream",
          "text": [
            "total_order                    df   sum_sq  mean_sq     F  PR(>F)\n",
            "cohort_fp_source 3.00 9,322.55 3,107.52 90.60    0.00 \n",
            "\n",
            "total_sales                    df       sum_sq      mean_sq     F  PR(>F)\n",
            "cohort_fp_source 3.00 7,302,655.95 2,434,218.65 61.75    0.00 \n",
            "\n",
            "time_to_2                    df    sum_sq   mean_sq    F  PR(>F)\n",
            "cohort_fp_source 3.00 55,424.82 18,474.94 4.16    0.01 \n",
            "\n",
            "time_since_lp                    df     sum_sq    mean_sq     F  PR(>F)\n",
            "cohort_fp_source 3.00 595,903.62 198,634.54 14.20    0.00 \n",
            "\n",
            "total_surplus_orders                    df   sum_sq  mean_sq     F  PR(>F)\n",
            "cohort_fp_source 3.00 4,672.30 1,557.43 45.61    0.00 \n",
            "\n"
          ],
          "name": "stdout"
        }
      ]
    },
    {
      "cell_type": "markdown",
      "metadata": {
        "id": "qq85SktrWDXx"
      },
      "source": [
        "# 2. Promo Value"
      ]
    },
    {
      "cell_type": "code",
      "metadata": {
        "id": "9sBsnLv1TJKR",
        "outputId": "51e807de-88b2-4886-b8d1-c0e3cbf3488e",
        "colab": {
          "base_uri": "https://localhost:8080/",
          "height": 277
        }
      },
      "source": [
        "# Categorical\n",
        "anova_results_summary('cohort_fp_promo_use')"
      ],
      "execution_count": 573,
      "outputs": [
        {
          "output_type": "stream",
          "text": [
            "total_order                       df  sum_sq  mean_sq    F  PR(>F)\n",
            "cohort_fp_promo_use 1.00  208.41   208.41 5.92    0.01 \n",
            "\n",
            "total_sales                       df  sum_sq  mean_sq    F  PR(>F)\n",
            "cohort_fp_promo_use 1.00   58.25    58.25 0.00    0.97 \n",
            "\n",
            "time_to_2                       df  sum_sq  mean_sq    F  PR(>F)\n",
            "cohort_fp_promo_use 1.00    4.22     4.22 0.00    0.98 \n",
            "\n",
            "time_since_lp                       df    sum_sq   mean_sq    F  PR(>F)\n",
            "cohort_fp_promo_use 1.00 42,507.06 42,507.06 3.03    0.08 \n",
            "\n",
            "total_surplus_orders                       df  sum_sq  mean_sq    F  PR(>F)\n",
            "cohort_fp_promo_use 1.00    1.76     1.76 0.05    0.82 \n",
            "\n"
          ],
          "name": "stdout"
        }
      ]
    },
    {
      "cell_type": "code",
      "metadata": {
        "id": "9nfQ9k7PV-wK",
        "outputId": "450e519f-d85d-4385-fff9-68f83e8253d4",
        "colab": {
          "base_uri": "https://localhost:8080/",
          "height": 277
        }
      },
      "source": [
        "# Continuous\n",
        "simple_regression_summary('fp_promo_val')"
      ],
      "execution_count": 592,
      "outputs": [
        {
          "output_type": "stream",
          "text": [
            "              independent  coeff  pvals  conf_lower  conf_higher\n",
            "Intercept     total_order   3.83   0.00        3.71         3.95\n",
            "fp_promo_val  total_order   0.12   0.06       -0.01         0.24\n",
            "              independent  coeff  pvals  conf_lower  conf_higher\n",
            "Intercept     total_sales 126.06   0.00      122.03       130.09\n",
            "fp_promo_val  total_sales   0.33   0.88       -3.88         4.55\n",
            "             independent  coeff  pvals  conf_lower  conf_higher\n",
            "Intercept      time_to_2  56.21   0.00       54.58        57.84\n",
            "fp_promo_val   time_to_2   0.64   0.44       -0.98         2.26\n",
            "                independent  coeff  pvals  conf_lower  conf_higher\n",
            "Intercept     time_since_lp 135.84   0.00      133.45       138.22\n",
            "fp_promo_val  time_since_lp   1.46   0.25       -1.04         3.95\n",
            "                       independent  coeff  pvals  conf_lower  conf_higher\n",
            "Intercept     total_surplus_orders   0.11   0.06       -0.01         0.23\n",
            "fp_promo_val  total_surplus_orders  -0.01   0.88       -0.13         0.11\n"
          ],
          "name": "stdout"
        }
      ]
    },
    {
      "cell_type": "markdown",
      "metadata": {
        "id": "17JKYiK3fwVk"
      },
      "source": [
        "# 3. Shops Per Zip"
      ]
    },
    {
      "cell_type": "code",
      "metadata": {
        "id": "d3RZe4Cnf3XJ",
        "outputId": "2d575c89-3923-4ef0-84ec-22bca4c439de",
        "colab": {
          "base_uri": "https://localhost:8080/",
          "height": 277
        }
      },
      "source": [
        "anova_results_summary('cohort_shops_per_zip')"
      ],
      "execution_count": 584,
      "outputs": [
        {
          "output_type": "stream",
          "text": [
            "total_order                        df   sum_sq  mean_sq     F  PR(>F)\n",
            "cohort_shops_per_zip 2.00 2,892.54 1,446.27 41.42    0.00 \n",
            "\n",
            "total_sales                        df       sum_sq      mean_sq     F  PR(>F)\n",
            "cohort_shops_per_zip 2.00 2,239,908.94 1,119,954.47 28.06    0.00 \n",
            "\n",
            "time_to_2                        df    sum_sq  mean_sq    F  PR(>F)\n",
            "cohort_shops_per_zip 2.00 14,539.73 7,269.87 1.64    0.19 \n",
            "\n",
            "time_since_lp                        df    sum_sq   mean_sq    F  PR(>F)\n",
            "cohort_shops_per_zip 2.00 21,901.32 10,950.66 0.78    0.46 \n",
            "\n",
            "total_surplus_orders                        df   sum_sq  mean_sq     F  PR(>F)\n",
            "cohort_shops_per_zip 2.00 1,742.37   871.19 25.31    0.00 \n",
            "\n"
          ],
          "name": "stdout"
        }
      ]
    },
    {
      "cell_type": "code",
      "metadata": {
        "id": "ruXcX2yVgU-I",
        "outputId": "a4778094-d142-4290-ad18-7ac93dba0cfc",
        "colab": {
          "base_uri": "https://localhost:8080/",
          "height": 277
        }
      },
      "source": [
        "simple_regression_summary('shops_per_zip')"
      ],
      "execution_count": 593,
      "outputs": [
        {
          "output_type": "stream",
          "text": [
            "               independent  coeff  pvals  conf_lower  conf_higher\n",
            "Intercept      total_order   3.25   0.00        3.07         3.42\n",
            "shops_per_zip  total_order   0.23   0.00        0.18         0.28\n",
            "               independent  coeff  pvals  conf_lower  conf_higher\n",
            "Intercept      total_sales 109.16   0.00      103.20       115.12\n",
            "shops_per_zip  total_sales   6.22   0.00        4.56         7.89\n",
            "              independent  coeff  pvals  conf_lower  conf_higher\n",
            "Intercept       time_to_2  56.49   0.00       54.08        58.90\n",
            "shops_per_zip   time_to_2  -0.03   0.93       -0.69         0.62\n",
            "                 independent  coeff  pvals  conf_lower  conf_higher\n",
            "Intercept      time_since_lp 138.71   0.00      135.17       142.24\n",
            "shops_per_zip  time_since_lp  -0.91   0.07       -1.89         0.08\n",
            "                        independent  coeff  pvals  conf_lower  conf_higher\n",
            "Intercept      total_surplus_orders  -0.40   0.00       -0.57        -0.22\n",
            "shops_per_zip  total_surplus_orders   0.19   0.00        0.14         0.24\n"
          ],
          "name": "stdout"
        }
      ]
    },
    {
      "cell_type": "markdown",
      "metadata": {
        "id": "X7R4G1DxhnjM"
      },
      "source": [
        "# 4. Shop Loyalty"
      ]
    },
    {
      "cell_type": "code",
      "metadata": {
        "id": "AjhdBLX4hu3D",
        "outputId": "87129bae-4d5f-40f1-db0b-93188c54a3ef",
        "colab": {
          "base_uri": "https://localhost:8080/",
          "height": 277
        }
      },
      "source": [
        "anova_results_summary('cohort_shop_loyalty')"
      ],
      "execution_count": 594,
      "outputs": [
        {
          "output_type": "stream",
          "text": [
            "total_order                       df   sum_sq  mean_sq     F  PR(>F)\n",
            "cohort_shop_loyalty 2.00 6,783.31 3,391.66 98.19    0.00 \n",
            "\n",
            "total_sales                       df       sum_sq      mean_sq     F  PR(>F)\n",
            "cohort_shop_loyalty 2.00 6,675,587.97 3,337,793.99 84.55    0.00 \n",
            "\n",
            "time_to_2                       df    sum_sq   mean_sq    F  PR(>F)\n",
            "cohort_shop_loyalty 2.00 23,118.64 11,559.32 2.60    0.07 \n",
            "\n",
            "time_since_lp                       df       sum_sq      mean_sq      F  PR(>F)\n",
            "cohort_shop_loyalty 2.00 5,764,467.98 2,882,233.99 213.68    0.00 \n",
            "\n",
            "total_surplus_orders                       df   sum_sq  mean_sq      F  PR(>F)\n",
            "cohort_shop_loyalty 2.00 7,513.85 3,756.93 110.94    0.00 \n",
            "\n"
          ],
          "name": "stdout"
        }
      ]
    },
    {
      "cell_type": "code",
      "metadata": {
        "id": "E7Bpz0nthyGE",
        "outputId": "55f62c00-7620-4251-d82a-341efc35c1ad",
        "colab": {
          "base_uri": "https://localhost:8080/",
          "height": 347
        }
      },
      "source": [
        "simple_regression_summary('fp_shop_cust_loyalty_score')"
      ],
      "execution_count": 595,
      "outputs": [
        {
          "output_type": "stream",
          "text": [
            "                            independent  coeff  pvals  conf_lower  conf_higher\n",
            "Intercept                   total_order  -0.19   0.41       -0.66         0.27\n",
            "fp_shop_cust_loyalty_score  total_order   0.06   0.00        0.05         0.06\n",
            "                            independent  coeff  pvals  conf_lower  conf_higher\n",
            "Intercept                   total_sales  -1.56   0.85      -17.21        14.10\n",
            "fp_shop_cust_loyalty_score  total_sales   1.74   0.00        1.55         1.93\n",
            "                           independent  coeff  pvals  conf_lower  conf_higher\n",
            "Intercept                    time_to_2  64.25   0.00       56.72        71.77\n",
            "fp_shop_cust_loyalty_score   time_to_2  -0.09   0.04       -0.18        -0.01\n",
            "                              independent  coeff  ...  conf_lower  conf_higher\n",
            "Intercept                   time_since_lp 256.54  ...      248.23       264.86\n",
            "fp_shop_cust_loyalty_score  time_since_lp  -1.65  ...       -1.76        -1.55\n",
            "\n",
            "[2 rows x 5 columns]\n",
            "                                     independent  ...  conf_higher\n",
            "Intercept                   total_surplus_orders  ...        -3.69\n",
            "fp_shop_cust_loyalty_score  total_surplus_orders  ...         0.06\n",
            "\n",
            "[2 rows x 5 columns]\n"
          ],
          "name": "stdout"
        }
      ]
    },
    {
      "cell_type": "markdown",
      "metadata": {
        "id": "Ud902y7EiODw"
      },
      "source": [
        "# 5. Zip Loyalty"
      ]
    },
    {
      "cell_type": "code",
      "metadata": {
        "id": "YeFzU2lqicAU",
        "outputId": "908b2099-3db6-4cdf-c94e-2f482786b3d5",
        "colab": {
          "base_uri": "https://localhost:8080/",
          "height": 277
        }
      },
      "source": [
        "anova_results_summary('fp_zip_cust_loyalty_score')"
      ],
      "execution_count": 597,
      "outputs": [
        {
          "output_type": "stream",
          "text": [
            "total_order                             df    sum_sq   mean_sq      F  PR(>F)\n",
            "fp_zip_cust_loyalty_score 1.00 15,161.50 15,161.50 432.99    0.00 \n",
            "\n",
            "total_sales                             df        sum_sq       mean_sq      F  PR(>F)\n",
            "fp_zip_cust_loyalty_score 1.00 15,409,544.81 15,409,544.81 384.06    0.00 \n",
            "\n",
            "time_to_2                             df    sum_sq   mean_sq    F  PR(>F)\n",
            "fp_zip_cust_loyalty_score 1.00 41,427.10 41,427.10 9.33    0.00 \n",
            "\n",
            "time_since_lp                             df       sum_sq      mean_sq      F  PR(>F)\n",
            "fp_zip_cust_loyalty_score 1.00 7,361,751.49 7,361,751.49 569.20    0.00 \n",
            "\n",
            "total_surplus_orders                             df    sum_sq   mean_sq      F  PR(>F)\n",
            "fp_zip_cust_loyalty_score 1.00 14,983.88 14,983.88 438.13    0.00 \n",
            "\n"
          ],
          "name": "stdout"
        }
      ]
    },
    {
      "cell_type": "code",
      "metadata": {
        "id": "5tu-Q01HipRU",
        "outputId": "47731af9-927c-4bcf-85b0-77c46d609447",
        "colab": {
          "base_uri": "https://localhost:8080/",
          "height": 312
        }
      },
      "source": [
        "simple_regression_summary('fp_zip_cust_loyalty_score')"
      ],
      "execution_count": 598,
      "outputs": [
        {
          "output_type": "stream",
          "text": [
            "                           independent  coeff  pvals  conf_lower  conf_higher\n",
            "Intercept                  total_order   0.18   0.34       -0.20         0.56\n",
            "fp_zip_cust_loyalty_score  total_order   0.04   0.00        0.04         0.05\n",
            "                           independent  coeff  pvals  conf_lower  conf_higher\n",
            "Intercept                  total_sales   8.85   0.18       -3.99        21.69\n",
            "fp_zip_cust_loyalty_score  total_sales   1.43   0.00        1.29         1.57\n",
            "                          independent  coeff  pvals  conf_lower  conf_higher\n",
            "Intercept                   time_to_2  65.08   0.00       59.30        70.86\n",
            "fp_zip_cust_loyalty_score   time_to_2  -0.09   0.00       -0.15        -0.03\n",
            "                             independent  coeff  pvals  conf_lower  conf_higher\n",
            "Intercept                  time_since_lp 215.84   0.00      208.55       223.13\n",
            "fp_zip_cust_loyalty_score  time_since_lp  -0.99   0.00       -1.07        -0.91\n",
            "                                    independent  coeff  ...  conf_lower  conf_higher\n",
            "Intercept                  total_surplus_orders  -3.55  ...       -3.92        -3.17\n",
            "fp_zip_cust_loyalty_score  total_surplus_orders   0.04  ...        0.04         0.05\n",
            "\n",
            "[2 rows x 5 columns]\n"
          ],
          "name": "stdout"
        }
      ]
    }
  ]
}